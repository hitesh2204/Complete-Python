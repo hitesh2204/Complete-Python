{
 "cells": [
  {
   "cell_type": "code",
   "execution_count": 20,
   "id": "025adf8c",
   "metadata": {},
   "outputs": [
    {
     "name": "stdout",
     "output_type": "stream",
     "text": [
      "Second decorator\n",
      "**********\n",
      "Hello Sannidhya! How are you\n",
      "**********\n",
      "Sannidhya go to sleep\n",
      "Second decorator\n",
      "**********\n",
      "Hello Sonal! How are you\n",
      "**********\n",
      "Sonal go to sleep\n",
      "Second decorator\n",
      "**********\n",
      "Hello Hitesh! How are you\n",
      "**********\n",
      "Hitesh go to sleep\n"
     ]
    }
   ],
   "source": [
    "def my_decor(func):\n",
    "    def wrapper(name):\n",
    "        print(\"**********\")\n",
    "        func(name)\n",
    "        print(\"**********\")\n",
    "    return wrapper\n",
    "\n",
    "def my_decor1(func):\n",
    "    def wrapper(name):\n",
    "        print(\"Second decorator\")\n",
    "        func(name)\n",
    "        print(\"{} go to sleep\".format(name))\n",
    "   \n",
    "    return wrapper    \n",
    "@my_decor1\n",
    "@my_decor\n",
    "def Test(name):\n",
    "    print(\"Hello {}! How are you\".format(name))\n",
    "\n",
    "Test(\"Sannidhya\")\n",
    "Test(\"Sonal\")\n",
    "Test(\"Hitesh\")"
   ]
  },
  {
   "cell_type": "code",
   "execution_count": 23,
   "id": "c65974cd",
   "metadata": {},
   "outputs": [
    {
     "data": {
      "text/plain": [
       "200"
      ]
     },
     "execution_count": 23,
     "metadata": {},
     "output_type": "execute_result"
    }
   ],
   "source": [
    "def square(func):\n",
    "    def wrapper():\n",
    "        x=func()\n",
    "        return x*x\n",
    "    return wrapper\n",
    "\n",
    "def mul(func):\n",
    "    def wrapper():\n",
    "        x=func()\n",
    "        return 2*x\n",
    "    return wrapper\n",
    "@mul\n",
    "@square\n",
    "def num():\n",
    "    return 10\n",
    "\n",
    "num()"
   ]
  },
  {
   "cell_type": "code",
   "execution_count": null,
   "id": "ccbd37f6",
   "metadata": {},
   "outputs": [],
   "source": []
  },
  {
   "cell_type": "code",
   "execution_count": null,
   "id": "a186d029",
   "metadata": {},
   "outputs": [],
   "source": []
  },
  {
   "cell_type": "code",
   "execution_count": null,
   "id": "b094ae2c",
   "metadata": {},
   "outputs": [],
   "source": []
  },
  {
   "cell_type": "code",
   "execution_count": null,
   "id": "76999133",
   "metadata": {},
   "outputs": [],
   "source": []
  }
 ],
 "metadata": {
  "kernelspec": {
   "display_name": "Python 3",
   "language": "python",
   "name": "python3"
  },
  "language_info": {
   "codemirror_mode": {
    "name": "ipython",
    "version": 3
   },
   "file_extension": ".py",
   "mimetype": "text/x-python",
   "name": "python",
   "nbconvert_exporter": "python",
   "pygments_lexer": "ipython3",
   "version": "3.7.4"
  }
 },
 "nbformat": 4,
 "nbformat_minor": 5
}
