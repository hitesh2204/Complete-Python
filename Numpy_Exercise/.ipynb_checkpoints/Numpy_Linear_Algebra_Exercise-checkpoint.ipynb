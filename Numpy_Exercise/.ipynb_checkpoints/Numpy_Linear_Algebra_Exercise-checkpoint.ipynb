{
 "cells": [
  {
   "cell_type": "markdown",
   "id": "3720bd87",
   "metadata": {},
   "source": [
    "### 1) Write a NumPy program to compute the multiplication of two given matrixes."
   ]
  },
  {
   "cell_type": "code",
   "execution_count": 4,
   "id": "3b23f159",
   "metadata": {},
   "outputs": [
    {
     "name": "stdout",
     "output_type": "stream",
     "text": [
      "[[0 1]\n",
      " [2 3]]\n",
      "\n",
      "[[4 5]\n",
      " [6 7]]\n",
      "\n",
      "Product of two matrixes\n",
      "[[ 6  7]\n",
      " [26 31]]\n"
     ]
    }
   ],
   "source": [
    "import numpy as np\n",
    "\n",
    "x=np.arange(4).reshape(2,2)\n",
    "y=np.arange(4,8).reshape(2,2)\n",
    "print(x)\n",
    "print()\n",
    "print(y)\n",
    "print()\n",
    "print(\"Product of two matrixes\")\n",
    "result=np.dot(x,y)\n",
    "print(result)"
   ]
  },
  {
   "cell_type": "markdown",
   "id": "e04da45a",
   "metadata": {},
   "source": [
    "### 2) Write a NumPy program to compute the cross product of two given vectors."
   ]
  },
  {
   "cell_type": "code",
   "execution_count": 5,
   "id": "91580ded",
   "metadata": {},
   "outputs": [
    {
     "data": {
      "text/plain": [
       "array([-4, -4])"
      ]
     },
     "execution_count": 5,
     "metadata": {},
     "output_type": "execute_result"
    }
   ],
   "source": [
    "result=np.cross(x,y)\n",
    "result"
   ]
  },
  {
   "cell_type": "markdown",
   "id": "3a1926be",
   "metadata": {},
   "source": [
    "### 3) Write a NumPy program to compute the eigenvalues and right eigenvectors of a given square array."
   ]
  },
  {
   "cell_type": "code",
   "execution_count": 7,
   "id": "50dc45fd",
   "metadata": {},
   "outputs": [
    {
     "name": "stdout",
     "output_type": "stream",
     "text": [
      "[[0 1]\n",
      " [2 3]]\n",
      "\n",
      "Finding the Eigen values and Eigen vector of matrix\n",
      "\n",
      "Eigen values = [-0.56155281  3.56155281]\n",
      "Eigen vector = [[-0.87192821 -0.27032301]\n",
      " [ 0.48963374 -0.96276969]]\n"
     ]
    }
   ],
   "source": [
    "print(x)\n",
    "print()\n",
    "print(\"Finding the Eigen values and Eigen vector of matrix\")\n",
    "print()\n",
    "e_val,e_vect=np.linalg.eig(x)\n",
    "print(\"Eigen values =\",e_val)\n",
    "print(\"Eigen vector =\",e_vect)"
   ]
  },
  {
   "cell_type": "markdown",
   "id": "4ca6e004",
   "metadata": {},
   "source": [
    "### 4) Write a NumPy program to compute the determinant of an array."
   ]
  },
  {
   "cell_type": "code",
   "execution_count": 8,
   "id": "d7e3af61",
   "metadata": {},
   "outputs": [
    {
     "name": "stdout",
     "output_type": "stream",
     "text": [
      "Original array\n",
      "[[0 1]\n",
      " [2 3]]\n",
      "\n",
      "Finding the determinant of matrix\n",
      "\n",
      "Determinant of matrix\n",
      "-2.0\n"
     ]
    }
   ],
   "source": [
    "print(\"Original array\")\n",
    "print(x)\n",
    "print()\n",
    "print(\"Finding the determinant of matrix\")\n",
    "print()\n",
    "result=np.linalg.det(x)\n",
    "print(\"Determinant of matrix\")\n",
    "print(result)"
   ]
  },
  {
   "cell_type": "markdown",
   "id": "486dc7ff",
   "metadata": {},
   "source": [
    "### 5) Write a NumPy program to compute the inverse of a given matrix."
   ]
  },
  {
   "cell_type": "code",
   "execution_count": 9,
   "id": "c3ace0fc",
   "metadata": {},
   "outputs": [
    {
     "name": "stdout",
     "output_type": "stream",
     "text": [
      "Original matrix\n",
      "[[0 1]\n",
      " [2 3]]\n",
      "\n",
      "Computing the inverse of give matrix\n",
      "\n",
      "Inverse of matrix\n",
      "[[-1.5  0.5]\n",
      " [ 1.   0. ]]\n"
     ]
    }
   ],
   "source": [
    "print(\"Original matrix\")\n",
    "print(x)\n",
    "print()\n",
    "print(\"Computing the inverse of give matrix\")\n",
    "print()\n",
    "result=np.linalg.inv(x)\n",
    "print(\"Inverse of matrix\")\n",
    "print(result)"
   ]
  },
  {
   "cell_type": "markdown",
   "id": "2ecabc4f",
   "metadata": {},
   "source": [
    "### 6) Write a NumPy program to compute the sum of the diagonal element of a given array."
   ]
  },
  {
   "cell_type": "code",
   "execution_count": 12,
   "id": "07f6dfc4",
   "metadata": {},
   "outputs": [
    {
     "name": "stdout",
     "output_type": "stream",
     "text": [
      "Original martix\n",
      "[[0 1 2]\n",
      " [3 4 5]\n",
      " [6 7 8]]\n",
      "\n",
      "Sum of diagonal elements of an array\n",
      "\n",
      "Sum of diagonal elements of matrix are\n",
      "\n",
      "12\n"
     ]
    }
   ],
   "source": [
    "x=np.arange(9).reshape(3,3)\n",
    "print(\"Original martix\")\n",
    "print(x)\n",
    "print()\n",
    "print(\"Sum of diagonal elements of an array\")\n",
    "print()\n",
    "result=np.trace(x)\n",
    "print(\"Sum of diagonal elements of matrix are\")\n",
    "print()\n",
    "print(result)"
   ]
  },
  {
   "cell_type": "markdown",
   "id": "e1ffbcf6",
   "metadata": {},
   "source": [
    "## **** Numpy Random Exercise Problem :- ****"
   ]
  },
  {
   "cell_type": "markdown",
   "id": "b755555e",
   "metadata": {},
   "source": [
    "### 1) Write a NumPy program to generate five random numbers from the normal distribution."
   ]
  },
  {
   "cell_type": "code",
   "execution_count": 16,
   "id": "276d3831",
   "metadata": {},
   "outputs": [
    {
     "name": "stdout",
     "output_type": "stream",
     "text": [
      "Five random number for normal distribution\n",
      "\n",
      "[ 0.5367282  -1.9379076   0.77378983  0.69466593  0.66952826]\n"
     ]
    }
   ],
   "source": [
    "x=np.random.normal(size=5)\n",
    "print(\"Five random number for normal distribution\")\n",
    "print()\n",
    "print(x)\n"
   ]
  },
  {
   "cell_type": "markdown",
   "id": "13bc803d",
   "metadata": {},
   "source": [
    "### 2) Write a NumPy program to generate six random integers between 10 and 30."
   ]
  },
  {
   "cell_type": "code",
   "execution_count": 17,
   "id": "f76100bd",
   "metadata": {},
   "outputs": [
    {
     "name": "stdout",
     "output_type": "stream",
     "text": [
      "Random six integer betwwen 10 to 30\n",
      "[12 13 28 16 11 28]\n"
     ]
    }
   ],
   "source": [
    "x=np.random.randint(10,30,size=6)\n",
    "print(\"Random six integer betwwen 10 to 30\")\n",
    "print(x)"
   ]
  },
  {
   "cell_type": "markdown",
   "id": "e6eefd69",
   "metadata": {},
   "source": [
    "### 3) Write a NumPy program to create a 3x3x3 array with random values."
   ]
  },
  {
   "cell_type": "code",
   "execution_count": 19,
   "id": "32b2ced9",
   "metadata": {},
   "outputs": [
    {
     "name": "stdout",
     "output_type": "stream",
     "text": [
      "Random numpy matrix of dimention 3*3*3\n",
      "[[[0.40243225 0.86303764 0.77141597]\n",
      "  [0.43960969 0.19815504 0.03426508]\n",
      "  [0.06400363 0.08053978 0.99747944]]\n",
      "\n",
      " [[0.57626319 0.12874195 0.24083389]\n",
      "  [0.68004318 0.62727253 0.17064436]\n",
      "  [0.06953345 0.40045238 0.09066598]]\n",
      "\n",
      " [[0.17251596 0.83915246 0.98474784]\n",
      "  [0.3635083  0.32125061 0.3475883 ]\n",
      "  [0.47032094 0.20862345 0.74439438]]]\n"
     ]
    }
   ],
   "source": [
    "x=np.random.random(27).reshape(3,3,3)\n",
    "print(\"Random numpy matrix of dimention 3*3*3\")\n",
    "print(x)"
   ]
  },
  {
   "cell_type": "markdown",
   "id": "5ba73cf3",
   "metadata": {},
   "source": [
    "### 4) Write a NumPy program to create a 5x5 array with random values and find the minimum and maximum values."
   ]
  },
  {
   "cell_type": "code",
   "execution_count": 33,
   "id": "994f025e",
   "metadata": {},
   "outputs": [
    {
     "name": "stdout",
     "output_type": "stream",
     "text": [
      "Matrix of dimention 5*5\n",
      "\n",
      "[[0.97258783 0.74104141 0.03449815 0.16522602 0.69818349]\n",
      " [0.30227944 0.32044025 0.05456284 0.88135092 0.10185766]\n",
      " [0.5915786  0.1053926  0.82941275 0.43088207 0.67418807]\n",
      " [0.27813575 0.66879268 0.11886273 0.98371233 0.29330944]\n",
      " [0.88319282 0.69173849 0.60105742 0.65233489 0.33442844]]\n",
      "\n",
      "Finding the maximum and minimum values from given matrix\n",
      "\n",
      "Maximum values from given matrix = 0.9837123334727429\n",
      "\n",
      "Minimum values from given matrix = 0.03449815345068741\n"
     ]
    }
   ],
   "source": [
    "x=np.random.random(25).reshape(5,5)\n",
    "print(\"Matrix of dimention 5*5\")\n",
    "print()\n",
    "print(x)\n",
    "print()\n",
    "print(\"Finding the maximum and minimum values from given matrix\")\n",
    "print()\n",
    "max_val=np.max(x)\n",
    "min_val=np.min(x)\n",
    "print(\"Maximum values from given matrix =\",max_val)\n",
    "print()\n",
    "print(\"Minimum values from given matrix =\",min_val)\n"
   ]
  },
  {
   "cell_type": "code",
   "execution_count": 26,
   "id": "abb94f7f",
   "metadata": {},
   "outputs": [
    {
     "name": "stdout",
     "output_type": "stream",
     "text": [
      "[0 1 2 3 4 5 6 7 8 9]\n",
      "\n",
      "Max values 9\n",
      "\n",
      "Min values 0\n"
     ]
    }
   ],
   "source": [
    "a=np.arange(10)\n",
    "print(a)\n",
    "print()\n",
    "m_val=np.max(a)\n",
    "min_val=np.min(a)\n",
    "print(\"Max values\",m_val)\n",
    "print()\n",
    "print(\"Min values\",min_val)"
   ]
  },
  {
   "cell_type": "markdown",
   "id": "6e7d9dca",
   "metadata": {},
   "source": [
    "### 5) Write a NumPy program to shuffle numbers between 0 and 10 (inclusive)."
   ]
  },
  {
   "cell_type": "code",
   "execution_count": 47,
   "id": "30e9a7dc",
   "metadata": {},
   "outputs": [
    {
     "name": "stdout",
     "output_type": "stream",
     "text": [
      "Original array\n",
      "[0 1 2 3 4 5 6 7 8 9]\n",
      "\n",
      "After shuffeling array\n",
      "[6 9 8 3 2 0 1 7 4 5]\n"
     ]
    }
   ],
   "source": [
    "x=np.arange(10)\n",
    "print(\"Original array\")\n",
    "print(x)\n",
    "print()\n",
    "result=np.random.permutation(x)\n",
    "print(\"After shuffeling array\")\n",
    "print(result)"
   ]
  },
  {
   "cell_type": "markdown",
   "id": "4901d308",
   "metadata": {},
   "source": [
    "### 6) Write a NumPy program to normalize a 3x3 random matrix."
   ]
  },
  {
   "cell_type": "code",
   "execution_count": 49,
   "id": "d0c9006c",
   "metadata": {},
   "outputs": [
    {
     "name": "stdout",
     "output_type": "stream",
     "text": [
      "Original array\n",
      "[[0 1 2]\n",
      " [3 4 5]\n",
      " [6 7 8]]\n",
      "\n",
      "8\n",
      "\n",
      "0\n",
      "\n",
      "Normalization of matrix\n",
      "\n",
      "Normalization values\n",
      "\n",
      "[6 9 8 3 2 0 1 7 4 5]\n"
     ]
    }
   ],
   "source": [
    "x=np.arange(9).reshape(3,3)\n",
    "print(\"Original array\")\n",
    "print(x)\n",
    "print()\n",
    "max_num,min_num=np.max(x),np.min(x)\n",
    "print(max_num)\n",
    "print()\n",
    "print(min_num)\n",
    "print()\n",
    "print(\"Normalization of matrix\")\n",
    "print()\n",
    "norm_result=(x-min_num)/(max_num-min_num)\n",
    "print(\"Normalization values\")\n",
    "print()\n",
    "print(result)"
   ]
  },
  {
   "cell_type": "markdown",
   "id": "3fc5f5d9",
   "metadata": {},
   "source": [
    "### 7) Write a NumPy program to create a random vector of size 10 and sort it."
   ]
  },
  {
   "cell_type": "code",
   "execution_count": 51,
   "id": "77a5efd5",
   "metadata": {},
   "outputs": [
    {
     "name": "stdout",
     "output_type": "stream",
     "text": [
      "[0.94024954 0.67674358 0.64270772 0.9936019  0.99219884 0.42923396\n",
      " 0.92864961 0.30866965 0.66433794 0.85637813]\n",
      "After sorting vector\n",
      "[0.30866965 0.42923396 0.64270772 0.66433794 0.67674358 0.85637813\n",
      " 0.92864961 0.94024954 0.99219884 0.9936019 ]\n"
     ]
    }
   ],
   "source": [
    "x=np.random.random(size=10)\n",
    "print(x)\n",
    "print(\"After sorting vector\")\n",
    "result=np.sort(x)\n",
    "print(result)"
   ]
  },
  {
   "cell_type": "markdown",
   "id": "e53eb913",
   "metadata": {},
   "source": [
    "### 8) Write a NumPy program to check two random arrays are equal or not."
   ]
  },
  {
   "cell_type": "code",
   "execution_count": 53,
   "id": "caf33980",
   "metadata": {},
   "outputs": [
    {
     "name": "stdout",
     "output_type": "stream",
     "text": [
      "First array:\n",
      "[0 1 0 0 0 0]\n",
      "Second array:\n",
      "[0 1 1 1 0 1]\n",
      "\n",
      "Checking two random variable are equal or not.\n",
      "\n",
      "False\n"
     ]
    }
   ],
   "source": [
    "x = np.random.randint(0,2,6)\n",
    "print(\"First array:\")\n",
    "print(x)\n",
    "y = np.random.randint(0,2,6)\n",
    "print(\"Second array:\")\n",
    "print(y)\n",
    "print()\n",
    "print(\"Checking two random variable are equal or not.\")\n",
    "print()\n",
    "result=np.allclose(x,y)\n",
    "print(result)"
   ]
  },
  {
   "cell_type": "markdown",
   "id": "297b3d31",
   "metadata": {},
   "source": [
    "### 9) Write a NumPy program to create random vector of size 15 and replace the maximum value by -1."
   ]
  },
  {
   "cell_type": "code",
   "execution_count": 58,
   "id": "8620e65b",
   "metadata": {},
   "outputs": [
    {
     "name": "stdout",
     "output_type": "stream",
     "text": [
      "[0.41157902 0.74031301 0.05314286 0.8360751  0.96777368 0.25123478\n",
      " 0.77173313 0.78115642 0.43083122 0.26750842 0.09332981 0.34140994\n",
      " 0.94378663 0.45770307 0.64731822]\n",
      "\n",
      "Replacing max value by -1\n",
      "\n"
     ]
    },
    {
     "ename": "IndexError",
     "evalue": "only integers, slices (`:`), ellipsis (`...`), numpy.newaxis (`None`) and integer or boolean arrays are valid indices",
     "output_type": "error",
     "traceback": [
      "\u001b[1;31m---------------------------------------------------------------------------\u001b[0m",
      "\u001b[1;31mIndexError\u001b[0m                                Traceback (most recent call last)",
      "\u001b[1;32m<ipython-input-58-ca79ad455af6>\u001b[0m in \u001b[0;36m<module>\u001b[1;34m\u001b[0m\n\u001b[0;32m      4\u001b[0m \u001b[0mprint\u001b[0m\u001b[1;33m(\u001b[0m\u001b[1;34m\"Replacing max value by -1\"\u001b[0m\u001b[1;33m)\u001b[0m\u001b[1;33m\u001b[0m\u001b[1;33m\u001b[0m\u001b[0m\n\u001b[0;32m      5\u001b[0m \u001b[0mprint\u001b[0m\u001b[1;33m(\u001b[0m\u001b[1;33m)\u001b[0m\u001b[1;33m\u001b[0m\u001b[1;33m\u001b[0m\u001b[0m\n\u001b[1;32m----> 6\u001b[1;33m \u001b[0mx\u001b[0m\u001b[1;33m[\u001b[0m\u001b[0mnp\u001b[0m\u001b[1;33m.\u001b[0m\u001b[0mmax\u001b[0m\u001b[1;33m(\u001b[0m\u001b[0mx\u001b[0m\u001b[1;33m)\u001b[0m\u001b[1;33m]\u001b[0m\u001b[1;33m=\u001b[0m\u001b[1;33m-\u001b[0m\u001b[1;36m1\u001b[0m\u001b[1;33m\u001b[0m\u001b[1;33m\u001b[0m\u001b[0m\n\u001b[0m\u001b[0;32m      7\u001b[0m \u001b[0mprint\u001b[0m\u001b[1;33m(\u001b[0m\u001b[0mx\u001b[0m\u001b[1;33m)\u001b[0m\u001b[1;33m\u001b[0m\u001b[1;33m\u001b[0m\u001b[0m\n",
      "\u001b[1;31mIndexError\u001b[0m: only integers, slices (`:`), ellipsis (`...`), numpy.newaxis (`None`) and integer or boolean arrays are valid indices"
     ]
    }
   ],
   "source": [
    "x=np.random.random(15)\n",
    "print(x)\n",
    "print()\n",
    "print(\"Replacing max value by -1\")\n",
    "print()\n",
    "x[np.argmax(x)]=-1\n",
    "print(x)\n"
   ]
  },
  {
   "cell_type": "code",
   "execution_count": null,
   "id": "909cc599",
   "metadata": {},
   "outputs": [],
   "source": []
  },
  {
   "cell_type": "code",
   "execution_count": null,
   "id": "d3335dfa",
   "metadata": {},
   "outputs": [],
   "source": []
  },
  {
   "cell_type": "code",
   "execution_count": null,
   "id": "7aaf4eba",
   "metadata": {},
   "outputs": [],
   "source": []
  },
  {
   "cell_type": "code",
   "execution_count": null,
   "id": "129bb977",
   "metadata": {},
   "outputs": [],
   "source": []
  }
 ],
 "metadata": {
  "kernelspec": {
   "display_name": "Python 3",
   "language": "python",
   "name": "python3"
  },
  "language_info": {
   "codemirror_mode": {
    "name": "ipython",
    "version": 3
   },
   "file_extension": ".py",
   "mimetype": "text/x-python",
   "name": "python",
   "nbconvert_exporter": "python",
   "pygments_lexer": "ipython3",
   "version": "3.7.4"
  }
 },
 "nbformat": 4,
 "nbformat_minor": 5
}
