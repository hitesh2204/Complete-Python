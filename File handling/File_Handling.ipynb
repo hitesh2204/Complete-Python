{
 "cells": [
  {
   "cell_type": "markdown",
   "id": "ae02e611",
   "metadata": {},
   "source": [
    "### Q) What is the files?\n",
    "    ANS:- File i sthe collection of data that is vailable to programm.We can retrived and used data to stored in file whwere\n",
    "          we required."
   ]
  },
  {
   "cell_type": "markdown",
   "id": "37b906c7",
   "metadata": {},
   "source": [
    "### Advantages of File handling:-\n",
    "     We can store data permanent unless someone removed it.\n",
    "     Store data can be shared.\n",
    "     It is possible ot update and remove the data.\n",
    "\n",
    "### Types of Files:-\n",
    "     1) Text File:- It store the data in form of charecters.It is used to store the charecter and string.\n",
    "     2) Binary File:-It store the data in form of bytes.It is used to store text,csv,images,audio and video data.\n",
    "     \n",
    "### Types of Mode:-\n",
    "    1) Text Mode:- When we are open file in text mode it is contain text string.\n",
    "    2) Binary Mode:- When we are open file in binary mode it retunr as row data."
   ]
  },
  {
   "cell_type": "code",
   "execution_count": 1,
   "id": "6594c8fd",
   "metadata": {},
   "outputs": [],
   "source": [
    "### creating the sample text and writing some text into into.\n",
    "\n",
    "f=open(\"Student.txt\",'w')\n",
    "f.write(\"Welcome to AI world\")\n",
    "f.close()\n"
   ]
  },
  {
   "cell_type": "code",
   "execution_count": 3,
   "id": "19e4a2fd",
   "metadata": {},
   "outputs": [],
   "source": [
    "f= open(\"Student.txt\",'w')\n",
    "f.write(\"Hello\\n\")\n",
    "f.write(\"Hitesh Yerekar\\n\")\n",
    "f.write(\"How are you\")\n",
    "f.close()"
   ]
  },
  {
   "cell_type": "code",
   "execution_count": 4,
   "id": "d7eb7832",
   "metadata": {},
   "outputs": [
    {
     "name": "stdout",
     "output_type": "stream",
     "text": [
      "Hello\n",
      "Hitesh Yerekar\n",
      "How are you\n"
     ]
    }
   ],
   "source": [
    "### reading the text file.\n",
    "f=open(\"Student.txt\",'r')\n",
    "data=f.read()\n",
    "print(data)\n",
    "f.close()"
   ]
  },
  {
   "cell_type": "code",
   "execution_count": 7,
   "id": "a1d18150",
   "metadata": {},
   "outputs": [],
   "source": [
    "f= open(\"Student.txt\",'a')\n",
    "f.write(\"\\nWelcome to AI word\\n\")\n",
    "f.write(\"Python is Fun\")\n",
    "f.close()"
   ]
  },
  {
   "cell_type": "markdown",
   "id": "80daee23",
   "metadata": {},
   "source": [
    "### File object Variables."
   ]
  },
  {
   "cell_type": "markdown",
   "id": "c9f6777b",
   "metadata": {},
   "source": [
    "#### 1) name:- This show the name of specified file.\n",
    "#### 2)  mode:- This show the purpose of file.\n",
    "#### 3) closed:- This is used to check whether file closed or not.\n",
    "#### 4) readable:- "
   ]
  },
  {
   "cell_type": "code",
   "execution_count": 9,
   "id": "c3dd66dc",
   "metadata": {},
   "outputs": [
    {
     "data": {
      "text/plain": [
       "'Student.txt'"
      ]
     },
     "execution_count": 9,
     "metadata": {},
     "output_type": "execute_result"
    }
   ],
   "source": [
    "### name variable.\n",
    "\n",
    "f.name"
   ]
  },
  {
   "cell_type": "code",
   "execution_count": 10,
   "id": "baa1864b",
   "metadata": {},
   "outputs": [
    {
     "data": {
      "text/plain": [
       "'a'"
      ]
     },
     "execution_count": 10,
     "metadata": {},
     "output_type": "execute_result"
    }
   ],
   "source": [
    "### mode variable.\n",
    "f.mode"
   ]
  },
  {
   "cell_type": "code",
   "execution_count": 11,
   "id": "f1ae9ac8",
   "metadata": {},
   "outputs": [
    {
     "data": {
      "text/plain": [
       "True"
      ]
     },
     "execution_count": 11,
     "metadata": {},
     "output_type": "execute_result"
    }
   ],
   "source": [
    "### closed variable.\n",
    "\n",
    "f.closed"
   ]
  },
  {
   "cell_type": "code",
   "execution_count": null,
   "id": "560b3c3d",
   "metadata": {},
   "outputs": [],
   "source": []
  },
  {
   "cell_type": "code",
   "execution_count": null,
   "id": "a3e167f1",
   "metadata": {},
   "outputs": [],
   "source": []
  },
  {
   "cell_type": "code",
   "execution_count": null,
   "id": "709b3002",
   "metadata": {},
   "outputs": [],
   "source": []
  }
 ],
 "metadata": {
  "kernelspec": {
   "display_name": "Python 3",
   "language": "python",
   "name": "python3"
  },
  "language_info": {
   "codemirror_mode": {
    "name": "ipython",
    "version": 3
   },
   "file_extension": ".py",
   "mimetype": "text/x-python",
   "name": "python",
   "nbconvert_exporter": "python",
   "pygments_lexer": "ipython3",
   "version": "3.7.4"
  }
 },
 "nbformat": 4,
 "nbformat_minor": 5
}
