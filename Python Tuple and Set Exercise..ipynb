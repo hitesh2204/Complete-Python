{
 "cells": [
  {
   "cell_type": "markdown",
   "metadata": {},
   "source": [
    "### Write a Python program to create a tuple."
   ]
  },
  {
   "cell_type": "code",
   "execution_count": 1,
   "metadata": {},
   "outputs": [
    {
     "name": "stdout",
     "output_type": "stream",
     "text": [
      "Empty tuple ()\n"
     ]
    }
   ],
   "source": [
    "x=()\n",
    "print(\"Empty tuple\",x)"
   ]
  },
  {
   "cell_type": "markdown",
   "metadata": {},
   "source": [
    "### Single item tuple."
   ]
  },
  {
   "cell_type": "code",
   "execution_count": 2,
   "metadata": {},
   "outputs": [
    {
     "name": "stdout",
     "output_type": "stream",
     "text": [
      "30\n",
      "<class 'int'>\n",
      "\n",
      "Hitesh\n",
      "<class 'str'>\n"
     ]
    }
   ],
   "source": [
    "x=(30)\n",
    "print(x)\n",
    "print(type(x))\n",
    "print()\n",
    "name=('Hitesh')\n",
    "print(name)\n",
    "print(type(name))"
   ]
  },
  {
   "cell_type": "code",
   "execution_count": 3,
   "metadata": {},
   "outputs": [
    {
     "name": "stdout",
     "output_type": "stream",
     "text": [
      "('Hitesh',)\n",
      "<class 'tuple'>\n"
     ]
    }
   ],
   "source": [
    "name=('Hitesh',)\n",
    "print(name)\n",
    "print(type(name))"
   ]
  },
  {
   "cell_type": "markdown",
   "metadata": {},
   "source": [
    "### Write a Python program to create a tuple with different data types."
   ]
  },
  {
   "cell_type": "code",
   "execution_count": 4,
   "metadata": {},
   "outputs": [
    {
     "name": "stdout",
     "output_type": "stream",
     "text": [
      "('Hitesh', 30, 50.5, 'Sannu')\n"
     ]
    }
   ],
   "source": [
    "data=(\"Hitesh\",30,50.5,\"Sannu\")\n",
    "print(data)"
   ]
  },
  {
   "cell_type": "code",
   "execution_count": 5,
   "metadata": {},
   "outputs": [
    {
     "name": "stdout",
     "output_type": "stream",
     "text": [
      "(10, 20, 30, 40.5, 'Hitesh', True, [1, 2, 3, 4, 5])\n",
      "<class 'tuple'>\n",
      "\n",
      "(10, (20, 30, 40.5), 'Hitesh', True, [1, 2, 3, 4, 5])\n",
      "<class 'tuple'>\n",
      "\n",
      "('H', 'i', 't', 'e', 's', 'h', ' ', 'Y', 'e', 'r', 'e', 'k', 'a', 'r')\n",
      "<class 'tuple'>\n"
     ]
    }
   ],
   "source": [
    "t1=(10,20,30,40.50,\"Hitesh\",True,[1,2,3,4,5])\n",
    "print(t1)\n",
    "print(type(t1))\n",
    "print()\n",
    "t2=(10,(20,30,40.50),\"Hitesh\",True,[1,2,3,4,5])\n",
    "print(t2)\n",
    "print(type(t2))\n",
    "print()\n",
    "t3=tuple(\"Hitesh Yerekar\")\n",
    "print(t3)\n",
    "print(type(t3))"
   ]
  },
  {
   "cell_type": "markdown",
   "metadata": {},
   "source": [
    "### Accessing Item in Tuple."
   ]
  },
  {
   "cell_type": "code",
   "execution_count": 6,
   "metadata": {},
   "outputs": [
    {
     "data": {
      "text/plain": [
       "(10, (20, 30, 40.5), 'Hitesh', True, [1, 2, 3, 4, 5])"
      ]
     },
     "execution_count": 6,
     "metadata": {},
     "output_type": "execute_result"
    }
   ],
   "source": [
    "t2"
   ]
  },
  {
   "cell_type": "code",
   "execution_count": 7,
   "metadata": {},
   "outputs": [
    {
     "name": "stdout",
     "output_type": "stream",
     "text": [
      "10\n",
      "Hitesh\n",
      "[1, 2, 3, 4, 5]\n",
      "30\n"
     ]
    }
   ],
   "source": [
    "### Accesssing item with indexing.\n",
    "print(t2[0])\n",
    "print(t2[2])\n",
    "print(t2[4])\n",
    "print(t2[1][1])"
   ]
  },
  {
   "cell_type": "code",
   "execution_count": 8,
   "metadata": {},
   "outputs": [
    {
     "name": "stdout",
     "output_type": "stream",
     "text": [
      "(10, (20, 30, 40.5), 'Hitesh')\n",
      "(10, 'Hitesh')\n",
      "([1, 2, 3, 4, 5], True, 'Hitesh', (20, 30, 40.5), 10)\n"
     ]
    }
   ],
   "source": [
    "### accessing item in tuple with slicing.\n",
    "print(t2[0:3])\n",
    "print(t2[0:4:2])\n",
    "print(t2[::-1])"
   ]
  },
  {
   "cell_type": "markdown",
   "metadata": {},
   "source": [
    "### Write a Python program to add an item in a tuple."
   ]
  },
  {
   "cell_type": "code",
   "execution_count": 9,
   "metadata": {},
   "outputs": [
    {
     "name": "stdout",
     "output_type": "stream",
     "text": [
      "(4, 6, 2, 8, 3, 1, 10)\n",
      "\n",
      "(4, 6, 2, 8, 3, 1, 10, 20, 30)\n"
     ]
    }
   ],
   "source": [
    "tuplex = (4, 6, 2, 8, 3, 1) \n",
    "\n",
    "tuplex=tuplex+(10,)\n",
    "print(tuplex)\n",
    "print()\n",
    "tuplex=tuplex+(20,30,)\n",
    "print(tuplex)"
   ]
  },
  {
   "cell_type": "markdown",
   "metadata": {},
   "source": [
    "### Deleting tuple."
   ]
  },
  {
   "cell_type": "code",
   "execution_count": 10,
   "metadata": {},
   "outputs": [],
   "source": [
    "del t3"
   ]
  },
  {
   "cell_type": "code",
   "execution_count": 11,
   "metadata": {},
   "outputs": [
    {
     "ename": "NameError",
     "evalue": "name 't3' is not defined",
     "output_type": "error",
     "traceback": [
      "\u001b[1;31m---------------------------------------------------------------------------\u001b[0m",
      "\u001b[1;31mNameError\u001b[0m                                 Traceback (most recent call last)",
      "\u001b[1;32m<ipython-input-11-d6488ea0923b>\u001b[0m in \u001b[0;36m<module>\u001b[1;34m\u001b[0m\n\u001b[1;32m----> 1\u001b[1;33m \u001b[0mprint\u001b[0m\u001b[1;33m(\u001b[0m\u001b[0mt3\u001b[0m\u001b[1;33m)\u001b[0m\u001b[1;33m\u001b[0m\u001b[1;33m\u001b[0m\u001b[0m\n\u001b[0m",
      "\u001b[1;31mNameError\u001b[0m: name 't3' is not defined"
     ]
    }
   ],
   "source": [
    "print(t3)"
   ]
  },
  {
   "cell_type": "markdown",
   "metadata": {},
   "source": [
    "### Operation in Tuple.\n",
    "    1) Addition\n",
    "    2) Multiplication\n",
    "    3) Membership "
   ]
  },
  {
   "cell_type": "code",
   "execution_count": null,
   "metadata": {},
   "outputs": [],
   "source": [
    "t1=(1,2,3,4,5)\n",
    "t2=(10,20,30,40,50)\n",
    "### Addition\n",
    "print(t1+t2)\n",
    "## Multiplication\n",
    "print(t1*3)\n",
    "### Membership operation\n",
    "print(3 in t1)\n",
    "print(10 in t2)\n",
    "print(50 in t1)\n",
    "print(100 in t2)"
   ]
  },
  {
   "cell_type": "code",
   "execution_count": null,
   "metadata": {},
   "outputs": [],
   "source": [
    "### Iteration in Tuple\n",
    "for i in t1:\n",
    "    print(i)"
   ]
  },
  {
   "cell_type": "code",
   "execution_count": null,
   "metadata": {},
   "outputs": [],
   "source": [
    "for i in t2:\n",
    "    print(i)"
   ]
  },
  {
   "cell_type": "markdown",
   "metadata": {},
   "source": [
    "### Tuple Function:-\n",
    "    1) len\n",
    "    2) min\n",
    "    3) max\n",
    "    4) sorted\n",
    "    5) count\n",
    "    6) index\n",
    "    7) sum"
   ]
  },
  {
   "cell_type": "code",
   "execution_count": null,
   "metadata": {},
   "outputs": [],
   "source": [
    "print(t1)\n",
    "print(t2)\n",
    "print(len(t1))\n",
    "print(min(t2))\n",
    "print(max(t2))\n",
    "print(sorted(t2,reverse=True))\n",
    "print(sum(t1))"
   ]
  },
  {
   "cell_type": "code",
   "execution_count": null,
   "metadata": {},
   "outputs": [],
   "source": [
    "print(t1.count(3))"
   ]
  },
  {
   "cell_type": "code",
   "execution_count": null,
   "metadata": {},
   "outputs": [],
   "source": [
    "print(t2.index(40))"
   ]
  },
  {
   "cell_type": "markdown",
   "metadata": {},
   "source": [
    "### Write a Python program to convert a tuple to a string."
   ]
  },
  {
   "cell_type": "code",
   "execution_count": null,
   "metadata": {},
   "outputs": [],
   "source": [
    "tup = ('e', 'x', 'e', 'r', 'c', 'i', 's', 'e', 's')\n",
    "print(type(tup))\n",
    "\n",
    "result=''.join(tup)\n",
    "print(result)\n",
    "print(type(result))"
   ]
  },
  {
   "cell_type": "markdown",
   "metadata": {},
   "source": [
    "### Write a Python program to get the 4th element and 4th element from last of a tuple."
   ]
  },
  {
   "cell_type": "code",
   "execution_count": null,
   "metadata": {},
   "outputs": [],
   "source": [
    "tuplex = (\"w\", 3, \"r\", \"e\", \"s\", \"o\", \"u\", \"r\", \"c\", \"e\")\n",
    "\n",
    "result=tuplex[3]\n",
    "print(\"4th element in tuple =\",result)\n",
    "result1=tuplex[-4]\n",
    "print(\"last 4th element form tuple =\",result1)"
   ]
  },
  {
   "cell_type": "markdown",
   "metadata": {},
   "source": [
    "### Write a Python program to find the repeated items of a tuple."
   ]
  },
  {
   "cell_type": "code",
   "execution_count": null,
   "metadata": {},
   "outputs": [],
   "source": [
    "tuplex = (2, 4, 5, 6, 2, 3, 4, 4, 7 )\n",
    "\n",
    "result=tuplex.count(4)\n",
    "print(\"repeated item in tuple =\",result)\n",
    "print()\n",
    "result1=tuplex.count(2)\n",
    "print(\"repeated item in tuple =\",result1)"
   ]
  },
  {
   "cell_type": "markdown",
   "metadata": {},
   "source": [
    "### Write a Python program to check whether an element exists within a tuple."
   ]
  },
  {
   "cell_type": "code",
   "execution_count": null,
   "metadata": {},
   "outputs": [],
   "source": [
    "tuplex = (\"w\", 3, \"r\", \"e\", \"s\", \"o\", \"u\", \"r\", \"c\", \"e\")\n",
    "print(3 in tuplex)\n",
    "print('r' in tuplex)\n",
    "print('z' in tuplex)"
   ]
  },
  {
   "cell_type": "markdown",
   "metadata": {},
   "source": [
    "### Write a Python program to convert a list to a tuple."
   ]
  },
  {
   "cell_type": "code",
   "execution_count": null,
   "metadata": {},
   "outputs": [],
   "source": [
    "listx = [5, 10, 7, 4, 15, 3]\n",
    "print(\"converting list into tuple\")\n",
    "print(tuple(listx))\n",
    "print(type(listx))"
   ]
  },
  {
   "cell_type": "markdown",
   "metadata": {},
   "source": [
    "### Write a Python program to remove an item from a tuple."
   ]
  },
  {
   "cell_type": "code",
   "execution_count": null,
   "metadata": {},
   "outputs": [],
   "source": [
    "tuplex = (\"w\", 3, \"r\", \"s\", \"o\", \"u\", \"r\", \"c\", \"e\")\n",
    "print(\"before removing item \",tuplex)\n",
    "\n",
    "## first we need to convert tuple into list\n",
    "\n",
    "result=list(tuplex)\n",
    "print(result)\n",
    "\n",
    "result.remove(\"s\")\n",
    "## convert list into tuple.\n",
    "final_res=tuple(result)\n",
    "print(final_res)\n"
   ]
  },
  {
   "cell_type": "markdown",
   "metadata": {},
   "source": [
    "### reversed tuple."
   ]
  },
  {
   "cell_type": "code",
   "execution_count": null,
   "metadata": {},
   "outputs": [],
   "source": [
    "tuplex = (\"w\", 3, \"r\", \"s\", \"o\", \"u\", \"r\", \"c\", \"e\")\n",
    "\n",
    "data=reversed(tuplex)\n",
    "print(tuple(data))"
   ]
  },
  {
   "cell_type": "code",
   "execution_count": null,
   "metadata": {},
   "outputs": [],
   "source": [
    "data=(2, 4, 5, 6, 2, 3, 4, 4, 7 )\n",
    "y=reversed(data)\n",
    "print(tuple(y))"
   ]
  },
  {
   "cell_type": "markdown",
   "metadata": {},
   "source": [
    "## **** SET-Datatype \n",
    "    SET is an unordered collection of items.Every item in SET ina unique and you cannot add a duplicate item in SET.\n",
    "    SET is mutable but we cannot add immutable item in SET.\n",
    "    SET can perform mathematical operation like UNION,INTERSECTION,SYMETRIC etc.\n",
    "    IT uses a curly braces.\n",
    "    \n",
    "    CHERECTERISTICS OF SET:-\n",
    "    1) IT IS UNORDERED\n",
    "    2) IT IS MUTABLE :- We can add or delete item in set.\n",
    "    3) NO DUPLICATE ALLOW\n",
    "    4) CAN'T CONTAIN MUTABLE DATATYPE."
   ]
  },
  {
   "cell_type": "markdown",
   "metadata": {},
   "source": [
    "### CREATING SET :-"
   ]
  },
  {
   "cell_type": "code",
   "execution_count": null,
   "metadata": {},
   "outputs": [],
   "source": [
    "## EMPTY SET \n",
    "s={}\n",
    "print(s)\n",
    "print(type(s))\n"
   ]
  },
  {
   "cell_type": "code",
   "execution_count": null,
   "metadata": {},
   "outputs": [],
   "source": [
    "### Creating empty set in proper way.\n",
    "s=set()\n",
    "print(s)\n",
    "print(type(s))\n",
    "### Homogenious SET\n",
    "s1={1,2,3,4,5}\n",
    "print(s1)\n",
    "### Heterogenious SET\n",
    "s2={'Hitesh',10,10.20,True,(25,\"Sanuu\")}\n",
    "print(s2)"
   ]
  },
  {
   "cell_type": "code",
   "execution_count": null,
   "metadata": {},
   "outputs": [],
   "source": [
    "### Using type convergen\n",
    "s3=set([10,20,30,40,50])\n",
    "print(s3)\n",
    "print(type(s3))"
   ]
  },
  {
   "cell_type": "markdown",
   "metadata": {},
   "source": [
    "### Adding and Deleting item in SET.\n",
    "    1) add() :- Used to add single item in set\n",
    "    3) update():- Used to add multiple item in set."
   ]
  },
  {
   "cell_type": "code",
   "execution_count": null,
   "metadata": {},
   "outputs": [],
   "source": [
    "x={1,2,3,4,5}\n",
    "### Adding item in SET.\n",
    "x.add(10)\n",
    "print(x)\n",
    "### Adding multiple item in set\n",
    "x.update([50,60,70])\n",
    "print(x)"
   ]
  },
  {
   "cell_type": "markdown",
   "metadata": {},
   "source": [
    "### Delete item in SET.\n",
    "    1) del :- used to delete the complete set.\n",
    "    2) discard :- used to delete perticular item in set.\n",
    "    3) remove :- used to delete pertincular item in set\n",
    "    4) pop :- used to delete item randomly.\n",
    "    5) clear :- used to clear the set."
   ]
  },
  {
   "cell_type": "code",
   "execution_count": null,
   "metadata": {},
   "outputs": [],
   "source": [
    "print(x)\n",
    "## Deleting a SET.\n",
    "#del x\n",
    "#print(x)\n",
    "x.discard(3)\n",
    "print(x)\n",
    "x.remove(50)\n",
    "print(x)\n",
    "### Note :- If item not found in set in that case Discard will not throw error.But in case of remove it will throw an error.\n",
    "x.pop()\n",
    "print(x)\n",
    "x.clear()\n",
    "print(x)"
   ]
  },
  {
   "cell_type": "code",
   "execution_count": null,
   "metadata": {},
   "outputs": [],
   "source": []
  },
  {
   "cell_type": "code",
   "execution_count": null,
   "metadata": {},
   "outputs": [],
   "source": []
  },
  {
   "cell_type": "code",
   "execution_count": null,
   "metadata": {},
   "outputs": [],
   "source": []
  }
 ],
 "metadata": {
  "kernelspec": {
   "display_name": "Python 3",
   "language": "python",
   "name": "python3"
  },
  "language_info": {
   "codemirror_mode": {
    "name": "ipython",
    "version": 3
   },
   "file_extension": ".py",
   "mimetype": "text/x-python",
   "name": "python",
   "nbconvert_exporter": "python",
   "pygments_lexer": "ipython3",
   "version": "3.7.4"
  }
 },
 "nbformat": 4,
 "nbformat_minor": 2
}
