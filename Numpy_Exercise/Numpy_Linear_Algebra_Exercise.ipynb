{
 "cells": [
  {
   "cell_type": "markdown",
   "id": "a50a14e3",
   "metadata": {},
   "source": [
    "### 1) Write a NumPy program to compute the multiplication of two given matrixes."
   ]
  },
  {
   "cell_type": "code",
   "execution_count": 4,
   "id": "1e1ff8d2",
   "metadata": {},
   "outputs": [
    {
     "name": "stdout",
     "output_type": "stream",
     "text": [
      "[[0 1]\n",
      " [2 3]]\n",
      "\n",
      "[[4 5]\n",
      " [6 7]]\n",
      "\n",
      "Product of two matrixes\n",
      "[[ 6  7]\n",
      " [26 31]]\n"
     ]
    }
   ],
   "source": [
    "import numpy as np\n",
    "\n",
    "x=np.arange(4).reshape(2,2)\n",
    "y=np.arange(4,8).reshape(2,2)\n",
    "print(x)\n",
    "print()\n",
    "print(y)\n",
    "print()\n",
    "print(\"Product of two matrixes\")\n",
    "result=np.dot(x,y)\n",
    "print(result)"
   ]
  },
  {
   "cell_type": "markdown",
   "id": "aadeac6d",
   "metadata": {},
   "source": [
    "### 2) Write a NumPy program to compute the cross product of two given vectors."
   ]
  },
  {
   "cell_type": "code",
   "execution_count": 5,
   "id": "a925b4ab",
   "metadata": {},
   "outputs": [
    {
     "data": {
      "text/plain": [
       "array([-4, -4])"
      ]
     },
     "execution_count": 5,
     "metadata": {},
     "output_type": "execute_result"
    }
   ],
   "source": [
    "result=np.cross(x,y)\n",
    "result"
   ]
  },
  {
   "cell_type": "markdown",
   "id": "4b914f18",
   "metadata": {},
   "source": [
    "### 3) Write a NumPy program to compute the eigenvalues and right eigenvectors of a given square array."
   ]
  },
  {
   "cell_type": "code",
   "execution_count": 7,
   "id": "ed949ffa",
   "metadata": {},
   "outputs": [
    {
     "name": "stdout",
     "output_type": "stream",
     "text": [
      "[[0 1]\n",
      " [2 3]]\n",
      "\n",
      "Finding the Eigen values and Eigen vector of matrix\n",
      "\n",
      "Eigen values = [-0.56155281  3.56155281]\n",
      "Eigen vector = [[-0.87192821 -0.27032301]\n",
      " [ 0.48963374 -0.96276969]]\n"
     ]
    }
   ],
   "source": [
    "print(x)\n",
    "print()\n",
    "print(\"Finding the Eigen values and Eigen vector of matrix\")\n",
    "print()\n",
    "e_val,e_vect=np.linalg.eig(x)\n",
    "print(\"Eigen values =\",e_val)\n",
    "print(\"Eigen vector =\",e_vect)"
   ]
  },
  {
   "cell_type": "markdown",
   "id": "ca60ffa2",
   "metadata": {},
   "source": [
    "### 4) Write a NumPy program to compute the determinant of an array."
   ]
  },
  {
   "cell_type": "code",
   "execution_count": 8,
   "id": "1b314b52",
   "metadata": {},
   "outputs": [
    {
     "name": "stdout",
     "output_type": "stream",
     "text": [
      "Original array\n",
      "[[0 1]\n",
      " [2 3]]\n",
      "\n",
      "Finding the determinant of matrix\n",
      "\n",
      "Determinant of matrix\n",
      "-2.0\n"
     ]
    }
   ],
   "source": [
    "print(\"Original array\")\n",
    "print(x)\n",
    "print()\n",
    "print(\"Finding the determinant of matrix\")\n",
    "print()\n",
    "result=np.linalg.det(x)\n",
    "print(\"Determinant of matrix\")\n",
    "print(result)"
   ]
  },
  {
   "cell_type": "markdown",
   "id": "0cbf9100",
   "metadata": {},
   "source": [
    "### 5) Write a NumPy program to compute the inverse of a given matrix."
   ]
  },
  {
   "cell_type": "code",
   "execution_count": 9,
   "id": "6646fa94",
   "metadata": {},
   "outputs": [
    {
     "name": "stdout",
     "output_type": "stream",
     "text": [
      "Original matrix\n",
      "[[0 1]\n",
      " [2 3]]\n",
      "\n",
      "Computing the inverse of give matrix\n",
      "\n",
      "Inverse of matrix\n",
      "[[-1.5  0.5]\n",
      " [ 1.   0. ]]\n"
     ]
    }
   ],
   "source": [
    "print(\"Original matrix\")\n",
    "print(x)\n",
    "print()\n",
    "print(\"Computing the inverse of give matrix\")\n",
    "print()\n",
    "result=np.linalg.inv(x)\n",
    "print(\"Inverse of matrix\")\n",
    "print(result)"
   ]
  },
  {
   "cell_type": "markdown",
   "id": "df338637",
   "metadata": {},
   "source": [
    "### 6) Write a NumPy program to compute the sum of the diagonal element of a given array."
   ]
  },
  {
   "cell_type": "code",
   "execution_count": 12,
   "id": "26f49637",
   "metadata": {},
   "outputs": [
    {
     "name": "stdout",
     "output_type": "stream",
     "text": [
      "Original martix\n",
      "[[0 1 2]\n",
      " [3 4 5]\n",
      " [6 7 8]]\n",
      "\n",
      "Sum of diagonal elements of an array\n",
      "\n",
      "Sum of diagonal elements of matrix are\n",
      "\n",
      "12\n"
     ]
    }
   ],
   "source": [
    "x=np.arange(9).reshape(3,3)\n",
    "print(\"Original martix\")\n",
    "print(x)\n",
    "print()\n",
    "print(\"Sum of diagonal elements of an array\")\n",
    "print()\n",
    "result=np.trace(x)\n",
    "print(\"Sum of diagonal elements of matrix are\")\n",
    "print()\n",
    "print(result)"
   ]
  },
  {
   "cell_type": "markdown",
   "id": "179de83b",
   "metadata": {},
   "source": [
    "## **** Numpy Random Exercise Problem :- ****"
   ]
  },
  {
   "cell_type": "markdown",
   "id": "177be4ea",
   "metadata": {},
   "source": [
    "### 1) Write a NumPy program to generate five random numbers from the normal distribution."
   ]
  },
  {
   "cell_type": "code",
   "execution_count": 16,
   "id": "f521401f",
   "metadata": {},
   "outputs": [
    {
     "name": "stdout",
     "output_type": "stream",
     "text": [
      "Five random number for normal distribution\n",
      "\n",
      "[ 0.5367282  -1.9379076   0.77378983  0.69466593  0.66952826]\n"
     ]
    }
   ],
   "source": [
    "x=np.random.normal(size=5)\n",
    "print(\"Five random number for normal distribution\")\n",
    "print()\n",
    "print(x)\n"
   ]
  },
  {
   "cell_type": "markdown",
   "id": "91b3fc2d",
   "metadata": {},
   "source": [
    "### 2) Write a NumPy program to generate six random integers between 10 and 30."
   ]
  },
  {
   "cell_type": "code",
   "execution_count": 17,
   "id": "27b3738a",
   "metadata": {},
   "outputs": [
    {
     "name": "stdout",
     "output_type": "stream",
     "text": [
      "Random six integer betwwen 10 to 30\n",
      "[12 13 28 16 11 28]\n"
     ]
    }
   ],
   "source": [
    "x=np.random.randint(10,30,size=6)\n",
    "print(\"Random six integer betwwen 10 to 30\")\n",
    "print(x)"
   ]
  },
  {
   "cell_type": "markdown",
   "id": "6c6a1931",
   "metadata": {},
   "source": [
    "### 3) Write a NumPy program to create a 3x3x3 array with random values."
   ]
  },
  {
   "cell_type": "code",
   "execution_count": 19,
   "id": "cb8217f3",
   "metadata": {},
   "outputs": [
    {
     "name": "stdout",
     "output_type": "stream",
     "text": [
      "Random numpy matrix of dimention 3*3*3\n",
      "[[[0.40243225 0.86303764 0.77141597]\n",
      "  [0.43960969 0.19815504 0.03426508]\n",
      "  [0.06400363 0.08053978 0.99747944]]\n",
      "\n",
      " [[0.57626319 0.12874195 0.24083389]\n",
      "  [0.68004318 0.62727253 0.17064436]\n",
      "  [0.06953345 0.40045238 0.09066598]]\n",
      "\n",
      " [[0.17251596 0.83915246 0.98474784]\n",
      "  [0.3635083  0.32125061 0.3475883 ]\n",
      "  [0.47032094 0.20862345 0.74439438]]]\n"
     ]
    }
   ],
   "source": [
    "x=np.random.random(27).reshape(3,3,3)\n",
    "print(\"Random numpy matrix of dimention 3*3*3\")\n",
    "print(x)"
   ]
  },
  {
   "cell_type": "markdown",
   "id": "3d844004",
   "metadata": {},
   "source": [
    "### 4) Write a NumPy program to create a 5x5 array with random values and find the minimum and maximum values."
   ]
  },
  {
   "cell_type": "code",
   "execution_count": 33,
   "id": "f959f389",
   "metadata": {},
   "outputs": [
    {
     "name": "stdout",
     "output_type": "stream",
     "text": [
      "Matrix of dimention 5*5\n",
      "\n",
      "[[0.97258783 0.74104141 0.03449815 0.16522602 0.69818349]\n",
      " [0.30227944 0.32044025 0.05456284 0.88135092 0.10185766]\n",
      " [0.5915786  0.1053926  0.82941275 0.43088207 0.67418807]\n",
      " [0.27813575 0.66879268 0.11886273 0.98371233 0.29330944]\n",
      " [0.88319282 0.69173849 0.60105742 0.65233489 0.33442844]]\n",
      "\n",
      "Finding the maximum and minimum values from given matrix\n",
      "\n",
      "Maximum values from given matrix = 0.9837123334727429\n",
      "\n",
      "Minimum values from given matrix = 0.03449815345068741\n"
     ]
    }
   ],
   "source": [
    "x=np.random.random(25).reshape(5,5)\n",
    "print(\"Matrix of dimention 5*5\")\n",
    "print()\n",
    "print(x)\n",
    "print()\n",
    "print(\"Finding the maximum and minimum values from given matrix\")\n",
    "print()\n",
    "max_val=np.max(x)\n",
    "min_val=np.min(x)\n",
    "print(\"Maximum values from given matrix =\",max_val)\n",
    "print()\n",
    "print(\"Minimum values from given matrix =\",min_val)\n"
   ]
  },
  {
   "cell_type": "code",
   "execution_count": 26,
   "id": "099508d7",
   "metadata": {},
   "outputs": [
    {
     "name": "stdout",
     "output_type": "stream",
     "text": [
      "[0 1 2 3 4 5 6 7 8 9]\n",
      "\n",
      "Max values 9\n",
      "\n",
      "Min values 0\n"
     ]
    }
   ],
   "source": [
    "a=np.arange(10)\n",
    "print(a)\n",
    "print()\n",
    "m_val=np.max(a)\n",
    "min_val=np.min(a)\n",
    "print(\"Max values\",m_val)\n",
    "print()\n",
    "print(\"Min values\",min_val)"
   ]
  },
  {
   "cell_type": "markdown",
   "id": "28b0a536",
   "metadata": {},
   "source": [
    "### 5) Write a NumPy program to shuffle numbers between 0 and 10 (inclusive)."
   ]
  },
  {
   "cell_type": "code",
   "execution_count": 47,
   "id": "8b016a77",
   "metadata": {},
   "outputs": [
    {
     "name": "stdout",
     "output_type": "stream",
     "text": [
      "Original array\n",
      "[0 1 2 3 4 5 6 7 8 9]\n",
      "\n",
      "After shuffeling array\n",
      "[6 9 8 3 2 0 1 7 4 5]\n"
     ]
    }
   ],
   "source": [
    "x=np.arange(10)\n",
    "print(\"Original array\")\n",
    "print(x)\n",
    "print()\n",
    "result=np.random.permutation(x)\n",
    "print(\"After shuffeling array\")\n",
    "print(result)"
   ]
  },
  {
   "cell_type": "markdown",
   "id": "228531d4",
   "metadata": {},
   "source": [
    "### 6) Write a NumPy program to normalize a 3x3 random matrix."
   ]
  },
  {
   "cell_type": "code",
   "execution_count": 49,
   "id": "73cf7534",
   "metadata": {},
   "outputs": [
    {
     "name": "stdout",
     "output_type": "stream",
     "text": [
      "Original array\n",
      "[[0 1 2]\n",
      " [3 4 5]\n",
      " [6 7 8]]\n",
      "\n",
      "8\n",
      "\n",
      "0\n",
      "\n",
      "Normalization of matrix\n",
      "\n",
      "Normalization values\n",
      "\n",
      "[6 9 8 3 2 0 1 7 4 5]\n"
     ]
    }
   ],
   "source": [
    "x=np.arange(9).reshape(3,3)\n",
    "print(\"Original array\")\n",
    "print(x)\n",
    "print()\n",
    "max_num,min_num=np.max(x),np.min(x)\n",
    "print(max_num)\n",
    "print()\n",
    "print(min_num)\n",
    "print()\n",
    "print(\"Normalization of matrix\")\n",
    "print()\n",
    "norm_result=(x-min_num)/(max_num-min_num)\n",
    "print(\"Normalization values\")\n",
    "print()\n",
    "print(result)"
   ]
  },
  {
   "cell_type": "markdown",
   "id": "52d8c89f",
   "metadata": {},
   "source": [
    "### 7) Write a NumPy program to create a random vector of size 10 and sort it."
   ]
  },
  {
   "cell_type": "code",
   "execution_count": 51,
   "id": "5062700c",
   "metadata": {},
   "outputs": [
    {
     "name": "stdout",
     "output_type": "stream",
     "text": [
      "[0.94024954 0.67674358 0.64270772 0.9936019  0.99219884 0.42923396\n",
      " 0.92864961 0.30866965 0.66433794 0.85637813]\n",
      "After sorting vector\n",
      "[0.30866965 0.42923396 0.64270772 0.66433794 0.67674358 0.85637813\n",
      " 0.92864961 0.94024954 0.99219884 0.9936019 ]\n"
     ]
    }
   ],
   "source": [
    "x=np.random.random(size=10)\n",
    "print(x)\n",
    "print(\"After sorting vector\")\n",
    "result=np.sort(x)\n",
    "print(result)"
   ]
  },
  {
   "cell_type": "markdown",
   "id": "ebbdfe96",
   "metadata": {},
   "source": [
    "### 8) Write a NumPy program to check two random arrays are equal or not."
   ]
  },
  {
   "cell_type": "code",
   "execution_count": 53,
   "id": "771bc64a",
   "metadata": {},
   "outputs": [
    {
     "name": "stdout",
     "output_type": "stream",
     "text": [
      "First array:\n",
      "[0 1 0 0 0 0]\n",
      "Second array:\n",
      "[0 1 1 1 0 1]\n",
      "\n",
      "Checking two random variable are equal or not.\n",
      "\n",
      "False\n"
     ]
    }
   ],
   "source": [
    "x = np.random.randint(0,2,6)\n",
    "print(\"First array:\")\n",
    "print(x)\n",
    "y = np.random.randint(0,2,6)\n",
    "print(\"Second array:\")\n",
    "print(y)\n",
    "print()\n",
    "print(\"Checking two random variable are equal or not.\")\n",
    "print()\n",
    "result=np.allclose(x,y)\n",
    "print(result)"
   ]
  },
  {
   "cell_type": "markdown",
   "id": "e7da6a85",
   "metadata": {},
   "source": [
    "### 9) Write a NumPy program to create random vector of size 15 and replace the maximum value by -1."
   ]
  },
  {
   "cell_type": "code",
   "execution_count": 59,
   "id": "506c6e5b",
   "metadata": {},
   "outputs": [
    {
     "name": "stdout",
     "output_type": "stream",
     "text": [
      "[0.41073728 0.32745304 0.49709672 0.70692719 0.74417659 0.46157994\n",
      " 0.41115791 0.86431357 0.30578333 0.1497763  0.0596518  0.84878694\n",
      " 0.40458654 0.36455315 0.21421607]\n",
      "\n",
      "Replacing max value by -1\n",
      "\n",
      "[ 0.41073728  0.32745304  0.49709672  0.70692719  0.74417659  0.46157994\n",
      "  0.41115791 -1.          0.30578333  0.1497763   0.0596518   0.84878694\n",
      "  0.40458654  0.36455315  0.21421607]\n"
     ]
    }
   ],
   "source": [
    "x=np.random.random(15)\n",
    "print(x)\n",
    "print()\n",
    "print(\"Replacing max value by -1\")\n",
    "print()\n",
    "x[np.argmax(x)]=-1\n",
    "print(x)\n"
   ]
  },
  {
   "cell_type": "code",
   "execution_count": null,
   "id": "85c4022a",
   "metadata": {},
   "outputs": [],
   "source": []
  },
  {
   "cell_type": "code",
   "execution_count": null,
   "id": "e04c7db5",
   "metadata": {},
   "outputs": [],
   "source": []
  },
  {
   "cell_type": "code",
   "execution_count": null,
   "id": "7792c96d",
   "metadata": {},
   "outputs": [],
   "source": []
  },
  {
   "cell_type": "code",
   "execution_count": null,
   "id": "08c6b158",
   "metadata": {},
   "outputs": [],
   "source": []
  }
 ],
 "metadata": {
  "kernelspec": {
   "display_name": "Python 3",
   "language": "python",
   "name": "python3"
  },
  "language_info": {
   "codemirror_mode": {
    "name": "ipython",
    "version": 3
   },
   "file_extension": ".py",
   "mimetype": "text/x-python",
   "name": "python",
   "nbconvert_exporter": "python",
   "pygments_lexer": "ipython3",
   "version": "3.7.4"
  }
 },
 "nbformat": 4,
 "nbformat_minor": 5
}
