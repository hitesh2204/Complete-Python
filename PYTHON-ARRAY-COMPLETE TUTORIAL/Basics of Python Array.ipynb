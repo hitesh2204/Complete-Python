{
 "cells": [
  {
   "cell_type": "markdown",
   "metadata": {},
   "source": [
    "### What is Array ?\n",
    "\n",
    "1) Array is an object which store the similar element.\n",
    "\n",
    "2) We need to import modeul for Array.\n",
    "\n",
    "3) We can not easily adda or delete data from Array.\n",
    "\n",
    "4) It consumes less memory while addaing element.\n",
    "\n",
    "5) Array can increase or decrease their size dynamically."
   ]
  },
  {
   "cell_type": "markdown",
   "metadata": {},
   "source": [
    "### Types of Array\n",
    "\n",
    "1) Single dimentional Array.:- It contains SIngle rows and Multiple Columns.\n",
    "\n",
    "2) Multidimentional Array. :- It contains Multiple rows and Multiple columns.\n",
    "\n",
    "Note:- Python does not support Multidimentional array.But by using NUMPY package we can create and used multidimentional array."
   ]
  },
  {
   "cell_type": "markdown",
   "metadata": {},
   "source": [
    "### Importing ARRAY module in Python.\n",
    "\n",
    "1) import array :- It import entire array modeule.\n",
    "    \n",
    "2) from array import* :- It import all class,objects,variable from array module.    "
   ]
  },
  {
   "cell_type": "markdown",
   "metadata": {},
   "source": [
    "### Creating and Initializing One Dimentional Array :-\n",
    "\n",
    "Syntax : import array\n",
    "         ob _name =array.array('i',[list of elements])\n",
    "         \n",
    "Note :-  first array is module name of array.\n",
    "\n",
    "   second array is class name of array."
   ]
  },
  {
   "cell_type": "code",
   "execution_count": 1,
   "metadata": {},
   "outputs": [],
   "source": [
    "## First TYPE\n",
    "import array\n",
    "stud_roll=array.array('i',[100,101,102,103,104])\n",
    "print(stud_roll)"
   ]
  },
  {
   "cell_type": "code",
   "execution_count": 2,
   "metadata": {},
   "outputs": [],
   "source": [
    "### Second TYPE\n",
    "from array import*\n",
    "stud_roll=array('i',[100,101,102,103,104])\n",
    "print(stud_roll)"
   ]
  },
  {
   "cell_type": "markdown",
   "metadata": {},
   "source": [
    "### Creating Empty array.\n",
    "\n",
    "from import\n",
    "obje_name = array.array('type code',[])"
   ]
  },
  {
   "cell_type": "markdown",
   "metadata": {},
   "source": [
    "### Example.\n",
    "from array import*\n",
    "stud_roll_no=array('i',[])"
   ]
  },
  {
   "cell_type": "markdown",
   "metadata": {},
   "source": [
    "### Python Index :- Index define the position of the eleemtns."
   ]
  },
  {
   "cell_type": "markdown",
   "metadata": {},
   "source": [
    "### Accessing the One Dimentional Array."
   ]
  },
  {
   "cell_type": "code",
   "execution_count": 3,
   "metadata": {},
   "outputs": [],
   "source": [
    "import array\n",
    "stud_age=array.array('i',[20,22,24,26,28])\n",
    "print(stud_age)"
   ]
  },
  {
   "cell_type": "code",
   "execution_count": 4,
   "metadata": {},
   "outputs": [],
   "source": [
    "stud_age[2]"
   ]
  },
  {
   "cell_type": "code",
   "execution_count": 5,
   "metadata": {},
   "outputs": [],
   "source": [
    "stud_age[4]"
   ]
  },
  {
   "cell_type": "code",
   "execution_count": 6,
   "metadata": {},
   "outputs": [],
   "source": [
    "stud_age[1:4]"
   ]
  },
  {
   "cell_type": "code",
   "execution_count": 7,
   "metadata": {},
   "outputs": [],
   "source": [
    "stud_age[1:5]"
   ]
  },
  {
   "cell_type": "code",
   "execution_count": 8,
   "metadata": {},
   "outputs": [],
   "source": [
    "## Importing array by second type\n",
    "##   and changing type for float variable as f\n",
    "\n",
    "from array import*\n",
    "\n",
    "stud_height=array('f',[12.3,20.5,30.1,10.10,16,10])\n",
    "print(stud_height)"
   ]
  },
  {
   "cell_type": "code",
   "execution_count": 9,
   "metadata": {},
   "outputs": [],
   "source": [
    "stud_height[3]"
   ]
  },
  {
   "cell_type": "code",
   "execution_count": 10,
   "metadata": {},
   "outputs": [],
   "source": [
    "stud_height[1:4]"
   ]
  },
  {
   "cell_type": "markdown",
   "metadata": {},
   "source": [
    "### Accesssing the Array by using FOR loop."
   ]
  },
  {
   "cell_type": "markdown",
   "metadata": {},
   "source": [
    "### 1) Accessing element without using index.\n",
    "\n"
   ]
  },
  {
   "cell_type": "code",
   "execution_count": 27,
   "metadata": {},
   "outputs": [
    {
     "name": "stdout",
     "output_type": "stream",
     "text": [
      "20\n",
      "22\n",
      "24\n",
      "26\n",
      "28\n"
     ]
    }
   ],
   "source": [
    "import array\n",
    "stud_age=array.array('i',[20,22,24,26,28])\n",
    "\n",
    "for i in stud_age:\n",
    "    print(i)"
   ]
  },
  {
   "cell_type": "code",
   "execution_count": 28,
   "metadata": {},
   "outputs": [
    {
     "name": "stdout",
     "output_type": "stream",
     "text": [
      "12.300000190734863\n",
      "20.5\n",
      "30.100000381469727\n",
      "10.100000381469727\n",
      "16.0\n",
      "10.0\n"
     ]
    }
   ],
   "source": [
    "from array import*\n",
    "stud_height=array('f',[12.3,20.5,30.1,10.10,16,10])\n",
    "\n",
    "for ele in stud_height:\n",
    "    print(ele)"
   ]
  },
  {
   "cell_type": "markdown",
   "metadata": {},
   "source": [
    "### 2) Accessing element with index."
   ]
  },
  {
   "cell_type": "code",
   "execution_count": 29,
   "metadata": {},
   "outputs": [
    {
     "name": "stdout",
     "output_type": "stream",
     "text": [
      "Length og stu_age is = 5\n",
      " \n",
      "index 0 = 20\n",
      "index 1 = 22\n",
      "index 2 = 24\n",
      "index 3 = 26\n",
      "index 4 = 28\n"
     ]
    }
   ],
   "source": [
    "import array\n",
    "stud_age=array.array('i',[20,22,24,26,28])\n",
    "a=len(stud_age)\n",
    "print(\"Length og stu_age is =\",a)\n",
    "print(\" \")\n",
    "\n",
    "for i in range(a):\n",
    "    print(\"index\",i,\"=\",stud_age[i])"
   ]
  },
  {
   "cell_type": "markdown",
   "metadata": {},
   "source": [
    "### Accessing array using while loop."
   ]
  },
  {
   "cell_type": "code",
   "execution_count": 14,
   "metadata": {},
   "outputs": [],
   "source": [
    "from array import*\n",
    "stud_height=array('f',[12.3,20.5,30.1,10.10,16,10])\n",
    "\n",
    "n=len(stud_height)\n",
    "i=0\n",
    "\n",
    "while(i<n):\n",
    "    print(\"index\",i,\"=\",stud_height[i])\n",
    "    i+=1"
   ]
  },
  {
   "cell_type": "code",
   "execution_count": 15,
   "metadata": {},
   "outputs": [],
   "source": [
    "import array\n",
    "stud_age=array.array('i',[20,22,24,26,28])\n",
    "\n",
    "n=len(stud_age)\n",
    "i=0\n",
    "\n",
    "while(i<n):\n",
    "    print(\"index\",i,\"=\",stud_age[i])\n",
    "    i+=1"
   ]
  },
  {
   "cell_type": "markdown",
   "metadata": {},
   "source": [
    "### append Method.\n",
    "\n",
    "It is used to add the element at the end of array."
   ]
  },
  {
   "cell_type": "code",
   "execution_count": 16,
   "metadata": {},
   "outputs": [],
   "source": [
    "import array\n",
    "stud_age=array.array('i',[20,22,24,26,28])\n",
    "\n",
    "n=len(stud_age)\n",
    "print(\"lenght of array =\",n)\n",
    "i=0\n",
    "\n",
    "while(i<n):\n",
    "    print(stud_age[i])\n",
    "    i+=1\n",
    "print(\" \")\n",
    "\n",
    "print(\"Array after append\")\n",
    "print(\" \")\n",
    "stud_age.append(30)\n",
    "stud_age.append(32)\n",
    "\n",
    "n=len(stud_age)\n",
    "print(\"lenght of array =\",n)\n",
    "i=0\n",
    "\n",
    "while(i<n):\n",
    "    print(stud_age[i])\n",
    "    i+=1\n"
   ]
  },
  {
   "cell_type": "markdown",
   "metadata": {},
   "source": [
    "### Getting input from user in empty array."
   ]
  },
  {
   "cell_type": "code",
   "execution_count": 17,
   "metadata": {},
   "outputs": [
    {
     "name": "stdout",
     "output_type": "stream",
     "text": [
      "Enter number of marks :4\n",
      "Enter marks = 50\n",
      "Enter marks = 60\n",
      "Enter marks = 40\n",
      "Enter marks = 77\n",
      " \n",
      "Marks after entering\n",
      "50\n",
      "60\n",
      "40\n",
      "77\n"
     ]
    }
   ],
   "source": [
    "## creating the empty array.\n",
    "from array import*\n",
    "\n",
    "stud_marks=array('i',[])\n",
    "\n",
    "n=int(input(\"Enter number of marks :\"))\n",
    "\n",
    "for i in range(n):\n",
    "    stud_marks.append(int(input(\"Enter marks = \")))\n",
    "\n",
    "print(\" \")\n",
    "print(\"Marks after entering\")    \n",
    "for i in stud_marks:\n",
    "    print(i)\n",
    "    "
   ]
  },
  {
   "cell_type": "markdown",
   "metadata": {},
   "source": [
    "### Array Methods:- "
   ]
  },
  {
   "cell_type": "markdown",
   "metadata": {},
   "source": [
    "### 1) Insert Method :-This method is used to insert element at perticular position in array."
   ]
  },
  {
   "cell_type": "code",
   "execution_count": 18,
   "metadata": {},
   "outputs": [
    {
     "name": "stdout",
     "output_type": "stream",
     "text": [
      "lenght of array = 5\n",
      "20\n",
      "22\n",
      "24\n",
      "26\n",
      "28\n",
      " \n",
      "Array after insert\n",
      " \n",
      "lenght of array = 7\n",
      "20\n",
      "22\n",
      "24\n",
      "33\n",
      "26\n",
      "55\n",
      "28\n"
     ]
    }
   ],
   "source": [
    "import array\n",
    "stud_age=array.array('i',[20,22,24,26,28])\n",
    "\n",
    "n=len(stud_age)\n",
    "print(\"lenght of array =\",n)\n",
    "i=0\n",
    "\n",
    "while(i<n):\n",
    "    print(stud_age[i])\n",
    "    i+=1\n",
    "print(\" \")\n",
    "\n",
    "print(\"Array after insert\")\n",
    "print(\" \")\n",
    "stud_age.insert(3,33)\n",
    "stud_age.insert(5,55)\n",
    "\n",
    "n=len(stud_age)\n",
    "print(\"lenght of array =\",n)\n",
    "i=0\n",
    "\n",
    "while(i<n):\n",
    "    print(stud_age[i])\n",
    "    i+=1\n"
   ]
  },
  {
   "cell_type": "markdown",
   "metadata": {},
   "source": [
    "### POP() :- This method is used to remove last eleemt from existing array."
   ]
  },
  {
   "cell_type": "code",
   "execution_count": 19,
   "metadata": {},
   "outputs": [
    {
     "name": "stdout",
     "output_type": "stream",
     "text": [
      "lenght of array = 5\n",
      "20\n",
      "22\n",
      "24\n",
      "26\n",
      "28\n",
      " \n",
      "Array after remove\n",
      " \n",
      "lenght of array = 3\n",
      "20\n",
      "22\n",
      "26\n",
      "removed element is = 24\n"
     ]
    }
   ],
   "source": [
    "import array\n",
    "stud_age=array.array('i',[20,22,24,26,28])\n",
    "\n",
    "n=len(stud_age)\n",
    "print(\"lenght of array =\",n)\n",
    "i=0\n",
    "\n",
    "while(i<n):\n",
    "    print(stud_age[i])\n",
    "    i+=1\n",
    "print(\" \")\n",
    "\n",
    "print(\"Array after remove\")\n",
    "print(\" \")\n",
    "stud_age.pop()\n",
    "r=stud_age.pop(2)\n",
    "\n",
    "n=len(stud_age)\n",
    "print(\"lenght of array =\",n)\n",
    "i=0\n",
    "\n",
    "while(i<n):\n",
    "    print(stud_age[i])\n",
    "    i+=1\n",
    "print(\"removed element is =\",r)"
   ]
  },
  {
   "cell_type": "markdown",
   "metadata": {},
   "source": [
    "### Remove element() :- This method remove the forst element from given array."
   ]
  },
  {
   "cell_type": "code",
   "execution_count": 20,
   "metadata": {},
   "outputs": [
    {
     "name": "stdout",
     "output_type": "stream",
     "text": [
      "lenght of array = 6\n",
      "20\n",
      "22\n",
      "24\n",
      "22\n",
      "28\n",
      "24\n",
      " \n",
      "Array after remove\n",
      " \n",
      "lenght of array = 4\n",
      "20\n",
      "22\n",
      "28\n",
      "24\n"
     ]
    }
   ],
   "source": [
    "import array\n",
    "stud_age=array.array('i',[20,22,24,22,28,24])\n",
    "\n",
    "n=len(stud_age)\n",
    "print(\"lenght of array =\",n)\n",
    "i=0\n",
    "\n",
    "while(i<n):\n",
    "    print(stud_age[i])\n",
    "    i+=1\n",
    "print(\" \")\n",
    "\n",
    "print(\"Array after remove\")\n",
    "print(\" \")\n",
    "stud_age.remove(22)\n",
    "stud_age.remove(24)\n",
    "\n",
    "n=len(stud_age)\n",
    "print(\"lenght of array =\",n)\n",
    "i=0\n",
    "\n",
    "while(i<n):\n",
    "    print(stud_age[i])\n",
    "    i+=1\n"
   ]
  },
  {
   "cell_type": "markdown",
   "metadata": {},
   "source": [
    "### Index() :- This method return the first element in given array."
   ]
  },
  {
   "cell_type": "code",
   "execution_count": 21,
   "metadata": {},
   "outputs": [
    {
     "name": "stdout",
     "output_type": "stream",
     "text": [
      "array('i', [20, 22, 24, 22, 28, 24])\n"
     ]
    }
   ],
   "source": [
    "import array\n",
    "stud_age=array.array('i',[20,22,24,22,28,24])\n",
    "print(stud_age)"
   ]
  },
  {
   "cell_type": "code",
   "execution_count": 22,
   "metadata": {},
   "outputs": [
    {
     "name": "stdout",
     "output_type": "stream",
     "text": [
      "2\n",
      "0\n"
     ]
    }
   ],
   "source": [
    "print(stud_age.index(24))\n",
    "print(stud_age.index(20))"
   ]
  },
  {
   "cell_type": "markdown",
   "metadata": {},
   "source": [
    "### Reverse() :- THis method reverse the order of element in array."
   ]
  },
  {
   "cell_type": "code",
   "execution_count": 23,
   "metadata": {},
   "outputs": [
    {
     "name": "stdout",
     "output_type": "stream",
     "text": [
      "lenght of array = 6\n",
      "20\n",
      "22\n",
      "24\n",
      "22\n",
      "28\n",
      "24\n",
      " \n",
      "Array after reversed\n",
      " \n",
      "lenght of array = 6\n",
      "24\n",
      "28\n",
      "22\n",
      "24\n",
      "22\n",
      "20\n"
     ]
    }
   ],
   "source": [
    "import array\n",
    "stud_age=array.array('i',[20,22,24,22,28,24])\n",
    "\n",
    "n=len(stud_age)\n",
    "print(\"lenght of array =\",n)\n",
    "i=0\n",
    "\n",
    "while(i<n):\n",
    "    print(stud_age[i])\n",
    "    i+=1\n",
    "print(\" \")\n",
    "\n",
    "print(\"Array after reversed\")\n",
    "print(\" \")\n",
    "stud_age.reverse()\n",
    "\n",
    "n=len(stud_age)\n",
    "print(\"lenght of array =\",n)\n",
    "i=0\n",
    "\n",
    "while(i<n):\n",
    "    print(stud_age[i])\n",
    "    i+=1"
   ]
  },
  {
   "cell_type": "markdown",
   "metadata": {},
   "source": [
    "### Extend():- This method is used to append another array or iterable object at the end of array."
   ]
  },
  {
   "cell_type": "code",
   "execution_count": 24,
   "metadata": {},
   "outputs": [
    {
     "name": "stdout",
     "output_type": "stream",
     "text": [
      "lenght of array = 6\n",
      "24\n",
      "28\n",
      "22\n",
      "24\n",
      "22\n",
      "20\n",
      "Array after Extends\n",
      " \n",
      "lenght of array = 11\n",
      "24\n",
      "28\n",
      "22\n",
      "24\n",
      "22\n",
      "20\n",
      "10\n",
      "20\n",
      "30\n",
      "40\n",
      "50\n"
     ]
    }
   ],
   "source": [
    "import array\n",
    "arr=array.array('i',[10,20,30,40,50])\n",
    "\n",
    "n=len(stud_age)\n",
    "print(\"lenght of array =\",n)\n",
    "i=0\n",
    "while(i<n):\n",
    "    print(stud_age[i])\n",
    "    i+=1\n",
    "\n",
    "print(\"Array after Extends\")\n",
    "print(\" \")\n",
    "stud_age.extend(arr)\n",
    "n=len(stud_age)\n",
    "print(\"lenght of array =\",n)\n",
    "i=0\n",
    "while(i<n):\n",
    "    print(stud_age[i])\n",
    "    i+=1\n",
    "\n"
   ]
  },
  {
   "cell_type": "markdown",
   "metadata": {},
   "source": [
    "### Python Array Exercise :- "
   ]
  },
  {
   "cell_type": "markdown",
   "metadata": {},
   "source": [
    "### Write a Python program to create an array of 5 integers and display the array items. Access individual element through indexes."
   ]
  },
  {
   "cell_type": "code",
   "execution_count": 31,
   "metadata": {},
   "outputs": [
    {
     "name": "stdout",
     "output_type": "stream",
     "text": [
      "10\n",
      "20\n",
      "30\n",
      "40\n",
      "50\n"
     ]
    }
   ],
   "source": [
    "import array\n",
    "data=array.array('i',[10,20,30,40,50])\n",
    "for i in (data):\n",
    "    print(i)"
   ]
  },
  {
   "cell_type": "markdown",
   "metadata": {},
   "source": [
    "### : Write a Python program to append a new item to the end of the array."
   ]
  },
  {
   "cell_type": "code",
   "execution_count": 32,
   "metadata": {},
   "outputs": [
    {
     "name": "stdout",
     "output_type": "stream",
     "text": [
      "array after append\n",
      "array('i', [10, 20, 30, 40, 50, 60])\n"
     ]
    }
   ],
   "source": [
    "import array\n",
    "data=array.array('i',[10,20,30,40,50])\n",
    "\n",
    "print(\"array after append\")\n",
    "data.append(60)\n",
    "print(data)"
   ]
  },
  {
   "cell_type": "markdown",
   "metadata": {},
   "source": [
    "### 3) Write a Python program to reverse the order of the items in the array."
   ]
  },
  {
   "cell_type": "code",
   "execution_count": 34,
   "metadata": {},
   "outputs": [
    {
     "name": "stdout",
     "output_type": "stream",
     "text": [
      "Array after reverse\n",
      "array('i', [50, 40, 30, 20, 10])\n"
     ]
    }
   ],
   "source": [
    "import array\n",
    "data=array.array('i',[10,20,30,40,50])\n",
    "\n",
    "print(\"Array after reverse\")\n",
    "data.reverse()\n",
    "print(data)"
   ]
  },
  {
   "cell_type": "markdown",
   "metadata": {},
   "source": [
    "### Write a Python program to get the length in bytes of one array item in the internal representation."
   ]
  },
  {
   "cell_type": "code",
   "execution_count": 40,
   "metadata": {},
   "outputs": [
    {
     "name": "stdout",
     "output_type": "stream",
     "text": [
      "The length of element in array are = 4\n"
     ]
    }
   ],
   "source": [
    "import array\n",
    "data=array.array('i',[10,20,30,40,50])\n",
    "\n",
    "print(\"The length of element in array are = \"+str(data.itemsize))"
   ]
  },
  {
   "cell_type": "markdown",
   "metadata": {},
   "source": [
    "### Write a Python program to get the number of occurrences of a specified element in an array."
   ]
  },
  {
   "cell_type": "code",
   "execution_count": 42,
   "metadata": {},
   "outputs": [
    {
     "name": "stdout",
     "output_type": "stream",
     "text": [
      "The Number of occurrences of the number 20 in the said array 3\n",
      "The Number of occurrences of the number 50 in the said array 2\n"
     ]
    }
   ],
   "source": [
    "import array\n",
    "data=array.array('i',[10,20,30,40,50,20,30,50,20])\n",
    "print(\"The Number of occurrences of the number 20 in the said array\",data.count(20))\n",
    "print(\"The Number of occurrences of the number 50 in the said array\",data.count(50))\n"
   ]
  },
  {
   "cell_type": "code",
   "execution_count": null,
   "metadata": {},
   "outputs": [],
   "source": []
  }
 ],
 "metadata": {
  "kernelspec": {
   "display_name": "Python 3",
   "language": "python",
   "name": "python3"
  },
  "language_info": {
   "codemirror_mode": {
    "name": "ipython",
    "version": 3
   },
   "file_extension": ".py",
   "mimetype": "text/x-python",
   "name": "python",
   "nbconvert_exporter": "python",
   "pygments_lexer": "ipython3",
   "version": "3.7.4"
  }
 },
 "nbformat": 4,
 "nbformat_minor": 2
}
