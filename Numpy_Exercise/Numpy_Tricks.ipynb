{
 "cells": [
  {
   "cell_type": "markdown",
   "id": "4686a449",
   "metadata": {},
   "source": [
    "### Following are some important Function of Numpy Array."
   ]
  },
  {
   "cell_type": "markdown",
   "id": "a0958e39",
   "metadata": {},
   "source": [
    "#### 1) Sort() This function is used to sor the 1-d and 2-d array.\n",
    "#### 2) append() This function is used to append the values in an existing array.Also we can appending rows and column.       \n",
    "#### 3) Concatenate() This function is used to concatenate two array matrix.\n",
    "#### 4) Unique() This function is used to find out the unique vaklues in the given array matrix.\n",
    "#### 5) Where() This function is used to return the indices of an elements where the given condition is satisfied.\n",
    "#### 6) expand_dim() This function is used to expand the dimention of an existing array matrix.\n",
    "#### 7) argmax() This function is used to find out the indices of max value in an given array.\n",
    "#### 8) argmin() This funtion is udes to find out the indices of min value in an given array.\n",
    "#### 9) cumsum() This function is used to find out the cumulative sum of given array elements.\n",
    "#### 10) cumprod() This function is used to find out the cumulative product of an given array elements.\n",
    "#### 11) percentile() This function is used to find out the percentage of an given array.\n",
    "#### 12) histogram() This function is used find out the count of element in given range.\\\n",
    "#### 13) correcoef() This function is used to find out the correlation/relation between two array.)(ranges between (-1               to 1)).\n",
    "#### 14) isin() This function is used to find out the perticular element are present in given array or not.\n",
    "#### 15) delete() This function is used to delete an element of given array with mention axis.\n",
    "### 16) SET() \n",
    "#### 1) Union1d() This func is used to return union of two given array.\n",
    "#### 2) intersect1d() This func is used to return similar elements in given array.\n",
    "#### 3) setdiff1d() This func return the elements which is present in 1st array not in 2nd array.\n",
    "#### 4) setxor() This func return the different elements in given array.\n",
    "#### 5) in1d() This func check the whether perticular elements are present in array or not.\n"
   ]
  },
  {
   "cell_type": "markdown",
   "id": "9387125f",
   "metadata": {},
   "source": [
    "### ======================================*************========================================="
   ]
  },
  {
   "cell_type": "markdown",
   "id": "6c9d532b",
   "metadata": {},
   "source": [
    "#### Q-1: Find the nearest element in the array to a given integer."
   ]
  },
  {
   "cell_type": "code",
   "execution_count": 1,
   "id": "60daff97",
   "metadata": {},
   "outputs": [],
   "source": [
    "import numpy as np"
   ]
  },
  {
   "cell_type": "code",
   "execution_count": 2,
   "id": "97eaccb7",
   "metadata": {},
   "outputs": [
    {
     "name": "stdout",
     "output_type": "stream",
     "text": [
      "Original array\n",
      "[10 17 24 31  5 45 52 59]\n",
      "\n",
      "Finding the indices of nearest element of given array\n",
      "4\n"
     ]
    }
   ],
   "source": [
    "x=np.array([10,17,24,31,5,45,52,59])\n",
    "print(\"Original array\")\n",
    "print(x)\n",
    "print()\n",
    "print(\"Finding the indices of nearest element of given array\")\n",
    "result=np.argmin(x)\n",
    "print(result)\n"
   ]
  },
  {
   "cell_type": "markdown",
   "id": "d6b1188a",
   "metadata": {},
   "source": [
    "#### Q-2: Replace multiples of 3 or 5 as 0 in the given array."
   ]
  },
  {
   "cell_type": "code",
   "execution_count": 3,
   "id": "323a1f5a",
   "metadata": {},
   "outputs": [
    {
     "name": "stdout",
     "output_type": "stream",
     "text": [
      "original array\n",
      "[1 2 3 4 5 6 7 9]\n",
      "\n",
      "replacing all elements with zero who is divisoble by 3 or 5\n",
      "\n",
      "[1 2 0 4 0 0 7 0]\n"
     ]
    }
   ],
   "source": [
    "#### arr=[1 2 3 4 5 6 7 9]\n",
    "#### result-> [1 2 0 4 0 0 7 0]\n",
    "\n",
    "num=np.array([1,2,3,4,5,6,7,9])\n",
    "print(\"original array\")\n",
    "print(num)\n",
    "print()\n",
    "print(\"replacing all elements with zero who is divisoble by 3 or 5\")\n",
    "print()\n",
    "result=np.where((num%3==0)| (num%5==0),0,num)\n",
    "print(result)\n"
   ]
  },
  {
   "cell_type": "markdown",
   "id": "0424d77a",
   "metadata": {},
   "source": [
    "#### Double the array elements at given indexes."
   ]
  },
  {
   "cell_type": "code",
   "execution_count": 4,
   "id": "cfb6ecbd",
   "metadata": {},
   "outputs": [
    {
     "name": "stdout",
     "output_type": "stream",
     "text": [
      "[0 1 2 3 4 5 6 7 8 9]\n",
      "\n",
      "Double the array of given indexes\n"
     ]
    },
    {
     "data": {
      "text/plain": [
       "array([ 0,  6,  8, 18])"
      ]
     },
     "execution_count": 4,
     "metadata": {},
     "output_type": "execute_result"
    }
   ],
   "source": [
    "# arr = np.arrange(10)\n",
    "# indexes = [0,3,4,9]\n",
    "# Result -> [ 0 1 2 6 8 5 6 7 8 18]\n",
    "\n",
    "num=np.arange(10)\n",
    "print(num)\n",
    "print()\n",
    "print(\"Double the array of given indexes\")\n",
    "num[[0,3,4,9]]*2"
   ]
  },
  {
   "cell_type": "markdown",
   "id": "98ac7bf5",
   "metadata": {},
   "source": [
    "#### Using a given array make a different array as in below example"
   ]
  },
  {
   "cell_type": "code",
   "execution_count": 5,
   "id": "7d4e9769",
   "metadata": {},
   "outputs": [
    {
     "name": "stdout",
     "output_type": "stream",
     "text": [
      "Original array\n",
      "[1 2 3]\n",
      "\n",
      "Printing the given element three times.\n",
      "\n",
      "[1 1 1 2 2 2 3 3 3]\n"
     ]
    }
   ],
   "source": [
    "# array = [1,2,3]\n",
    "# result array -> [1 1 1 2 2 2 3 3 3]\n",
    "\n",
    "num=np.array([1,2,3])\n",
    "print(\"Original array\")\n",
    "print(num)\n",
    "print()\n",
    "print(\"Printing the given element three times.\")\n",
    "print()\n",
    "result=np.repeat(num,3)\n",
    "print(result)"
   ]
  },
  {
   "cell_type": "markdown",
   "id": "ad3310ea",
   "metadata": {},
   "source": [
    "#### Your are given an array which is havig some nan value. You job is to fill those nan values with most common element in the array."
   ]
  },
  {
   "cell_type": "code",
   "execution_count": 6,
   "id": "9c5e2b2f",
   "metadata": {},
   "outputs": [
    {
     "name": "stdout",
     "output_type": "stream",
     "text": [
      "Original array\n",
      "\n",
      "[[ 1.  2. nan]\n",
      " [ 4.  2.  6.]\n",
      " [nan nan  5.]]\n",
      "\n",
      "Filling all nan values by most common value in array.\n",
      "\n",
      "1st techniw=que to fill nan values\n",
      "[[1.         2.         3.33333333]\n",
      " [4.         2.         6.        ]\n",
      " [3.33333333 3.33333333 5.        ]]\n",
      "\n",
      "Second techinue to fill nan values\n",
      "[[1.         2.         3.33333333]\n",
      " [4.         2.         6.        ]\n",
      " [3.33333333 3.33333333 5.        ]]\n"
     ]
    }
   ],
   "source": [
    "# arr=np.array([[1,2,np.nan],[4,2,6],[np.nan,np.nan,5]])\n",
    "\n",
    "num=np.array([[1,2,np.nan],[4,2,6],[np.nan,np.nan,5]])\n",
    "print(\"Original array\")\n",
    "print()\n",
    "print(num)\n",
    "print()\n",
    "print(\"Filling all nan values by most common value in array.\")\n",
    "print()\n",
    "print(\"1st techniw=que to fill nan values\")\n",
    "num[np.isnan(num)]=np.nanmean(num)\n",
    "print(num)\n",
    "print()\n",
    "print(\"Second techinue to fill nan values\")\n",
    "print(np.nan_to_num(num,nan=10))\n",
    "\n",
    "\n"
   ]
  },
  {
   "cell_type": "code",
   "execution_count": 7,
   "id": "f78adff8",
   "metadata": {},
   "outputs": [
    {
     "name": "stdout",
     "output_type": "stream",
     "text": [
      "Original array\n",
      "\n",
      "[[ 1.  2. nan]\n",
      " [ 4.  2.  6.]\n",
      " [nan nan  5.]]\n",
      "\n",
      "Second techinue to fill nan values\n",
      "[[1. 2. 3.]\n",
      " [4. 2. 6.]\n",
      " [3. 3. 5.]]\n"
     ]
    }
   ],
   "source": [
    "num=np.array([[1,2,np.nan],[4,2,6],[np.nan,np.nan,5]])\n",
    "print(\"Original array\")\n",
    "print()\n",
    "print(num)\n",
    "print()\n",
    "print(\"Second techinue to fill nan values\")\n",
    "print(np.nan_to_num(num,nan=np.nanmedian(num)))"
   ]
  },
  {
   "cell_type": "markdown",
   "id": "b6d582dc",
   "metadata": {},
   "source": [
    "#### Q-5: Write a NumPy program\n",
    "#### to find the missing data in a given array. Return a boolean matrix.\n",
    "#### also try to fill those missing values with 0. For that, you can use np.nan_to_num(a)."
   ]
  },
  {
   "cell_type": "code",
   "execution_count": 8,
   "id": "76e4eacb",
   "metadata": {},
   "outputs": [
    {
     "name": "stdout",
     "output_type": "stream",
     "text": [
      "[[ 3.  2. nan  1.]\n",
      " [10. 12. 10.  9.]\n",
      " [ 5. nan  1. nan]]\n",
      "\n",
      "Finding missing values with boolean matrix\n",
      "[[False False  True False]\n",
      " [False False False False]\n",
      " [False  True False  True]]\n",
      "\n",
      "Filling nan values with 0 value.\n",
      "\n",
      "[[False False  True False]\n",
      " [False False False False]\n",
      " [False  True False  True]]\n"
     ]
    }
   ],
   "source": [
    "num=np.array([[3, 2, np.nan, 1],\n",
    "             [10, 12, 10, 9],\n",
    "             [5, np.nan, 1, np.nan]])\n",
    "print(num)\n",
    "print()\n",
    "print(\"Finding missing values with boolean matrix\")\n",
    "num=np.isnan(num)\n",
    "print(num)\n",
    "print()\n",
    "print(\"Filling nan values with 0 value.\")\n",
    "print()\n",
    "num=np.nan_to_num(num,nan=0)\n",
    "print(num)"
   ]
  },
  {
   "cell_type": "markdown",
   "id": "0331a56b",
   "metadata": {},
   "source": [
    "#### Plot this below equation.\n",
    "y=ex−e−x/ex+e−x \n",
    "\n",
    "Note: This equation is called tanh activation function. In deep learning, many times this function is used. If you find some difference between the sigmoid function and this tanh function, note that to your notebook."
   ]
  },
  {
   "cell_type": "code",
   "execution_count": 9,
   "id": "7b5d4103",
   "metadata": {},
   "outputs": [],
   "source": [
    "import numpy as np\n",
    "import matplotlib.pyplot as plt\n",
    "%matplotlib inline"
   ]
  },
  {
   "cell_type": "code",
   "execution_count": 10,
   "id": "da324f47",
   "metadata": {},
   "outputs": [
    {
     "name": "stdout",
     "output_type": "stream",
     "text": [
      "[-10.          -9.7979798   -9.5959596   -9.39393939  -9.19191919\n",
      "  -8.98989899  -8.78787879  -8.58585859  -8.38383838  -8.18181818\n",
      "  -7.97979798  -7.77777778  -7.57575758  -7.37373737  -7.17171717\n",
      "  -6.96969697  -6.76767677  -6.56565657  -6.36363636  -6.16161616\n",
      "  -5.95959596  -5.75757576  -5.55555556  -5.35353535  -5.15151515\n",
      "  -4.94949495  -4.74747475  -4.54545455  -4.34343434  -4.14141414\n",
      "  -3.93939394  -3.73737374  -3.53535354  -3.33333333  -3.13131313\n",
      "  -2.92929293  -2.72727273  -2.52525253  -2.32323232  -2.12121212\n",
      "  -1.91919192  -1.71717172  -1.51515152  -1.31313131  -1.11111111\n",
      "  -0.90909091  -0.70707071  -0.50505051  -0.3030303   -0.1010101\n",
      "   0.1010101    0.3030303    0.50505051   0.70707071   0.90909091\n",
      "   1.11111111   1.31313131   1.51515152   1.71717172   1.91919192\n",
      "   2.12121212   2.32323232   2.52525253   2.72727273   2.92929293\n",
      "   3.13131313   3.33333333   3.53535354   3.73737374   3.93939394\n",
      "   4.14141414   4.34343434   4.54545455   4.74747475   4.94949495\n",
      "   5.15151515   5.35353535   5.55555556   5.75757576   5.95959596\n",
      "   6.16161616   6.36363636   6.56565657   6.76767677   6.96969697\n",
      "   7.17171717   7.37373737   7.57575758   7.77777778   7.97979798\n",
      "   8.18181818   8.38383838   8.58585859   8.78787879   8.98989899\n",
      "   9.19191919   9.39393939   9.5959596    9.7979798   10.        ]\n",
      "[-1.         -0.99999999 -0.99999999 -0.99999999 -0.99999998 -0.99999997\n",
      " -0.99999995 -0.99999993 -0.9999999  -0.99999984 -0.99999977 -0.99999965\n",
      " -0.99999947 -0.99999921 -0.99999882 -0.99999823 -0.99999735 -0.99999604\n",
      " -0.99999406 -0.99999111 -0.99998668 -0.99998004 -0.99997011 -0.99995523\n",
      " -0.99993294 -0.99989955 -0.99984955 -0.99977465 -0.99966248 -0.99949449\n",
      " -0.9992429  -0.99886619 -0.99830218 -0.99745797 -0.99619479 -0.9943057\n",
      " -0.99148279 -0.98726936 -0.98099146 -0.97166188 -0.95785067 -0.93752157\n",
      " -0.90784899 -0.86506558 -0.8044548  -0.72069563 -0.60883666 -0.46607983\n",
      " -0.2940833  -0.10066796  0.10066796  0.2940833   0.46607983  0.60883666\n",
      "  0.72069563  0.8044548   0.86506558  0.90784899  0.93752157  0.95785067\n",
      "  0.97166188  0.98099146  0.98726936  0.99148279  0.9943057   0.99619479\n",
      "  0.99745797  0.99830218  0.99886619  0.9992429   0.99949449  0.99966248\n",
      "  0.99977465  0.99984955  0.99989955  0.99993294  0.99995523  0.99997011\n",
      "  0.99998004  0.99998668  0.99999111  0.99999406  0.99999604  0.99999735\n",
      "  0.99999823  0.99999882  0.99999921  0.99999947  0.99999965  0.99999977\n",
      "  0.99999984  0.9999999   0.99999993  0.99999995  0.99999997  0.99999998\n",
      "  0.99999999  0.99999999  0.99999999  1.        ]\n",
      "\n",
      "Plotting Tanh-graph\n"
     ]
    },
    {
     "data": {
      "text/plain": [
       "Text(0.5, 1.0, 'Tanh-Graph')"
      ]
     },
     "execution_count": 10,
     "metadata": {},
     "output_type": "execute_result"
    },
    {
     "data": {
      "image/png": "[encoded data removed]",
      "text/plain": [
       "<Figure size 432x288 with 1 Axes>"
      ]
     },
     "metadata": {
      "needs_background": "light"
     },
     "output_type": "display_data"
    }
   ],
   "source": [
    "x=np.linspace(-10,10,100)\n",
    "print(x)\n",
    "\n",
    "def tanh_fuc(array):\n",
    "    return (np.exp(x)-np.exp(-x))/(np.exp(x)+np.exp(-x))\n",
    "\n",
    "y=tanh_fuc(x)\n",
    "print(y)\n",
    "print()\n",
    "print(\"Plotting Tanh-graph\")\n",
    "plt.plot(x,y)\n",
    "plt.title(\"Tanh-Graph\")"
   ]
  },
  {
   "cell_type": "markdown",
   "id": "e9a731d6",
   "metadata": {},
   "source": [
    "#### Plot the below equation.\n",
    " \n",
    "####  y=√36-(x-4)2+2"
   ]
  },
  {
   "cell_type": "code",
   "execution_count": 11,
   "id": "aeb87e88",
   "metadata": {},
   "outputs": [
    {
     "name": "stdout",
     "output_type": "stream",
     "text": [
      "[-2.         -1.5862069  -1.17241379 -0.75862069 -0.34482759  0.06896552\n",
      "  0.48275862  0.89655172  1.31034483  1.72413793  2.13793103  2.55172414\n",
      "  2.96551724  3.37931034  3.79310345  4.20689655  4.62068966  5.03448276\n",
      "  5.44827586  5.86206897  6.27586207  6.68965517  7.10344828  7.51724138\n",
      "  7.93103448  8.34482759  8.75862069  9.17241379  9.5862069  10.        ]\n",
      "\n",
      "[1.41421356 2.60658637 3.35352584 3.91861316 4.37292502 4.74836476\n",
      " 5.06251055 5.326219   5.54668866 5.72891367 5.87645294 5.99186924\n",
      " 6.07699312 6.13308604 6.16094098 6.16094098 6.13308604 6.07699312\n",
      " 5.99186924 5.87645294 5.72891367 5.54668866 5.326219   5.06251055\n",
      " 4.74836476 4.37292502 3.91861316 3.35352584 2.60658637 1.41421356]\n",
      "\n",
      "Plotting graph\n",
      "\n"
     ]
    },
    {
     "data": {
      "text/plain": [
       "[<matplotlib.lines.Line2D at 0x254d5ead848>]"
      ]
     },
     "execution_count": 11,
     "metadata": {},
     "output_type": "execute_result"
    },
    {
     "data": {
      "image/png": "[encoded data removed]",
      "text/plain": [
       "<Figure size 432x288 with 1 Axes>"
      ]
     },
     "metadata": {
      "needs_background": "light"
     },
     "output_type": "display_data"
    }
   ],
   "source": [
    "x=np.linspace(-2,10,30)\n",
    "print(x)\n",
    "print()\n",
    "\n",
    "def show_plot(array):\n",
    "    return np.sqrt(36-((x-4)**2)+2)\n",
    "\n",
    "y=show_plot(x)\n",
    "print(y)\n",
    "print()\n",
    "print(\"Plotting graph\")\n",
    "print()\n",
    "plt.plot(x,y)\n",
    "\n"
   ]
  },
  {
   "cell_type": "code",
   "execution_count": 12,
   "id": "a3cd5f1f",
   "metadata": {},
   "outputs": [
    {
     "name": "stdout",
     "output_type": "stream",
     "text": [
      "[9 8 3 8 6 0 8 0 9 5 1 2 9 3 4 4 9 4 5 8 6 6 6 6 9 4 8 6 2 0]\n",
      "Most common occuring value in array\n",
      "\n",
      "6\n"
     ]
    }
   ],
   "source": [
    "from statistics import mode\n",
    "x=np.array([9,8,3,8,6,0,8,0,9,5,1,2,9,3,4,4,9,4,5,8,6,6,6,6,9,4,8,6,2,0])\n",
    "print(x)\n",
    "print(\"Most common occuring value in array\")\n",
    "print()\n",
    "print(mode(x))\n",
    "\n"
   ]
  },
  {
   "cell_type": "code",
   "execution_count": 13,
   "id": "6ec2d51f",
   "metadata": {},
   "outputs": [
    {
     "name": "stdout",
     "output_type": "stream",
     "text": [
      "[53 29 71 35 49 61 73 69 77 66 70 35 46 63 25 59 33 25 28 80 39 15 98 46\n",
      " 84 50 81 69 86 33]\n",
      "\n",
      "Find the 30th percentile of given array\n",
      "\n",
      "37.8\n"
     ]
    }
   ],
   "source": [
    "num=np.random.randint(10,100,30)\n",
    "print(num)\n",
    "print()\n",
    "print(\"Find the 30th percentile of given array\")\n",
    "print()\n",
    "result=np.percentile(num,30)\n",
    "print(result)"
   ]
  },
  {
   "cell_type": "markdown",
   "id": "5440a5e1",
   "metadata": {},
   "source": [
    "#### finding the cumulative sum of array."
   ]
  },
  {
   "cell_type": "code",
   "execution_count": 14,
   "id": "ee463517",
   "metadata": {},
   "outputs": [
    {
     "name": "stdout",
     "output_type": "stream",
     "text": [
      "[[16 22 95 54 99 64]\n",
      " [76 99 94 71 33 36]\n",
      " [24 70 85 10 20 50]\n",
      " [27 42 75 13 70 94]\n",
      " [17 72 90 71 47 47]]\n",
      "\n",
      "Cumulative sum of array\n",
      "\n",
      "[  16   38  133  187  286  350  426  525  619  690  723  759  783  853\n",
      "  938  948  968 1018 1045 1087 1162 1175 1245 1339 1356 1428 1518 1589\n",
      " 1636 1683]\n",
      "\n",
      "Cumulative sum of rowwise.\n",
      "\n",
      "[[ 16  38 133 187 286 350]\n",
      " [ 76 175 269 340 373 409]\n",
      " [ 24  94 179 189 209 259]\n",
      " [ 27  69 144 157 227 321]\n",
      " [ 17  89 179 250 297 344]]\n",
      "\n",
      "Cumulative sum of columnwise.\n",
      "\n",
      "[[ 16  22  95  54  99  64]\n",
      " [ 92 121 189 125 132 100]\n",
      " [116 191 274 135 152 150]\n",
      " [143 233 349 148 222 244]\n",
      " [160 305 439 219 269 291]]\n"
     ]
    }
   ],
   "source": [
    "num=np.random.randint(10,100,30).reshape(5,6)\n",
    "print(num)\n",
    "print()\n",
    "cum_sum=np.cumsum(num)\n",
    "print(\"Cumulative sum of array\")\n",
    "print()\n",
    "print(cum_sum)\n",
    "print()\n",
    "print(\"Cumulative sum of rowwise.\")\n",
    "print()\n",
    "result=np.cumsum(num,axis=1)\n",
    "print(result)\n",
    "print()\n",
    "print(\"Cumulative sum of columnwise.\")\n",
    "print()\n",
    "result=np.cumsum(num,axis=0)\n",
    "print(result)"
   ]
  },
  {
   "cell_type": "code",
   "execution_count": 15,
   "id": "e05e57e5",
   "metadata": {},
   "outputs": [
    {
     "name": "stdout",
     "output_type": "stream",
     "text": [
      "[[10 70 54 54 44 17]\n",
      " [25 11 27 91 22 54]\n",
      " [27 19 97 47 26 39]\n",
      " [41 39 66 62 42 67]\n",
      " [47 79 53 83 55 46]]\n",
      "\n",
      "Cumulative product\n",
      "Cumulative sum of array\n",
      "\n",
      "[         10         700       37800     2041200    89812800  1526817600\n",
      "  -484265664 -1031955008 -2092981440 -1482750016  1739238016  -570427648\n",
      "  1778322688  -571607296   388667136  1087486208 -1790129664 -1095580160\n",
      " -1969113600   513980928  -436997120 -1324017664   225832960 -2049060864\n",
      " -1816580096 -1775906816   366219264   331427840  1048662016   993812480]\n",
      "\n",
      "Cumulative sum of row_wise.\n",
      "\n",
      "[[         10         700       37800     2041200    89812800  1526817600]\n",
      " [         25         275        7425      675675    14864850   802701900]\n",
      " [         27         513       49761     2338767    60807942 -1923457558]\n",
      " [         41        1599      105534     6543108   274810536  1232436728]\n",
      " [         47        3713      196789    16333487   898341785 -1625950850]]\n",
      "\n",
      "Cumulative sum of column_wise.\n",
      "\n",
      "[[        10         70         54         54         44         17]\n",
      " [       250        770       1458       4914        968        918]\n",
      " [      6750      14630     141426     230958      25168      35802]\n",
      " [    276750     570570    9334116   14319396    1057056    2398734]\n",
      " [  13007250   45075030  494708148 1188509868   58138080  110341764]]\n"
     ]
    }
   ],
   "source": [
    "num=np.random.randint(10,100,30).reshape(5,6)\n",
    "print(num)\n",
    "print()\n",
    "print(\"Cumulative product\")\n",
    "cum_sum=np.cumprod(num)\n",
    "print(\"Cumulative sum of array\")\n",
    "print()\n",
    "print(cum_sum)\n",
    "print()\n",
    "print(\"Cumulative sum of row_wise.\")\n",
    "print()\n",
    "result=np.cumprod(num,axis=1)\n",
    "print(result)\n",
    "print()\n",
    "print(\"Cumulative sum of column_wise.\")\n",
    "print()\n",
    "result=np.cumprod(num,axis=0)\n",
    "print(result)"
   ]
  },
  {
   "cell_type": "markdown",
   "id": "c8381a4c",
   "metadata": {},
   "source": [
    "#### Finding the perticular element in array."
   ]
  },
  {
   "cell_type": "code",
   "execution_count": 16,
   "id": "4e4802a0",
   "metadata": {},
   "outputs": [
    {
     "name": "stdout",
     "output_type": "stream",
     "text": [
      "[[10 70 54 54 44 17]\n",
      " [25 11 27 91 22 54]\n",
      " [27 19 97 47 26 39]\n",
      " [41 39 66 62 42 67]\n",
      " [47 79 53 83 55 46]]\n",
      "\n",
      "[[False  True False False False False]\n",
      " [False False False  True False False]\n",
      " [False False False False False False]\n",
      " [ True False  True False False False]\n",
      " [False False False False  True False]]\n",
      "\n"
     ]
    },
    {
     "data": {
      "text/plain": [
       "array([70, 91, 41, 66, 55])"
      ]
     },
     "execution_count": 16,
     "metadata": {},
     "output_type": "execute_result"
    }
   ],
   "source": [
    "print(num)\n",
    "print()\n",
    "result=np.isin(num,[60,55,70,20,35,40,41,56,81,91,96,66])\n",
    "print(result)\n",
    "print()\n",
    "num[np.isin(num,[60,55,70,20,35,40,41,56,81,91,96,66])]"
   ]
  },
  {
   "cell_type": "markdown",
   "id": "a405d198",
   "metadata": {},
   "source": [
    "#### Delete perticular element in array."
   ]
  },
  {
   "cell_type": "code",
   "execution_count": 17,
   "id": "387576c7",
   "metadata": {},
   "outputs": [
    {
     "name": "stdout",
     "output_type": "stream",
     "text": [
      "[[10 70 54 54 44 17]\n",
      " [25 11 27 91 22 54]\n",
      " [27 19 97 47 26 39]\n",
      " [41 39 66 62 42 67]\n",
      " [47 79 53 83 55 46]]\n",
      "\n",
      "Deleting perticular value in array\n",
      "\n",
      "[10 70 54 54 44 17 25 11 27 91 22 54 27 19 47 26 39 41 39 66 62 42 67 47\n",
      " 79 53 83 55 46]\n"
     ]
    }
   ],
   "source": [
    "print(num)\n",
    "print()\n",
    "print(\"Deleting perticular value in array\")\n",
    "print()\n",
    "result=np.delete(num,14)\n",
    "print(result)"
   ]
  },
  {
   "cell_type": "markdown",
   "id": "2caca903",
   "metadata": {},
   "source": [
    "### Find the Z-score value of given array and plot the graph."
   ]
  },
  {
   "cell_type": "code",
   "execution_count": 18,
   "id": "943359bb",
   "metadata": {},
   "outputs": [
    {
     "name": "stdout",
     "output_type": "stream",
     "text": [
      "[50 42 36 39 59 49 47 26 57 49 49 59 33 21 46 43 25 58 23 23]\n",
      "(20,)\n",
      "\n",
      "Finding the Z-score values\n",
      "\n",
      "mean of x\n",
      "\n",
      "41.7\n",
      "\n",
      "Standard deviation of x\n",
      "\n",
      "12.538341198101127\n",
      "\n",
      "[ 0.66196954  0.02392661 -0.45460559 -0.21533949  1.37976784  0.58221418\n",
      "  0.42270344 -1.25215926  1.22025711  0.58221418  0.58221418  1.37976784\n",
      " -0.69387169 -1.65093609  0.34294808  0.10368198 -1.33191462  1.30001248\n",
      " -1.49142536 -1.49142536]\n",
      "(20,)\n",
      "\n",
      "Plotting the z-score graph\n",
      "\n"
     ]
    },
    {
     "data": {
      "text/plain": [
       "Text(0, 0.5, 'z-score value')"
      ]
     },
     "execution_count": 18,
     "metadata": {},
     "output_type": "execute_result"
    },
    {
     "data": {
      "image/png": "[encoded data removed]",
      "text/plain": [
       "<Figure size 432x288 with 1 Axes>"
      ]
     },
     "metadata": {
      "needs_background": "light"
     },
     "output_type": "display_data"
    }
   ],
   "source": [
    "x=np.random.randint(20,60,20)\n",
    "print(x)\n",
    "print(np.shape(x))\n",
    "print()\n",
    "print(\"Finding the Z-score values\")\n",
    "print()\n",
    "### z-score formula=(x-mean(x)/std(x))\n",
    "## finding the mean of x.\n",
    "x_mean=np.mean(x)\n",
    "print(\"mean of x\")\n",
    "print()\n",
    "print(x_mean)\n",
    "print()\n",
    "### finding the standard deviation of x.\n",
    "x_std=np.std(x)\n",
    "print(\"Standard deviation of x\")\n",
    "print()\n",
    "print(x_std)\n",
    "print()\n",
    "\n",
    "def zscore_fuc(array):\n",
    "    return (x-x_mean)/x_std\n",
    "\n",
    "y=zscore_fuc(x)\n",
    "print(y)\n",
    "print(np.shape(y))\n",
    "print()\n",
    "print(\"Plotting the z-score graph\")\n",
    "print()\n",
    "plt.plot(x,y)\n",
    "plt.title(\"Z-Score graph\")\n",
    "plt.xlabel(\"array values\")\n",
    "plt.ylabel(\"z-score value\")"
   ]
  },
  {
   "cell_type": "markdown",
   "id": "db97273b",
   "metadata": {},
   "source": [
    "### Finding the ouliers by using Z-score methiod."
   ]
  },
  {
   "cell_type": "code",
   "execution_count": 19,
   "id": "671ea04a",
   "metadata": {},
   "outputs": [
    {
     "name": "stdout",
     "output_type": "stream",
     "text": [
      "[  0   6   8  17   6  12  15  14  15  18 100  10]\n",
      "12\n",
      "\n",
      "Ploting the Boxplot of given array\n",
      "\n",
      "\n",
      "Finding the 3rd standard deviation of given array\n",
      "\n",
      "-56.92712869831345 93.7604620316468\n",
      "\n",
      "Mean = 18.416666666666668\n",
      "Std = 25.114598454993374\n",
      "\n"
     ]
    },
    {
     "name": "stderr",
     "output_type": "stream",
     "text": [
      "C:\\Users\\User\\Anaconda3\\lib\\site-packages\\statsmodels\\tools\\_testing.py:19: FutureWarning: pandas.util.testing is deprecated. Use the functions in the public API at pandas.testing instead.\n",
      "  import pandas.util.testing as tm\n"
     ]
    },
    {
     "data": {
      "text/plain": [
       "[100]"
      ]
     },
     "execution_count": 19,
     "metadata": {},
     "output_type": "execute_result"
    },
    {
     "data": {
      "image/png": "[encoded data removed]",
      "text/plain": [
       "<Figure size 432x288 with 1 Axes>"
      ]
     },
     "metadata": {
      "needs_background": "light"
     },
     "output_type": "display_data"
    }
   ],
   "source": [
    "import seaborn as sns\n",
    "x=np.array([0,6,8,17,6,12,15,14,15,18,100,10])\n",
    "print(x)\n",
    "print(np.size(x))\n",
    "print()\n",
    "print(\"Ploting the Boxplot of given array\")\n",
    "print()\n",
    "sns.boxplot(x)\n",
    "print()\n",
    "print(\"Finding the 3rd standard deviation of given array\")\n",
    "print()\n",
    "print(x.mean() - 3 * x.std(), x.mean() + 3 * x.std())\n",
    "print()\n",
    "outliers=[]\n",
    "def outlier_detect(data): \n",
    "    threshold=3  ## 3rd standard deviation.\n",
    "    x_mean=np.mean(x)\n",
    "    x_std=np.std(x)\n",
    "    print(\"Mean =\",x_mean)\n",
    "    print(\"Std =\",x_std)\n",
    "    print()\n",
    "    for i in x:\n",
    "        zscore=(i-x_mean)/x_std\n",
    "        if np.abs(zscore)>threshold:\n",
    "            outliers.append(i)\n",
    "    return outliers\n",
    "        \n",
    "outlier_detect(x)  \n"
   ]
  },
  {
   "cell_type": "markdown",
   "id": "353dc157",
   "metadata": {},
   "source": [
    "### IQR \n",
    "\n",
    "#### 1) sort the data in ascending.\n",
    "#### 2) finding q1(25th percentile).\n",
    "#### 3) finding q3(75th percentile).\n",
    "#### 4) finding IQR value(q3-q1).\n",
    "#### 5) finding lower_bound(q1-1.5*IQR)\n",
    "#### 6) finding upper_bound(q3+1.5*IQR)."
   ]
  },
  {
   "cell_type": "code",
   "execution_count": 20,
   "id": "3e8de24b",
   "metadata": {},
   "outputs": [
    {
     "name": "stdout",
     "output_type": "stream",
     "text": [
      "[  0   6   8  17   6  12  15  14  15  18 100  10]\n",
      "12\n"
     ]
    }
   ],
   "source": [
    "print(x)\n",
    "print(np.size(x))"
   ]
  },
  {
   "cell_type": "code",
   "execution_count": 21,
   "id": "9dc31c0c",
   "metadata": {},
   "outputs": [
    {
     "name": "stdout",
     "output_type": "stream",
     "text": [
      "Original data\n",
      "[  0   6   8  17   6  12  15  14  15  18 100  10]\n",
      "\n",
      "Sorting data in ascending order\n",
      "[  0   6   8  17   6  12  15  14  15  18 100  10]\n",
      "\n",
      "25th percentile = 7.5\n",
      "\n",
      "75th percentile = 15.5\n",
      "\n",
      "Calculating IQR\n",
      "IQR = 8.0\n",
      "\n",
      "Calculating lower_bound\n",
      "Lower Bound values = -4.5\n",
      "\n",
      "Upper Bound values = 27.5\n"
     ]
    },
    {
     "data": {
      "text/plain": [
       "[100]"
      ]
     },
     "execution_count": 21,
     "metadata": {},
     "output_type": "execute_result"
    }
   ],
   "source": [
    "print(\"Original data\")\n",
    "print(x)\n",
    "print()\n",
    "# Sorting data in ascending order.\n",
    "print(\"Sorting data in ascending order\")\n",
    "np.sort(x)\n",
    "print(x)\n",
    "print()\n",
    "## Calculating 25th percentile.\n",
    "q1=np.percentile(x,25)\n",
    "q3=np.percentile(x,75)\n",
    "print(\"25th percentile =\",q1)\n",
    "print()\n",
    "print(\"75th percentile =\",q3)\n",
    "print()\n",
    "print(\"Calculating IQR\")\n",
    "IQR=q3-q1\n",
    "print(\"IQR =\",IQR)\n",
    "print()\n",
    "print(\"Calculating lower_bound\")\n",
    "lower_bound=q1-1.5*IQR\n",
    "upper_bound=q3+1.5*IQR\n",
    "print(\"Lower Bound values =\",lower_bound)\n",
    "print()\n",
    "print(\"Upper Bound values =\",upper_bound)\n",
    "\n",
    "outliers_data=[]\n",
    "\n",
    "def outliers_fuc(data):\n",
    "    for i in x:\n",
    "        if (i<lower_bound) or (i>upper_bound):\n",
    "            outliers_data.append(i)\n",
    "    return outliers_data\n",
    "\n",
    "outliers_fuc(x)"
   ]
  },
  {
   "cell_type": "markdown",
   "id": "79d787c8",
   "metadata": {},
   "source": [
    "### Standardization Technique.***"
   ]
  },
  {
   "cell_type": "code",
   "execution_count": 22,
   "id": "eabeb8e5",
   "metadata": {},
   "outputs": [
    {
     "name": "stdout",
     "output_type": "stream",
     "text": [
      "[145 134  93  43 111  51  26  84  80  34  17 145  23  97  82 135  82  98\n",
      " 102  42  47  28  58 141 115  97  10  95  39 123 130 143 119  75  68 144\n",
      "  16  59  58 101  30  68  89 101  46  15  31 112  75  89  21  42 128  74\n",
      "  58  35  31 125  71  88 108  76  21  96  11  14  94  51 109  67 134  24\n",
      "  41 109 104  96  98  55  86 142]\n",
      "\n",
      "[ 1.72963551  1.45009846  0.40818763 -0.86243534  0.86561189 -0.65913566\n",
      " -1.29444714  0.17947549  0.07782566 -1.09114747 -1.52315928  1.72963551\n",
      " -1.37068452  0.50983746  0.12865058  1.47551092  0.12865058  0.53524992\n",
      "  0.63689976 -0.8878478  -0.7607855  -1.24362223 -0.48124845  1.62798567\n",
      "  0.96726173  0.50983746 -1.70104649  0.45901255 -0.96408517  1.17056141\n",
      "  1.34844862  1.67881059  1.06891157 -0.04923664 -0.22712385  1.70422305\n",
      " -1.54857174 -0.45583599 -0.48124845  0.6114873  -1.19279731 -0.22712385\n",
      "  0.30653779  0.6114873  -0.78619796 -1.5739842  -1.16738485  0.89102435\n",
      " -0.04923664  0.30653779 -1.42150944 -0.8878478   1.2976237  -0.0746491\n",
      " -0.48124845 -1.06573501 -1.16738485  1.22138632 -0.15088648  0.28112533\n",
      "  0.78937452 -0.02382418 -1.42150944  0.48442501 -1.67563403 -1.59939666\n",
      "  0.43360009 -0.65913566  0.81478698 -0.25253631  1.45009846 -1.34527206\n",
      " -0.91326026  0.81478698  0.68772468  0.48442501  0.53524992 -0.55748583\n",
      "  0.23030041  1.65339813]\n",
      "\n",
      "Plotting Standardization graph\n",
      "\n"
     ]
    },
    {
     "data": {
      "text/plain": [
       "Text(0, 0.5, 'X Values')"
      ]
     },
     "execution_count": 22,
     "metadata": {},
     "output_type": "execute_result"
    },
    {
     "data": {
      "image/png": "[encoded data removed]",
      "text/plain": [
       "<Figure size 432x288 with 1 Axes>"
      ]
     },
     "metadata": {
      "needs_background": "light"
     },
     "output_type": "display_data"
    }
   ],
   "source": [
    "x=np.random.randint(10,150,80)\n",
    "print(x)\n",
    "print()\n",
    "\n",
    "def standardization_fuc(array):\n",
    "    ## (Xi-Xmean/Xstd)\n",
    "    return (x-np.mean(x))/np.std(x)\n",
    "\n",
    "y=standardization_fuc(x)\n",
    "print(y)\n",
    "print()\n",
    "print(\"Plotting Standardization graph\")\n",
    "print()\n",
    "plt.scatter(y,x)\n",
    "plt.title(\"Stadardization Graph\")\n",
    "plt.xlabel(\"STD Values\")\n",
    "plt.ylabel(\"X Values\")\n"
   ]
  },
  {
   "cell_type": "markdown",
   "id": "8bdeeb62",
   "metadata": {},
   "source": [
    "### Normalization Technique:-"
   ]
  },
  {
   "cell_type": "code",
   "execution_count": 23,
   "id": "7e52e596",
   "metadata": {},
   "outputs": [
    {
     "name": "stdout",
     "output_type": "stream",
     "text": [
      "Original Values\n",
      "[145 134  93  43 111  51  26  84  80  34  17 145  23  97  82 135  82  98\n",
      " 102  42  47  28  58 141 115  97  10  95  39 123 130 143 119  75  68 144\n",
      "  16  59  58 101  30  68  89 101  46  15  31 112  75  89  21  42 128  74\n",
      "  58  35  31 125  71  88 108  76  21  96  11  14  94  51 109  67 134  24\n",
      "  41 109 104  96  98  55  86 142]\n",
      "80\n",
      "\n",
      "Normalization Values\n",
      "\n",
      "[1.         0.91851852 0.61481481 0.24444444 0.74814815 0.3037037\n",
      " 0.11851852 0.54814815 0.51851852 0.17777778 0.05185185 1.\n",
      " 0.0962963  0.64444444 0.53333333 0.92592593 0.53333333 0.65185185\n",
      " 0.68148148 0.23703704 0.27407407 0.13333333 0.35555556 0.97037037\n",
      " 0.77777778 0.64444444 0.         0.62962963 0.21481481 0.83703704\n",
      " 0.88888889 0.98518519 0.80740741 0.48148148 0.42962963 0.99259259\n",
      " 0.04444444 0.36296296 0.35555556 0.67407407 0.14814815 0.42962963\n",
      " 0.58518519 0.67407407 0.26666667 0.03703704 0.15555556 0.75555556\n",
      " 0.48148148 0.58518519 0.08148148 0.23703704 0.87407407 0.47407407\n",
      " 0.35555556 0.18518519 0.15555556 0.85185185 0.45185185 0.57777778\n",
      " 0.72592593 0.48888889 0.08148148 0.63703704 0.00740741 0.02962963\n",
      " 0.62222222 0.3037037  0.73333333 0.42222222 0.91851852 0.1037037\n",
      " 0.22962963 0.73333333 0.6962963  0.63703704 0.65185185 0.33333333\n",
      " 0.56296296 0.97777778]\n",
      "80\n",
      "\n"
     ]
    }
   ],
   "source": [
    "def norm_fuc(arr):\n",
    "    ### x=(xi-xmin)/(xmax-xmin)\n",
    "    return (x-np.min(x))/(np.max(x)-np.min(x))\n",
    "\n",
    "y=norm_fuc(x)\n",
    "print(\"Original Values\")\n",
    "print(x)\n",
    "print(np.size(x))\n",
    "print()\n",
    "print(\"Normalization Values\")\n",
    "print()\n",
    "print(y)\n",
    "print(np.size(y))\n",
    "print()"
   ]
  },
  {
   "cell_type": "code",
   "execution_count": 24,
   "id": "0cf3fe21",
   "metadata": {},
   "outputs": [
    {
     "name": "stdout",
     "output_type": "stream",
     "text": [
      "Plotting Min-Max Scaller graph\n",
      "\n"
     ]
    },
    {
     "data": {
      "text/plain": [
       "Text(0, 0.5, 'X Values')"
      ]
     },
     "execution_count": 24,
     "metadata": {},
     "output_type": "execute_result"
    },
    {
     "data": {
      "image/png": "[encoded data removed]",
      "text/plain": [
       "<Figure size 432x288 with 1 Axes>"
      ]
     },
     "metadata": {
      "needs_background": "light"
     },
     "output_type": "display_data"
    }
   ],
   "source": [
    "print(\"Plotting Min-Max Scaller graph\")\n",
    "print()\n",
    "plt.scatter(y,x)\n",
    "plt.title(\"Min-Max Scaller Graph\")\n",
    "plt.xlabel(\"Min-Max Values\")\n",
    "plt.ylabel(\"X Values\")\n"
   ]
  },
  {
   "cell_type": "markdown",
   "id": "13664c4f",
   "metadata": {},
   "source": [
    "### Robust Scalling:-"
   ]
  },
  {
   "cell_type": "code",
   "execution_count": 25,
   "id": "0dbbf8f8",
   "metadata": {},
   "outputs": [
    {
     "name": "stdout",
     "output_type": "stream",
     "text": [
      "IQR of X = 81.0\n",
      "\n",
      "[ 0.79012346  0.65432099  0.14814815 -0.4691358   0.37037037 -0.37037037\n",
      " -0.67901235  0.03703704 -0.01234568 -0.58024691 -0.79012346  0.79012346\n",
      " -0.71604938  0.19753086  0.01234568  0.66666667  0.01234568  0.20987654\n",
      "  0.25925926 -0.48148148 -0.41975309 -0.65432099 -0.28395062  0.74074074\n",
      "  0.41975309  0.19753086 -0.87654321  0.17283951 -0.51851852  0.51851852\n",
      "  0.60493827  0.7654321   0.4691358  -0.07407407 -0.16049383  0.77777778\n",
      " -0.80246914 -0.27160494 -0.28395062  0.24691358 -0.62962963 -0.16049383\n",
      "  0.09876543  0.24691358 -0.43209877 -0.81481481 -0.61728395  0.38271605\n",
      " -0.07407407  0.09876543 -0.74074074 -0.48148148  0.58024691 -0.08641975\n",
      " -0.28395062 -0.56790123 -0.61728395  0.54320988 -0.12345679  0.08641975\n",
      "  0.33333333 -0.0617284  -0.74074074  0.18518519 -0.86419753 -0.82716049\n",
      "  0.16049383 -0.37037037  0.34567901 -0.17283951  0.65432099 -0.7037037\n",
      " -0.49382716  0.34567901  0.28395062  0.18518519  0.20987654 -0.32098765\n",
      "  0.0617284   0.75308642]\n",
      "\n"
     ]
    },
    {
     "data": {
      "text/plain": [
       "[<matplotlib.lines.Line2D at 0x254d5e72e48>]"
      ]
     },
     "execution_count": 25,
     "metadata": {},
     "output_type": "execute_result"
    },
    {
     "data": {
      "image/png": "[encoded data removed]",
      "text/plain": [
       "<Figure size 432x288 with 1 Axes>"
      ]
     },
     "metadata": {
      "needs_background": "light"
     },
     "output_type": "display_data"
    }
   ],
   "source": [
    "def robust_fuc(arr):\n",
    "    ### (x-xmedian)/IQR(75-25)\n",
    "    percent=np.percentile(x,75-25)\n",
    "    print(\"IQR of X =\",percent)\n",
    "    \n",
    "    return (x-np.median(x))/percent\n",
    "y=robust_fuc(x)\n",
    "print()\n",
    "print(y)\n",
    "print()\n",
    "plt.plot(y)\n",
    "\n"
   ]
  },
  {
   "cell_type": "code",
   "execution_count": 26,
   "id": "e3616bdb",
   "metadata": {},
   "outputs": [
    {
     "name": "stdout",
     "output_type": "stream",
     "text": [
      "Plotting Robust Scaller graph\n",
      "\n"
     ]
    },
    {
     "data": {
      "text/plain": [
       "Text(0, 0.5, 'X Values')"
      ]
     },
     "execution_count": 26,
     "metadata": {},
     "output_type": "execute_result"
    },
    {
     "data": {
      "image/png": "[encoded data removed]",
      "text/plain": [
       "<Figure size 432x288 with 1 Axes>"
      ]
     },
     "metadata": {
      "needs_background": "light"
     },
     "output_type": "display_data"
    }
   ],
   "source": [
    "print(\"Plotting Robust Scaller graph\")\n",
    "print()\n",
    "plt.scatter(y,x)\n",
    "plt.title(\"Robust Scaller Graph\")\n",
    "plt.xlabel(\"Robust Values\")\n",
    "plt.ylabel(\"X Values\")"
   ]
  },
  {
   "cell_type": "code",
   "execution_count": null,
   "id": "266a2520",
   "metadata": {},
   "outputs": [],
   "source": []
  },
  {
   "cell_type": "code",
   "execution_count": null,
   "id": "1a2804cf",
   "metadata": {},
   "outputs": [],
   "source": []
  }
 ],
 "metadata": {
  "kernelspec": {
   "display_name": "Python 3",
   "language": "python",
   "name": "python3"
  },
  "language_info": {
   "codemirror_mode": {
    "name": "ipython",
    "version": 3
   },
   "file_extension": ".py",
   "mimetype": "text/x-python",
   "name": "python",
   "nbconvert_exporter": "python",
   "pygments_lexer": "ipython3",
   "version": "3.7.4"
  }
 },
 "nbformat": 4,
 "nbformat_minor": 5
}
