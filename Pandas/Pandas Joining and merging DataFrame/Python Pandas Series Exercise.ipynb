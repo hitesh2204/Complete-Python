{
 "cells": [
  {
   "cell_type": "code",
   "execution_count": 1,
   "id": "f790934c",
   "metadata": {},
   "outputs": [],
   "source": [
    "import numpy as np\n",
    "import pandas as pd\n",
    "import matplotlib.pyplot as plt\n",
    "%matplotlib inline"
   ]
  },
  {
   "cell_type": "markdown",
   "id": "c9f262bc",
   "metadata": {},
   "source": [
    "#### 1) Write a Pandas program to create and display a one-dimensional array-like object containing an array of data."
   ]
  },
  {
   "cell_type": "code",
   "execution_count": 2,
   "id": "a1419e5b",
   "metadata": {},
   "outputs": [
    {
     "name": "stdout",
     "output_type": "stream",
     "text": [
      "0    10\n",
      "1    20\n",
      "2    30\n",
      "3    40\n",
      "4    50\n",
      "dtype: int64\n",
      "<class 'pandas.core.series.Series'>\n"
     ]
    },
    {
     "data": {
      "text/plain": [
       "<AxesSubplot:>"
      ]
     },
     "execution_count": 2,
     "metadata": {},
     "output_type": "execute_result"
    },
    {
     "data": {
      "image/png": "[encoded data removed]",
      "text/plain": [
       "<Figure size 432x288 with 1 Axes>"
      ]
     },
     "metadata": {
      "needs_background": "light"
     },
     "output_type": "display_data"
    }
   ],
   "source": [
    "num=pd.Series([10,20,30,40,50])\n",
    "print(num)\n",
    "print(type(num))\n",
    "num.plot()"
   ]
  },
  {
   "cell_type": "markdown",
   "id": "597dee6c",
   "metadata": {},
   "source": [
    "#### 2) Write a Pandas program to convert a Panda module Series to Python list and it’s type."
   ]
  },
  {
   "cell_type": "code",
   "execution_count": 3,
   "id": "6871e075",
   "metadata": {},
   "outputs": [
    {
     "name": "stdout",
     "output_type": "stream",
     "text": [
      "0    10\n",
      "1    20\n",
      "2    30\n",
      "3    40\n",
      "4    50\n",
      "dtype: int64\n",
      "<class 'pandas.core.series.Series'>\n",
      "\n",
      "[10, 20, 30, 40, 50]\n",
      "<class 'list'>\n",
      "\n",
      "<class 'list'>\n"
     ]
    }
   ],
   "source": [
    "print(num)\n",
    "print(type(num))\n",
    "print()\n",
    "l=list(num)\n",
    "print(l)\n",
    "print(type(l))\n",
    "print()\n",
    "print(type(num.to_list()))"
   ]
  },
  {
   "cell_type": "markdown",
   "id": "b6aaf8c9",
   "metadata": {},
   "source": [
    "#### 3) Write a Pandas program to add, subtract, multiple and divide two Pandas Series."
   ]
  },
  {
   "cell_type": "code",
   "execution_count": 4,
   "id": "d5ae76c6",
   "metadata": {},
   "outputs": [
    {
     "name": "stdout",
     "output_type": "stream",
     "text": [
      "0     2\n",
      "1     4\n",
      "2     6\n",
      "3     8\n",
      "4    10\n",
      "dtype: int64\n",
      "<class 'pandas.core.series.Series'>\n",
      "0    1\n",
      "1    3\n",
      "2    5\n",
      "3    7\n",
      "4    9\n",
      "dtype: int64\n",
      "<class 'pandas.core.series.Series'>\n",
      "\n",
      "Adding two Pandas Series\n",
      "0     3\n",
      "1     7\n",
      "2    11\n",
      "3    15\n",
      "4    19\n",
      "dtype: int64\n",
      "\n",
      "Subtracting two Pnadas Series\n",
      "0    1\n",
      "1    1\n",
      "2    1\n",
      "3    1\n",
      "4    1\n",
      "dtype: int64\n",
      "\n",
      "Multiple two Pandas Series\n",
      "0     2\n",
      "1    12\n",
      "2    30\n",
      "3    56\n",
      "4    90\n",
      "dtype: int64\n",
      "\n",
      "0    2.000000\n",
      "1    1.333333\n",
      "2    1.200000\n",
      "3    1.142857\n",
      "4    1.111111\n",
      "dtype: float64\n",
      "0    2.0\n",
      "1    1.0\n",
      "2    1.0\n",
      "3    1.0\n",
      "4    1.0\n",
      "dtype: float64\n"
     ]
    }
   ],
   "source": [
    "x=pd.Series([2, 4, 6, 8, 10])\n",
    "y=pd.Series([1, 3, 5, 7, 9])\n",
    "print(x)\n",
    "print(type(x))\n",
    "print(y)\n",
    "print(type(y))\n",
    "print()\n",
    "print(\"Adding two Pandas Series\")\n",
    "add=x+y\n",
    "print(add)\n",
    "print()\n",
    "print(\"Subtracting two Pnadas Series\")\n",
    "sub=x-y\n",
    "print(sub)\n",
    "print()\n",
    "print(\"Multiple two Pandas Series\")\n",
    "mul=x*y\n",
    "print(mul)\n",
    "print()\n",
    "division=x/y\n",
    "print(division)\n",
    "print(np.round(division))\n"
   ]
  },
  {
   "cell_type": "markdown",
   "id": "ad0ae159",
   "metadata": {},
   "source": [
    "#### 4) Write a Pandas program to compare the elements of the two Pandas Series."
   ]
  },
  {
   "cell_type": "code",
   "execution_count": 5,
   "id": "06f20386",
   "metadata": {},
   "outputs": [
    {
     "name": "stdout",
     "output_type": "stream",
     "text": [
      "0     2\n",
      "1     4\n",
      "2     6\n",
      "3     8\n",
      "4    10\n",
      "dtype: int64\n",
      "0     1\n",
      "1     3\n",
      "2     5\n",
      "3     7\n",
      "4    10\n",
      "dtype: int64\n",
      "Comparing the Element in Series\n",
      "Equal Series\n",
      "0    False\n",
      "1    False\n",
      "2    False\n",
      "3    False\n",
      "4     True\n",
      "dtype: bool\n",
      "\n",
      "Leass than or equal to\n",
      "0    False\n",
      "1    False\n",
      "2    False\n",
      "3    False\n",
      "4     True\n",
      "dtype: bool\n",
      "\n",
      "Greater than or equal to\n",
      "0    True\n",
      "1    True\n",
      "2    True\n",
      "3    True\n",
      "4    True\n",
      "dtype: bool\n"
     ]
    }
   ],
   "source": [
    "num=pd.Series([2, 4, 6, 8, 10])\n",
    "num1=pd.Series([1, 3, 5, 7, 10])\n",
    "print(num)\n",
    "print(num1)\n",
    "print(\"Comparing the Element in Series\")\n",
    "print(\"Equal Series\")\n",
    "print(num==num1)\n",
    "print()\n",
    "print(\"Leass than or equal to\")\n",
    "print(num<=num1)\n",
    "print()\n",
    "print(\"Greater than or equal to\")\n",
    "print(num>=num1)\n"
   ]
  },
  {
   "cell_type": "markdown",
   "id": "2ec279ca",
   "metadata": {},
   "source": [
    "#### 5) Write a Pandas program to convert a dictionary to a Pandas series."
   ]
  },
  {
   "cell_type": "code",
   "execution_count": 6,
   "id": "55f64a85",
   "metadata": {},
   "outputs": [
    {
     "name": "stdout",
     "output_type": "stream",
     "text": [
      "{'a': 100, 'b': 200, 'c': 300, 'd': 400, 'e': 800}\n",
      "<class 'dict'>\n",
      "\n",
      "Converting dict into Pandas Series\n",
      "a    100\n",
      "b    200\n",
      "c    300\n",
      "d    400\n",
      "e    800\n",
      "dtype: int64\n",
      "<class 'pandas.core.series.Series'>\n"
     ]
    },
    {
     "data": {
      "text/plain": [
       "Text(0, 0.5, 'Values')"
      ]
     },
     "execution_count": 6,
     "metadata": {},
     "output_type": "execute_result"
    },
    {
     "data": {
      "image/png": "[encoded data removed]",
      "text/plain": [
       "<Figure size 432x288 with 1 Axes>"
      ]
     },
     "metadata": {
      "needs_background": "light"
     },
     "output_type": "display_data"
    }
   ],
   "source": [
    "d1 = {'a': 100, 'b': 200, 'c':300, 'd':400, 'e':800}\n",
    "print(d1)\n",
    "print(type(d1))\n",
    "print()\n",
    "print(\"Converting dict into Pandas Series\")\n",
    "result=pd.Series(d1)\n",
    "print(result)\n",
    "print(type(result))\n",
    "result.plot()\n",
    "plt.title(\"Graph\")\n",
    "plt.xlabel(\"Keys\")\n",
    "plt.ylabel(\"Values\")"
   ]
  },
  {
   "cell_type": "markdown",
   "id": "2ae94f1f",
   "metadata": {},
   "source": [
    "#### 6) Write a Pandas program to convert a NumPy array to a Pandas series."
   ]
  },
  {
   "cell_type": "code",
   "execution_count": 7,
   "id": "f2c9a8de",
   "metadata": {},
   "outputs": [
    {
     "name": "stdout",
     "output_type": "stream",
     "text": [
      "[10 20 30 40 50]\n",
      "<class 'numpy.ndarray'>\n",
      "\n",
      "Converting numpy array into pandas series\n",
      "0    10\n",
      "1    20\n",
      "2    30\n",
      "3    40\n",
      "4    50\n",
      "dtype: int32\n",
      "<class 'pandas.core.series.Series'>\n"
     ]
    }
   ],
   "source": [
    "d1 = np.array([10, 20, 30, 40, 50])\n",
    "print(d1)\n",
    "print(type(d1))\n",
    "print()\n",
    "print(\"Converting numpy array into pandas series\")\n",
    "result=pd.Series(d1)\n",
    "print(result)\n",
    "print(type(result))"
   ]
  },
  {
   "cell_type": "markdown",
   "id": "3f8a423a",
   "metadata": {},
   "source": [
    "#### 7) Write a Pandas program to change the data type of given a column or a Series."
   ]
  },
  {
   "cell_type": "code",
   "execution_count": 8,
   "id": "ed248307",
   "metadata": {},
   "outputs": [
    {
     "name": "stdout",
     "output_type": "stream",
     "text": [
      "0       100\n",
      "1       200\n",
      "2    python\n",
      "3    300.12\n",
      "4       400\n",
      "dtype: object\n",
      "<class 'pandas.core.series.Series'>\n",
      "\n",
      "Converting type of s1\n",
      "0    100.00\n",
      "1    200.00\n",
      "2       NaN\n",
      "3    300.12\n",
      "4    400.00\n",
      "dtype: float64\n",
      "<class 'pandas.core.series.Series'>\n"
     ]
    }
   ],
   "source": [
    "s1 = pd.Series(['100', '200', 'python', '300.12', '400'])\n",
    "print(s1)\n",
    "print(type(s1))\n",
    "print()\n",
    "print(\"Converting type of s1\")\n",
    "result=pd.to_numeric(s1,errors='coerce')\n",
    "print(result)\n",
    "print(type(result))\n"
   ]
  },
  {
   "cell_type": "markdown",
   "id": "1e5cd8a9",
   "metadata": {},
   "source": [
    "#### 8) Write a Pandas program to convert the first column of a DataFrame as a Series."
   ]
  },
  {
   "cell_type": "code",
   "execution_count": 9,
   "id": "44f9b134",
   "metadata": {},
   "outputs": [
    {
     "name": "stdout",
     "output_type": "stream",
     "text": [
      "{'col1': [1, 2, 3, 4, 7, 11], 'col2': [4, 5, 6, 9, 5, 0], 'col3': [7, 5, 8, 12, 1, 11]}\n",
      "   col1  col2  col3\n",
      "0     1     4     7\n",
      "1     2     5     5\n",
      "2     3     6     8\n",
      "3     4     9    12\n",
      "4     7     5     1\n",
      "5    11     0    11\n",
      "\n",
      "<class 'pandas.core.series.Series'>\n"
     ]
    }
   ],
   "source": [
    "d = {'col1': [1, 2, 3, 4, 7, 11], 'col2': [4, 5, 6, 9, 5, 0], 'col3': [7, 5, 8, 12, 1,11]}\n",
    "print(d)\n",
    "df=pd.DataFrame(data=d)\n",
    "print(df)\n",
    "print()\n",
    "print(type(df['col1']))\n",
    "\n"
   ]
  },
  {
   "cell_type": "markdown",
   "id": "8ebe49a8",
   "metadata": {},
   "source": [
    "#### 9) Write a Pandas program to convert a given Series to an array."
   ]
  },
  {
   "cell_type": "code",
   "execution_count": 10,
   "id": "f5ab79e7",
   "metadata": {},
   "outputs": [
    {
     "name": "stdout",
     "output_type": "stream",
     "text": [
      "0       100\n",
      "1       200\n",
      "2    python\n",
      "3    300.12\n",
      "4       400\n",
      "dtype: object\n",
      "<class 'pandas.core.series.Series'>\n",
      "\n",
      "Converting Series into array\n",
      "\n",
      "['100' '200' 'python' '300.12' '400']\n",
      "<class 'numpy.ndarray'>\n"
     ]
    }
   ],
   "source": [
    "s1 = pd.Series(['100', '200', 'python', '300.12', '400'])\n",
    "print(s1)\n",
    "print(type(s1))\n",
    "print()\n",
    "print(\"Converting Series into array\")\n",
    "print()\n",
    "result=np.array(s1.values.tolist())\n",
    "print(result)\n",
    "print(type(result))\n"
   ]
  },
  {
   "cell_type": "markdown",
   "id": "3ecb8a60",
   "metadata": {},
   "source": [
    "#### 10) Write a Pandas program to convert a given Series to an array."
   ]
  },
  {
   "cell_type": "code",
   "execution_count": 11,
   "id": "aadc2a15",
   "metadata": {},
   "outputs": [
    {
     "name": "stdout",
     "output_type": "stream",
     "text": [
      "0       100\n",
      "1       200\n",
      "2    python\n",
      "3    300.12\n",
      "4       400\n",
      "dtype: object\n",
      "<class 'pandas.core.series.Series'>\n",
      "Converting Series into array\n",
      "<class 'numpy.ndarray'>\n",
      "['100' '200' 'python' '300.12' '400']\n",
      "<class 'numpy.ndarray'>\n"
     ]
    }
   ],
   "source": [
    "s1 = pd.Series(['100', '200', 'python', '300.12', '400'])\n",
    "print(s1)\n",
    "print(type(s1))\n",
    "print(\"Converting Series into array\")\n",
    "result=np.array(s1.values.tolist())\n",
    "print(type(result))\n",
    "#result=np.array(s1.values.to_list())\n",
    "print(result)\n",
    "print(type(result))"
   ]
  },
  {
   "cell_type": "markdown",
   "id": "a4c94959",
   "metadata": {},
   "source": [
    "#### 11) Write a Pandas program to sort a given Series."
   ]
  },
  {
   "cell_type": "code",
   "execution_count": 12,
   "id": "ec457cab",
   "metadata": {},
   "outputs": [
    {
     "name": "stdout",
     "output_type": "stream",
     "text": [
      "0       100\n",
      "1       200\n",
      "2    python\n",
      "3    300.12\n",
      "4       400\n",
      "dtype: object\n",
      "\n",
      "Sorting a Series\n",
      "\n",
      "Sorting Series in ascending order\n",
      "0       100\n",
      "1       200\n",
      "3    300.12\n",
      "4       400\n",
      "2    python\n",
      "dtype: object\n",
      "\n",
      "Sorting Series in descending\n",
      "2    python\n",
      "4       400\n",
      "3    300.12\n",
      "1       200\n",
      "0       100\n",
      "dtype: object\n"
     ]
    }
   ],
   "source": [
    "s = pd.Series(['100', '200', 'python', '300.12', '400'])\n",
    "print(s)\n",
    "print()\n",
    "print(\"Sorting a Series\")\n",
    "print()\n",
    "result=s.sort_values()\n",
    "result1=s.sort_values(ascending=False)\n",
    "print(\"Sorting Series in ascending order\")\n",
    "print(result)\n",
    "print()\n",
    "print(\"Sorting Series in descending\")\n",
    "print(result1)"
   ]
  },
  {
   "cell_type": "markdown",
   "id": "21b36a47",
   "metadata": {},
   "source": [
    "#### 12) Write a Pandas program to add some data to an existing Series."
   ]
  },
  {
   "cell_type": "code",
   "execution_count": 13,
   "id": "3f07ad7e",
   "metadata": {},
   "outputs": [
    {
     "name": "stdout",
     "output_type": "stream",
     "text": [
      "0       100\n",
      "1       200\n",
      "2    python\n",
      "3    300.12\n",
      "4       400\n",
      "dtype: object\n",
      "\n",
      "Adding some data into Existing series\n",
      "0       100\n",
      "1       200\n",
      "2    python\n",
      "3    300.12\n",
      "4       400\n",
      "0    Hitesh\n",
      "1       500\n",
      "dtype: object\n"
     ]
    }
   ],
   "source": [
    "s = pd.Series(['100', '200', 'python', '300.12', '400'])\n",
    "print(s)\n",
    "print()\n",
    "print(\"Adding some data into Existing series\")\n",
    "result=s.append(pd.Series(['Hitesh',500]))\n",
    "print(result)\n"
   ]
  },
  {
   "cell_type": "code",
   "execution_count": 14,
   "id": "01847c30",
   "metadata": {},
   "outputs": [
    {
     "name": "stdout",
     "output_type": "stream",
     "text": [
      "[86 14 67 48 74 69 82 48 29 30 46 26 63 41 40 32 25 14 59 19 24 63 48 37\n",
      " 21 18 28 23 59 69 25 48 70 52 49 57 23 76 66 61 14 41 60 22 76 58 16 17\n",
      " 57 88]\n",
      "<class 'numpy.ndarray'>\n",
      "Converting ndarray into Series\n",
      "0    86\n",
      "1    14\n",
      "2    67\n",
      "3    48\n",
      "4    74\n",
      "dtype: int32\n",
      "<class 'pandas.core.series.Series'>\n",
      "\n",
      "45.56\n",
      "0    86\n",
      "2    67\n",
      "3    48\n",
      "4    74\n",
      "5    69\n",
      "dtype: int32\n",
      "\n",
      "Minimum values from Series\n",
      "14\n",
      "\n",
      "Maximum values from Series\n",
      "88\n",
      "\n",
      "Standard deviation of Series\n",
      "21.701274297203128\n"
     ]
    }
   ],
   "source": [
    "num=np.random.randint(10,90,50)\n",
    "print(num)\n",
    "print(type(num))\n",
    "print(\"Converting ndarray into Series\")\n",
    "s=pd.Series(num)\n",
    "print(s.head())\n",
    "print(type(s))\n",
    "print()\n",
    "print(s.mean())\n",
    "new_s=s[s>s.mean()]\n",
    "print(new_s.head())\n",
    "print()\n",
    "print(\"Minimum values from Series\")\n",
    "min_val=s.min()\n",
    "print(min_val)\n",
    "print()\n",
    "print(\"Maximum values from Series\")\n",
    "max_val=s.max()\n",
    "print(max_val)\n",
    "print()\n",
    "print(\"Standard deviation of Series\")\n",
    "std_val=s.std()\n",
    "print(std_val)\n",
    "\n",
    "\n"
   ]
  },
  {
   "cell_type": "markdown",
   "id": "021eb12a",
   "metadata": {},
   "source": [
    "#### 13) Insersect,Union and write a program item of first series not in second series."
   ]
  },
  {
   "cell_type": "code",
   "execution_count": 15,
   "id": "fb0be110",
   "metadata": {},
   "outputs": [
    {
     "name": "stdout",
     "output_type": "stream",
     "text": [
      "0    1\n",
      "1    2\n",
      "2    3\n",
      "3    4\n",
      "4    5\n",
      "dtype: int64\n",
      "\n",
      "0     2\n",
      "1     4\n",
      "2     6\n",
      "3     8\n",
      "4    10\n",
      "dtype: int64\n",
      "Intersecting two Series\n",
      "0    2\n",
      "1    4\n",
      "dtype: int64\n",
      "<class 'pandas.core.series.Series'>\n",
      "\n",
      "Union of two Series\n",
      "0     1\n",
      "1     2\n",
      "2     3\n",
      "3     4\n",
      "4     5\n",
      "5     6\n",
      "6     8\n",
      "7    10\n",
      "dtype: int64\n",
      "<class 'pandas.core.series.Series'>\n",
      "\n",
      "Items of a given series not present in another given series\n",
      "0    1\n",
      "2    3\n",
      "4    5\n",
      "dtype: int64\n"
     ]
    }
   ],
   "source": [
    "s1 = pd.Series([1, 2, 3, 4, 5])\n",
    "s2 = pd.Series([2, 4, 6, 8, 10])\n",
    "print(s1)\n",
    "print()\n",
    "print(s2)\n",
    "print(\"Intersecting two Series\")\n",
    "result=pd.Series(np.intersect1d(s1,s2))\n",
    "print(result)\n",
    "print(type(result))\n",
    "print()\n",
    "print(\"Union of two Series\")\n",
    "result_union=pd.Series(np.union1d(s1,s2))\n",
    "print(result_union)\n",
    "print(type(result_union))\n",
    "print()\n",
    "print(\"Items of a given series not present in another given series\")\n",
    "result_diff=s1[~s1.isin(s2)]\n",
    "print(result_diff)"
   ]
  },
  {
   "cell_type": "markdown",
   "id": "07cf1a0d",
   "metadata": {},
   "source": [
    "#### 14) Write a Pandas program to compute the minimum, 25th percentile, median, 75th, and maximum of a given series."
   ]
  },
  {
   "cell_type": "code",
   "execution_count": 16,
   "id": "95d22d1b",
   "metadata": {},
   "outputs": [
    {
     "name": "stdout",
     "output_type": "stream",
     "text": [
      "[31 53 69 13 83 46 66 99 24 12 81 30 30 61 15 63 68 86 88 13 90 50 54 58\n",
      " 15 65 44 19 72 92 14 96 86 40 69 53 50 40 22 56 29 58 23 24 45 92 75 17\n",
      " 38 91 66 82 43 65 64 57 84 34 60 78]\n",
      "<class 'numpy.ndarray'>\n",
      "\n",
      "Converting ndarray into Series\n",
      "0    31\n",
      "1    53\n",
      "2    69\n",
      "3    13\n",
      "4    83\n",
      "dtype: int32\n",
      "<class 'pandas.core.series.Series'>\n",
      "\n",
      "Minimum value from given Series\n",
      "12\n",
      "\n",
      "Maximum value from given Series\n",
      "99\n",
      "\n",
      "25th percentile of given Series\n",
      "30.75\n",
      "\n",
      "50th percentile of given Seires\n",
      "56.5\n",
      "\n",
      "75th percentile of given Series\n",
      "72.75\n",
      "\n",
      "Finding the perticular values present in Series or not\n",
      "58    60\n",
      "dtype: int32\n"
     ]
    }
   ],
   "source": [
    "num=np.random.randint(10,100,60)\n",
    "print(num)\n",
    "print(type(num))\n",
    "print()\n",
    "print(\"Converting ndarray into Series\")\n",
    "s=pd.Series(num)\n",
    "print(s.head())\n",
    "print(type(s))\n",
    "print()\n",
    "print(\"Minimum value from given Series\")\n",
    "print(s.min())\n",
    "print()\n",
    "print(\"Maximum value from given Series\")\n",
    "print(s.max())\n",
    "print()\n",
    "print(\"25th percentile of given Series\")\n",
    "print(np.percentile(s,25))\n",
    "print()\n",
    "print(\"50th percentile of given Seires\")\n",
    "print(np.percentile(s,50))\n",
    "print()\n",
    "print(\"75th percentile of given Series\")\n",
    "print(np.percentile(s,75))\n",
    "print()\n",
    "print(\"Finding the perticular values present in Series or not\")\n",
    "result=s[s.isin([60])]\n",
    "print(result)"
   ]
  },
  {
   "cell_type": "markdown",
   "id": "85c89be9",
   "metadata": {},
   "source": [
    "#### 15) Write a Pandas program to calculate the frequency counts of each unique value of a given series."
   ]
  },
  {
   "cell_type": "code",
   "execution_count": 17,
   "id": "351bb16d",
   "metadata": {},
   "outputs": [
    {
     "name": "stdout",
     "output_type": "stream",
     "text": [
      "[9 9 8 8 2 2 7 2 2 2 9 5 7 0 7 2 8 1 1 3 7 6 9 5 0 6 6 9 2 3]\n",
      "Converting ndarray into series\n",
      "0    9\n",
      "1    9\n",
      "2    8\n",
      "3    8\n",
      "4    2\n",
      "dtype: int32\n",
      "<class 'pandas.core.series.Series'>\n",
      "Counting the frequency of each number\n",
      "2    7\n",
      "9    5\n",
      "7    4\n",
      "6    3\n",
      "8    3\n",
      "0    2\n",
      "1    2\n",
      "3    2\n",
      "5    2\n",
      "dtype: int64\n",
      "\n",
      "Finding the duplicates values in Series\n",
      "21\n"
     ]
    }
   ],
   "source": [
    "num=np.random.randint(10,size=30)\n",
    "print(num)\n",
    "print(\"Converting ndarray into series\")\n",
    "s=pd.Series(num)\n",
    "print(s.head())\n",
    "print(type(s))\n",
    "print(\"Counting the frequency of each number\")\n",
    "result=s.value_counts()\n",
    "print(result)\n",
    "print()\n",
    "print(\"Finding the duplicates values in Series\")\n",
    "duplicate=s[s.duplicated()]\n",
    "print(duplicate.count())"
   ]
  },
  {
   "cell_type": "markdown",
   "id": "76df4da4",
   "metadata": {},
   "source": [
    "#### 16) Write a program to create an empty series."
   ]
  },
  {
   "cell_type": "code",
   "execution_count": 18,
   "id": "84ec8961",
   "metadata": {},
   "outputs": [
    {
     "name": "stdout",
     "output_type": "stream",
     "text": [
      "Series([], dtype: float64)\n"
     ]
    },
    {
     "name": "stderr",
     "output_type": "stream",
     "text": [
      "C:\\Users\\User\\Anaconda3\\lib\\site-packages\\ipykernel_launcher.py:1: DeprecationWarning: The default dtype for empty Series will be 'object' instead of 'float64' in a future version. Specify a dtype explicitly to silence this warning.\n",
      "  \"\"\"Entry point for launching an IPython kernel.\n"
     ]
    }
   ],
   "source": [
    "x=pd.Series()\n",
    "print(x)"
   ]
  },
  {
   "cell_type": "markdown",
   "id": "61453a47",
   "metadata": {},
   "source": [
    "#### 17)Write a Pandas program to add, subtract, multiple and divide two Pandas Series."
   ]
  },
  {
   "cell_type": "code",
   "execution_count": 19,
   "id": "7ad3a881",
   "metadata": {},
   "outputs": [
    {
     "name": "stdout",
     "output_type": "stream",
     "text": [
      "\n",
      "0     2\n",
      "1     4\n",
      "2     6\n",
      "3     8\n",
      "4    10\n",
      "dtype: int64\n",
      "0     1\n",
      "1     3\n",
      "2     5\n",
      "3     7\n",
      "4    10\n",
      "dtype: int64\n",
      "Adding Series\n",
      "0     3\n",
      "1     7\n",
      "2    11\n",
      "3    15\n",
      "4    20\n",
      "dtype: int64\n",
      "Subtracting Series\n",
      "0    1\n",
      "1    1\n",
      "2    1\n",
      "3    1\n",
      "4    0\n",
      "dtype: int64\n",
      "Multiply Series\n",
      "0      2\n",
      "1     12\n",
      "2     30\n",
      "3     56\n",
      "4    100\n",
      "dtype: int64\n",
      "Divide Series\n",
      "0    2.000000\n",
      "1    1.333333\n",
      "2    1.200000\n",
      "3    1.142857\n",
      "4    1.000000\n",
      "dtype: float64\n"
     ]
    }
   ],
   "source": [
    "x=pd.Series([2, 4, 6, 8, 10])\n",
    "y=pd.Series([1, 3, 5, 7, 10])\n",
    "print()\n",
    "print(x)\n",
    "print(y)\n",
    "print(\"Adding Series\")\n",
    "result=x+y\n",
    "print(result)\n",
    "print(\"Subtracting Series\")\n",
    "sub=x-y\n",
    "print(sub)\n",
    "print(\"Multiply Series\")\n",
    "mul=x*y\n",
    "print(mul)\n",
    "print(\"Divide Series\")\n",
    "div=x/y\n",
    "print(div)"
   ]
  },
  {
   "cell_type": "code",
   "execution_count": 20,
   "id": "fa01c580",
   "metadata": {},
   "outputs": [
    {
     "data": {
      "text/html": [
       "<div>\n",
       "<style scoped>\n",
       "    .dataframe tbody tr th:only-of-type {\n",
       "        vertical-align: middle;\n",
       "    }\n",
       "\n",
       "    .dataframe tbody tr th {\n",
       "        vertical-align: top;\n",
       "    }\n",
       "\n",
       "    .dataframe thead th {\n",
       "        text-align: right;\n",
       "    }\n",
       "</style>\n",
       "<table border=\"1\" class=\"dataframe\">\n",
       "  <thead>\n",
       "    <tr style=\"text-align: right;\">\n",
       "      <th></th>\n",
       "      <th>batter</th>\n",
       "      <th>batsman_run</th>\n",
       "    </tr>\n",
       "  </thead>\n",
       "  <tbody>\n",
       "    <tr>\n",
       "      <th>0</th>\n",
       "      <td>A Ashish Reddy</td>\n",
       "      <td>280</td>\n",
       "    </tr>\n",
       "    <tr>\n",
       "      <th>1</th>\n",
       "      <td>A Badoni</td>\n",
       "      <td>161</td>\n",
       "    </tr>\n",
       "    <tr>\n",
       "      <th>2</th>\n",
       "      <td>A Chandila</td>\n",
       "      <td>4</td>\n",
       "    </tr>\n",
       "    <tr>\n",
       "      <th>3</th>\n",
       "      <td>A Chopra</td>\n",
       "      <td>53</td>\n",
       "    </tr>\n",
       "    <tr>\n",
       "      <th>4</th>\n",
       "      <td>A Choudhary</td>\n",
       "      <td>25</td>\n",
       "    </tr>\n",
       "  </tbody>\n",
       "</table>\n",
       "</div>"
      ],
      "text/plain": [
       "           batter  batsman_run\n",
       "0  A Ashish Reddy          280\n",
       "1        A Badoni          161\n",
       "2      A Chandila            4\n",
       "3        A Chopra           53\n",
       "4     A Choudhary           25"
      ]
     },
     "execution_count": 20,
     "metadata": {},
     "output_type": "execute_result"
    }
   ],
   "source": [
    "score_df=pd.read_csv(\"batsman_runs_series.csv\")\n",
    "score_df.head(5)"
   ]
  },
  {
   "cell_type": "markdown",
   "id": "3e2c0a0d",
   "metadata": {},
   "source": [
    "#### Find top 10 most run getter from the series."
   ]
  },
  {
   "cell_type": "code",
   "execution_count": 21,
   "id": "134f9fe3",
   "metadata": {},
   "outputs": [
    {
     "data": {
      "text/html": [
       "<div>\n",
       "<style scoped>\n",
       "    .dataframe tbody tr th:only-of-type {\n",
       "        vertical-align: middle;\n",
       "    }\n",
       "\n",
       "    .dataframe tbody tr th {\n",
       "        vertical-align: top;\n",
       "    }\n",
       "\n",
       "    .dataframe thead th {\n",
       "        text-align: right;\n",
       "    }\n",
       "</style>\n",
       "<table border=\"1\" class=\"dataframe\">\n",
       "  <thead>\n",
       "    <tr style=\"text-align: right;\">\n",
       "      <th></th>\n",
       "      <th>batter</th>\n",
       "      <th>batsman_run</th>\n",
       "    </tr>\n",
       "  </thead>\n",
       "  <tbody>\n",
       "    <tr>\n",
       "      <th>569</th>\n",
       "      <td>V Kohli</td>\n",
       "      <td>6634</td>\n",
       "    </tr>\n",
       "    <tr>\n",
       "      <th>462</th>\n",
       "      <td>S Dhawan</td>\n",
       "      <td>6244</td>\n",
       "    </tr>\n",
       "    <tr>\n",
       "      <th>130</th>\n",
       "      <td>DA Warner</td>\n",
       "      <td>5883</td>\n",
       "    </tr>\n",
       "    <tr>\n",
       "      <th>430</th>\n",
       "      <td>RG Sharma</td>\n",
       "      <td>5881</td>\n",
       "    </tr>\n",
       "    <tr>\n",
       "      <th>493</th>\n",
       "      <td>SK Raina</td>\n",
       "      <td>5536</td>\n",
       "    </tr>\n",
       "    <tr>\n",
       "      <th>27</th>\n",
       "      <td>AB de Villiers</td>\n",
       "      <td>5181</td>\n",
       "    </tr>\n",
       "    <tr>\n",
       "      <th>108</th>\n",
       "      <td>CH Gayle</td>\n",
       "      <td>4997</td>\n",
       "    </tr>\n",
       "    <tr>\n",
       "      <th>339</th>\n",
       "      <td>MS Dhoni</td>\n",
       "      <td>4978</td>\n",
       "    </tr>\n",
       "    <tr>\n",
       "      <th>452</th>\n",
       "      <td>RV Uthappa</td>\n",
       "      <td>4954</td>\n",
       "    </tr>\n",
       "    <tr>\n",
       "      <th>256</th>\n",
       "      <td>KD Karthik</td>\n",
       "      <td>4377</td>\n",
       "    </tr>\n",
       "  </tbody>\n",
       "</table>\n",
       "</div>"
      ],
      "text/plain": [
       "             batter  batsman_run\n",
       "569         V Kohli         6634\n",
       "462        S Dhawan         6244\n",
       "130       DA Warner         5883\n",
       "430       RG Sharma         5881\n",
       "493        SK Raina         5536\n",
       "27   AB de Villiers         5181\n",
       "108        CH Gayle         4997\n",
       "339        MS Dhoni         4978\n",
       "452      RV Uthappa         4954\n",
       "256      KD Karthik         4377"
      ]
     },
     "execution_count": 21,
     "metadata": {},
     "output_type": "execute_result"
    }
   ],
   "source": [
    "score_df.sort_values('batsman_run',ascending=False).head(10)"
   ]
  },
  {
   "cell_type": "markdown",
   "id": "a1b25516",
   "metadata": {},
   "source": [
    "#### No of players having runs above 3000."
   ]
  },
  {
   "cell_type": "code",
   "execution_count": 22,
   "id": "7830c4c4",
   "metadata": {},
   "outputs": [
    {
     "name": "stdout",
     "output_type": "stream",
     "text": [
      "             batter  batsman_run\n",
      "27   AB de Villiers         5181\n",
      "46        AM Rahane         4074\n",
      "60        AT Rayudu         4190\n",
      "108        CH Gayle         4997\n",
      "130       DA Warner         5883\n",
      "169    F du Plessis         3403\n",
      "174       G Gambhir         4217\n",
      "251      KA Pollard         3437\n",
      "256      KD Karthik         4377\n",
      "263        KL Rahul         3895\n",
      "328       MK Pandey         3657\n",
      "339        MS Dhoni         4978\n",
      "430       RG Sharma         5881\n",
      "452      RV Uthappa         4954\n",
      "462        S Dhawan         6244\n",
      "493        SK Raina         5536\n",
      "511       SR Watson         3880\n",
      "519       SV Samson         3526\n",
      "569         V Kohli         6634\n",
      "597       YK Pathan         3222\n",
      "\n",
      "Toatl number of batsman score runs more than 3000\n"
     ]
    },
    {
     "data": {
      "text/plain": [
       "40"
      ]
     },
     "execution_count": 22,
     "metadata": {},
     "output_type": "execute_result"
    }
   ],
   "source": [
    "print(score_df[score_df['batsman_run']>3000])\n",
    "print()\n",
    "print(\"Toatl number of batsman score runs more than 3000\")\n",
    "score_df[score_df['batsman_run']>3000].size"
   ]
  },
  {
   "cell_type": "markdown",
   "id": "216e300d",
   "metadata": {},
   "source": [
    "####  No of players having runs above mean value?"
   ]
  },
  {
   "cell_type": "code",
   "execution_count": 23,
   "id": "695bc518",
   "metadata": {},
   "outputs": [
    {
     "name": "stdout",
     "output_type": "stream",
     "text": [
      "Mean of runs\n",
      "464.42809917355373\n",
      "\n",
      "Number of player having runs above mean\n"
     ]
    },
    {
     "data": {
      "text/plain": [
       "128"
      ]
     },
     "execution_count": 23,
     "metadata": {},
     "output_type": "execute_result"
    }
   ],
   "source": [
    "print(\"Mean of runs\")\n",
    "run_mean=score_df['batsman_run'].mean()\n",
    "print(run_mean)\n",
    "print()\n",
    "print(\"Number of player having runs above mean\")\n",
    "score_df[score_df['batsman_run']>score_df['batsman_run'].mean()].shape[0]"
   ]
  },
  {
   "cell_type": "code",
   "execution_count": 24,
   "id": "d8c6fe15",
   "metadata": {},
   "outputs": [
    {
     "name": "stdout",
     "output_type": "stream",
     "text": [
      "                                      item_price\n",
      "item_name                                       \n",
      "Chips and Fresh Tomato Salsa              $2.39 \n",
      "Izze                                      $3.39 \n",
      "Nantucket Nectar                          $3.39 \n",
      "Chips and Tomatillo-Green Chili Salsa     $2.39 \n",
      "Chicken Bowl                             $16.98 \n",
      "<class 'pandas.core.frame.DataFrame'>\n",
      "Index: 4622 entries, Chips and Fresh Tomato Salsa to Chicken Salad Bowl\n",
      "Data columns (total 1 columns):\n",
      " #   Column      Non-Null Count  Dtype \n",
      "---  ------      --------------  ----- \n",
      " 0   item_price  4572 non-null   object\n",
      "dtypes: object(1)\n",
      "memory usage: 72.2+ KB\n",
      "None\n"
     ]
    }
   ],
   "source": [
    "item_df=pd.read_csv(\"items.csv\",index_col='item_name')\n",
    "print(item_df.head())\n",
    "print(item_df.info())"
   ]
  },
  {
   "cell_type": "markdown",
   "id": "39d76245",
   "metadata": {},
   "source": [
    "####  Show no of nan values."
   ]
  },
  {
   "cell_type": "code",
   "execution_count": 25,
   "id": "f9a980f7",
   "metadata": {},
   "outputs": [
    {
     "data": {
      "text/plain": [
       "item_price    50\n",
       "dtype: int64"
      ]
     },
     "execution_count": 25,
     "metadata": {},
     "output_type": "execute_result"
    }
   ],
   "source": [
    "item_df.isnull().sum()"
   ]
  },
  {
   "cell_type": "markdown",
   "id": "2d3cff15",
   "metadata": {},
   "source": [
    "#### Fill nan with mean of the series."
   ]
  },
  {
   "cell_type": "code",
   "execution_count": 26,
   "id": "2e239612",
   "metadata": {},
   "outputs": [],
   "source": [
    "item_df.fillna(item_df.mean(),axis=0,inplace=True)"
   ]
  },
  {
   "cell_type": "code",
   "execution_count": 27,
   "id": "22aa9788",
   "metadata": {},
   "outputs": [
    {
     "data": {
      "text/plain": [
       "item_price    50\n",
       "dtype: int64"
      ]
     },
     "execution_count": 27,
     "metadata": {},
     "output_type": "execute_result"
    }
   ],
   "source": [
    "item_df.isnull().sum()"
   ]
  },
  {
   "cell_type": "code",
   "execution_count": 28,
   "id": "af780a86",
   "metadata": {},
   "outputs": [
    {
     "data": {
      "text/plain": [
       "dtype('O')"
      ]
     },
     "execution_count": 28,
     "metadata": {},
     "output_type": "execute_result"
    }
   ],
   "source": [
    "(item_df['item_price'].dtype)"
   ]
  },
  {
   "cell_type": "markdown",
   "id": "1cef40e7",
   "metadata": {},
   "source": [
    "####  Item price is given in $,so convert it to rupees without currency symbol."
   ]
  },
  {
   "cell_type": "code",
   "execution_count": 29,
   "id": "84a7a013",
   "metadata": {},
   "outputs": [
    {
     "data": {
      "text/plain": [
       "'2'"
      ]
     },
     "execution_count": 29,
     "metadata": {},
     "output_type": "execute_result"
    }
   ],
   "source": [
    "item_df['item_price'].replace(\"$\",\"\").replace(\",\",\"\").str.split('|')[0][0][1]"
   ]
  },
  {
   "cell_type": "markdown",
   "id": "e447344b",
   "metadata": {},
   "source": [
    "### Importing IPL dataset."
   ]
  },
  {
   "cell_type": "code",
   "execution_count": 30,
   "id": "871b0bdb",
   "metadata": {},
   "outputs": [
    {
     "data": {
      "text/html": [
       "<div>\n",
       "<style scoped>\n",
       "    .dataframe tbody tr th:only-of-type {\n",
       "        vertical-align: middle;\n",
       "    }\n",
       "\n",
       "    .dataframe tbody tr th {\n",
       "        vertical-align: top;\n",
       "    }\n",
       "\n",
       "    .dataframe thead th {\n",
       "        text-align: right;\n",
       "    }\n",
       "</style>\n",
       "<table border=\"1\" class=\"dataframe\">\n",
       "  <thead>\n",
       "    <tr style=\"text-align: right;\">\n",
       "      <th></th>\n",
       "      <th>ID</th>\n",
       "      <th>City</th>\n",
       "      <th>Date</th>\n",
       "      <th>Season</th>\n",
       "      <th>MatchNumber</th>\n",
       "      <th>Team1</th>\n",
       "      <th>Team2</th>\n",
       "      <th>Venue</th>\n",
       "      <th>TossWinner</th>\n",
       "      <th>TossDecision</th>\n",
       "      <th>SuperOver</th>\n",
       "      <th>WinningTeam</th>\n",
       "      <th>WonBy</th>\n",
       "      <th>Margin</th>\n",
       "      <th>method</th>\n",
       "      <th>Player_of_Match</th>\n",
       "      <th>Team1Players</th>\n",
       "      <th>Team2Players</th>\n",
       "      <th>Umpire1</th>\n",
       "      <th>Umpire2</th>\n",
       "    </tr>\n",
       "  </thead>\n",
       "  <tbody>\n",
       "    <tr>\n",
       "      <th>0</th>\n",
       "      <td>1312200</td>\n",
       "      <td>Ahmedabad</td>\n",
       "      <td>2022-05-29</td>\n",
       "      <td>2022</td>\n",
       "      <td>Final</td>\n",
       "      <td>Rajasthan Royals</td>\n",
       "      <td>Gujarat Titans</td>\n",
       "      <td>Narendra Modi Stadium, Ahmedabad</td>\n",
       "      <td>Rajasthan Royals</td>\n",
       "      <td>bat</td>\n",
       "      <td>N</td>\n",
       "      <td>Gujarat Titans</td>\n",
       "      <td>Wickets</td>\n",
       "      <td>7.0</td>\n",
       "      <td>NaN</td>\n",
       "      <td>HH Pandya</td>\n",
       "      <td>['YBK Jaiswal', 'JC Buttler', 'SV Samson', 'D ...</td>\n",
       "      <td>['WP Saha', 'Shubman Gill', 'MS Wade', 'HH Pan...</td>\n",
       "      <td>CB Gaffaney</td>\n",
       "      <td>Nitin Menon</td>\n",
       "    </tr>\n",
       "    <tr>\n",
       "      <th>1</th>\n",
       "      <td>1312199</td>\n",
       "      <td>Ahmedabad</td>\n",
       "      <td>2022-05-27</td>\n",
       "      <td>2022</td>\n",
       "      <td>Qualifier 2</td>\n",
       "      <td>Royal Challengers Bangalore</td>\n",
       "      <td>Rajasthan Royals</td>\n",
       "      <td>Narendra Modi Stadium, Ahmedabad</td>\n",
       "      <td>Rajasthan Royals</td>\n",
       "      <td>field</td>\n",
       "      <td>N</td>\n",
       "      <td>Rajasthan Royals</td>\n",
       "      <td>Wickets</td>\n",
       "      <td>7.0</td>\n",
       "      <td>NaN</td>\n",
       "      <td>JC Buttler</td>\n",
       "      <td>['V Kohli', 'F du Plessis', 'RM Patidar', 'GJ ...</td>\n",
       "      <td>['YBK Jaiswal', 'JC Buttler', 'SV Samson', 'D ...</td>\n",
       "      <td>CB Gaffaney</td>\n",
       "      <td>Nitin Menon</td>\n",
       "    </tr>\n",
       "    <tr>\n",
       "      <th>2</th>\n",
       "      <td>1312198</td>\n",
       "      <td>Kolkata</td>\n",
       "      <td>2022-05-25</td>\n",
       "      <td>2022</td>\n",
       "      <td>Eliminator</td>\n",
       "      <td>Royal Challengers Bangalore</td>\n",
       "      <td>Lucknow Super Giants</td>\n",
       "      <td>Eden Gardens, Kolkata</td>\n",
       "      <td>Lucknow Super Giants</td>\n",
       "      <td>field</td>\n",
       "      <td>N</td>\n",
       "      <td>Royal Challengers Bangalore</td>\n",
       "      <td>Runs</td>\n",
       "      <td>14.0</td>\n",
       "      <td>NaN</td>\n",
       "      <td>RM Patidar</td>\n",
       "      <td>['V Kohli', 'F du Plessis', 'RM Patidar', 'GJ ...</td>\n",
       "      <td>['Q de Kock', 'KL Rahul', 'M Vohra', 'DJ Hooda...</td>\n",
       "      <td>J Madanagopal</td>\n",
       "      <td>MA Gough</td>\n",
       "    </tr>\n",
       "    <tr>\n",
       "      <th>3</th>\n",
       "      <td>1312197</td>\n",
       "      <td>Kolkata</td>\n",
       "      <td>2022-05-24</td>\n",
       "      <td>2022</td>\n",
       "      <td>Qualifier 1</td>\n",
       "      <td>Rajasthan Royals</td>\n",
       "      <td>Gujarat Titans</td>\n",
       "      <td>Eden Gardens, Kolkata</td>\n",
       "      <td>Gujarat Titans</td>\n",
       "      <td>field</td>\n",
       "      <td>N</td>\n",
       "      <td>Gujarat Titans</td>\n",
       "      <td>Wickets</td>\n",
       "      <td>7.0</td>\n",
       "      <td>NaN</td>\n",
       "      <td>DA Miller</td>\n",
       "      <td>['YBK Jaiswal', 'JC Buttler', 'SV Samson', 'D ...</td>\n",
       "      <td>['WP Saha', 'Shubman Gill', 'MS Wade', 'HH Pan...</td>\n",
       "      <td>BNJ Oxenford</td>\n",
       "      <td>VK Sharma</td>\n",
       "    </tr>\n",
       "    <tr>\n",
       "      <th>4</th>\n",
       "      <td>1304116</td>\n",
       "      <td>Mumbai</td>\n",
       "      <td>2022-05-22</td>\n",
       "      <td>2022</td>\n",
       "      <td>70</td>\n",
       "      <td>Sunrisers Hyderabad</td>\n",
       "      <td>Punjab Kings</td>\n",
       "      <td>Wankhede Stadium, Mumbai</td>\n",
       "      <td>Sunrisers Hyderabad</td>\n",
       "      <td>bat</td>\n",
       "      <td>N</td>\n",
       "      <td>Punjab Kings</td>\n",
       "      <td>Wickets</td>\n",
       "      <td>5.0</td>\n",
       "      <td>NaN</td>\n",
       "      <td>Harpreet Brar</td>\n",
       "      <td>['PK Garg', 'Abhishek Sharma', 'RA Tripathi', ...</td>\n",
       "      <td>['JM Bairstow', 'S Dhawan', 'M Shahrukh Khan',...</td>\n",
       "      <td>AK Chaudhary</td>\n",
       "      <td>NA Patwardhan</td>\n",
       "    </tr>\n",
       "  </tbody>\n",
       "</table>\n",
       "</div>"
      ],
      "text/plain": [
       "        ID       City        Date Season  MatchNumber  \\\n",
       "0  1312200  Ahmedabad  2022-05-29   2022        Final   \n",
       "1  1312199  Ahmedabad  2022-05-27   2022  Qualifier 2   \n",
       "2  1312198    Kolkata  2022-05-25   2022   Eliminator   \n",
       "3  1312197    Kolkata  2022-05-24   2022  Qualifier 1   \n",
       "4  1304116     Mumbai  2022-05-22   2022           70   \n",
       "\n",
       "                         Team1                 Team2  \\\n",
       "0             Rajasthan Royals        Gujarat Titans   \n",
       "1  Royal Challengers Bangalore      Rajasthan Royals   \n",
       "2  Royal Challengers Bangalore  Lucknow Super Giants   \n",
       "3             Rajasthan Royals        Gujarat Titans   \n",
       "4          Sunrisers Hyderabad          Punjab Kings   \n",
       "\n",
       "                              Venue            TossWinner TossDecision  \\\n",
       "0  Narendra Modi Stadium, Ahmedabad      Rajasthan Royals          bat   \n",
       "1  Narendra Modi Stadium, Ahmedabad      Rajasthan Royals        field   \n",
       "2             Eden Gardens, Kolkata  Lucknow Super Giants        field   \n",
       "3             Eden Gardens, Kolkata        Gujarat Titans        field   \n",
       "4          Wankhede Stadium, Mumbai   Sunrisers Hyderabad          bat   \n",
       "\n",
       "  SuperOver                  WinningTeam    WonBy  Margin method  \\\n",
       "0         N               Gujarat Titans  Wickets     7.0    NaN   \n",
       "1         N             Rajasthan Royals  Wickets     7.0    NaN   \n",
       "2         N  Royal Challengers Bangalore     Runs    14.0    NaN   \n",
       "3         N               Gujarat Titans  Wickets     7.0    NaN   \n",
       "4         N                 Punjab Kings  Wickets     5.0    NaN   \n",
       "\n",
       "  Player_of_Match                                       Team1Players  \\\n",
       "0       HH Pandya  ['YBK Jaiswal', 'JC Buttler', 'SV Samson', 'D ...   \n",
       "1      JC Buttler  ['V Kohli', 'F du Plessis', 'RM Patidar', 'GJ ...   \n",
       "2      RM Patidar  ['V Kohli', 'F du Plessis', 'RM Patidar', 'GJ ...   \n",
       "3       DA Miller  ['YBK Jaiswal', 'JC Buttler', 'SV Samson', 'D ...   \n",
       "4   Harpreet Brar  ['PK Garg', 'Abhishek Sharma', 'RA Tripathi', ...   \n",
       "\n",
       "                                        Team2Players        Umpire1  \\\n",
       "0  ['WP Saha', 'Shubman Gill', 'MS Wade', 'HH Pan...    CB Gaffaney   \n",
       "1  ['YBK Jaiswal', 'JC Buttler', 'SV Samson', 'D ...    CB Gaffaney   \n",
       "2  ['Q de Kock', 'KL Rahul', 'M Vohra', 'DJ Hooda...  J Madanagopal   \n",
       "3  ['WP Saha', 'Shubman Gill', 'MS Wade', 'HH Pan...   BNJ Oxenford   \n",
       "4  ['JM Bairstow', 'S Dhawan', 'M Shahrukh Khan',...   AK Chaudhary   \n",
       "\n",
       "         Umpire2  \n",
       "0    Nitin Menon  \n",
       "1    Nitin Menon  \n",
       "2       MA Gough  \n",
       "3      VK Sharma  \n",
       "4  NA Patwardhan  "
      ]
     },
     "execution_count": 30,
     "metadata": {},
     "output_type": "execute_result"
    }
   ],
   "source": [
    "ipl_df=pd.read_csv(\"IPL_Matches_2008_2022.csv\")\n",
    "ipl_df.head()"
   ]
  },
  {
   "cell_type": "markdown",
   "id": "cc193da8",
   "metadata": {},
   "source": [
    "#### 'Delhi Capitals' formerly as 'Delhi Daredevils' \n",
    "'Punjab Kings' formerly as 'Kings XI Punjab'\n",
    "'Rising Pune Supergiant' formerly as 'Rising Pune Supergiants'\n",
    "You need to make changes accordingly. Consider current name for each teams.\n",
    "\n",
    "Be careful Gujrat Titans and Gujrat Lions are different teams."
   ]
  },
  {
   "cell_type": "code",
   "execution_count": 31,
   "id": "844bac91",
   "metadata": {},
   "outputs": [
    {
     "name": "stdout",
     "output_type": "stream",
     "text": [
      "0                 Rajasthan Royals\n",
      "1      Royal Challengers Bangalore\n",
      "2      Royal Challengers Bangalore\n",
      "3                 Rajasthan Royals\n",
      "4              Sunrisers Hyderabad\n",
      "                  ...             \n",
      "945          Kolkata Knight Riders\n",
      "946                 Mumbai Indians\n",
      "947               Delhi Daredevils\n",
      "948                Kings XI Punjab\n",
      "949    Royal Challengers Bangalore\n",
      "Name: Team1, Length: 950, dtype: object\n"
     ]
    }
   ],
   "source": [
    "ipl_df.head()\n",
    "print(ipl_df.Team1)\n",
    "\n",
    "changed_name={\n",
    "              'Kings XI Punjab':'Punjab Kings',\n",
    "              'Rising Pune Supergiants':'Rising Pune Supergiant',\n",
    "              'Delhi Daredevils':'Delhi Capitals'\n",
    "             }\n",
    "ipl_df.replace(changed_name.keys(),changed_name.values(),inplace=True)"
   ]
  },
  {
   "cell_type": "markdown",
   "id": "648a5370",
   "metadata": {},
   "source": [
    "#### Write a code which can display the bar chart of top 5 teams who have played maximum number of matches in the IPL."
   ]
  },
  {
   "cell_type": "code",
   "execution_count": 32,
   "id": "67437729",
   "metadata": {},
   "outputs": [
    {
     "data": {
      "text/plain": [
       "<AxesSubplot:>"
      ]
     },
     "execution_count": 32,
     "metadata": {},
     "output_type": "execute_result"
    },
    {
     "data": {
      "image/png": "[encoded data removed]",
      "text/plain": [
       "<Figure size 432x288 with 1 Axes>"
      ]
     },
     "metadata": {
      "needs_background": "light"
     },
     "output_type": "display_data"
    }
   ],
   "source": [
    "ipl_df.head()\n",
    "\n",
    "(ipl_df['Team1'].value_counts()+ipl_df['Team2'].value_counts()).sort_values(ascending=False).head(5).plot(kind='bar')\n"
   ]
  },
  {
   "cell_type": "code",
   "execution_count": 33,
   "id": "30788c9c",
   "metadata": {},
   "outputs": [
    {
     "data": {
      "text/html": [
       "<div>\n",
       "<style scoped>\n",
       "    .dataframe tbody tr th:only-of-type {\n",
       "        vertical-align: middle;\n",
       "    }\n",
       "\n",
       "    .dataframe tbody tr th {\n",
       "        vertical-align: top;\n",
       "    }\n",
       "\n",
       "    .dataframe thead th {\n",
       "        text-align: right;\n",
       "    }\n",
       "</style>\n",
       "<table border=\"1\" class=\"dataframe\">\n",
       "  <thead>\n",
       "    <tr style=\"text-align: right;\">\n",
       "      <th></th>\n",
       "      <th>ID</th>\n",
       "      <th>City</th>\n",
       "      <th>Date</th>\n",
       "      <th>Season</th>\n",
       "      <th>MatchNumber</th>\n",
       "      <th>Team1</th>\n",
       "      <th>Team2</th>\n",
       "      <th>Venue</th>\n",
       "      <th>TossWinner</th>\n",
       "      <th>TossDecision</th>\n",
       "      <th>SuperOver</th>\n",
       "      <th>WinningTeam</th>\n",
       "      <th>WonBy</th>\n",
       "      <th>Margin</th>\n",
       "      <th>method</th>\n",
       "      <th>Player_of_Match</th>\n",
       "      <th>Team1Players</th>\n",
       "      <th>Team2Players</th>\n",
       "      <th>Umpire1</th>\n",
       "      <th>Umpire2</th>\n",
       "    </tr>\n",
       "  </thead>\n",
       "  <tbody>\n",
       "    <tr>\n",
       "      <th>0</th>\n",
       "      <td>1312200</td>\n",
       "      <td>Ahmedabad</td>\n",
       "      <td>2022-05-29</td>\n",
       "      <td>2022</td>\n",
       "      <td>Final</td>\n",
       "      <td>Rajasthan Royals</td>\n",
       "      <td>Gujarat Titans</td>\n",
       "      <td>Narendra Modi Stadium, Ahmedabad</td>\n",
       "      <td>Rajasthan Royals</td>\n",
       "      <td>bat</td>\n",
       "      <td>N</td>\n",
       "      <td>Gujarat Titans</td>\n",
       "      <td>Wickets</td>\n",
       "      <td>7.0</td>\n",
       "      <td>NaN</td>\n",
       "      <td>HH Pandya</td>\n",
       "      <td>['YBK Jaiswal', 'JC Buttler', 'SV Samson', 'D ...</td>\n",
       "      <td>['WP Saha', 'Shubman Gill', 'MS Wade', 'HH Pan...</td>\n",
       "      <td>CB Gaffaney</td>\n",
       "      <td>Nitin Menon</td>\n",
       "    </tr>\n",
       "    <tr>\n",
       "      <th>1</th>\n",
       "      <td>1312199</td>\n",
       "      <td>Ahmedabad</td>\n",
       "      <td>2022-05-27</td>\n",
       "      <td>2022</td>\n",
       "      <td>Qualifier 2</td>\n",
       "      <td>Royal Challengers Bangalore</td>\n",
       "      <td>Rajasthan Royals</td>\n",
       "      <td>Narendra Modi Stadium, Ahmedabad</td>\n",
       "      <td>Rajasthan Royals</td>\n",
       "      <td>field</td>\n",
       "      <td>N</td>\n",
       "      <td>Rajasthan Royals</td>\n",
       "      <td>Wickets</td>\n",
       "      <td>7.0</td>\n",
       "      <td>NaN</td>\n",
       "      <td>JC Buttler</td>\n",
       "      <td>['V Kohli', 'F du Plessis', 'RM Patidar', 'GJ ...</td>\n",
       "      <td>['YBK Jaiswal', 'JC Buttler', 'SV Samson', 'D ...</td>\n",
       "      <td>CB Gaffaney</td>\n",
       "      <td>Nitin Menon</td>\n",
       "    </tr>\n",
       "    <tr>\n",
       "      <th>2</th>\n",
       "      <td>1312198</td>\n",
       "      <td>Kolkata</td>\n",
       "      <td>2022-05-25</td>\n",
       "      <td>2022</td>\n",
       "      <td>Eliminator</td>\n",
       "      <td>Royal Challengers Bangalore</td>\n",
       "      <td>Lucknow Super Giants</td>\n",
       "      <td>Eden Gardens, Kolkata</td>\n",
       "      <td>Lucknow Super Giants</td>\n",
       "      <td>field</td>\n",
       "      <td>N</td>\n",
       "      <td>Royal Challengers Bangalore</td>\n",
       "      <td>Runs</td>\n",
       "      <td>14.0</td>\n",
       "      <td>NaN</td>\n",
       "      <td>RM Patidar</td>\n",
       "      <td>['V Kohli', 'F du Plessis', 'RM Patidar', 'GJ ...</td>\n",
       "      <td>['Q de Kock', 'KL Rahul', 'M Vohra', 'DJ Hooda...</td>\n",
       "      <td>J Madanagopal</td>\n",
       "      <td>MA Gough</td>\n",
       "    </tr>\n",
       "    <tr>\n",
       "      <th>3</th>\n",
       "      <td>1312197</td>\n",
       "      <td>Kolkata</td>\n",
       "      <td>2022-05-24</td>\n",
       "      <td>2022</td>\n",
       "      <td>Qualifier 1</td>\n",
       "      <td>Rajasthan Royals</td>\n",
       "      <td>Gujarat Titans</td>\n",
       "      <td>Eden Gardens, Kolkata</td>\n",
       "      <td>Gujarat Titans</td>\n",
       "      <td>field</td>\n",
       "      <td>N</td>\n",
       "      <td>Gujarat Titans</td>\n",
       "      <td>Wickets</td>\n",
       "      <td>7.0</td>\n",
       "      <td>NaN</td>\n",
       "      <td>DA Miller</td>\n",
       "      <td>['YBK Jaiswal', 'JC Buttler', 'SV Samson', 'D ...</td>\n",
       "      <td>['WP Saha', 'Shubman Gill', 'MS Wade', 'HH Pan...</td>\n",
       "      <td>BNJ Oxenford</td>\n",
       "      <td>VK Sharma</td>\n",
       "    </tr>\n",
       "    <tr>\n",
       "      <th>4</th>\n",
       "      <td>1304116</td>\n",
       "      <td>Mumbai</td>\n",
       "      <td>2022-05-22</td>\n",
       "      <td>2022</td>\n",
       "      <td>70</td>\n",
       "      <td>Sunrisers Hyderabad</td>\n",
       "      <td>Punjab Kings</td>\n",
       "      <td>Wankhede Stadium, Mumbai</td>\n",
       "      <td>Sunrisers Hyderabad</td>\n",
       "      <td>bat</td>\n",
       "      <td>N</td>\n",
       "      <td>Punjab Kings</td>\n",
       "      <td>Wickets</td>\n",
       "      <td>5.0</td>\n",
       "      <td>NaN</td>\n",
       "      <td>Harpreet Brar</td>\n",
       "      <td>['PK Garg', 'Abhishek Sharma', 'RA Tripathi', ...</td>\n",
       "      <td>['JM Bairstow', 'S Dhawan', 'M Shahrukh Khan',...</td>\n",
       "      <td>AK Chaudhary</td>\n",
       "      <td>NA Patwardhan</td>\n",
       "    </tr>\n",
       "  </tbody>\n",
       "</table>\n",
       "</div>"
      ],
      "text/plain": [
       "        ID       City        Date Season  MatchNumber  \\\n",
       "0  1312200  Ahmedabad  2022-05-29   2022        Final   \n",
       "1  1312199  Ahmedabad  2022-05-27   2022  Qualifier 2   \n",
       "2  1312198    Kolkata  2022-05-25   2022   Eliminator   \n",
       "3  1312197    Kolkata  2022-05-24   2022  Qualifier 1   \n",
       "4  1304116     Mumbai  2022-05-22   2022           70   \n",
       "\n",
       "                         Team1                 Team2  \\\n",
       "0             Rajasthan Royals        Gujarat Titans   \n",
       "1  Royal Challengers Bangalore      Rajasthan Royals   \n",
       "2  Royal Challengers Bangalore  Lucknow Super Giants   \n",
       "3             Rajasthan Royals        Gujarat Titans   \n",
       "4          Sunrisers Hyderabad          Punjab Kings   \n",
       "\n",
       "                              Venue            TossWinner TossDecision  \\\n",
       "0  Narendra Modi Stadium, Ahmedabad      Rajasthan Royals          bat   \n",
       "1  Narendra Modi Stadium, Ahmedabad      Rajasthan Royals        field   \n",
       "2             Eden Gardens, Kolkata  Lucknow Super Giants        field   \n",
       "3             Eden Gardens, Kolkata        Gujarat Titans        field   \n",
       "4          Wankhede Stadium, Mumbai   Sunrisers Hyderabad          bat   \n",
       "\n",
       "  SuperOver                  WinningTeam    WonBy  Margin method  \\\n",
       "0         N               Gujarat Titans  Wickets     7.0    NaN   \n",
       "1         N             Rajasthan Royals  Wickets     7.0    NaN   \n",
       "2         N  Royal Challengers Bangalore     Runs    14.0    NaN   \n",
       "3         N               Gujarat Titans  Wickets     7.0    NaN   \n",
       "4         N                 Punjab Kings  Wickets     5.0    NaN   \n",
       "\n",
       "  Player_of_Match                                       Team1Players  \\\n",
       "0       HH Pandya  ['YBK Jaiswal', 'JC Buttler', 'SV Samson', 'D ...   \n",
       "1      JC Buttler  ['V Kohli', 'F du Plessis', 'RM Patidar', 'GJ ...   \n",
       "2      RM Patidar  ['V Kohli', 'F du Plessis', 'RM Patidar', 'GJ ...   \n",
       "3       DA Miller  ['YBK Jaiswal', 'JC Buttler', 'SV Samson', 'D ...   \n",
       "4   Harpreet Brar  ['PK Garg', 'Abhishek Sharma', 'RA Tripathi', ...   \n",
       "\n",
       "                                        Team2Players        Umpire1  \\\n",
       "0  ['WP Saha', 'Shubman Gill', 'MS Wade', 'HH Pan...    CB Gaffaney   \n",
       "1  ['YBK Jaiswal', 'JC Buttler', 'SV Samson', 'D ...    CB Gaffaney   \n",
       "2  ['Q de Kock', 'KL Rahul', 'M Vohra', 'DJ Hooda...  J Madanagopal   \n",
       "3  ['WP Saha', 'Shubman Gill', 'MS Wade', 'HH Pan...   BNJ Oxenford   \n",
       "4  ['JM Bairstow', 'S Dhawan', 'M Shahrukh Khan',...   AK Chaudhary   \n",
       "\n",
       "         Umpire2  \n",
       "0    Nitin Menon  \n",
       "1    Nitin Menon  \n",
       "2       MA Gough  \n",
       "3      VK Sharma  \n",
       "4  NA Patwardhan  "
      ]
     },
     "execution_count": 33,
     "metadata": {},
     "output_type": "execute_result"
    }
   ],
   "source": [
    "ipl_df.head()"
   ]
  },
  {
   "cell_type": "code",
   "execution_count": 44,
   "id": "160412fe",
   "metadata": {},
   "outputs": [
    {
     "data": {
      "text/plain": [
       "34"
      ]
     },
     "execution_count": 44,
     "metadata": {},
     "output_type": "execute_result"
    }
   ],
   "source": [
    "len(ipl_df['City'].unique())"
   ]
  },
  {
   "cell_type": "markdown",
   "id": "f592f687",
   "metadata": {},
   "source": [
    "#### Player who got Most no. of player of the match award playing against Mumbai Indians."
   ]
  },
  {
   "cell_type": "code",
   "execution_count": 34,
   "id": "7f868192",
   "metadata": {},
   "outputs": [
    {
     "data": {
      "text/plain": [
       "KL Rahul    4\n",
       "Name: Player_of_Match, dtype: int64"
      ]
     },
     "execution_count": 34,
     "metadata": {},
     "output_type": "execute_result"
    }
   ],
   "source": [
    "### FInding the match played by Mumbai Indians Team.\n",
    "m1=(ipl_df['Team1']=='Mumbai Indians')|(ipl_df['Team2']=='Mumbai Indians')\n",
    "### Finding the matched where Mumbai Indians Team not win.\n",
    "m2=ipl_df['WinningTeam']!='Mumbai Indians'\n",
    "ipl_df[m1 & m2]['Player_of_Match'].value_counts().head(1)"
   ]
  },
  {
   "cell_type": "markdown",
   "id": "ed662744",
   "metadata": {},
   "source": [
    "####  Team1 vs Team2 Dashbord\n",
    "Create a function which will take two string(name of two teams) as input. Show win Loss record between them and player getting most player of the match award in matches between these two teams."
   ]
  },
  {
   "cell_type": "code",
   "execution_count": 35,
   "id": "f4c6b82d",
   "metadata": {},
   "outputs": [
    {
     "data": {
      "text/plain": [
       "Mumbai Indians      14\n",
       "Rajasthan Royals    12\n",
       "Name: WinningTeam, dtype: int64"
      ]
     },
     "execution_count": 35,
     "metadata": {},
     "output_type": "execute_result"
    }
   ],
   "source": [
    "team1=(ipl_df['Team1']=='Rajasthan Royals')|(ipl_df['Team2']=='Rajasthan Royals')\n",
    "team2=(ipl_df['Team1']=='Mumbai Indians')|(ipl_df['Team2']=='Mumbai Indians')\n",
    "ipl_df[team1 & team2]['WinningTeam'].value_counts()"
   ]
  },
  {
   "cell_type": "code",
   "execution_count": 36,
   "id": "b0c33c8e",
   "metadata": {},
   "outputs": [],
   "source": [
    "def team1vsteam2(team1,team2):\n",
    "    team1=(ipl_df['Team1']==team1)|(ipl_df['Team2']==team1)\n",
    "    team2=(ipl_df['Team1']==team2)|(ipl_df['Team2']==team2)\n",
    "    team_df=ipl_df[team1 & team2]['WinningTeam'].value_counts()\n",
    "    print(team_df)\n",
    "    print(team_df.plot(kind='pie',autopct='%1.0f%%',labeldistance=1.2))\n",
    "    "
   ]
  },
  {
   "cell_type": "code",
   "execution_count": 37,
   "id": "ed001faa",
   "metadata": {},
   "outputs": [
    {
     "name": "stdout",
     "output_type": "stream",
     "text": [
      "Punjab Kings                   17\n",
      "Royal Challengers Bangalore    13\n",
      "Name: WinningTeam, dtype: int64\n",
      "AxesSubplot(0.260833,0.125;0.503333x0.755)\n"
     ]
    },
    {
     "data": {
      "image/png": "[encoded data removed]",
      "text/plain": [
       "<Figure size 432x288 with 1 Axes>"
      ]
     },
     "metadata": {},
     "output_type": "display_data"
    }
   ],
   "source": [
    "team1vsteam2('Punjab Kings','Royal Challengers Bangalore')"
   ]
  },
  {
   "cell_type": "markdown",
   "id": "7770c794",
   "metadata": {},
   "source": [
    "#### Find out the top 7 cities where the matches of Kolkata Knight Riders are played frequently and plot the result as bar chart."
   ]
  },
  {
   "cell_type": "code",
   "execution_count": 38,
   "id": "ea5756c6",
   "metadata": {},
   "outputs": [
    {
     "name": "stdout",
     "output_type": "stream",
     "text": [
      "IPL Stats\n",
      "Finding the cities where Kolkata Knight Riders played matched.\n",
      "\n"
     ]
    },
    {
     "data": {
      "text/plain": [
       "<AxesSubplot:>"
      ]
     },
     "execution_count": 38,
     "metadata": {},
     "output_type": "execute_result"
    },
    {
     "data": {
      "image/png": "[encoded data removed]",
      "text/plain": [
       "<Figure size 432x288 with 1 Axes>"
      ]
     },
     "metadata": {
      "needs_background": "light"
     },
     "output_type": "display_data"
    }
   ],
   "source": [
    "print(\"IPL Stats\")\n",
    "ipl_df.head(2)\n",
    "print(\"Finding the cities where Kolkata Knight Riders played matched.\")\n",
    "print()\n",
    "ipl_df[(ipl_df['Team1']==' Kolkata Knight Riders')|(ipl_df['Team2']=='Kolkata Knight Riders')]['City'].value_counts().head(7).plot(kind='bar')\n"
   ]
  },
  {
   "cell_type": "markdown",
   "id": "2af621d3",
   "metadata": {},
   "source": [
    "#### Find out the average margin for the team Mumbai Indians for only the session 2011."
   ]
  },
  {
   "cell_type": "code",
   "execution_count": 39,
   "id": "49a4f786",
   "metadata": {},
   "outputs": [
    {
     "data": {
      "text/html": [
       "<div>\n",
       "<style scoped>\n",
       "    .dataframe tbody tr th:only-of-type {\n",
       "        vertical-align: middle;\n",
       "    }\n",
       "\n",
       "    .dataframe tbody tr th {\n",
       "        vertical-align: top;\n",
       "    }\n",
       "\n",
       "    .dataframe thead th {\n",
       "        text-align: right;\n",
       "    }\n",
       "</style>\n",
       "<table border=\"1\" class=\"dataframe\">\n",
       "  <thead>\n",
       "    <tr style=\"text-align: right;\">\n",
       "      <th></th>\n",
       "      <th>ID</th>\n",
       "      <th>City</th>\n",
       "      <th>Date</th>\n",
       "      <th>Season</th>\n",
       "      <th>MatchNumber</th>\n",
       "      <th>Team1</th>\n",
       "      <th>Team2</th>\n",
       "      <th>Venue</th>\n",
       "      <th>TossWinner</th>\n",
       "      <th>TossDecision</th>\n",
       "      <th>SuperOver</th>\n",
       "      <th>WinningTeam</th>\n",
       "      <th>WonBy</th>\n",
       "      <th>Margin</th>\n",
       "      <th>method</th>\n",
       "      <th>Player_of_Match</th>\n",
       "      <th>Team1Players</th>\n",
       "      <th>Team2Players</th>\n",
       "      <th>Umpire1</th>\n",
       "      <th>Umpire2</th>\n",
       "    </tr>\n",
       "  </thead>\n",
       "  <tbody>\n",
       "    <tr>\n",
       "      <th>703</th>\n",
       "      <td>501270</td>\n",
       "      <td>Chennai</td>\n",
       "      <td>2011-05-27</td>\n",
       "      <td>2011</td>\n",
       "      <td>Qualifier 2</td>\n",
       "      <td>Royal Challengers Bangalore</td>\n",
       "      <td>Mumbai Indians</td>\n",
       "      <td>MA Chidambaram Stadium, Chepauk</td>\n",
       "      <td>Mumbai Indians</td>\n",
       "      <td>field</td>\n",
       "      <td>N</td>\n",
       "      <td>Royal Challengers Bangalore</td>\n",
       "      <td>Runs</td>\n",
       "      <td>43.0</td>\n",
       "      <td>NaN</td>\n",
       "      <td>CH Gayle</td>\n",
       "      <td>['MA Agarwal', 'CH Gayle', 'V Kohli', 'AB de V...</td>\n",
       "      <td>['AC Blizzard', 'SR Tendulkar', 'Harbhajan Sin...</td>\n",
       "      <td>Asad Rauf</td>\n",
       "      <td>SJA Taufel</td>\n",
       "    </tr>\n",
       "    <tr>\n",
       "      <th>704</th>\n",
       "      <td>501269</td>\n",
       "      <td>Mumbai</td>\n",
       "      <td>2011-05-25</td>\n",
       "      <td>2011</td>\n",
       "      <td>Elimination Final</td>\n",
       "      <td>Mumbai Indians</td>\n",
       "      <td>Kolkata Knight Riders</td>\n",
       "      <td>Wankhede Stadium</td>\n",
       "      <td>Mumbai Indians</td>\n",
       "      <td>field</td>\n",
       "      <td>N</td>\n",
       "      <td>Mumbai Indians</td>\n",
       "      <td>Wickets</td>\n",
       "      <td>4.0</td>\n",
       "      <td>NaN</td>\n",
       "      <td>MM Patel</td>\n",
       "      <td>['AC Blizzard', 'SR Tendulkar', 'RG Sharma', '...</td>\n",
       "      <td>['G Gambhir', 'JH Kallis', 'SP Goswami', 'MK T...</td>\n",
       "      <td>Asad Rauf</td>\n",
       "      <td>SJA Taufel</td>\n",
       "    </tr>\n",
       "    <tr>\n",
       "      <th>706</th>\n",
       "      <td>501267</td>\n",
       "      <td>Kolkata</td>\n",
       "      <td>2011-05-22</td>\n",
       "      <td>2011</td>\n",
       "      <td>70</td>\n",
       "      <td>Kolkata Knight Riders</td>\n",
       "      <td>Mumbai Indians</td>\n",
       "      <td>Eden Gardens</td>\n",
       "      <td>Mumbai Indians</td>\n",
       "      <td>field</td>\n",
       "      <td>N</td>\n",
       "      <td>Mumbai Indians</td>\n",
       "      <td>Wickets</td>\n",
       "      <td>5.0</td>\n",
       "      <td>NaN</td>\n",
       "      <td>JEC Franklin</td>\n",
       "      <td>['JH Kallis', 'SP Goswami', 'G Gambhir', 'MK T...</td>\n",
       "      <td>['TL Suman', 'SR Tendulkar', 'Harbhajan Singh'...</td>\n",
       "      <td>SK Tarapore</td>\n",
       "      <td>SJA Taufel</td>\n",
       "    </tr>\n",
       "    <tr>\n",
       "      <th>710</th>\n",
       "      <td>501263</td>\n",
       "      <td>Mumbai</td>\n",
       "      <td>2011-05-20</td>\n",
       "      <td>2011</td>\n",
       "      <td>66</td>\n",
       "      <td>Mumbai Indians</td>\n",
       "      <td>Rajasthan Royals</td>\n",
       "      <td>Wankhede Stadium</td>\n",
       "      <td>Mumbai Indians</td>\n",
       "      <td>bat</td>\n",
       "      <td>N</td>\n",
       "      <td>Rajasthan Royals</td>\n",
       "      <td>Wickets</td>\n",
       "      <td>10.0</td>\n",
       "      <td>NaN</td>\n",
       "      <td>SR Watson</td>\n",
       "      <td>['TL Suman', 'SR Tendulkar', 'AT Rayudu', 'RG ...</td>\n",
       "      <td>['SR Watson', 'R Dravid', 'J Botha', 'AL Menar...</td>\n",
       "      <td>RE Koertzen</td>\n",
       "      <td>PR Reiffel</td>\n",
       "    </tr>\n",
       "    <tr>\n",
       "      <th>718</th>\n",
       "      <td>501256</td>\n",
       "      <td>Mumbai</td>\n",
       "      <td>2011-05-14</td>\n",
       "      <td>2011</td>\n",
       "      <td>59</td>\n",
       "      <td>Mumbai Indians</td>\n",
       "      <td>Deccan Chargers</td>\n",
       "      <td>Wankhede Stadium</td>\n",
       "      <td>Deccan Chargers</td>\n",
       "      <td>bat</td>\n",
       "      <td>N</td>\n",
       "      <td>Deccan Chargers</td>\n",
       "      <td>Runs</td>\n",
       "      <td>10.0</td>\n",
       "      <td>NaN</td>\n",
       "      <td>A Mishra</td>\n",
       "      <td>['SR Tendulkar', 'AC Blizzard', 'AT Rayudu', '...</td>\n",
       "      <td>['MJ Lumb', 'S Sohal', 'KC Sangakkara', 'JP Du...</td>\n",
       "      <td>S Ravi</td>\n",
       "      <td>SK Tarapore</td>\n",
       "    </tr>\n",
       "    <tr>\n",
       "      <th>722</th>\n",
       "      <td>501251</td>\n",
       "      <td>Chandigarh</td>\n",
       "      <td>2011-05-10</td>\n",
       "      <td>2011</td>\n",
       "      <td>54</td>\n",
       "      <td>Punjab Kings</td>\n",
       "      <td>Mumbai Indians</td>\n",
       "      <td>Punjab Cricket Association Stadium, Mohali</td>\n",
       "      <td>Mumbai Indians</td>\n",
       "      <td>field</td>\n",
       "      <td>N</td>\n",
       "      <td>Punjab Kings</td>\n",
       "      <td>Runs</td>\n",
       "      <td>76.0</td>\n",
       "      <td>NaN</td>\n",
       "      <td>BA Bhatt</td>\n",
       "      <td>['PC Valthaty', 'AC Gilchrist', 'SE Marsh', 'K...</td>\n",
       "      <td>['AC Blizzard', 'SR Tendulkar', 'RG Sharma', '...</td>\n",
       "      <td>SK Tarapore</td>\n",
       "      <td>RJ Tucker</td>\n",
       "    </tr>\n",
       "    <tr>\n",
       "      <th>727</th>\n",
       "      <td>501246</td>\n",
       "      <td>Mumbai</td>\n",
       "      <td>2011-05-07</td>\n",
       "      <td>2011</td>\n",
       "      <td>49</td>\n",
       "      <td>Mumbai Indians</td>\n",
       "      <td>Delhi Capitals</td>\n",
       "      <td>Wankhede Stadium</td>\n",
       "      <td>Delhi Capitals</td>\n",
       "      <td>field</td>\n",
       "      <td>N</td>\n",
       "      <td>Mumbai Indians</td>\n",
       "      <td>Runs</td>\n",
       "      <td>32.0</td>\n",
       "      <td>NaN</td>\n",
       "      <td>AT Rayudu</td>\n",
       "      <td>['AC Blizzard', 'SR Tendulkar', 'AT Rayudu', '...</td>\n",
       "      <td>['V Sehwag', 'DA Warner', 'CA Ingram', 'NV Ojh...</td>\n",
       "      <td>K Hariharan</td>\n",
       "      <td>SJA Taufel</td>\n",
       "    </tr>\n",
       "    <tr>\n",
       "      <th>732</th>\n",
       "      <td>501241</td>\n",
       "      <td>Mumbai</td>\n",
       "      <td>2011-05-04</td>\n",
       "      <td>2011</td>\n",
       "      <td>44</td>\n",
       "      <td>Pune Warriors</td>\n",
       "      <td>Mumbai Indians</td>\n",
       "      <td>Dr DY Patil Sports Academy</td>\n",
       "      <td>Pune Warriors</td>\n",
       "      <td>field</td>\n",
       "      <td>N</td>\n",
       "      <td>Mumbai Indians</td>\n",
       "      <td>Runs</td>\n",
       "      <td>21.0</td>\n",
       "      <td>NaN</td>\n",
       "      <td>R Sharma</td>\n",
       "      <td>['JD Ryder', 'MK Pandey', 'GC Smith', 'AA Jhun...</td>\n",
       "      <td>['AC Blizzard', 'SR Tendulkar', 'AT Rayudu', '...</td>\n",
       "      <td>HDPK Dharmasena</td>\n",
       "      <td>SJA Taufel</td>\n",
       "    </tr>\n",
       "    <tr>\n",
       "      <th>736</th>\n",
       "      <td>501237</td>\n",
       "      <td>Mumbai</td>\n",
       "      <td>2011-05-02</td>\n",
       "      <td>2011</td>\n",
       "      <td>40</td>\n",
       "      <td>Mumbai Indians</td>\n",
       "      <td>Punjab Kings</td>\n",
       "      <td>Wankhede Stadium</td>\n",
       "      <td>Punjab Kings</td>\n",
       "      <td>field</td>\n",
       "      <td>N</td>\n",
       "      <td>Mumbai Indians</td>\n",
       "      <td>Runs</td>\n",
       "      <td>23.0</td>\n",
       "      <td>NaN</td>\n",
       "      <td>KA Pollard</td>\n",
       "      <td>['DJ Jacobs', 'SR Tendulkar', 'AT Rayudu', 'KA...</td>\n",
       "      <td>['PC Valthaty', 'AC Gilchrist', 'SE Marsh', 'D...</td>\n",
       "      <td>HDPK Dharmasena</td>\n",
       "      <td>PR Reiffel</td>\n",
       "    </tr>\n",
       "    <tr>\n",
       "      <th>742</th>\n",
       "      <td>501231</td>\n",
       "      <td>Jaipur</td>\n",
       "      <td>2011-04-29</td>\n",
       "      <td>2011</td>\n",
       "      <td>34</td>\n",
       "      <td>Rajasthan Royals</td>\n",
       "      <td>Mumbai Indians</td>\n",
       "      <td>Sawai Mansingh Stadium</td>\n",
       "      <td>Rajasthan Royals</td>\n",
       "      <td>field</td>\n",
       "      <td>N</td>\n",
       "      <td>Rajasthan Royals</td>\n",
       "      <td>Wickets</td>\n",
       "      <td>7.0</td>\n",
       "      <td>NaN</td>\n",
       "      <td>J Botha</td>\n",
       "      <td>['SR Watson', 'R Dravid', 'J Botha', 'LRPL Tay...</td>\n",
       "      <td>['DJ Jacobs', 'SR Tendulkar', 'AT Rayudu', 'RG...</td>\n",
       "      <td>Asad Rauf</td>\n",
       "      <td>SK Tarapore</td>\n",
       "    </tr>\n",
       "    <tr>\n",
       "      <th>749</th>\n",
       "      <td>501224</td>\n",
       "      <td>Hyderabad</td>\n",
       "      <td>2011-04-24</td>\n",
       "      <td>2011</td>\n",
       "      <td>27</td>\n",
       "      <td>Deccan Chargers</td>\n",
       "      <td>Mumbai Indians</td>\n",
       "      <td>Rajiv Gandhi International Stadium, Uppal</td>\n",
       "      <td>Deccan Chargers</td>\n",
       "      <td>field</td>\n",
       "      <td>N</td>\n",
       "      <td>Mumbai Indians</td>\n",
       "      <td>Runs</td>\n",
       "      <td>37.0</td>\n",
       "      <td>NaN</td>\n",
       "      <td>SL Malinga</td>\n",
       "      <td>['S Sohal', 'S Dhawan', 'KC Sangakkara', 'CL W...</td>\n",
       "      <td>['DJ Jacobs', 'SR Tendulkar', 'AT Rayudu', 'KA...</td>\n",
       "      <td>HDPK Dharmasena</td>\n",
       "      <td>AL Hill</td>\n",
       "    </tr>\n",
       "    <tr>\n",
       "      <th>752</th>\n",
       "      <td>501221</td>\n",
       "      <td>Mumbai</td>\n",
       "      <td>2011-04-22</td>\n",
       "      <td>2011</td>\n",
       "      <td>25</td>\n",
       "      <td>Mumbai Indians</td>\n",
       "      <td>Chennai Super Kings</td>\n",
       "      <td>Wankhede Stadium</td>\n",
       "      <td>Chennai Super Kings</td>\n",
       "      <td>field</td>\n",
       "      <td>N</td>\n",
       "      <td>Mumbai Indians</td>\n",
       "      <td>Runs</td>\n",
       "      <td>8.0</td>\n",
       "      <td>NaN</td>\n",
       "      <td>Harbhajan Singh</td>\n",
       "      <td>['R Sathish', 'SR Tendulkar', 'AT Rayudu', 'RG...</td>\n",
       "      <td>['MEK Hussey', 'M Vijay', 'SK Raina', 'S Badri...</td>\n",
       "      <td>Asad Rauf</td>\n",
       "      <td>AM Saheba</td>\n",
       "    </tr>\n",
       "    <tr>\n",
       "      <th>754</th>\n",
       "      <td>501218</td>\n",
       "      <td>Mumbai</td>\n",
       "      <td>2011-04-20</td>\n",
       "      <td>2011</td>\n",
       "      <td>21</td>\n",
       "      <td>Mumbai Indians</td>\n",
       "      <td>Pune Warriors</td>\n",
       "      <td>Wankhede Stadium</td>\n",
       "      <td>Pune Warriors</td>\n",
       "      <td>bat</td>\n",
       "      <td>N</td>\n",
       "      <td>Mumbai Indians</td>\n",
       "      <td>Wickets</td>\n",
       "      <td>7.0</td>\n",
       "      <td>NaN</td>\n",
       "      <td>MM Patel</td>\n",
       "      <td>['JEC Franklin', 'SR Tendulkar', 'AT Rayudu', ...</td>\n",
       "      <td>['JD Ryder', 'TD Paine', 'M Manhas', 'RV Uthap...</td>\n",
       "      <td>Asad Rauf</td>\n",
       "      <td>AM Saheba</td>\n",
       "    </tr>\n",
       "    <tr>\n",
       "      <th>762</th>\n",
       "      <td>501210</td>\n",
       "      <td>Mumbai</td>\n",
       "      <td>2011-04-15</td>\n",
       "      <td>2011</td>\n",
       "      <td>13</td>\n",
       "      <td>Mumbai Indians</td>\n",
       "      <td>Kochi Tuskers Kerala</td>\n",
       "      <td>Wankhede Stadium</td>\n",
       "      <td>Kochi Tuskers Kerala</td>\n",
       "      <td>field</td>\n",
       "      <td>N</td>\n",
       "      <td>Kochi Tuskers Kerala</td>\n",
       "      <td>Wickets</td>\n",
       "      <td>8.0</td>\n",
       "      <td>NaN</td>\n",
       "      <td>BB McCullum</td>\n",
       "      <td>['DJ Jacobs', 'SR Tendulkar', 'AT Rayudu', 'KA...</td>\n",
       "      <td>['BB McCullum', 'DPMD Jayawardene', 'RA Jadeja...</td>\n",
       "      <td>BR Doctrove</td>\n",
       "      <td>PR Reiffel</td>\n",
       "    </tr>\n",
       "    <tr>\n",
       "      <th>768</th>\n",
       "      <td>501205</td>\n",
       "      <td>Bangalore</td>\n",
       "      <td>2011-04-12</td>\n",
       "      <td>2011</td>\n",
       "      <td>8</td>\n",
       "      <td>Royal Challengers Bangalore</td>\n",
       "      <td>Mumbai Indians</td>\n",
       "      <td>M Chinnaswamy Stadium</td>\n",
       "      <td>Mumbai Indians</td>\n",
       "      <td>field</td>\n",
       "      <td>N</td>\n",
       "      <td>Mumbai Indians</td>\n",
       "      <td>Wickets</td>\n",
       "      <td>9.0</td>\n",
       "      <td>NaN</td>\n",
       "      <td>SR Tendulkar</td>\n",
       "      <td>['MA Agarwal', 'TM Dilshan', 'V Kohli', 'AB de...</td>\n",
       "      <td>['DJ Jacobs', 'SR Tendulkar', 'AT Rayudu', 'RG...</td>\n",
       "      <td>HDPK Dharmasena</td>\n",
       "      <td>AL Hill</td>\n",
       "    </tr>\n",
       "    <tr>\n",
       "      <th>771</th>\n",
       "      <td>501201</td>\n",
       "      <td>Delhi</td>\n",
       "      <td>2011-04-10</td>\n",
       "      <td>2011</td>\n",
       "      <td>4</td>\n",
       "      <td>Delhi Capitals</td>\n",
       "      <td>Mumbai Indians</td>\n",
       "      <td>Feroz Shah Kotla</td>\n",
       "      <td>Delhi Capitals</td>\n",
       "      <td>bat</td>\n",
       "      <td>N</td>\n",
       "      <td>Mumbai Indians</td>\n",
       "      <td>Wickets</td>\n",
       "      <td>8.0</td>\n",
       "      <td>NaN</td>\n",
       "      <td>SL Malinga</td>\n",
       "      <td>['DA Warner', 'V Sehwag', 'UBT Chand', 'AJ Fin...</td>\n",
       "      <td>['DJ Jacobs', 'SR Tendulkar', 'AT Rayudu', 'RG...</td>\n",
       "      <td>AM Saheba</td>\n",
       "      <td>RB Tiffin</td>\n",
       "    </tr>\n",
       "  </tbody>\n",
       "</table>\n",
       "</div>"
      ],
      "text/plain": [
       "         ID        City        Date Season        MatchNumber  \\\n",
       "703  501270     Chennai  2011-05-27   2011        Qualifier 2   \n",
       "704  501269      Mumbai  2011-05-25   2011  Elimination Final   \n",
       "706  501267     Kolkata  2011-05-22   2011                 70   \n",
       "710  501263      Mumbai  2011-05-20   2011                 66   \n",
       "718  501256      Mumbai  2011-05-14   2011                 59   \n",
       "722  501251  Chandigarh  2011-05-10   2011                 54   \n",
       "727  501246      Mumbai  2011-05-07   2011                 49   \n",
       "732  501241      Mumbai  2011-05-04   2011                 44   \n",
       "736  501237      Mumbai  2011-05-02   2011                 40   \n",
       "742  501231      Jaipur  2011-04-29   2011                 34   \n",
       "749  501224   Hyderabad  2011-04-24   2011                 27   \n",
       "752  501221      Mumbai  2011-04-22   2011                 25   \n",
       "754  501218      Mumbai  2011-04-20   2011                 21   \n",
       "762  501210      Mumbai  2011-04-15   2011                 13   \n",
       "768  501205   Bangalore  2011-04-12   2011                  8   \n",
       "771  501201       Delhi  2011-04-10   2011                  4   \n",
       "\n",
       "                           Team1                  Team2  \\\n",
       "703  Royal Challengers Bangalore         Mumbai Indians   \n",
       "704               Mumbai Indians  Kolkata Knight Riders   \n",
       "706        Kolkata Knight Riders         Mumbai Indians   \n",
       "710               Mumbai Indians       Rajasthan Royals   \n",
       "718               Mumbai Indians        Deccan Chargers   \n",
       "722                 Punjab Kings         Mumbai Indians   \n",
       "727               Mumbai Indians         Delhi Capitals   \n",
       "732                Pune Warriors         Mumbai Indians   \n",
       "736               Mumbai Indians           Punjab Kings   \n",
       "742             Rajasthan Royals         Mumbai Indians   \n",
       "749              Deccan Chargers         Mumbai Indians   \n",
       "752               Mumbai Indians    Chennai Super Kings   \n",
       "754               Mumbai Indians          Pune Warriors   \n",
       "762               Mumbai Indians   Kochi Tuskers Kerala   \n",
       "768  Royal Challengers Bangalore         Mumbai Indians   \n",
       "771               Delhi Capitals         Mumbai Indians   \n",
       "\n",
       "                                          Venue            TossWinner  \\\n",
       "703             MA Chidambaram Stadium, Chepauk        Mumbai Indians   \n",
       "704                            Wankhede Stadium        Mumbai Indians   \n",
       "706                                Eden Gardens        Mumbai Indians   \n",
       "710                            Wankhede Stadium        Mumbai Indians   \n",
       "718                            Wankhede Stadium       Deccan Chargers   \n",
       "722  Punjab Cricket Association Stadium, Mohali        Mumbai Indians   \n",
       "727                            Wankhede Stadium        Delhi Capitals   \n",
       "732                  Dr DY Patil Sports Academy         Pune Warriors   \n",
       "736                            Wankhede Stadium          Punjab Kings   \n",
       "742                      Sawai Mansingh Stadium      Rajasthan Royals   \n",
       "749   Rajiv Gandhi International Stadium, Uppal       Deccan Chargers   \n",
       "752                            Wankhede Stadium   Chennai Super Kings   \n",
       "754                            Wankhede Stadium         Pune Warriors   \n",
       "762                            Wankhede Stadium  Kochi Tuskers Kerala   \n",
       "768                       M Chinnaswamy Stadium        Mumbai Indians   \n",
       "771                            Feroz Shah Kotla        Delhi Capitals   \n",
       "\n",
       "    TossDecision SuperOver                  WinningTeam    WonBy  Margin  \\\n",
       "703        field         N  Royal Challengers Bangalore     Runs    43.0   \n",
       "704        field         N               Mumbai Indians  Wickets     4.0   \n",
       "706        field         N               Mumbai Indians  Wickets     5.0   \n",
       "710          bat         N             Rajasthan Royals  Wickets    10.0   \n",
       "718          bat         N              Deccan Chargers     Runs    10.0   \n",
       "722        field         N                 Punjab Kings     Runs    76.0   \n",
       "727        field         N               Mumbai Indians     Runs    32.0   \n",
       "732        field         N               Mumbai Indians     Runs    21.0   \n",
       "736        field         N               Mumbai Indians     Runs    23.0   \n",
       "742        field         N             Rajasthan Royals  Wickets     7.0   \n",
       "749        field         N               Mumbai Indians     Runs    37.0   \n",
       "752        field         N               Mumbai Indians     Runs     8.0   \n",
       "754          bat         N               Mumbai Indians  Wickets     7.0   \n",
       "762        field         N         Kochi Tuskers Kerala  Wickets     8.0   \n",
       "768        field         N               Mumbai Indians  Wickets     9.0   \n",
       "771          bat         N               Mumbai Indians  Wickets     8.0   \n",
       "\n",
       "    method  Player_of_Match  \\\n",
       "703    NaN         CH Gayle   \n",
       "704    NaN         MM Patel   \n",
       "706    NaN     JEC Franklin   \n",
       "710    NaN        SR Watson   \n",
       "718    NaN         A Mishra   \n",
       "722    NaN         BA Bhatt   \n",
       "727    NaN        AT Rayudu   \n",
       "732    NaN         R Sharma   \n",
       "736    NaN       KA Pollard   \n",
       "742    NaN          J Botha   \n",
       "749    NaN       SL Malinga   \n",
       "752    NaN  Harbhajan Singh   \n",
       "754    NaN         MM Patel   \n",
       "762    NaN      BB McCullum   \n",
       "768    NaN     SR Tendulkar   \n",
       "771    NaN       SL Malinga   \n",
       "\n",
       "                                          Team1Players  \\\n",
       "703  ['MA Agarwal', 'CH Gayle', 'V Kohli', 'AB de V...   \n",
       "704  ['AC Blizzard', 'SR Tendulkar', 'RG Sharma', '...   \n",
       "706  ['JH Kallis', 'SP Goswami', 'G Gambhir', 'MK T...   \n",
       "710  ['TL Suman', 'SR Tendulkar', 'AT Rayudu', 'RG ...   \n",
       "718  ['SR Tendulkar', 'AC Blizzard', 'AT Rayudu', '...   \n",
       "722  ['PC Valthaty', 'AC Gilchrist', 'SE Marsh', 'K...   \n",
       "727  ['AC Blizzard', 'SR Tendulkar', 'AT Rayudu', '...   \n",
       "732  ['JD Ryder', 'MK Pandey', 'GC Smith', 'AA Jhun...   \n",
       "736  ['DJ Jacobs', 'SR Tendulkar', 'AT Rayudu', 'KA...   \n",
       "742  ['SR Watson', 'R Dravid', 'J Botha', 'LRPL Tay...   \n",
       "749  ['S Sohal', 'S Dhawan', 'KC Sangakkara', 'CL W...   \n",
       "752  ['R Sathish', 'SR Tendulkar', 'AT Rayudu', 'RG...   \n",
       "754  ['JEC Franklin', 'SR Tendulkar', 'AT Rayudu', ...   \n",
       "762  ['DJ Jacobs', 'SR Tendulkar', 'AT Rayudu', 'KA...   \n",
       "768  ['MA Agarwal', 'TM Dilshan', 'V Kohli', 'AB de...   \n",
       "771  ['DA Warner', 'V Sehwag', 'UBT Chand', 'AJ Fin...   \n",
       "\n",
       "                                          Team2Players          Umpire1  \\\n",
       "703  ['AC Blizzard', 'SR Tendulkar', 'Harbhajan Sin...        Asad Rauf   \n",
       "704  ['G Gambhir', 'JH Kallis', 'SP Goswami', 'MK T...        Asad Rauf   \n",
       "706  ['TL Suman', 'SR Tendulkar', 'Harbhajan Singh'...      SK Tarapore   \n",
       "710  ['SR Watson', 'R Dravid', 'J Botha', 'AL Menar...      RE Koertzen   \n",
       "718  ['MJ Lumb', 'S Sohal', 'KC Sangakkara', 'JP Du...           S Ravi   \n",
       "722  ['AC Blizzard', 'SR Tendulkar', 'RG Sharma', '...      SK Tarapore   \n",
       "727  ['V Sehwag', 'DA Warner', 'CA Ingram', 'NV Ojh...      K Hariharan   \n",
       "732  ['AC Blizzard', 'SR Tendulkar', 'AT Rayudu', '...  HDPK Dharmasena   \n",
       "736  ['PC Valthaty', 'AC Gilchrist', 'SE Marsh', 'D...  HDPK Dharmasena   \n",
       "742  ['DJ Jacobs', 'SR Tendulkar', 'AT Rayudu', 'RG...        Asad Rauf   \n",
       "749  ['DJ Jacobs', 'SR Tendulkar', 'AT Rayudu', 'KA...  HDPK Dharmasena   \n",
       "752  ['MEK Hussey', 'M Vijay', 'SK Raina', 'S Badri...        Asad Rauf   \n",
       "754  ['JD Ryder', 'TD Paine', 'M Manhas', 'RV Uthap...        Asad Rauf   \n",
       "762  ['BB McCullum', 'DPMD Jayawardene', 'RA Jadeja...      BR Doctrove   \n",
       "768  ['DJ Jacobs', 'SR Tendulkar', 'AT Rayudu', 'RG...  HDPK Dharmasena   \n",
       "771  ['DJ Jacobs', 'SR Tendulkar', 'AT Rayudu', 'RG...        AM Saheba   \n",
       "\n",
       "         Umpire2  \n",
       "703   SJA Taufel  \n",
       "704   SJA Taufel  \n",
       "706   SJA Taufel  \n",
       "710   PR Reiffel  \n",
       "718  SK Tarapore  \n",
       "722    RJ Tucker  \n",
       "727   SJA Taufel  \n",
       "732   SJA Taufel  \n",
       "736   PR Reiffel  \n",
       "742  SK Tarapore  \n",
       "749      AL Hill  \n",
       "752    AM Saheba  \n",
       "754    AM Saheba  \n",
       "762   PR Reiffel  \n",
       "768      AL Hill  \n",
       "771    RB Tiffin  "
      ]
     },
     "execution_count": 39,
     "metadata": {},
     "output_type": "execute_result"
    }
   ],
   "source": [
    "ipl_df[((ipl_df['Team1']=='Mumbai Indians')|(ipl_df['Team2']=='Mumbai Indians'))&(ipl_df['Season']=='2011')]"
   ]
  },
  {
   "cell_type": "code",
   "execution_count": 40,
   "id": "06749510",
   "metadata": {},
   "outputs": [],
   "source": [
    "def team1vsteam2(team1,team2):\n",
    "    team1=(ipl_df['Team1']==team1)|(ipl_df['Team2']==team1)\n",
    "    team2=(ipl_df['Team1']==team2)|(ipl_df['Team2']==team2)\n",
    "    team_df=ipl_df[team1 & team2]['SuperOver'].value_counts()\n",
    "    print(team_df)\n",
    "    print(team_df.plot(kind='pie',autopct='%1.0f%%',labeldistance=1.2))"
   ]
  },
  {
   "cell_type": "code",
   "execution_count": 41,
   "id": "b458c4ec",
   "metadata": {},
   "outputs": [
    {
     "name": "stdout",
     "output_type": "stream",
     "text": [
      "N    2\n",
      "Name: SuperOver, dtype: int64\n",
      "AxesSubplot(0.260833,0.125;0.503333x0.755)\n"
     ]
    },
    {
     "data": {
      "image/png": "[encoded data removed]",
      "text/plain": [
       "<Figure size 432x288 with 1 Axes>"
      ]
     },
     "metadata": {},
     "output_type": "display_data"
    }
   ],
   "source": [
    "team1vsteam2('Gujarat Titans','Royal Challengers Bangalore')"
   ]
  },
  {
   "cell_type": "code",
   "execution_count": 42,
   "id": "fcd475c8",
   "metadata": {},
   "outputs": [
    {
     "name": "stdout",
     "output_type": "stream",
     "text": [
      "Finding the team who played Super over\n"
     ]
    },
    {
     "data": {
      "text/html": [
       "<div>\n",
       "<style scoped>\n",
       "    .dataframe tbody tr th:only-of-type {\n",
       "        vertical-align: middle;\n",
       "    }\n",
       "\n",
       "    .dataframe tbody tr th {\n",
       "        vertical-align: top;\n",
       "    }\n",
       "\n",
       "    .dataframe thead th {\n",
       "        text-align: right;\n",
       "    }\n",
       "</style>\n",
       "<table border=\"1\" class=\"dataframe\">\n",
       "  <thead>\n",
       "    <tr style=\"text-align: right;\">\n",
       "      <th></th>\n",
       "      <th>Team1</th>\n",
       "      <th>Team2</th>\n",
       "      <th>Season</th>\n",
       "    </tr>\n",
       "  </thead>\n",
       "  <tbody>\n",
       "    <tr>\n",
       "      <th>114</th>\n",
       "      <td>Delhi Capitals</td>\n",
       "      <td>Sunrisers Hyderabad</td>\n",
       "      <td>2021</td>\n",
       "    </tr>\n",
       "    <tr>\n",
       "      <th>158</th>\n",
       "      <td>Kolkata Knight Riders</td>\n",
       "      <td>Sunrisers Hyderabad</td>\n",
       "      <td>2020/21</td>\n",
       "    </tr>\n",
       "    <tr>\n",
       "      <th>159</th>\n",
       "      <td>Mumbai Indians</td>\n",
       "      <td>Punjab Kings</td>\n",
       "      <td>2020/21</td>\n",
       "    </tr>\n",
       "    <tr>\n",
       "      <th>184</th>\n",
       "      <td>Royal Challengers Bangalore</td>\n",
       "      <td>Mumbai Indians</td>\n",
       "      <td>2020/21</td>\n",
       "    </tr>\n",
       "    <tr>\n",
       "      <th>192</th>\n",
       "      <td>Delhi Capitals</td>\n",
       "      <td>Punjab Kings</td>\n",
       "      <td>2020/21</td>\n",
       "    </tr>\n",
       "    <tr>\n",
       "      <th>203</th>\n",
       "      <td>Mumbai Indians</td>\n",
       "      <td>Sunrisers Hyderabad</td>\n",
       "      <td>2019</td>\n",
       "    </tr>\n",
       "    <tr>\n",
       "      <th>244</th>\n",
       "      <td>Kolkata Knight Riders</td>\n",
       "      <td>Delhi Capitals</td>\n",
       "      <td>2019</td>\n",
       "    </tr>\n",
       "    <tr>\n",
       "      <th>339</th>\n",
       "      <td>Gujarat Lions</td>\n",
       "      <td>Mumbai Indians</td>\n",
       "      <td>2017</td>\n",
       "    </tr>\n",
       "    <tr>\n",
       "      <th>474</th>\n",
       "      <td>Rajasthan Royals</td>\n",
       "      <td>Punjab Kings</td>\n",
       "      <td>2015</td>\n",
       "    </tr>\n",
       "    <tr>\n",
       "      <th>533</th>\n",
       "      <td>Kolkata Knight Riders</td>\n",
       "      <td>Rajasthan Royals</td>\n",
       "      <td>2014</td>\n",
       "    </tr>\n",
       "    <tr>\n",
       "      <th>608</th>\n",
       "      <td>Royal Challengers Bangalore</td>\n",
       "      <td>Delhi Capitals</td>\n",
       "      <td>2013</td>\n",
       "    </tr>\n",
       "    <tr>\n",
       "      <th>621</th>\n",
       "      <td>Sunrisers Hyderabad</td>\n",
       "      <td>Royal Challengers Bangalore</td>\n",
       "      <td>2013</td>\n",
       "    </tr>\n",
       "    <tr>\n",
       "      <th>819</th>\n",
       "      <td>Chennai Super Kings</td>\n",
       "      <td>Punjab Kings</td>\n",
       "      <td>2009/10</td>\n",
       "    </tr>\n",
       "    <tr>\n",
       "      <th>883</th>\n",
       "      <td>Kolkata Knight Riders</td>\n",
       "      <td>Rajasthan Royals</td>\n",
       "      <td>2009</td>\n",
       "    </tr>\n",
       "  </tbody>\n",
       "</table>\n",
       "</div>"
      ],
      "text/plain": [
       "                           Team1                        Team2   Season\n",
       "114               Delhi Capitals          Sunrisers Hyderabad     2021\n",
       "158        Kolkata Knight Riders          Sunrisers Hyderabad  2020/21\n",
       "159               Mumbai Indians                 Punjab Kings  2020/21\n",
       "184  Royal Challengers Bangalore               Mumbai Indians  2020/21\n",
       "192               Delhi Capitals                 Punjab Kings  2020/21\n",
       "203               Mumbai Indians          Sunrisers Hyderabad     2019\n",
       "244        Kolkata Knight Riders               Delhi Capitals     2019\n",
       "339                Gujarat Lions               Mumbai Indians     2017\n",
       "474             Rajasthan Royals                 Punjab Kings     2015\n",
       "533        Kolkata Knight Riders             Rajasthan Royals     2014\n",
       "608  Royal Challengers Bangalore               Delhi Capitals     2013\n",
       "621          Sunrisers Hyderabad  Royal Challengers Bangalore     2013\n",
       "819          Chennai Super Kings                 Punjab Kings  2009/10\n",
       "883        Kolkata Knight Riders             Rajasthan Royals     2009"
      ]
     },
     "execution_count": 42,
     "metadata": {},
     "output_type": "execute_result"
    }
   ],
   "source": [
    "\n",
    "print(\"Finding the team who played Super over\")\n",
    "ipl_df[(ipl_df['SuperOver']=='Y')][['Team1','Team2','Season']]\n"
   ]
  },
  {
   "cell_type": "code",
   "execution_count": null,
   "id": "d1e5a874",
   "metadata": {},
   "outputs": [],
   "source": []
  },
  {
   "cell_type": "code",
   "execution_count": null,
   "id": "c0de7985",
   "metadata": {},
   "outputs": [],
   "source": []
  },
  {
   "cell_type": "code",
   "execution_count": null,
   "id": "acc98841",
   "metadata": {},
   "outputs": [],
   "source": []
  }
 ],
 "metadata": {
  "kernelspec": {
   "display_name": "Python 3",
   "language": "python",
   "name": "python3"
  },
  "language_info": {
   "codemirror_mode": {
    "name": "ipython",
    "version": 3
   },
   "file_extension": ".py",
   "mimetype": "text/x-python",
   "name": "python",
   "nbconvert_exporter": "python",
   "pygments_lexer": "ipython3",
   "version": "3.7.4"
  }
 },
 "nbformat": 4,
 "nbformat_minor": 5
}
