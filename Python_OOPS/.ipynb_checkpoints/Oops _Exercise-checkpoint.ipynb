{
 "cells": [
  {
   "cell_type": "markdown",
   "id": "cf7f221a",
   "metadata": {},
   "source": [
    "### 1) Write a Rectangle class in Python language, allowing you to build a rectangle with length and width attributes."
   ]
  },
  {
   "cell_type": "code",
   "execution_count": 7,
   "id": "872a51c5",
   "metadata": {},
   "outputs": [
    {
     "name": "stdout",
     "output_type": "stream",
     "text": [
      "Length of Rectangle  4\n",
      "Breadth of Rectangle 5\n",
      "Area of Rectangle = 20\n",
      "Perimeter of Rectangle = 40\n"
     ]
    }
   ],
   "source": [
    "class Rectangle:\n",
    "    \n",
    "    def __init__(self,length,breadth):\n",
    "        self.length=length  ### Instance variable.\n",
    "        self.breadth=breadth ### Instance variable.\n",
    "        \n",
    "    def Area(self):  ### Instance Method\n",
    "        return self.length*self.breadth\n",
    "    \n",
    "    def Perimeter(self):### Instance Method.\n",
    "        return 2*(self.length*self.breadth)\n",
    "    \n",
    "    def Display(self):### Instance Method..\n",
    "        print(\"Length of Rectangle \",str(self.length))\n",
    "        print(\"Breadth of Rectangle\",str(self.breadth))\n",
    "        print(\"Area of Rectangle =\",str(self.Area()))\n",
    "        print(\"Perimeter of Rectangle =\",str(self.Perimeter()))\n",
    "\n",
    "r1=Rectangle(4,5)\n",
    "r1.Display()"
   ]
  },
  {
   "cell_type": "markdown",
   "id": "37f2d5a2",
   "metadata": {},
   "source": [
    "#### 2) Create a Python class Person with attributes: name and age of type string.\n",
    "       Create a display() method that displays the name and age of an object created via the Person class.\n",
    "       Create a child class Student  which inherits from the Person class and which also has a section attribute.\n",
    "       Create a method displayStudent() that displays the name, age and section of an object created via the Student class.\n",
    "       Create a student object via an instantiation on the Student class and then test the displayStudent method."
   ]
  },
  {
   "cell_type": "code",
   "execution_count": 36,
   "id": "b781c671",
   "metadata": {},
   "outputs": [
    {
     "name": "stdout",
     "output_type": "stream",
     "text": [
      "--------------------------\n",
      "Parent class constructor\n",
      "Student class constructor\n",
      "Name of person  Hitesh\n",
      "Age of person  30\n",
      "Section of Student  A\n"
     ]
    }
   ],
   "source": [
    "class Person:\n",
    "    \n",
    "    def __init__(self,name,age):\n",
    "        self.name=name\n",
    "        self.age=age\n",
    "        print(\"Parent class constructor\")\n",
    "        \n",
    "    def display(self):\n",
    "        print(\"Name of person \",str(self.name))\n",
    "        print(\"Age of person \",str(self.age))\n",
    "        \n",
    "class Student(Person):\n",
    "    \n",
    "    def __init__(self,section,name,age):\n",
    "        Person.__init__(self,name,age)\n",
    "        self.section=section\n",
    "        print(\"Student class constructor\")\n",
    "\n",
    "    def displayStudent(self):\n",
    "        print(\"Name of person \",str(self.name))\n",
    "        print(\"Age of person \",str(self.age))\n",
    "        print(\"Section of Student \",str(self.section))\n",
    "        \n",
    "        \n",
    "#p=Person(\"Hitesh\",\"30\")\n",
    "#p.display()\n",
    "print(\"--------------------------\")\n",
    "s=Student(\"A\",\"Hitesh\",30)\n",
    "#s.display()\n",
    "s.displayStudent()"
   ]
  },
  {
   "cell_type": "code",
   "execution_count": 32,
   "id": "51da7ef2",
   "metadata": {},
   "outputs": [
    {
     "name": "stdout",
     "output_type": "stream",
     "text": [
      "This is child class constructor\n",
      "Name  Hitesh\n",
      "Age  31\n",
      "Welcome to Parents class constructor\n"
     ]
    }
   ],
   "source": [
    "class Parents:\n",
    "    \n",
    "    def __init__(self):\n",
    "        print(\"This is parents class constructor\")\n",
    "        \n",
    "    def display(self):\n",
    "        print(\"Welcome to Parents class constructor\")\n",
    "        \n",
    "class Child(Parents):\n",
    "    \n",
    "    def __init__(self,name,age):\n",
    "        self.name=name\n",
    "        self.age=age\n",
    "        print(\"This is child class constructor\")\n",
    "        \n",
    "    def display_info(self):\n",
    "        print(\"Name \",self.name)\n",
    "        print(\"Age \",self.age)\n",
    "        \n",
    "c=Child(\"Hitesh\",31)\n",
    "c.display_info()\n",
    "c.display()"
   ]
  },
  {
   "cell_type": "code",
   "execution_count": null,
   "id": "7d85f029",
   "metadata": {},
   "outputs": [],
   "source": []
  },
  {
   "cell_type": "code",
   "execution_count": null,
   "id": "3f845585",
   "metadata": {},
   "outputs": [],
   "source": []
  },
  {
   "cell_type": "code",
   "execution_count": null,
   "id": "40dbc83d",
   "metadata": {},
   "outputs": [],
   "source": []
  }
 ],
 "metadata": {
  "kernelspec": {
   "display_name": "Python 3",
   "language": "python",
   "name": "python3"
  },
  "language_info": {
   "codemirror_mode": {
    "name": "ipython",
    "version": 3
   },
   "file_extension": ".py",
   "mimetype": "text/x-python",
   "name": "python",
   "nbconvert_exporter": "python",
   "pygments_lexer": "ipython3",
   "version": "3.7.4"
  }
 },
 "nbformat": 4,
 "nbformat_minor": 5
}
