{
 "cells": [
  {
   "cell_type": "markdown",
   "metadata": {},
   "source": [
    "### Pandas Interview Questions\n"
   ]
  },
  {
   "cell_type": "markdown",
   "metadata": {},
   "source": [
    "### 1. How to fill nan values in pandas with zero"
   ]
  },
  {
   "cell_type": "markdown",
   "metadata": {},
   "source": [
    "### 1) Using fillna() method.."
   ]
  },
  {
   "cell_type": "code",
   "execution_count": 1,
   "metadata": {},
   "outputs": [],
   "source": [
    "import pandas as pd\n",
    "import numpy as np\n",
    "  \n",
    "Student_dict = {\n",
    "    'Name': ['Jack', 'Rack', np.nan],\n",
    "    'Marks':[100.5,np.nan, np.nan],\n",
    "    'Subject': [np.nan, 'Math', 'Music']\n",
    "}\n",
    "  \n"
   ]
  },
  {
   "cell_type": "code",
   "execution_count": 2,
   "metadata": {},
   "outputs": [
    {
     "name": "stdout",
     "output_type": "stream",
     "text": [
      "{'Name': ['Jack', 'Rack', nan], 'Marks': [100.5, nan, nan], 'Subject': [nan, 'Math', 'Music']}\n"
     ]
    }
   ],
   "source": [
    "print(Student_dict)"
   ]
  },
  {
   "cell_type": "code",
   "execution_count": 3,
   "metadata": {},
   "outputs": [
    {
     "name": "stdout",
     "output_type": "stream",
     "text": [
      "   Name  Marks Subject\n",
      "0  Jack  100.5     NaN\n",
      "1  Rack    NaN    Math\n",
      "2   NaN    NaN   Music\n"
     ]
    }
   ],
   "source": [
    "### Convert Dictionary into DataFrame.\n",
    "\n",
    "Student_df=pd.DataFrame(Student_dict)\n",
    "print(Student_df)"
   ]
  },
  {
   "cell_type": "code",
   "execution_count": 4,
   "metadata": {},
   "outputs": [
    {
     "name": "stdout",
     "output_type": "stream",
     "text": [
      "   Name  Marks Subject\n",
      "0  Jack  100.5     NaN\n",
      "1  Rack    0.0    Math\n",
      "2   NaN    0.0   Music\n"
     ]
    }
   ],
   "source": [
    "### Filling Nan Values with Zeroes.\n",
    "\n",
    "Student_df['Marks']=Student_df['Marks'].fillna(0)\n",
    "print(Student_df)"
   ]
  },
  {
   "cell_type": "markdown",
   "metadata": {},
   "source": [
    "### 2) Replace() method"
   ]
  },
  {
   "cell_type": "code",
   "execution_count": 5,
   "metadata": {},
   "outputs": [
    {
     "name": "stdout",
     "output_type": "stream",
     "text": [
      "   Name  Marks Subject\n",
      "0  Jack  100.5     NaN\n",
      "1  Rack    0.0    Math\n",
      "2   NaN    0.0   Music\n"
     ]
    }
   ],
   "source": [
    "Student_df1=Student_df.replace(np.nan,0)\n",
    "print(Student_df)"
   ]
  },
  {
   "cell_type": "markdown",
   "metadata": {},
   "source": [
    "### 3) Fill NAN values with custom values."
   ]
  },
  {
   "cell_type": "code",
   "execution_count": 6,
   "metadata": {},
   "outputs": [
    {
     "data": {
      "text/html": [
       "<div>\n",
       "<style scoped>\n",
       "    .dataframe tbody tr th:only-of-type {\n",
       "        vertical-align: middle;\n",
       "    }\n",
       "\n",
       "    .dataframe tbody tr th {\n",
       "        vertical-align: top;\n",
       "    }\n",
       "\n",
       "    .dataframe thead th {\n",
       "        text-align: right;\n",
       "    }\n",
       "</style>\n",
       "<table border=\"1\" class=\"dataframe\">\n",
       "  <thead>\n",
       "    <tr style=\"text-align: right;\">\n",
       "      <th></th>\n",
       "      <th>Name</th>\n",
       "      <th>Marks</th>\n",
       "      <th>Subject</th>\n",
       "    </tr>\n",
       "  </thead>\n",
       "  <tbody>\n",
       "    <tr>\n",
       "      <th>0</th>\n",
       "      <td>Jack</td>\n",
       "      <td>100.5</td>\n",
       "      <td>NaN</td>\n",
       "    </tr>\n",
       "    <tr>\n",
       "      <th>1</th>\n",
       "      <td>Rack</td>\n",
       "      <td>0.0</td>\n",
       "      <td>Math</td>\n",
       "    </tr>\n",
       "    <tr>\n",
       "      <th>2</th>\n",
       "      <td>NaN</td>\n",
       "      <td>0.0</td>\n",
       "      <td>Music</td>\n",
       "    </tr>\n",
       "  </tbody>\n",
       "</table>\n",
       "</div>"
      ],
      "text/plain": [
       "   Name  Marks Subject\n",
       "0  Jack  100.5     NaN\n",
       "1  Rack    0.0    Math\n",
       "2   NaN    0.0   Music"
      ]
     },
     "execution_count": 6,
     "metadata": {},
     "output_type": "execute_result"
    }
   ],
   "source": [
    "Student_df"
   ]
  },
  {
   "cell_type": "code",
   "execution_count": 7,
   "metadata": {},
   "outputs": [
    {
     "name": "stdout",
     "output_type": "stream",
     "text": [
      "     Name  Marks Subject\n",
      "0    Jack  100.5     NaN\n",
      "1    Rack    0.0    Math\n",
      "2  Hitesh    0.0   Music\n"
     ]
    }
   ],
   "source": [
    "Student_df['Name'].fillna('Hitesh',inplace=True)\n",
    "\n",
    "print(Student_df)"
   ]
  },
  {
   "cell_type": "code",
   "execution_count": 8,
   "metadata": {},
   "outputs": [
    {
     "data": {
      "text/plain": [
       "0     True\n",
       "1    False\n",
       "2    False\n",
       "Name: Subject, dtype: bool"
      ]
     },
     "execution_count": 8,
     "metadata": {},
     "output_type": "execute_result"
    }
   ],
   "source": [
    "Student_df['Subject'].isna()"
   ]
  },
  {
   "cell_type": "markdown",
   "metadata": {},
   "source": [
    "### 1. How to create a NumPy 1-D array by using a Python list?"
   ]
  },
  {
   "cell_type": "code",
   "execution_count": 9,
   "metadata": {},
   "outputs": [
    {
     "name": "stdout",
     "output_type": "stream",
     "text": [
      "[10 20 30 40 50]\n"
     ]
    }
   ],
   "source": [
    "import numpy as np\n",
    "arr_result=np.array([10,20,30,40,50,])\n",
    "print(arr_result)"
   ]
  },
  {
   "cell_type": "markdown",
   "metadata": {},
   "source": [
    "### 2. How To Create 2-Dimensional NumPy Array Using A List Of Lists?"
   ]
  },
  {
   "cell_type": "code",
   "execution_count": 12,
   "metadata": {},
   "outputs": [
    {
     "name": "stdout",
     "output_type": "stream",
     "text": [
      "Two Dimentional array = [[1 2 3]\n",
      " [4 5 6]\n",
      " [6 7 8]]\n",
      "Shape of two dimentional array = (3, 3)\n"
     ]
    }
   ],
   "source": [
    "num=[[1,2,3],[4,5,6],[6,7,8]]\n",
    "result=np.array(num)\n",
    "print(\"Two Dimentional array =\",result)\n",
    "print(\"Shape of two dimentional array =\",result.shape)"
   ]
  },
  {
   "cell_type": "markdown",
   "metadata": {},
   "source": [
    "### 3) 3. How To Create NumPy Array Using Empty() Functions?"
   ]
  },
  {
   "cell_type": "code",
   "execution_count": 14,
   "metadata": {},
   "outputs": [
    {
     "name": "stdout",
     "output_type": "stream",
     "text": [
      "EMpty Array = [[0.00000000e+000 0.00000000e+000 0.00000000e+000]\n",
      " [0.00000000e+000 0.00000000e+000 1.16797119e-320]\n",
      " [1.09385465e-303 8.36324506e-299 9.12110623e-304]]\n"
     ]
    }
   ],
   "source": [
    "result=np.empty((3,3))\n",
    "print(\"EMpty Array =\",result)"
   ]
  },
  {
   "cell_type": "markdown",
   "metadata": {},
   "source": [
    "### 4) 4. How To Create NumPy Array Using Eye() Functions?"
   ]
  },
  {
   "cell_type": "code",
   "execution_count": 16,
   "metadata": {},
   "outputs": [
    {
     "name": "stdout",
     "output_type": "stream",
     "text": [
      "Array = [[1. 0. 0. 0.]\n",
      " [0. 1. 0. 0.]\n",
      " [0. 0. 1. 0.]\n",
      " [0. 0. 0. 1.]]\n"
     ]
    }
   ],
   "source": [
    "result_eye=np.eye(4)\n",
    "print(\"Array =\",result_eye)"
   ]
  },
  {
   "cell_type": "markdown",
   "metadata": {},
   "source": [
    "### 5.How To Create NumPy Array Using Ones() Function?"
   ]
  },
  {
   "cell_type": "code",
   "execution_count": 19,
   "metadata": {},
   "outputs": [
    {
     "name": "stdout",
     "output_type": "stream",
     "text": [
      "[[1. 1. 1. 1. 1.]\n",
      " [1. 1. 1. 1. 1.]\n",
      " [1. 1. 1. 1. 1.]\n",
      " [1. 1. 1. 1. 1.]\n",
      " [1. 1. 1. 1. 1.]]\n"
     ]
    }
   ],
   "source": [
    "one_result=np.ones((5,5))\n",
    "print(one_result)"
   ]
  },
  {
   "cell_type": "markdown",
   "metadata": {},
   "source": [
    "### 6. How To Create NumPy Array Using Zeros() Function?"
   ]
  },
  {
   "cell_type": "code",
   "execution_count": 20,
   "metadata": {},
   "outputs": [
    {
     "name": "stdout",
     "output_type": "stream",
     "text": [
      "[[0. 0. 0. 0.]\n",
      " [0. 0. 0. 0.]\n",
      " [0. 0. 0. 0.]\n",
      " [0. 0. 0. 0.]]\n"
     ]
    }
   ],
   "source": [
    "zero_result=np.zeros((4,4))\n",
    "print(zero_result)"
   ]
  },
  {
   "cell_type": "markdown",
   "metadata": {},
   "source": [
    "### 7 How to use NumPy arrange() function to Create an array?"
   ]
  },
  {
   "cell_type": "code",
   "execution_count": 21,
   "metadata": {},
   "outputs": [
    {
     "name": "stdout",
     "output_type": "stream",
     "text": [
      "[0 1 2 3 4 5 6 7]\n"
     ]
    }
   ],
   "source": [
    "result_arr=np.arange(8)\n",
    "print(result_arr)"
   ]
  },
  {
   "cell_type": "code",
   "execution_count": 25,
   "metadata": {},
   "outputs": [
    {
     "name": "stdout",
     "output_type": "stream",
     "text": [
      "[[0 1 2 3]\n",
      " [4 5 6 7]]\n"
     ]
    }
   ],
   "source": [
    "result_arr=np.arange(8).reshape(2,4)\n",
    "print(result_arr)"
   ]
  },
  {
   "cell_type": "markdown",
   "metadata": {},
   "source": [
    "### 8.How to create a NumPy array with step size?"
   ]
  },
  {
   "cell_type": "code",
   "execution_count": 33,
   "metadata": {},
   "outputs": [
    {
     "name": "stdout",
     "output_type": "stream",
     "text": [
      "[[ 1  3]\n",
      " [ 5  7]\n",
      " [ 9 11]]\n"
     ]
    }
   ],
   "source": [
    "result=np.arange(1,13,2).reshape(3,2)\n",
    "print(result)"
   ]
  },
  {
   "cell_type": "markdown",
   "metadata": {},
   "source": [
    "### 9 How to create a matrix of numbers in NumPy?"
   ]
  },
  {
   "cell_type": "code",
   "execution_count": 35,
   "metadata": {},
   "outputs": [
    {
     "name": "stdout",
     "output_type": "stream",
     "text": [
      "[[7 6 0]\n",
      " [7 4 1]\n",
      " [0 7 5]]\n"
     ]
    }
   ],
   "source": [
    "result=np.random.randint(10,size=(3,3))\n",
    "print(result)"
   ]
  },
  {
   "cell_type": "markdown",
   "metadata": {},
   "source": [
    "### How to change the name of key in dictionary."
   ]
  },
  {
   "cell_type": "code",
   "execution_count": 36,
   "metadata": {},
   "outputs": [
    {
     "name": "stdout",
     "output_type": "stream",
     "text": [
      "{'name': 'Dog', 'age': 5, 'Weight': 4, 'Country': 'US', 'City': 'California'}\n"
     ]
    }
   ],
   "source": [
    "animaldict = {\n",
    "  \"name\": \"Dog\",\n",
    "  \"age\":5,\n",
    "  \"Weight\": 4,\n",
    "  \"Country\": \"US\",\n",
    "  \"City\":\"California\"\n",
    "   \n",
    "}\n",
    "print(animaldict)"
   ]
  },
  {
   "cell_type": "code",
   "execution_count": 37,
   "metadata": {},
   "outputs": [
    {
     "name": "stdout",
     "output_type": "stream",
     "text": [
      "{'age': 5, 'Weight': 4, 'Country': 'US', 'City': 'California', 'AnimalName': 'Dog'}\n"
     ]
    }
   ],
   "source": [
    "animaldict['AnimalName']=animaldict.pop('name')\n",
    "print(animaldict)"
   ]
  },
  {
   "cell_type": "markdown",
   "metadata": {},
   "source": [
    "### How to delete a key from Dictionary"
   ]
  },
  {
   "cell_type": "code",
   "execution_count": 38,
   "metadata": {},
   "outputs": [
    {
     "name": "stdout",
     "output_type": "stream",
     "text": [
      "{'Apple': 100, 'Orange': 200, 'Banana': 400, 'pomegranate': 600}\n"
     ]
    }
   ],
   "source": [
    "fruitsDict = {\n",
    "  'Apple': 100,\n",
    "  'Orange': 200,\n",
    "  'Banana': 400,\n",
    "  'pomegranate':600\n",
    "}\n",
    "print(fruitsDict)"
   ]
  },
  {
   "cell_type": "code",
   "execution_count": 40,
   "metadata": {},
   "outputs": [],
   "source": [
    "if 'Apple' in fruitsDict:\n",
    "    del fruitsDict['Apple']"
   ]
  },
  {
   "cell_type": "code",
   "execution_count": 41,
   "metadata": {},
   "outputs": [
    {
     "name": "stdout",
     "output_type": "stream",
     "text": [
      "{'Orange': 200, 'Banana': 400, 'pomegranate': 600}\n"
     ]
    }
   ],
   "source": [
    "print(fruitsDict)"
   ]
  },
  {
   "cell_type": "markdown",
   "metadata": {},
   "source": [
    "### How to get min and max keys corresponding to min and max value in Dictionary.."
   ]
  },
  {
   "cell_type": "code",
   "execution_count": 42,
   "metadata": {},
   "outputs": [
    {
     "name": "stdout",
     "output_type": "stream",
     "text": [
      "{'Apple': 100, 'Orange': 200, 'Banana': 400, 'pomegranate': 600}\n"
     ]
    }
   ],
   "source": [
    "fruitsDict = {\n",
    "  'Apple': 100,\n",
    "  'Orange': 200,\n",
    "  'Banana': 400,\n",
    "  'pomegranate':600\n",
    "}\n",
    "print(fruitsDict)"
   ]
  },
  {
   "cell_type": "code",
   "execution_count": 44,
   "metadata": {},
   "outputs": [
    {
     "name": "stdout",
     "output_type": "stream",
     "text": [
      "Min key in Dictionary  Apple\n",
      "Max key in Dictionary  pomegranate\n"
     ]
    }
   ],
   "source": [
    "print(\"Min key in Dictionary \",min(fruitsDict,key=fruitsDict.get))\n",
    "print(\"Max key in Dictionary \",max(fruitsDict,key=fruitsDict.get))"
   ]
  },
  {
   "cell_type": "markdown",
   "metadata": {},
   "source": [
    "### How to concatenate multiple dictionary in one.."
   ]
  },
  {
   "cell_type": "code",
   "execution_count": 49,
   "metadata": {},
   "outputs": [
    {
     "name": "stdout",
     "output_type": "stream",
     "text": [
      "{'Apple': 100, 'banana': 5, 'Math': 100, 'English': 98, 'name': 'Rabbit', 'age': 1}\n"
     ]
    }
   ],
   "source": [
    "Fruit = {'Apple': 100, 'banana': 5}\n",
    " \n",
    "Subject =  {'Math': 100, 'English': 98}\n",
    " \n",
    "animal =  {'name': 'Rabbit', 'age': 1}\n",
    "\n",
    "\n",
    "concat_dat={}\n",
    "\n",
    "for dict in (Fruit,Subject,animal):\n",
    "    concat_dat.update(dict)\n",
    "print(concat_dat)"
   ]
  },
  {
   "cell_type": "markdown",
   "metadata": {},
   "source": [
    "### How to sum all elements of Dictionary.."
   ]
  },
  {
   "cell_type": "code",
   "execution_count": 51,
   "metadata": {},
   "outputs": [
    {
     "name": "stdout",
     "output_type": "stream",
     "text": [
      "Sum of all values = 210\n"
     ]
    }
   ],
   "source": [
    "fruit = {'Apple': 100, 'banana': 5,'orange':45,'Guava':60}\n",
    "\n",
    "print(\"Sum of all values =\",sum(fruit.values()))"
   ]
  },
  {
   "cell_type": "markdown",
   "metadata": {},
   "source": [
    "### How to sort a dictionary by key.."
   ]
  },
  {
   "cell_type": "code",
   "execution_count": 53,
   "metadata": {},
   "outputs": [
    {
     "name": "stdout",
     "output_type": "stream",
     "text": [
      "Apple 10\n",
      "Banana 5\n",
      "Guava 6\n",
      "Orange 4\n"
     ]
    }
   ],
   "source": [
    "FruitDict = {'Apple': 10, 'Banana': 5,'Orange':4,'Guava':6}\n",
    "\n",
    "### sorting dictionary.\n",
    "\n",
    "for key in sorted(FruitDict):\n",
    "    print(key,FruitDict[key])\n",
    "    \n",
    "    "
   ]
  },
  {
   "cell_type": "code",
   "execution_count": 54,
   "metadata": {},
   "outputs": [
    {
     "name": "stdout",
     "output_type": "stream",
     "text": [
      "Apple 10\n",
      "Banana 5\n",
      "Guava 6\n",
      "Orange 4\n"
     ]
    }
   ],
   "source": [
    "for values in sorted(FruitDict):\n",
    "    print(values,FruitDict[values])"
   ]
  },
  {
   "cell_type": "markdown",
   "metadata": {},
   "source": [
    "### How do we find highest 2 values in a dictionary.."
   ]
  },
  {
   "cell_type": "code",
   "execution_count": null,
   "metadata": {},
   "outputs": [],
   "source": []
  }
 ],
 "metadata": {
  "kernelspec": {
   "display_name": "Python 3",
   "language": "python",
   "name": "python3"
  },
  "language_info": {
   "codemirror_mode": {
    "name": "ipython",
    "version": 3
   },
   "file_extension": ".py",
   "mimetype": "text/x-python",
   "name": "python",
   "nbconvert_exporter": "python",
   "pygments_lexer": "ipython3",
   "version": "3.7.4"
  }
 },
 "nbformat": 4,
 "nbformat_minor": 2
}
