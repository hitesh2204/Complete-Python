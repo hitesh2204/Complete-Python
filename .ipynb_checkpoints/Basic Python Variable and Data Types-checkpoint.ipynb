{
 "cells": [
  {
   "cell_type": "markdown",
   "metadata": {},
   "source": [
    "## Variables and Types."
   ]
  },
  {
   "cell_type": "markdown",
   "metadata": {},
   "source": [
    "### Python is completely object oriented, and not \"statically typed\". You do not need to declare variables before using them, or declare their type. Every variable in Python is an object.\n",
    "\n",
    "1) Number\n",
    "2) List\n",
    "3) Tuples\n",
    "4) Set\n",
    "5) Dictionary"
   ]
  },
  {
   "cell_type": "markdown",
   "metadata": {},
   "source": [
    "### 1) Number\n",
    "\n",
    "Number data types store numeric values. Number objects are created when you assign a value to them"
   ]
  },
  {
   "cell_type": "code",
   "execution_count": 1,
   "metadata": {},
   "outputs": [
    {
     "name": "stdout",
     "output_type": "stream",
     "text": [
      "10\n"
     ]
    }
   ],
   "source": [
    "num=10\n",
    "print(num)"
   ]
  },
  {
   "cell_type": "code",
   "execution_count": 2,
   "metadata": {},
   "outputs": [
    {
     "data": {
      "text/plain": [
       "int"
      ]
     },
     "execution_count": 2,
     "metadata": {},
     "output_type": "execute_result"
    }
   ],
   "source": [
    "## checkinh the type of variable.\n",
    "type(num)"
   ]
  },
  {
   "cell_type": "code",
   "execution_count": 3,
   "metadata": {},
   "outputs": [
    {
     "name": "stdout",
     "output_type": "stream",
     "text": [
      "10.2\n"
     ]
    }
   ],
   "source": [
    "float_num=10.20\n",
    "print(float_num)"
   ]
  },
  {
   "cell_type": "code",
   "execution_count": 4,
   "metadata": {},
   "outputs": [
    {
     "data": {
      "text/plain": [
       "float"
      ]
     },
     "execution_count": 4,
     "metadata": {},
     "output_type": "execute_result"
    }
   ],
   "source": [
    "type(float_num)"
   ]
  },
  {
   "cell_type": "code",
   "execution_count": 5,
   "metadata": {},
   "outputs": [
    {
     "name": "stdout",
     "output_type": "stream",
     "text": [
      "Hitesh\n"
     ]
    }
   ],
   "source": [
    "name=\"Hitesh\"\n",
    "print(name)"
   ]
  },
  {
   "cell_type": "code",
   "execution_count": 6,
   "metadata": {},
   "outputs": [
    {
     "data": {
      "text/plain": [
       "str"
      ]
     },
     "execution_count": 6,
     "metadata": {},
     "output_type": "execute_result"
    }
   ],
   "source": [
    "type(name)"
   ]
  },
  {
   "cell_type": "code",
   "execution_count": 7,
   "metadata": {},
   "outputs": [
    {
     "name": "stdout",
     "output_type": "stream",
     "text": [
      "10 Hitesh\n"
     ]
    }
   ],
   "source": [
    "addition=str(num)+\" \"+name\n",
    "print(addition)"
   ]
  },
  {
   "cell_type": "code",
   "execution_count": 8,
   "metadata": {},
   "outputs": [
    {
     "name": "stdout",
     "output_type": "stream",
     "text": [
      "20.2\n"
     ]
    }
   ],
   "source": [
    "new_num=num+float_num\n",
    "print(new_num)"
   ]
  },
  {
   "cell_type": "code",
   "execution_count": 9,
   "metadata": {},
   "outputs": [
    {
     "data": {
      "text/plain": [
       "float"
      ]
     },
     "execution_count": 9,
     "metadata": {},
     "output_type": "execute_result"
    }
   ],
   "source": [
    "type(new_num)"
   ]
  },
  {
   "cell_type": "code",
   "execution_count": 10,
   "metadata": {},
   "outputs": [
    {
     "name": "stdout",
     "output_type": "stream",
     "text": [
      "102.0\n"
     ]
    }
   ],
   "source": [
    "mul_num=num*float_num\n",
    "print(mul_num)"
   ]
  },
  {
   "cell_type": "code",
   "execution_count": 11,
   "metadata": {},
   "outputs": [
    {
     "name": "stdout",
     "output_type": "stream",
     "text": [
      "<class 'float'>\n"
     ]
    }
   ],
   "source": [
    "print(type(mul_num))"
   ]
  },
  {
   "cell_type": "code",
   "execution_count": 12,
   "metadata": {},
   "outputs": [
    {
     "name": "stdout",
     "output_type": "stream",
     "text": [
      "Yerekar\n"
     ]
    }
   ],
   "source": [
    "last_name=\"Yerekar\"\n",
    "print(last_name)"
   ]
  },
  {
   "cell_type": "code",
   "execution_count": 13,
   "metadata": {},
   "outputs": [
    {
     "name": "stdout",
     "output_type": "stream",
     "text": [
      "Hitesh Yerekar\n"
     ]
    }
   ],
   "source": [
    "new_name=name+\" \"+last_name\n",
    "print(new_name)"
   ]
  },
  {
   "cell_type": "code",
   "execution_count": 14,
   "metadata": {},
   "outputs": [
    {
     "name": "stdout",
     "output_type": "stream",
     "text": [
      "<class 'str'>\n"
     ]
    }
   ],
   "source": [
    "print(type(new_name))"
   ]
  },
  {
   "cell_type": "markdown",
   "metadata": {},
   "source": [
    "### Providing the Input "
   ]
  },
  {
   "cell_type": "code",
   "execution_count": 15,
   "metadata": {},
   "outputs": [
    {
     "name": "stdout",
     "output_type": "stream",
     "text": [
      "Enter your first nameHitesh\n",
      "My name is Hitesh\n"
     ]
    }
   ],
   "source": [
    "f_name=input(\"Enter your first name\")\n",
    "print(\"My name is\",f_name)"
   ]
  },
  {
   "cell_type": "code",
   "execution_count": 17,
   "metadata": {},
   "outputs": [
    {
     "name": "stdout",
     "output_type": "stream",
     "text": [
      "Enter First Number10\n",
      "Enter Second Number20\n",
      "Addition of two number is = 30\n"
     ]
    }
   ],
   "source": [
    "num1=input(\"Enter First Number\")\n",
    "num2=input(\"Enter Second Number\")\n",
    "add_num=int(num1)+int(num2)\n",
    "print(\"Addition of two number is =\",add_num)"
   ]
  },
  {
   "cell_type": "code",
   "execution_count": 18,
   "metadata": {},
   "outputs": [
    {
     "name": "stdout",
     "output_type": "stream",
     "text": [
      "Enter first name\n",
      "Enter last name\n",
      "My full name is  \n"
     ]
    }
   ],
   "source": [
    "fname=input(\"Enter first name\")\n",
    "lname=input(\"Enter last name\")\n",
    "full_name=str(fname)+\" \"+str(lname)\n",
    "print(\"My full name is\",full_name)\n"
   ]
  },
  {
   "cell_type": "markdown",
   "metadata": {},
   "source": [
    "### 2) LIST\n",
    "\n",
    "1) Lists are just like dynamic sized arrays.\n",
    "2) A LIST is defined as an ordered, mutable, and heterogeneous collection of objects\n",
    "3) A single list may contain DataTypes like Integers, Strings, as well as Objects.\n",
    "4) LIST are contained within a collection of square brackets [ ]."
   ]
  },
  {
   "cell_type": "code",
   "execution_count": 19,
   "metadata": {},
   "outputs": [
    {
     "name": "stdout",
     "output_type": "stream",
     "text": [
      "Blank List: \n",
      "[]\n"
     ]
    }
   ],
   "source": [
    "## creating a LIST.\n",
    "List = []\n",
    "print(\"Blank List: \")\n",
    "print(List)"
   ]
  },
  {
   "cell_type": "markdown",
   "metadata": {},
   "source": [
    "### Creating the LIST with numbers."
   ]
  },
  {
   "cell_type": "code",
   "execution_count": 22,
   "metadata": {},
   "outputs": [
    {
     "name": "stdout",
     "output_type": "stream",
     "text": [
      "\n",
      " List of numbers:  [10, 20, 37, 40, 55, 60, 73, 80, 99, 110]\n"
     ]
    }
   ],
   "source": [
    "Numbers = [10,20,37,40,55,60,73,80,99,110]\n",
    "print(\"\\n List of numbers: \",Numbers)\n"
   ]
  },
  {
   "cell_type": "markdown",
   "metadata": {},
   "source": [
    "### Creating the LIST with String."
   ]
  },
  {
   "cell_type": "code",
   "execution_count": 23,
   "metadata": {},
   "outputs": [
    {
     "name": "stdout",
     "output_type": "stream",
     "text": [
      "\n",
      " List Items:  ['Hitesh', 'Sannidhya', 'Pranay', 'Prajwal']\n"
     ]
    }
   ],
   "source": [
    "Names = [\"Hitesh\",\"Sannidhya\",\"Pranay\",\"Prajwal\"]\n",
    "print(\"\\n List Items: \",Names)"
   ]
  },
  {
   "cell_type": "markdown",
   "metadata": {},
   "source": [
    "### Accessing the element in LIST."
   ]
  },
  {
   "cell_type": "code",
   "execution_count": 24,
   "metadata": {},
   "outputs": [
    {
     "data": {
      "text/plain": [
       "37"
      ]
     },
     "execution_count": 24,
     "metadata": {},
     "output_type": "execute_result"
    }
   ],
   "source": [
    "Numbers[2]"
   ]
  },
  {
   "cell_type": "code",
   "execution_count": 25,
   "metadata": {},
   "outputs": [
    {
     "name": "stdout",
     "output_type": "stream",
     "text": [
      "<class 'list'>\n"
     ]
    }
   ],
   "source": [
    "## Cheking the type of List\n",
    "print(type(Numbers))"
   ]
  },
  {
   "cell_type": "code",
   "execution_count": 26,
   "metadata": {},
   "outputs": [
    {
     "data": {
      "text/plain": [
       "[10, 20, 37]"
      ]
     },
     "execution_count": 26,
     "metadata": {},
     "output_type": "execute_result"
    }
   ],
   "source": [
    "## Slicing then list.\n",
    "Numbers[0:3]"
   ]
  },
  {
   "cell_type": "code",
   "execution_count": 27,
   "metadata": {},
   "outputs": [
    {
     "name": "stdout",
     "output_type": "stream",
     "text": [
      "10\n",
      "20\n",
      "37\n",
      "40\n",
      "55\n",
      "60\n",
      "73\n",
      "80\n",
      "99\n",
      "110\n"
     ]
    }
   ],
   "source": [
    "## Accessing all element through loop.\n",
    "\n",
    "for i in Numbers:\n",
    "    print(i)"
   ]
  },
  {
   "cell_type": "code",
   "execution_count": 28,
   "metadata": {},
   "outputs": [
    {
     "name": "stdout",
     "output_type": "stream",
     "text": [
      "584\n"
     ]
    }
   ],
   "source": [
    "## Calculate the sum of all elements in LIST.\n",
    "temp=0\n",
    "for i in Numbers:\n",
    "    temp=temp+i\n",
    "print(temp)"
   ]
  },
  {
   "cell_type": "code",
   "execution_count": 44,
   "metadata": {},
   "outputs": [
    {
     "name": "stdout",
     "output_type": "stream",
     "text": [
      "10\n",
      "20\n",
      "40\n",
      "60\n",
      "80\n",
      "110\n",
      "Sum of all Even number is  320\n",
      "All Even Numbers  [10, 20, 40, 60, 80, 110]\n"
     ]
    }
   ],
   "source": [
    "## Accessing the all Even number from LIST.\n",
    "temp=[]\n",
    "sum=0\n",
    "for num in Numbers:\n",
    "    if num % 2==0:\n",
    "        print(num)\n",
    "        temp.append(num)\n",
    "        sum=sum+num\n",
    "print(\"Sum of all Even number is \",sum)\n",
    "print(\"All Even Numbers \",temp)\n",
    "            \n",
    "       \n",
    "      "
   ]
  },
  {
   "cell_type": "code",
   "execution_count": 45,
   "metadata": {},
   "outputs": [
    {
     "name": "stdout",
     "output_type": "stream",
     "text": [
      "37\n",
      "55\n",
      "73\n",
      "99\n",
      "Sum of all ODD number is  264\n",
      "[37, 55, 73, 99]\n"
     ]
    }
   ],
   "source": [
    "## Accessing the all ODD number from LIST.\n",
    "temp=[]\n",
    "sum=0\n",
    "for num in Numbers:\n",
    "    if num % 2!=0:\n",
    "        print(num)\n",
    "        temp.append(num)\n",
    "        sum=sum+num\n",
    "print(\"Sum of all ODD number is \",sum)\n",
    "print(temp)\n",
    "           "
   ]
  },
  {
   "cell_type": "markdown",
   "metadata": {},
   "source": [
    "### Nested LIST\n",
    "\n",
    "A LIST within another LIST it is called as Nested LIST."
   ]
  },
  {
   "cell_type": "code",
   "execution_count": 25,
   "metadata": {},
   "outputs": [
    {
     "name": "stdout",
     "output_type": "stream",
     "text": [
      "[10, 20, 30, 40, [50, 60]]\n"
     ]
    }
   ],
   "source": [
    "num=[10,20,30,40,[50,60]]\n",
    "print(num)"
   ]
  },
  {
   "cell_type": "code",
   "execution_count": 26,
   "metadata": {},
   "outputs": [
    {
     "data": {
      "text/plain": [
       "[50, 60]"
      ]
     },
     "execution_count": 26,
     "metadata": {},
     "output_type": "execute_result"
    }
   ],
   "source": [
    "num[4]"
   ]
  },
  {
   "cell_type": "code",
   "execution_count": 27,
   "metadata": {},
   "outputs": [
    {
     "name": "stdout",
     "output_type": "stream",
     "text": [
      "[10, 20, 30, [100, 110]]\n"
     ]
    }
   ],
   "source": [
    "num1=[100,110]\n",
    "number=[10,20,30,num1]\n",
    "print(number)\n"
   ]
  },
  {
   "cell_type": "code",
   "execution_count": 28,
   "metadata": {},
   "outputs": [
    {
     "name": "stdout",
     "output_type": "stream",
     "text": [
      "[['Hitesh', 'Kunal', 'Vivek'], ['Shankar', 'Rahul', 'Kartik']]\n"
     ]
    }
   ],
   "source": [
    "name=[[\"Hitesh\",\"Kunal\",\"Vivek\"],[\"Shankar\",\"Rahul\",\"Kartik\"]]\n",
    "print(name)"
   ]
  },
  {
   "cell_type": "code",
   "execution_count": 29,
   "metadata": {},
   "outputs": [
    {
     "data": {
      "text/plain": [
       "list"
      ]
     },
     "execution_count": 29,
     "metadata": {},
     "output_type": "execute_result"
    }
   ],
   "source": [
    "type(name)"
   ]
  },
  {
   "cell_type": "code",
   "execution_count": 30,
   "metadata": {},
   "outputs": [
    {
     "data": {
      "text/plain": [
       "['Hitesh', 'Kunal', 'Vivek']"
      ]
     },
     "execution_count": 30,
     "metadata": {},
     "output_type": "execute_result"
    }
   ],
   "source": [
    "name[0]"
   ]
  },
  {
   "cell_type": "code",
   "execution_count": 31,
   "metadata": {},
   "outputs": [
    {
     "data": {
      "text/plain": [
       "['Shankar', 'Rahul', 'Kartik']"
      ]
     },
     "execution_count": 31,
     "metadata": {},
     "output_type": "execute_result"
    }
   ],
   "source": [
    "name[1]"
   ]
  },
  {
   "cell_type": "code",
   "execution_count": 32,
   "metadata": {},
   "outputs": [
    {
     "name": "stdout",
     "output_type": "stream",
     "text": [
      "[['Nagpur', 'Pune', 'Mumbai'], ['Dhule', 'Yavatmal', 'Nashik']]\n",
      "<class 'list'>\n"
     ]
    }
   ],
   "source": [
    "city=[[\"Nagpur\",\"Pune\",\"Mumbai\"],\n",
    "       [\"Dhule\",\"Yavatmal\",\"Nashik\"]]\n",
    "print(city)\n",
    "print(type(city))"
   ]
  },
  {
   "cell_type": "code",
   "execution_count": 33,
   "metadata": {},
   "outputs": [
    {
     "name": "stdout",
     "output_type": "stream",
     "text": [
      "Yavatmal\n"
     ]
    }
   ],
   "source": [
    "print(city[1][1])"
   ]
  },
  {
   "cell_type": "code",
   "execution_count": 34,
   "metadata": {},
   "outputs": [
    {
     "data": {
      "text/plain": [
       "'Mumbai'"
      ]
     },
     "execution_count": 34,
     "metadata": {},
     "output_type": "execute_result"
    }
   ],
   "source": [
    "city[0][2]"
   ]
  },
  {
   "cell_type": "code",
   "execution_count": 35,
   "metadata": {},
   "outputs": [
    {
     "name": "stdout",
     "output_type": "stream",
     "text": [
      "Vivek\n"
     ]
    }
   ],
   "source": [
    "print(name[0][2])"
   ]
  },
  {
   "cell_type": "code",
   "execution_count": 36,
   "metadata": {},
   "outputs": [
    {
     "name": "stdout",
     "output_type": "stream",
     "text": [
      "Rahul\n"
     ]
    }
   ],
   "source": [
    "print(name[1][1])"
   ]
  },
  {
   "cell_type": "code",
   "execution_count": 37,
   "metadata": {},
   "outputs": [
    {
     "name": "stdout",
     "output_type": "stream",
     "text": [
      "Hitesh\n"
     ]
    }
   ],
   "source": [
    "print(name[0][0])"
   ]
  },
  {
   "cell_type": "code",
   "execution_count": 38,
   "metadata": {},
   "outputs": [
    {
     "name": "stdout",
     "output_type": "stream",
     "text": [
      "[['Hitesh', 'Sannidhya', 'Vivek'], ['Shankar', 'Rahul', 'Kartik']]\n"
     ]
    }
   ],
   "source": [
    "### Modifying Nested LIST.\n",
    "name[0][1]=\"Sannidhya\"\n",
    "print(name)"
   ]
  },
  {
   "cell_type": "code",
   "execution_count": 39,
   "metadata": {},
   "outputs": [
    {
     "name": "stdout",
     "output_type": "stream",
     "text": [
      "[['Nagpur', 'Pune', 'Mumbai'], ['Kanpur', 'Yavatmal', 'Nashik']]\n"
     ]
    }
   ],
   "source": [
    "city[1][0]=\"Kanpur\"\n",
    "print(city)"
   ]
  },
  {
   "cell_type": "markdown",
   "metadata": {},
   "source": [
    "### ALL LIST Functions.\n",
    "\n",
    "sort(): Sorts the list in ascending order.\n",
    "\n",
    "type(list): It returns the class type of an object.\n",
    "\n",
    "append(): Adds one element to a list.\n",
    "\n",
    "extend(): Adds multiple elements to a list.\n",
    "\n",
    "index(): Returns the first appearance of a particular value.\n",
    "\n",
    "max(list): It returns an item from the list with a max value.\n",
    "\n",
    "min(list): It returns an item from the list with a min value.\n",
    "\n",
    "len(list): It gives the overall length of the list.\n",
    "\n",
    "clear(): Removes all the elements from the list.\n",
    "\n",
    "insert(): Adds a component at the required position.\n",
    "\n",
    "count(): Returns the number of elements with the required value.\n",
    "\n",
    "pop(): Removes the element at the required position.\n",
    "\n",
    "remove(): Removes the primary item with the desired value.\n",
    "\n",
    "reverse(): Reverses the order of the list.\n",
    "\n",
    "copy():  Returns a duplicate of the list."
   ]
  },
  {
   "cell_type": "markdown",
   "metadata": {},
   "source": [
    "#### 1) SORT()\n",
    "\n",
    "The sort() method is a built-in Python method that, by default, sorts the list in ascending order. However, you’ll modify the order from ascending to descending by specifying the sorting criteria."
   ]
  },
  {
   "cell_type": "code",
   "execution_count": 40,
   "metadata": {},
   "outputs": [
    {
     "name": "stdout",
     "output_type": "stream",
     "text": [
      "Price before sorting \n",
      "[589.36, 237.81, 230.87, 463.98, 453.42]\n",
      "Price after sorting\n",
      "[230.87, 237.81, 453.42, 463.98, 589.36]\n",
      "[589.36, 463.98, 453.42, 237.81, 230.87]\n"
     ]
    }
   ],
   "source": [
    "prices = [589.36, 237.81, 230.87, 463.98, 453.42] \n",
    "print(\"Price before sorting \")\n",
    "print(prices)\n",
    "print(\"Price after sorting\")\n",
    "prices.sort()\n",
    "print(prices)\n",
    "prices.sort(reverse=True)\n",
    "print(prices)\n"
   ]
  },
  {
   "cell_type": "markdown",
   "metadata": {},
   "source": [
    "### 2) Append()\n",
    "\n",
    "The append() method will add some elements you enter to the end of the elements you specified."
   ]
  },
  {
   "cell_type": "code",
   "execution_count": 41,
   "metadata": {},
   "outputs": [
    {
     "name": "stdout",
     "output_type": "stream",
     "text": [
      "['India', 'Aus', 'US', 'UK', 'Brazil']\n"
     ]
    }
   ],
   "source": [
    "Country=[\"India\",\"Aus\",\"US\",\"UK\",\"Brazil\"]\n",
    "print(Country)\n"
   ]
  },
  {
   "cell_type": "code",
   "execution_count": 42,
   "metadata": {},
   "outputs": [
    {
     "name": "stdout",
     "output_type": "stream",
     "text": [
      "['India', 'Aus', 'US', 'UK', 'Brazil', 'England']\n"
     ]
    }
   ],
   "source": [
    "Country.append(\"England\")\n",
    "print(Country)"
   ]
  },
  {
   "cell_type": "code",
   "execution_count": 43,
   "metadata": {},
   "outputs": [
    {
     "data": {
      "text/plain": [
       "[10, 20, 30, 40, 50]"
      ]
     },
     "execution_count": 43,
     "metadata": {},
     "output_type": "execute_result"
    }
   ],
   "source": [
    "number=[10,20,30,40,50]\n",
    "number"
   ]
  },
  {
   "cell_type": "code",
   "execution_count": 45,
   "metadata": {},
   "outputs": [
    {
     "data": {
      "text/plain": [
       "[10, 20, 30, 40, 50, 100, 100]"
      ]
     },
     "execution_count": 45,
     "metadata": {},
     "output_type": "execute_result"
    }
   ],
   "source": [
    "number.append(100)\n",
    "number"
   ]
  },
  {
   "cell_type": "markdown",
   "metadata": {},
   "source": [
    "### 3) Extend() \n",
    "The extend() method increases the length of the list by the number of elements that are provided to the strategy."
   ]
  },
  {
   "cell_type": "code",
   "execution_count": 47,
   "metadata": {},
   "outputs": [
    {
     "name": "stdout",
     "output_type": "stream",
     "text": [
      "['India', 'Aus', 'US', 'UK', 'Brazil', 'England', 'NZ', 'Bangladesh', 'Shrilanka']\n"
     ]
    }
   ],
   "source": [
    "Country.extend([\"NZ\",\"Bangladesh\",\"Shrilanka\"])\n",
    "print(Country)"
   ]
  },
  {
   "cell_type": "code",
   "execution_count": 48,
   "metadata": {},
   "outputs": [
    {
     "name": "stdout",
     "output_type": "stream",
     "text": [
      "[10, 20, 30, 40, 50, 100, 100, 101, 102, 103, 104, 105]\n"
     ]
    }
   ],
   "source": [
    "number.extend([101,102,103,104,105])\n",
    "print(number)"
   ]
  },
  {
   "cell_type": "markdown",
   "metadata": {},
   "source": [
    "### 4) Index()\n",
    "The index() method returns the primary appearance of the required value."
   ]
  },
  {
   "cell_type": "code",
   "execution_count": 50,
   "metadata": {},
   "outputs": [
    {
     "data": {
      "text/plain": [
       "0"
      ]
     },
     "execution_count": 50,
     "metadata": {},
     "output_type": "execute_result"
    }
   ],
   "source": [
    "Country.index(\"India\")"
   ]
  },
  {
   "cell_type": "code",
   "execution_count": 51,
   "metadata": {},
   "outputs": [
    {
     "data": {
      "text/plain": [
       "5"
      ]
     },
     "execution_count": 51,
     "metadata": {},
     "output_type": "execute_result"
    }
   ],
   "source": [
    "Country.index(\"England\")"
   ]
  },
  {
   "cell_type": "code",
   "execution_count": 52,
   "metadata": {},
   "outputs": [
    {
     "data": {
      "text/plain": [
       "10"
      ]
     },
     "execution_count": 52,
     "metadata": {},
     "output_type": "execute_result"
    }
   ],
   "source": [
    "number.index(104)"
   ]
  },
  {
   "cell_type": "markdown",
   "metadata": {},
   "source": [
    "### 5) Max() \n",
    "The max() function will return the highest value from the inputted values."
   ]
  },
  {
   "cell_type": "code",
   "execution_count": 57,
   "metadata": {},
   "outputs": [
    {
     "name": "stdout",
     "output_type": "stream",
     "text": [
      "105\n"
     ]
    }
   ],
   "source": [
    "max_num=max(number)\n",
    "print(max_num)"
   ]
  },
  {
   "cell_type": "code",
   "execution_count": 62,
   "metadata": {},
   "outputs": [
    {
     "name": "stdout",
     "output_type": "stream",
     "text": [
      "US\n"
     ]
    }
   ],
   "source": [
    "country=max(Country)\n",
    "print(country)"
   ]
  },
  {
   "cell_type": "markdown",
   "metadata": {},
   "source": [
    "### 6) Min()\n",
    "The min() function will return the rock bottom value from the inputted values."
   ]
  },
  {
   "cell_type": "code",
   "execution_count": 60,
   "metadata": {},
   "outputs": [
    {
     "data": {
      "text/plain": [
       "10"
      ]
     },
     "execution_count": 60,
     "metadata": {},
     "output_type": "execute_result"
    }
   ],
   "source": [
    "min_num=min(number)\n",
    "min_num"
   ]
  },
  {
   "cell_type": "code",
   "execution_count": 61,
   "metadata": {},
   "outputs": [
    {
     "data": {
      "text/plain": [
       "'Aus'"
      ]
     },
     "execution_count": 61,
     "metadata": {},
     "output_type": "execute_result"
    }
   ],
   "source": [
    "country=min(Country)\n",
    "country"
   ]
  },
  {
   "cell_type": "markdown",
   "metadata": {},
   "source": [
    "### 7) Len()\n",
    "The len() function returns the number of elements in a specified list."
   ]
  },
  {
   "cell_type": "code",
   "execution_count": 63,
   "metadata": {},
   "outputs": [
    {
     "data": {
      "text/plain": [
       "9"
      ]
     },
     "execution_count": 63,
     "metadata": {},
     "output_type": "execute_result"
    }
   ],
   "source": [
    "len(Country)"
   ]
  },
  {
   "cell_type": "code",
   "execution_count": 64,
   "metadata": {},
   "outputs": [
    {
     "data": {
      "text/plain": [
       "12"
      ]
     },
     "execution_count": 64,
     "metadata": {},
     "output_type": "execute_result"
    }
   ],
   "source": [
    "len(number)"
   ]
  },
  {
   "cell_type": "code",
   "execution_count": 65,
   "metadata": {},
   "outputs": [
    {
     "data": {
      "text/plain": [
       "2"
      ]
     },
     "execution_count": 65,
     "metadata": {},
     "output_type": "execute_result"
    }
   ],
   "source": [
    "len(name)"
   ]
  },
  {
   "cell_type": "code",
   "execution_count": 67,
   "metadata": {},
   "outputs": [
    {
     "data": {
      "text/plain": [
       "5"
      ]
     },
     "execution_count": 67,
     "metadata": {},
     "output_type": "execute_result"
    }
   ],
   "source": [
    "len(prices)"
   ]
  },
  {
   "cell_type": "markdown",
   "metadata": {},
   "source": [
    "### 8) Clear()\n",
    "The clear() method removes all the elements from a specified list and converts them to an empty list."
   ]
  },
  {
   "cell_type": "code",
   "execution_count": 69,
   "metadata": {},
   "outputs": [
    {
     "data": {
      "text/plain": [
       "[]"
      ]
     },
     "execution_count": 69,
     "metadata": {},
     "output_type": "execute_result"
    }
   ],
   "source": [
    "name.clear()\n",
    "name"
   ]
  },
  {
   "cell_type": "code",
   "execution_count": 70,
   "metadata": {},
   "outputs": [
    {
     "data": {
      "text/plain": [
       "[]"
      ]
     },
     "execution_count": 70,
     "metadata": {},
     "output_type": "execute_result"
    }
   ],
   "source": [
    "prices.clear()\n",
    "prices"
   ]
  },
  {
   "cell_type": "markdown",
   "metadata": {},
   "source": [
    "### 9) Insert()\n",
    "The insert() method inserts the required value at the desired position."
   ]
  },
  {
   "cell_type": "code",
   "execution_count": 72,
   "metadata": {},
   "outputs": [
    {
     "data": {
      "text/plain": [
       "['India',\n",
       " 'Aus',\n",
       " 'US',\n",
       " 'Katar',\n",
       " 'UK',\n",
       " 'Brazil',\n",
       " 'England',\n",
       " 'NZ',\n",
       " 'Bangladesh',\n",
       " 'Shrilanka']"
      ]
     },
     "execution_count": 72,
     "metadata": {},
     "output_type": "execute_result"
    }
   ],
   "source": [
    "Country.insert(3,\"Katar\")\n",
    "Country"
   ]
  },
  {
   "cell_type": "code",
   "execution_count": 73,
   "metadata": {},
   "outputs": [
    {
     "data": {
      "text/plain": [
       "[10, 20, 30, 40, 202, 50, 100, 100, 101, 102, 103, 104, 105]"
      ]
     },
     "execution_count": 73,
     "metadata": {},
     "output_type": "execute_result"
    }
   ],
   "source": [
    "number.insert(4,202)\n",
    "number"
   ]
  },
  {
   "cell_type": "code",
   "execution_count": 76,
   "metadata": {},
   "outputs": [
    {
     "data": {
      "text/plain": [
       "['Pankaj', 'Pankaj', 'Pratik']"
      ]
     },
     "execution_count": 76,
     "metadata": {},
     "output_type": "execute_result"
    }
   ],
   "source": [
    "name.insert(2,\"Pratik\")\n",
    "name"
   ]
  },
  {
   "cell_type": "markdown",
   "metadata": {},
   "source": [
    "### 10) Count\n",
    "The count() method returns the number of elements with the desired value."
   ]
  },
  {
   "cell_type": "code",
   "execution_count": 80,
   "metadata": {},
   "outputs": [
    {
     "data": {
      "text/plain": [
       "2"
      ]
     },
     "execution_count": 80,
     "metadata": {},
     "output_type": "execute_result"
    }
   ],
   "source": [
    "x=number.count(100)\n",
    "x"
   ]
  },
  {
   "cell_type": "code",
   "execution_count": 83,
   "metadata": {},
   "outputs": [
    {
     "data": {
      "text/plain": [
       "['India',\n",
       " 'Aus',\n",
       " 'US',\n",
       " 'Katar',\n",
       " 'UK',\n",
       " 'Brazil',\n",
       " 'England',\n",
       " 'NZ',\n",
       " 'Bangladesh',\n",
       " 'Shrilanka',\n",
       " 'India']"
      ]
     },
     "execution_count": 83,
     "metadata": {},
     "output_type": "execute_result"
    }
   ],
   "source": [
    "Country.append(\"India\")\n",
    "Country"
   ]
  },
  {
   "cell_type": "code",
   "execution_count": 84,
   "metadata": {},
   "outputs": [
    {
     "data": {
      "text/plain": [
       "2"
      ]
     },
     "execution_count": 84,
     "metadata": {},
     "output_type": "execute_result"
    }
   ],
   "source": [
    "Country.count(\"India\")"
   ]
  },
  {
   "cell_type": "code",
   "execution_count": 85,
   "metadata": {},
   "outputs": [
    {
     "data": {
      "text/plain": [
       "1"
      ]
     },
     "execution_count": 85,
     "metadata": {},
     "output_type": "execute_result"
    }
   ],
   "source": [
    "Country.count(\"NZ\")"
   ]
  },
  {
   "cell_type": "code",
   "execution_count": 86,
   "metadata": {},
   "outputs": [
    {
     "data": {
      "text/plain": [
       "2"
      ]
     },
     "execution_count": 86,
     "metadata": {},
     "output_type": "execute_result"
    }
   ],
   "source": [
    "number.count(100)"
   ]
  },
  {
   "cell_type": "code",
   "execution_count": 87,
   "metadata": {},
   "outputs": [
    {
     "data": {
      "text/plain": [
       "1"
      ]
     },
     "execution_count": 87,
     "metadata": {},
     "output_type": "execute_result"
    }
   ],
   "source": [
    "number.count(20)"
   ]
  },
  {
   "cell_type": "markdown",
   "metadata": {},
   "source": [
    "### 11) POP\n",
    "The pop() method removes the element at the required position."
   ]
  },
  {
   "cell_type": "code",
   "execution_count": 89,
   "metadata": {},
   "outputs": [
    {
     "data": {
      "text/plain": [
       "['India',\n",
       " 'Aus',\n",
       " 'US',\n",
       " 'UK',\n",
       " 'Brazil',\n",
       " 'England',\n",
       " 'NZ',\n",
       " 'Bangladesh',\n",
       " 'Shrilanka',\n",
       " 'India']"
      ]
     },
     "execution_count": 89,
     "metadata": {},
     "output_type": "execute_result"
    }
   ],
   "source": [
    "Country.pop(3)\n",
    "Country"
   ]
  },
  {
   "cell_type": "code",
   "execution_count": 90,
   "metadata": {},
   "outputs": [
    {
     "data": {
      "text/plain": [
       "[10, 20, 40, 202, 50, 100, 100, 101, 102, 103, 104, 105]"
      ]
     },
     "execution_count": 90,
     "metadata": {},
     "output_type": "execute_result"
    }
   ],
   "source": [
    "number.pop(2)\n",
    "number"
   ]
  },
  {
   "cell_type": "markdown",
   "metadata": {},
   "source": [
    "### 12) Remove\n",
    "The remove() method removes the first occurrence of the element with the specified value."
   ]
  },
  {
   "cell_type": "code",
   "execution_count": 91,
   "metadata": {},
   "outputs": [
    {
     "data": {
      "text/plain": [
       "['India',\n",
       " 'Aus',\n",
       " 'US',\n",
       " 'UK',\n",
       " 'England',\n",
       " 'NZ',\n",
       " 'Bangladesh',\n",
       " 'Shrilanka',\n",
       " 'India']"
      ]
     },
     "execution_count": 91,
     "metadata": {},
     "output_type": "execute_result"
    }
   ],
   "source": [
    "Country.remove(\"Brazil\")\n",
    "Country"
   ]
  },
  {
   "cell_type": "code",
   "execution_count": 98,
   "metadata": {},
   "outputs": [
    {
     "data": {
      "text/plain": [
       "[10, 20, 40, 202, 50, 100, 102, 103, 104, 105]"
      ]
     },
     "execution_count": 98,
     "metadata": {},
     "output_type": "execute_result"
    }
   ],
   "source": [
    "number.remove(100)\n",
    "number"
   ]
  },
  {
   "cell_type": "markdown",
   "metadata": {},
   "source": [
    "### 13) Reverse()\n",
    "The reverse() method reverses the order of the elements."
   ]
  },
  {
   "cell_type": "code",
   "execution_count": 99,
   "metadata": {},
   "outputs": [
    {
     "data": {
      "text/plain": [
       "['India',\n",
       " 'Shrilanka',\n",
       " 'Bangladesh',\n",
       " 'NZ',\n",
       " 'England',\n",
       " 'UK',\n",
       " 'US',\n",
       " 'Aus',\n",
       " 'India']"
      ]
     },
     "execution_count": 99,
     "metadata": {},
     "output_type": "execute_result"
    }
   ],
   "source": [
    "Country.reverse()\n",
    "Country"
   ]
  },
  {
   "cell_type": "code",
   "execution_count": 101,
   "metadata": {},
   "outputs": [
    {
     "data": {
      "text/plain": [
       "['hitesh', 'Pratik', 'krunal', 'Sannu', 'Pankaj']"
      ]
     },
     "execution_count": 101,
     "metadata": {},
     "output_type": "execute_result"
    }
   ],
   "source": [
    "names=[\"hitesh\",\"Pratik\",\"krunal\",\"Sannu\",\"Pankaj\"]\n",
    "names"
   ]
  },
  {
   "cell_type": "code",
   "execution_count": 102,
   "metadata": {},
   "outputs": [
    {
     "data": {
      "text/plain": [
       "['Pankaj', 'Sannu', 'krunal', 'Pratik', 'hitesh']"
      ]
     },
     "execution_count": 102,
     "metadata": {},
     "output_type": "execute_result"
    }
   ],
   "source": [
    "names.reverse()\n",
    "names"
   ]
  },
  {
   "cell_type": "code",
   "execution_count": 103,
   "metadata": {},
   "outputs": [
    {
     "data": {
      "text/plain": [
       "[105, 104, 103, 102, 100, 50, 202, 40, 20, 10]"
      ]
     },
     "execution_count": 103,
     "metadata": {},
     "output_type": "execute_result"
    }
   ],
   "source": [
    "number.reverse()\n",
    "number"
   ]
  },
  {
   "cell_type": "markdown",
   "metadata": {},
   "source": [
    "### 14) Copy()\n",
    "The copy() method returns a copy of the specified list and makes the new list."
   ]
  },
  {
   "cell_type": "code",
   "execution_count": 105,
   "metadata": {},
   "outputs": [
    {
     "data": {
      "text/plain": [
       "['Pankaj', 'Sannu', 'krunal', 'Pratik', 'hitesh']"
      ]
     },
     "execution_count": 105,
     "metadata": {},
     "output_type": "execute_result"
    }
   ],
   "source": [
    "fnames=names.copy()\n",
    "fnames"
   ]
  },
  {
   "cell_type": "code",
   "execution_count": 106,
   "metadata": {},
   "outputs": [
    {
     "data": {
      "text/plain": [
       "[105, 104, 103, 102, 100, 50, 202, 40, 20, 10]"
      ]
     },
     "execution_count": 106,
     "metadata": {},
     "output_type": "execute_result"
    }
   ],
   "source": [
    "int_num=number.copy()\n",
    "int_num"
   ]
  },
  {
   "cell_type": "code",
   "execution_count": 107,
   "metadata": {},
   "outputs": [
    {
     "data": {
      "text/plain": [
       "['India',\n",
       " 'Shrilanka',\n",
       " 'Bangladesh',\n",
       " 'NZ',\n",
       " 'England',\n",
       " 'UK',\n",
       " 'US',\n",
       " 'Aus',\n",
       " 'India']"
      ]
     },
     "execution_count": 107,
     "metadata": {},
     "output_type": "execute_result"
    }
   ],
   "source": [
    "Country_name=Country.copy()\n",
    "Country_name"
   ]
  },
  {
   "cell_type": "code",
   "execution_count": null,
   "metadata": {},
   "outputs": [],
   "source": []
  }
 ],
 "metadata": {
  "kernelspec": {
   "display_name": "Python 3",
   "language": "python",
   "name": "python3"
  },
  "language_info": {
   "codemirror_mode": {
    "name": "ipython",
    "version": 3
   },
   "file_extension": ".py",
   "mimetype": "text/x-python",
   "name": "python",
   "nbconvert_exporter": "python",
   "pygments_lexer": "ipython3",
   "version": "3.7.4"
  }
 },
 "nbformat": 4,
 "nbformat_minor": 2
}
