{
 "cells": [
  {
   "cell_type": "markdown",
   "metadata": {},
   "source": [
    "### Write a Pandas program to create a multi Index frame using two columns and using an Index and a column."
   ]
  },
  {
   "cell_type": "code",
   "execution_count": 1,
   "metadata": {},
   "outputs": [],
   "source": [
    "import pandas as pd\n",
    "df = pd.DataFrame({\n",
    "    'school_code': ['s001','s002','s003','s001','s002','s004'],\n",
    "    'class': ['V', 'V', 'VI', 'VI', 'V', 'VI'],\n",
    "    'name': ['Alberto Franco','Gino Mcneill','Ryan Parkes', 'Eesha Hinton', 'Gino Mcneill', 'David Parkes'],\n",
    "    'date_Of_Birth': ['15/05/2002','17/05/2002','16/02/1999','25/09/1998','11/05/2002','15/09/1997'],\n",
    "    'weight': [35, 32, 33, 30, 31, 32],\n",
    "    'address': ['street1', 'street2', 'street3', 'street1', 'street2', 'street4'],\n",
    "    't_id':['t1', 't2', 't3', 't4', 't5', 't6']})"
   ]
  },
  {
   "cell_type": "code",
   "execution_count": 2,
   "metadata": {},
   "outputs": [
    {
     "name": "stdout",
     "output_type": "stream",
     "text": [
      "  school_code class            name date_Of_Birth  weight  address t_id\n",
      "0        s001     V  Alberto Franco    15/05/2002      35  street1   t1\n",
      "1        s002     V    Gino Mcneill    17/05/2002      32  street2   t2\n",
      "2        s003    VI     Ryan Parkes    16/02/1999      33  street3   t3\n",
      "3        s001    VI    Eesha Hinton    25/09/1998      30  street1   t4\n",
      "4        s002     V    Gino Mcneill    11/05/2002      31  street2   t5\n",
      "5        s004    VI    David Parkes    15/09/1997      32  street4   t6\n"
     ]
    }
   ],
   "source": [
    "print(df)"
   ]
  },
  {
   "cell_type": "markdown",
   "metadata": {},
   "source": [
    "### Creating Index Using two columns."
   ]
  },
  {
   "cell_type": "code",
   "execution_count": 5,
   "metadata": {},
   "outputs": [
    {
     "name": "stdout",
     "output_type": "stream",
     "text": [
      "                 class            name date_Of_Birth  weight  address\n",
      "school_code t_id                                                     \n",
      "s001        t1       V  Alberto Franco    15/05/2002      35  street1\n",
      "s002        t2       V    Gino Mcneill    17/05/2002      32  street2\n",
      "s003        t3      VI     Ryan Parkes    16/02/1999      33  street3\n",
      "s001        t4      VI    Eesha Hinton    25/09/1998      30  street1\n",
      "s002        t5       V    Gino Mcneill    11/05/2002      31  street2\n",
      "s004        t6      VI    David Parkes    15/09/1997      32  street4\n"
     ]
    }
   ],
   "source": [
    "### Set two 'school_code' and 't_id' column as Index.\n",
    "\n",
    "df1=df.set_index(['school_code','t_id'])\n",
    "print(df1)"
   ]
  },
  {
   "cell_type": "code",
   "execution_count": 6,
   "metadata": {},
   "outputs": [
    {
     "name": "stdout",
     "output_type": "stream",
     "text": [
      "                             name date_Of_Birth  weight  address t_id\n",
      "school_code class                                                    \n",
      "s001        V      Alberto Franco    15/05/2002      35  street1   t1\n",
      "s002        V        Gino Mcneill    17/05/2002      32  street2   t2\n",
      "s003        VI        Ryan Parkes    16/02/1999      33  street3   t3\n",
      "s001        VI       Eesha Hinton    25/09/1998      30  street1   t4\n",
      "s002        V        Gino Mcneill    11/05/2002      31  street2   t5\n",
      "s004        VI       David Parkes    15/09/1997      32  street4   t6\n"
     ]
    }
   ],
   "source": [
    "### Set two 'school_code' and 'class' column as Index.\n",
    "\n",
    "df2=df.set_index(['school_code','class'])\n",
    "print(df2)"
   ]
  },
  {
   "cell_type": "code",
   "execution_count": 7,
   "metadata": {},
   "outputs": [
    {
     "name": "stdout",
     "output_type": "stream",
     "text": [
      "           school_code            name date_Of_Birth  weight  address\n",
      "t_id class                                                           \n",
      "t1   V            s001  Alberto Franco    15/05/2002      35  street1\n",
      "t2   V            s002    Gino Mcneill    17/05/2002      32  street2\n",
      "t3   VI           s003     Ryan Parkes    16/02/1999      33  street3\n",
      "t4   VI           s001    Eesha Hinton    25/09/1998      30  street1\n",
      "t5   V            s002    Gino Mcneill    11/05/2002      31  street2\n",
      "t6   VI           s004    David Parkes    15/09/1997      32  street4\n"
     ]
    }
   ],
   "source": [
    "### Set two 't_id' and 'class' column as Index.\n",
    "\n",
    "df3=df.set_index(['t_id','class'])\n",
    "print(df3)"
   ]
  },
  {
   "cell_type": "code",
   "execution_count": 10,
   "metadata": {},
   "outputs": [
    {
     "name": "stdout",
     "output_type": "stream",
     "text": [
      "        school_code            name date_Of_Birth  weight  address t_id\n",
      "  class                                                                \n",
      "0 V            s001  Alberto Franco    15/05/2002      35  street1   t1\n",
      "1 V            s002    Gino Mcneill    17/05/2002      32  street2   t2\n",
      "2 VI           s003     Ryan Parkes    16/02/1999      33  street3   t3\n",
      "3 VI           s001    Eesha Hinton    25/09/1998      30  street1   t4\n",
      "4 V            s002    Gino Mcneill    11/05/2002      31  street2   t5\n",
      "5 VI           s004    David Parkes    15/09/1997      32  street4   t6\n"
     ]
    }
   ],
   "source": [
    "### Set index and 'class' column as Index.\n",
    "\n",
    "df4=df.set_index([pd.Index([0,1,2,3,4,5]),'class'])\n",
    "print(df4)"
   ]
  },
  {
   "cell_type": "code",
   "execution_count": 14,
   "metadata": {},
   "outputs": [
    {
     "name": "stdout",
     "output_type": "stream",
     "text": [
      "        school_code class            name date_Of_Birth  weight  address\n",
      "   t_id                                                                 \n",
      "10 t1          s001     V  Alberto Franco    15/05/2002      35  street1\n",
      "20 t2          s002     V    Gino Mcneill    17/05/2002      32  street2\n",
      "30 t3          s003    VI     Ryan Parkes    16/02/1999      33  street3\n",
      "40 t4          s001    VI    Eesha Hinton    25/09/1998      30  street1\n",
      "50 t5          s002     V    Gino Mcneill    11/05/2002      31  street2\n",
      "60 t6          s004    VI    David Parkes    15/09/1997      32  street4\n"
     ]
    }
   ],
   "source": [
    "### Set index and 't_id' column as Index.\n",
    "\n",
    "df5=df.set_index([pd.Index([10,20,30,40,50,60]),'t_id'])\n",
    "print(df5)"
   ]
  },
  {
   "cell_type": "code",
   "execution_count": 15,
   "metadata": {},
   "outputs": [
    {
     "name": "stdout",
     "output_type": "stream",
     "text": [
      "  school_code class            name date_Of_Birth  weight  address t_id\n",
      "0        s001     V  Alberto Franco    15/05/2002      35  street1   t1\n",
      "1        s002     V    Gino Mcneill    17/05/2002      32  street2   t2\n",
      "2        s003    VI     Ryan Parkes    16/02/1999      33  street3   t3\n",
      "3        s001    VI    Eesha Hinton    25/09/1998      30  street1   t4\n",
      "4        s002     V    Gino Mcneill    11/05/2002      31  street2   t5\n",
      "5        s004    VI    David Parkes    15/09/1997      32  street4   t6\n"
     ]
    }
   ],
   "source": [
    "### Show default Index.\n",
    "\n",
    "print(df.head(10))"
   ]
  },
  {
   "cell_type": "code",
   "execution_count": 20,
   "metadata": {},
   "outputs": [
    {
     "name": "stdout",
     "output_type": "stream",
     "text": [
      "  school_code t_id class            name date_Of_Birth  weight  address\n",
      "0        s001   t1     V  Alberto Franco    15/05/2002      35  street1\n",
      "1        s002   t2     V    Gino Mcneill    17/05/2002      32  street2\n",
      "2        s003   t3    VI     Ryan Parkes    16/02/1999      33  street3\n",
      "3        s001   t4    VI    Eesha Hinton    25/09/1998      30  street1\n",
      "4        s002   t5     V    Gino Mcneill    11/05/2002      31  street2\n",
      "5        s004   t6    VI    David Parkes    15/09/1997      32  street4\n",
      " \n",
      "   index school_code class            name date_Of_Birth  weight  address t_id\n",
      "0      0        s001     V  Alberto Franco    15/05/2002      35  street1   t1\n",
      "1      1        s002     V    Gino Mcneill    17/05/2002      32  street2   t2\n",
      "2      2        s003    VI     Ryan Parkes    16/02/1999      33  street3   t3\n",
      "3      3        s001    VI    Eesha Hinton    25/09/1998      30  street1   t4\n",
      "4      4        s002     V    Gino Mcneill    11/05/2002      31  street2   t5\n",
      "5      5        s004    VI    David Parkes    15/09/1997      32  street4   t6\n",
      " \n",
      "   index school_code class            name date_Of_Birth  weight  address t_id\n",
      "0      0        s001     V  Alberto Franco    15/05/2002      35  street1   t1\n",
      "1      1        s002     V    Gino Mcneill    17/05/2002      32  street2   t2\n",
      "2      2        s003    VI     Ryan Parkes    16/02/1999      33  street3   t3\n",
      "3      3        s001    VI    Eesha Hinton    25/09/1998      30  street1   t4\n",
      "4      4        s002     V    Gino Mcneill    11/05/2002      31  street2   t5\n",
      "5      5        s004    VI    David Parkes    15/09/1997      32  street4   t6\n",
      " \n",
      "   index school_code class            name date_Of_Birth  weight  address t_id\n",
      "0      0        s001     V  Alberto Franco    15/05/2002      35  street1   t1\n",
      "1      1        s002     V    Gino Mcneill    17/05/2002      32  street2   t2\n",
      "2      2        s003    VI     Ryan Parkes    16/02/1999      33  street3   t3\n",
      "3      3        s001    VI    Eesha Hinton    25/09/1998      30  street1   t4\n",
      "4      4        s002     V    Gino Mcneill    11/05/2002      31  street2   t5\n",
      "5      5        s004    VI    David Parkes    15/09/1997      32  street4   t6\n",
      " \n",
      "   index school_code class            name date_Of_Birth  weight  address t_id\n",
      "0      0        s001     V  Alberto Franco    15/05/2002      35  street1   t1\n",
      "1      1        s002     V    Gino Mcneill    17/05/2002      32  street2   t2\n",
      "2      2        s003    VI     Ryan Parkes    16/02/1999      33  street3   t3\n",
      "3      3        s001    VI    Eesha Hinton    25/09/1998      30  street1   t4\n",
      "4      4        s002     V    Gino Mcneill    11/05/2002      31  street2   t5\n",
      "5      5        s004    VI    David Parkes    15/09/1997      32  street4   t6\n",
      " \n"
     ]
    }
   ],
   "source": [
    "### Reset the Index.\n",
    "\n",
    "df1_r=df1.reset_index(inplace=False)\n",
    "print(df1_r)\n",
    "print(\" \")\n",
    "\n",
    "df2_r=df.reset_index(inplace=False)\n",
    "print(df2_r)\n",
    "print(\" \")\n",
    "\n",
    "df3_r=df.reset_index(inplace=False)\n",
    "print(df3_r)\n",
    "print(\" \")\n",
    "\n",
    "df4_r=df.reset_index(inplace=False)\n",
    "print(df4_r)\n",
    "print(\" \")\n",
    "\n",
    "df5_r=df.reset_index(inplace=False)\n",
    "print(df5_r)\n",
    "print(\" \")"
   ]
  },
  {
   "cell_type": "code",
   "execution_count": null,
   "metadata": {},
   "outputs": [],
   "source": []
  }
 ],
 "metadata": {
  "kernelspec": {
   "display_name": "Python 3",
   "language": "python",
   "name": "python3"
  },
  "language_info": {
   "codemirror_mode": {
    "name": "ipython",
    "version": 3
   },
   "file_extension": ".py",
   "mimetype": "text/x-python",
   "name": "python",
   "nbconvert_exporter": "python",
   "pygments_lexer": "ipython3",
   "version": "3.7.4"
  }
 },
 "nbformat": 4,
 "nbformat_minor": 2
}
