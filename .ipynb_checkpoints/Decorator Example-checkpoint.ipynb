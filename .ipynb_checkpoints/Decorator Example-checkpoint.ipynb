{
 "cells": [
  {
   "cell_type": "code",
   "execution_count": 15,
   "id": "80bbc9de",
   "metadata": {},
   "outputs": [
    {
     "name": "stdout",
     "output_type": "stream",
     "text": [
      "Second decorator\n",
      "**********\n",
      "Hello Hitesh! How are you\n",
      "**********\n",
      "Hitesh go to sleep\n",
      "*********\n",
      "Second decorator\n",
      "**********\n",
      "Hello Hitesh! How are you\n",
      "**********\n",
      "Hitesh go to sleep\n",
      "*********\n",
      "Second decorator\n",
      "**********\n",
      "Hello Hitesh! How are you\n",
      "**********\n",
      "Hitesh go to sleep\n",
      "*********\n"
     ]
    }
   ],
   "source": [
    "def my_decor(func):\n",
    "    def wrapper(name):\n",
    "        print(\"**********\")\n",
    "        func(name)\n",
    "        print(\"**********\")\n",
    "    return wrapper\n",
    "\n",
    "def my_decor1(func):\n",
    "    def wrapper(name):\n",
    "        print(\"Second decorator\")\n",
    "        func(\"Hitesh\")\n",
    "        print(\"Hitesh go to sleep\")\n",
    "   \n",
    "    return wrapper    \n",
    "@my_decor1\n",
    "@my_decor\n",
    "def Test(name):\n",
    "    print(\"Hello {}! How are you\".format(name))\n",
    "\n",
    "Test(\"Sannidhya\")\n",
    "Test(\"Sonal\")\n",
    "Test(\"Hitesh\")"
   ]
  },
  {
   "cell_type": "code",
   "execution_count": null,
   "id": "663886e2",
   "metadata": {},
   "outputs": [],
   "source": []
  },
  {
   "cell_type": "code",
   "execution_count": null,
   "id": "10eddeb0",
   "metadata": {},
   "outputs": [],
   "source": []
  },
  {
   "cell_type": "code",
   "execution_count": null,
   "id": "6f2a16e0",
   "metadata": {},
   "outputs": [],
   "source": []
  },
  {
   "cell_type": "code",
   "execution_count": null,
   "id": "efd8dbdb",
   "metadata": {},
   "outputs": [],
   "source": []
  },
  {
   "cell_type": "code",
   "execution_count": null,
   "id": "2ca01914",
   "metadata": {},
   "outputs": [],
   "source": []
  }
 ],
 "metadata": {
  "kernelspec": {
   "display_name": "Python 3",
   "language": "python",
   "name": "python3"
  },
  "language_info": {
   "codemirror_mode": {
    "name": "ipython",
    "version": 3
   },
   "file_extension": ".py",
   "mimetype": "text/x-python",
   "name": "python",
   "nbconvert_exporter": "python",
   "pygments_lexer": "ipython3",
   "version": "3.7.4"
  }
 },
 "nbformat": 4,
 "nbformat_minor": 5
}
