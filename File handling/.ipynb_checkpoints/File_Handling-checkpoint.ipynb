{
 "cells": [
  {
   "cell_type": "markdown",
   "id": "33249fe5",
   "metadata": {},
   "source": [
    "### Q) What is the files?\n",
    "    ANS:- File i sthe collection of data that is vailable to programm.We can retrived and used data to stored in file whwere\n",
    "          we required."
   ]
  },
  {
   "cell_type": "markdown",
   "id": "2923f45b",
   "metadata": {},
   "source": [
    "### Advantages of File handling:-\n",
    "     We can store data permanent unless someone removed it.\n",
    "     Store data can be shared.\n",
    "     It is possible ot update and remove the data.\n",
    "\n",
    "### Types of Files:-\n",
    "     1) Text File:- It store the data in form of charecters.It is used to store the charecter and string.\n",
    "     2) Binary File:-It store the data in form of bytes.It is used to store text,csv,images,audio and video data.\n",
    "     \n",
    "### Types of Mode:-\n",
    "    1) Text Mode:- When we are open file in text mode it is contain text string.\n",
    "    2) Binary Mode:- When we are open file in binary mode it retunr as row data."
   ]
  },
  {
   "cell_type": "code",
   "execution_count": 1,
   "id": "7adeaf48",
   "metadata": {},
   "outputs": [],
   "source": [
    "### creating the sample text and writing some text into into.\n",
    "\n",
    "f=open(\"Student.txt\",'w')\n",
    "f.write(\"Welcome to AI world\")\n",
    "f.close()\n"
   ]
  },
  {
   "cell_type": "code",
   "execution_count": 3,
   "id": "028986d3",
   "metadata": {},
   "outputs": [],
   "source": [
    "f= open(\"Student.txt\",'w')\n",
    "f.write(\"Hello\\n\")\n",
    "f.write(\"Hitesh Yerekar\\n\")\n",
    "f.write(\"How are you\")\n",
    "f.close()"
   ]
  },
  {
   "cell_type": "code",
   "execution_count": 4,
   "id": "21e2e095",
   "metadata": {},
   "outputs": [
    {
     "name": "stdout",
     "output_type": "stream",
     "text": [
      "Hello\n",
      "Hitesh Yerekar\n",
      "How are you\n"
     ]
    }
   ],
   "source": [
    "### reading the text file.\n",
    "f=open(\"Student.txt\",'r')\n",
    "data=f.read()\n",
    "print(data)\n",
    "f.close()"
   ]
  },
  {
   "cell_type": "code",
   "execution_count": 6,
   "id": "71626c26",
   "metadata": {},
   "outputs": [],
   "source": [
    "f= open(\"Student.txt\",'a')\n",
    "f.write(\"\\nWelcome to AI word\\n\")\n",
    "f.write(\"Python is Fun\")\n",
    "f.close()"
   ]
  },
  {
   "cell_type": "code",
   "execution_count": null,
   "id": "a42255d2",
   "metadata": {},
   "outputs": [],
   "source": []
  }
 ],
 "metadata": {
  "kernelspec": {
   "display_name": "Python 3",
   "language": "python",
   "name": "python3"
  },
  "language_info": {
   "codemirror_mode": {
    "name": "ipython",
    "version": 3
   },
   "file_extension": ".py",
   "mimetype": "text/x-python",
   "name": "python",
   "nbconvert_exporter": "python",
   "pygments_lexer": "ipython3",
   "version": "3.7.4"
  }
 },
 "nbformat": 4,
 "nbformat_minor": 5
}
