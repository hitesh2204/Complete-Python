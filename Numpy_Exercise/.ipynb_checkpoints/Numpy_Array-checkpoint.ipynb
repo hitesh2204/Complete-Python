{
 "cells": [
  {
   "cell_type": "markdown",
   "id": "70f8eccd",
   "metadata": {},
   "source": [
    "### What is Numpy ?\n",
    "    Numpy is the library which is used for scientific computing.Nupy uses ndarray datatype to perform some operation like sorting ,basic linear algebra,basic statistical operation,array etc."
   ]
  },
  {
   "cell_type": "markdown",
   "id": "f221baf0",
   "metadata": {},
   "source": [
    "### 1) Write a NumPy program to convert a list of numeric value into a one-dimensional NumPy array."
   ]
  },
  {
   "cell_type": "code",
   "execution_count": 1,
   "id": "234f74f7",
   "metadata": {},
   "outputs": [],
   "source": [
    "import numpy as np"
   ]
  },
  {
   "cell_type": "code",
   "execution_count": 2,
   "id": "92f9176f",
   "metadata": {},
   "outputs": [
    {
     "name": "stdout",
     "output_type": "stream",
     "text": [
      "Original List\n",
      "[12.23, 13.32, 100, 36.32]\n",
      "\n",
      "<class 'list'>\n",
      "\n",
      "Converting List into numpy array\n",
      "\n",
      "Numpy array\n",
      "[ 12.23  13.32 100.    36.32]\n",
      "<class 'numpy.ndarray'>\n"
     ]
    }
   ],
   "source": [
    "l = [12.23, 13.32, 100, 36.32]\n",
    "print(\"Original List\")\n",
    "print(l)\n",
    "print()\n",
    "print(type(l))\n",
    "print()\n",
    "print(\"Converting List into numpy array\")\n",
    "print()\n",
    "l_arr=np.array(l)\n",
    "print(\"Numpy array\")\n",
    "print(l_arr)\n",
    "print(type(l_arr))\n"
   ]
  },
  {
   "cell_type": "markdown",
   "id": "627c9c20",
   "metadata": {},
   "source": [
    "### Creating 2D-3D numpy array."
   ]
  },
  {
   "cell_type": "code",
   "execution_count": 4,
   "id": "42e49543",
   "metadata": {},
   "outputs": [
    {
     "name": "stdout",
     "output_type": "stream",
     "text": [
      "[[1 2 3]\n",
      " [4 5 6]]\n",
      "Dimention of array  2\n"
     ]
    }
   ],
   "source": [
    "b=np.array([[1,2,3],[4,5,6]])\n",
    "print(b)\n",
    "print(\"Dimention of array \",np.ndim(b))"
   ]
  },
  {
   "cell_type": "code",
   "execution_count": 6,
   "id": "548b3814",
   "metadata": {},
   "outputs": [
    {
     "name": "stdout",
     "output_type": "stream",
     "text": [
      "[[[1 2]\n",
      "  [3 4]]\n",
      "\n",
      " [[4 5]\n",
      "  [6 7]]]\n",
      "Dimention of array  3\n"
     ]
    }
   ],
   "source": [
    "c=np.array([[[1,2],[3,4]],[[4,5],[6,7]]])\n",
    "print(c)\n",
    "print(\"Dimention of array \",np.ndim(c))"
   ]
  },
  {
   "cell_type": "markdown",
   "id": "fc10a898",
   "metadata": {},
   "source": [
    "### Creating Numpy array with different dtype."
   ]
  },
  {
   "cell_type": "code",
   "execution_count": 9,
   "id": "a14aa84a",
   "metadata": {},
   "outputs": [
    {
     "name": "stdout",
     "output_type": "stream",
     "text": [
      "[10. 20. 30. 40. 50.]\n"
     ]
    }
   ],
   "source": [
    "#### Using dtype parameter.\n",
    "x=np.array([10,20,30,40,50],dtype=float)\n",
    "print(x)"
   ]
  },
  {
   "cell_type": "code",
   "execution_count": 10,
   "id": "8f3bd71b",
   "metadata": {},
   "outputs": [
    {
     "name": "stdout",
     "output_type": "stream",
     "text": [
      "[ True  True  True  True  True]\n"
     ]
    }
   ],
   "source": [
    "s=np.array([1,2,3,4,5],dtype=bool)\n",
    "print(s)"
   ]
  },
  {
   "cell_type": "markdown",
   "id": "3407abd4",
   "metadata": {},
   "source": [
    "### Fucntion for creating numpy array.\n",
    "    1) arange\n",
    "    2) ones\n",
    "    3) zeros\n",
    "    4) random\n",
    "    5) linspace\n",
    "    6) identity"
   ]
  },
  {
   "cell_type": "code",
   "execution_count": 26,
   "id": "3b00abe5",
   "metadata": {},
   "outputs": [
    {
     "name": "stdout",
     "output_type": "stream",
     "text": [
      "[ 1  2  3  4  5  6  7  8  9 10]\n"
     ]
    }
   ],
   "source": [
    "#### 1) arange:= creatig numpy array with perticular range\n",
    "\n",
    "x=np.arange(1,11)\n",
    "print(x)"
   ]
  },
  {
   "cell_type": "code",
   "execution_count": 12,
   "id": "fa44bd50",
   "metadata": {},
   "outputs": [
    {
     "name": "stdout",
     "output_type": "stream",
     "text": [
      "[1 3 5 7 9]\n"
     ]
    }
   ],
   "source": [
    "x=np.arange(1,11,2)\n",
    "print(x)"
   ]
  },
  {
   "cell_type": "code",
   "execution_count": 13,
   "id": "e7327410",
   "metadata": {},
   "outputs": [
    {
     "name": "stdout",
     "output_type": "stream",
     "text": [
      "[[ 1  2]\n",
      " [ 3  4]\n",
      " [ 5  6]\n",
      " [ 7  8]\n",
      " [ 9 10]]\n"
     ]
    }
   ],
   "source": [
    "### Reshape array.\n",
    "x=np.arange(1,11).reshape(5,2)\n",
    "print(x)"
   ]
  },
  {
   "cell_type": "code",
   "execution_count": 17,
   "id": "f845a3f0",
   "metadata": {},
   "outputs": [
    {
     "name": "stdout",
     "output_type": "stream",
     "text": [
      "[[1. 1. 1. 1.]\n",
      " [1. 1. 1. 1.]\n",
      " [1. 1. 1. 1.]\n",
      " [1. 1. 1. 1.]]\n"
     ]
    }
   ],
   "source": [
    "### np.ones and np.zeros\n",
    "a=np.ones((4,4))\n",
    "print(a)"
   ]
  },
  {
   "cell_type": "code",
   "execution_count": 16,
   "id": "454de04a",
   "metadata": {},
   "outputs": [
    {
     "name": "stdout",
     "output_type": "stream",
     "text": [
      "[[0. 0. 0. 0.]\n",
      " [0. 0. 0. 0.]\n",
      " [0. 0. 0. 0.]\n",
      " [0. 0. 0. 0.]]\n"
     ]
    }
   ],
   "source": [
    "b=np.zeros((4,4))\n",
    "print(b)"
   ]
  },
  {
   "cell_type": "markdown",
   "id": "ba2a388e",
   "metadata": {},
   "source": [
    "### Creating numpy array wtih random values.\n",
    "### Random fucntion\n"
   ]
  },
  {
   "cell_type": "code",
   "execution_count": 20,
   "id": "3154d4e4",
   "metadata": {},
   "outputs": [
    {
     "name": "stdout",
     "output_type": "stream",
     "text": [
      "[[0.94821518 0.51279611 0.07986502 0.90290388]\n",
      " [0.38891989 0.61925381 0.03066765 0.12640758]\n",
      " [0.661079   0.2736587  0.69290524 0.58125814]\n",
      " [0.86942639 0.02276777 0.25377766 0.84445243]]\n"
     ]
    }
   ],
   "source": [
    "x=np.random.random((4,4))\n",
    "print(x)"
   ]
  },
  {
   "cell_type": "markdown",
   "id": "16fe55f1",
   "metadata": {},
   "source": [
    "### Linspace :- It generetaes the points on equal distance."
   ]
  },
  {
   "cell_type": "code",
   "execution_count": 24,
   "id": "17a41d71",
   "metadata": {},
   "outputs": [
    {
     "name": "stdout",
     "output_type": "stream",
     "text": [
      "[ 10.    13.75  17.5   21.25  25.    28.75  32.5   36.25  40.    43.75\n",
      "  47.5   51.25  55.    58.75  62.5   66.25  70.    73.75  77.5   81.25\n",
      "  85.    88.75  92.5   96.25 100.  ]\n"
     ]
    }
   ],
   "source": [
    "x=np.linspace(10,100,25)\n",
    "print(x)"
   ]
  },
  {
   "cell_type": "markdown",
   "id": "0950364a",
   "metadata": {},
   "source": [
    "### Identity :- To create identity matrix."
   ]
  },
  {
   "cell_type": "code",
   "execution_count": 25,
   "id": "317a9a86",
   "metadata": {},
   "outputs": [
    {
     "name": "stdout",
     "output_type": "stream",
     "text": [
      "[[1. 0. 0. 0. 0.]\n",
      " [0. 1. 0. 0. 0.]\n",
      " [0. 0. 1. 0. 0.]\n",
      " [0. 0. 0. 1. 0.]\n",
      " [0. 0. 0. 0. 1.]]\n"
     ]
    }
   ],
   "source": [
    "a=np.identity(5)\n",
    "print(a)"
   ]
  },
  {
   "cell_type": "markdown",
   "id": "a9fb89a8",
   "metadata": {},
   "source": [
    "### Numpy Attributes :-\n",
    "    1) ndim :- It is used to find number of dimentions of array.\n",
    "    2) shape :- It used to return the shape of an array.\n",
    "    3) size :- It return the total number of item in array.\n",
    "    4) itemsize :- It return the item size of an array.\n",
    "    5)dtype :- It return the type of array."
   ]
  },
  {
   "cell_type": "code",
   "execution_count": 69,
   "id": "73a63655",
   "metadata": {},
   "outputs": [
    {
     "name": "stdout",
     "output_type": "stream",
     "text": [
      "[[[1 2]\n",
      "  [3 4]]\n",
      "\n",
      " [[4 5]\n",
      "  [6 7]]]\n"
     ]
    },
    {
     "data": {
      "text/plain": [
       "3"
      ]
     },
     "execution_count": 69,
     "metadata": {},
     "output_type": "execute_result"
    }
   ],
   "source": [
    "c=np.array([[[1,2],[3,4]],[[4,5],[6,7]]])\n",
    "print(c)\n",
    "c.ndim"
   ]
  },
  {
   "cell_type": "code",
   "execution_count": 36,
   "id": "9ca5974b",
   "metadata": {},
   "outputs": [
    {
     "data": {
      "text/plain": [
       "(2, 2, 2)"
      ]
     },
     "execution_count": 36,
     "metadata": {},
     "output_type": "execute_result"
    }
   ],
   "source": [
    "c.shape"
   ]
  },
  {
   "cell_type": "code",
   "execution_count": 37,
   "id": "edf91f03",
   "metadata": {},
   "outputs": [
    {
     "data": {
      "text/plain": [
       "8"
      ]
     },
     "execution_count": 37,
     "metadata": {},
     "output_type": "execute_result"
    }
   ],
   "source": [
    "c.size"
   ]
  },
  {
   "cell_type": "code",
   "execution_count": 38,
   "id": "9d85df6c",
   "metadata": {},
   "outputs": [
    {
     "data": {
      "text/plain": [
       "4"
      ]
     },
     "execution_count": 38,
     "metadata": {},
     "output_type": "execute_result"
    }
   ],
   "source": [
    "c.itemsize"
   ]
  },
  {
   "cell_type": "code",
   "execution_count": 39,
   "id": "f3cff02a",
   "metadata": {},
   "outputs": [
    {
     "data": {
      "text/plain": [
       "dtype('int32')"
      ]
     },
     "execution_count": 39,
     "metadata": {},
     "output_type": "execute_result"
    }
   ],
   "source": [
    "c.dtype"
   ]
  },
  {
   "cell_type": "markdown",
   "id": "928dfebb",
   "metadata": {},
   "source": [
    "### Changing data type of an array."
   ]
  },
  {
   "cell_type": "code",
   "execution_count": 47,
   "id": "dd621c7e",
   "metadata": {},
   "outputs": [
    {
     "name": "stdout",
     "output_type": "stream",
     "text": [
      "int32\n",
      "float16\n"
     ]
    }
   ],
   "source": [
    "print(c.dtype)\n",
    "c=c.astype(np.float16)\n",
    "print(c.dtype)"
   ]
  },
  {
   "cell_type": "markdown",
   "id": "57c5a40f",
   "metadata": {},
   "source": [
    "### Array operation :-\n",
    "    Where we can perform mathematical operation on numpy array.\n",
    "### Types of operation :-\n",
    "    1) Scaler :- In this we perform opearation with single number on array.\n",
    "    2) Vector :- When we perform operation on two numpy array."
   ]
  },
  {
   "cell_type": "code",
   "execution_count": 13,
   "id": "4289b5d7",
   "metadata": {},
   "outputs": [
    {
     "name": "stdout",
     "output_type": "stream",
     "text": [
      "[[ 0  1  2  3]\n",
      " [ 4  5  6  7]\n",
      " [ 8  9 10 11]]\n",
      "\n",
      "[[12 13 14 15]\n",
      " [16 17 18 19]\n",
      " [20 21 22 23]]\n"
     ]
    }
   ],
   "source": [
    "a1=np.arange(12).reshape(3,4)\n",
    "a2=np.arange(12,24).reshape(3,4)\n",
    "print(a1)\n",
    "print()\n",
    "print(a2)"
   ]
  },
  {
   "cell_type": "markdown",
   "id": "3d805315",
   "metadata": {},
   "source": [
    "### Scaler Operation :-"
   ]
  },
  {
   "cell_type": "code",
   "execution_count": 17,
   "id": "dfc555b9",
   "metadata": {},
   "outputs": [
    {
     "name": "stdout",
     "output_type": "stream",
     "text": [
      "[[ 0  2  4  6]\n",
      " [ 8 10 12 14]\n",
      " [16 18 20 22]]\n",
      "\n",
      "[[17 18 19 20]\n",
      " [21 22 23 24]\n",
      " [25 26 27 28]]\n",
      "\n",
      "[[  0   1   4   9]\n",
      " [ 16  25  36  49]\n",
      " [ 64  81 100 121]]\n",
      "\n",
      "[[ 6.   6.5  7.   7.5]\n",
      " [ 8.   8.5  9.   9.5]\n",
      " [10.  10.5 11.  11.5]]\n"
     ]
    }
   ],
   "source": [
    "### Arithematic Operation :-\n",
    "print(a1*2)\n",
    "print()\n",
    "print(a2+5)\n",
    "print()\n",
    "print(a1**2)\n",
    "print()\n",
    "print(a2/2)"
   ]
  },
  {
   "cell_type": "code",
   "execution_count": 15,
   "id": "3ef7bf02",
   "metadata": {},
   "outputs": [
    {
     "name": "stdout",
     "output_type": "stream",
     "text": [
      "[[False False False False]\n",
      " [False  True  True  True]\n",
      " [ True  True  True  True]]\n",
      "\n",
      "[[False False False  True]\n",
      " [False False False False]\n",
      " [False False False False]]\n",
      "\n",
      "[[ True  True  True  True]\n",
      " [ True  True  True  True]\n",
      " [False  True  True  True]]\n"
     ]
    }
   ],
   "source": [
    "### Relation operation :-\n",
    "print(a1>4)\n",
    "print()\n",
    "print(a2==15)\n",
    "print()\n",
    "print(a2!=20)"
   ]
  },
  {
   "cell_type": "markdown",
   "id": "c6bee12c",
   "metadata": {},
   "source": [
    "### Vector Operator :-  \n",
    "    When we perform operation on two numpy array."
   ]
  },
  {
   "cell_type": "code",
   "execution_count": 18,
   "id": "56b98fd8",
   "metadata": {},
   "outputs": [
    {
     "name": "stdout",
     "output_type": "stream",
     "text": [
      "[[12 14 16 18]\n",
      " [20 22 24 26]\n",
      " [28 30 32 34]]\n",
      "\n",
      "[[-12 -12 -12 -12]\n",
      " [-12 -12 -12 -12]\n",
      " [-12 -12 -12 -12]]\n",
      "\n",
      "[[0.         0.07692308 0.14285714 0.2       ]\n",
      " [0.25       0.29411765 0.33333333 0.36842105]\n",
      " [0.4        0.42857143 0.45454545 0.47826087]]\n",
      "\n",
      "[[  0  13  28  45]\n",
      " [ 64  85 108 133]\n",
      " [160 189 220 253]]\n"
     ]
    }
   ],
   "source": [
    "print(a1+a2)\n",
    "print()\n",
    "print(a1-a2)\n",
    "print()\n",
    "print(a1/a2)\n",
    "print()\n",
    "print(a1*a2)"
   ]
  },
  {
   "cell_type": "markdown",
   "id": "51f1589e",
   "metadata": {},
   "source": [
    "### Numpy Array Functions:-\n",
    "    1) Max/Min/Sum/Prod\n",
    "    2) Mean/Median/Std/Var\n",
    "    3) Dot product"
   ]
  },
  {
   "cell_type": "code",
   "execution_count": 23,
   "id": "1ae14076",
   "metadata": {},
   "outputs": [
    {
     "name": "stdout",
     "output_type": "stream",
     "text": [
      "[[16. 71. 60. 85. 15.]\n",
      " [ 2. 97. 22. 38. 66.]\n",
      " [57. 14. 15. 67. 55.]\n",
      " [33. 15. 57. 70. 27.]\n",
      " [85. 32.  2. 95. 30.]]\n"
     ]
    }
   ],
   "source": [
    "x=np.random.random((5,5))\n",
    "x=np.round(x*100)\n",
    "print(x)"
   ]
  },
  {
   "cell_type": "code",
   "execution_count": 26,
   "id": "16dcea57",
   "metadata": {},
   "outputs": [
    {
     "name": "stdout",
     "output_type": "stream",
     "text": [
      "Maximum Number  97.0\n",
      "\n",
      "Minimum Number  2.0\n",
      "\n",
      "Sum of all item in array  1126.0\n",
      "\n",
      "Product of all item in array  3.3924149663863733e+37\n"
     ]
    }
   ],
   "source": [
    "print(\"Maximum Number \",np.max(x))\n",
    "print()\n",
    "print(\"Minimum Number \",np.min(x))\n",
    "print()\n",
    "print(\"Sum of all item in array \",np.sum(x))\n",
    "print()\n",
    "print(\"Product of all item in array \",np.prod(x))"
   ]
  },
  {
   "cell_type": "code",
   "execution_count": 34,
   "id": "48e49003",
   "metadata": {},
   "outputs": [
    {
     "name": "stdout",
     "output_type": "stream",
     "text": [
      "[[ 0  1  2  3]\n",
      " [ 4  5  6  7]\n",
      " [ 8  9 10 11]]\n",
      "\n",
      "Maximum of each columns  [ 8  9 10 11]\n",
      "Minimum of each columns  [0 1 2 3]\n",
      "Sum of all item in column [12 15 18 21]\n",
      "Product of all item in column [  0  45 120 231]\n"
     ]
    }
   ],
   "source": [
    "### If we want filter data row or column wise then\n",
    "### 0 ---> column, 1---> row\n",
    "print(a1)\n",
    "print()\n",
    "print(\"Maximum of each columns \",np.max(a1,axis=0))\n",
    "print(\"Minimum of each columns \",np.min(a1,axis=0))\n",
    "print(\"Sum of all item in column\",np.sum(a1,axis=0))\n",
    "print(\"Product of all item in column\",np.prod(a1,axis=0))"
   ]
  },
  {
   "cell_type": "code",
   "execution_count": 36,
   "id": "0ecbdd76",
   "metadata": {},
   "outputs": [
    {
     "name": "stdout",
     "output_type": "stream",
     "text": [
      "[[12 13 14 15]\n",
      " [16 17 18 19]\n",
      " [20 21 22 23]]\n",
      "\n",
      "Maximum of each rows  [15 19 23]\n",
      "Minimum of each rows  [12 16 20]\n",
      "Sum of all item in rows [54 70 86]\n",
      "Product of all item in rows [ 32760  93024 212520]\n"
     ]
    }
   ],
   "source": [
    "print(a2)\n",
    "print()\n",
    "print(\"Maximum of each rows \",np.max(a2,axis=1))\n",
    "print(\"Minimum of each rows \",np.min(a2,axis=1))\n",
    "print(\"Sum of all item in rows\",np.sum(a2,axis=1))\n",
    "print(\"Product of all item in rows\",np.prod(a2,axis=1))"
   ]
  },
  {
   "cell_type": "markdown",
   "id": "806c3d71",
   "metadata": {},
   "source": [
    "### Statistical operation :-"
   ]
  },
  {
   "cell_type": "code",
   "execution_count": 38,
   "id": "7530c4e3",
   "metadata": {},
   "outputs": [
    {
     "name": "stdout",
     "output_type": "stream",
     "text": [
      "[[ 0  1  2  3]\n",
      " [ 4  5  6  7]\n",
      " [ 8  9 10 11]]\n",
      "5.5\n",
      "5.5\n",
      "3.452052529534663\n",
      "11.916666666666666\n"
     ]
    }
   ],
   "source": [
    "print(a1)\n",
    "print(np.mean(a1))\n",
    "print(np.median(a1))\n",
    "print(np.std(a1))\n",
    "print(np.var(a1))"
   ]
  },
  {
   "cell_type": "code",
   "execution_count": 39,
   "id": "5e7c038a",
   "metadata": {},
   "outputs": [
    {
     "name": "stdout",
     "output_type": "stream",
     "text": [
      "[[ 0  1  2  3]\n",
      " [ 4  5  6  7]\n",
      " [ 8  9 10 11]]\n",
      "[4. 5. 6. 7.]\n",
      "[4. 5. 6. 7.]\n",
      "[3.26598632 3.26598632 3.26598632 3.26598632]\n",
      "[10.66666667 10.66666667 10.66666667 10.66666667]\n"
     ]
    }
   ],
   "source": [
    "print(a1)\n",
    "print(np.mean(a1,axis=0))\n",
    "print(np.median(a1,axis=0))\n",
    "print(np.std(a1,axis=0))\n",
    "print(np.var(a1,axis=0))"
   ]
  },
  {
   "cell_type": "markdown",
   "id": "e0429674",
   "metadata": {},
   "source": [
    "### Dot product :-\n",
    "    It perform the dot product between two matrix when column of first matrix and row of second matrix are same then only     we can performed sdot product."
   ]
  },
  {
   "cell_type": "code",
   "execution_count": 46,
   "id": "2a2c24ac",
   "metadata": {},
   "outputs": [
    {
     "name": "stdout",
     "output_type": "stream",
     "text": [
      "[[ 0  1  2  3]\n",
      " [ 4  5  6  7]\n",
      " [ 8  9 10 11]]\n",
      "(3, 4)\n",
      "\n",
      "[[12 13 14]\n",
      " [15 16 17]\n",
      " [18 19 20]\n",
      " [21 22 23]]\n",
      "(4, 3)\n",
      "\n",
      "[[114 120 126]\n",
      " [378 400 422]\n",
      " [642 680 718]]\n"
     ]
    }
   ],
   "source": [
    "x1=np.arange(12).reshape(3,4)\n",
    "print(x1)\n",
    "print(np.shape(x1))\n",
    "print()\n",
    "x2=np.arange(12,24).reshape(4,3)\n",
    "print(x2)\n",
    "print(np.shape(x2))\n",
    "print()\n",
    "result=np.dot(x1,x2)\n",
    "print(result)"
   ]
  },
  {
   "cell_type": "markdown",
   "id": "0feb1cd9",
   "metadata": {},
   "source": [
    "### Calculating log of each item in matrix"
   ]
  },
  {
   "cell_type": "code",
   "execution_count": 48,
   "id": "16d36da4",
   "metadata": {},
   "outputs": [
    {
     "name": "stderr",
     "output_type": "stream",
     "text": [
      "C:\\Users\\User\\Anaconda3\\lib\\site-packages\\ipykernel_launcher.py:1: RuntimeWarning: divide by zero encountered in log\n",
      "  \"\"\"Entry point for launching an IPython kernel.\n"
     ]
    },
    {
     "data": {
      "text/plain": [
       "array([[      -inf, 0.        , 0.69314718, 1.09861229],\n",
       "       [1.38629436, 1.60943791, 1.79175947, 1.94591015],\n",
       "       [2.07944154, 2.19722458, 2.30258509, 2.39789527]])"
      ]
     },
     "execution_count": 48,
     "metadata": {},
     "output_type": "execute_result"
    }
   ],
   "source": [
    "np.log(x1)"
   ]
  },
  {
   "cell_type": "markdown",
   "id": "093be4ad",
   "metadata": {},
   "source": [
    "### Calculating exponent of each item in matrix."
   ]
  },
  {
   "cell_type": "code",
   "execution_count": 49,
   "id": "b02dad3a",
   "metadata": {},
   "outputs": [
    {
     "data": {
      "text/plain": [
       "array([[1.62754791e+05, 4.42413392e+05, 1.20260428e+06],\n",
       "       [3.26901737e+06, 8.88611052e+06, 2.41549528e+07],\n",
       "       [6.56599691e+07, 1.78482301e+08, 4.85165195e+08],\n",
       "       [1.31881573e+09, 3.58491285e+09, 9.74480345e+09]])"
      ]
     },
     "execution_count": 49,
     "metadata": {},
     "output_type": "execute_result"
    }
   ],
   "source": [
    "np.exp(x2)"
   ]
  },
  {
   "cell_type": "markdown",
   "id": "3fe92595",
   "metadata": {},
   "source": [
    "### Round/Floor/Ceil."
   ]
  },
  {
   "cell_type": "code",
   "execution_count": 60,
   "id": "08a5ae5f",
   "metadata": {},
   "outputs": [
    {
     "name": "stdout",
     "output_type": "stream",
     "text": [
      "[[0.67394958 0.31654312 0.47209759]\n",
      " [0.20631703 0.02212446 0.59966089]\n",
      " [0.04923247 0.09625461 0.64760796]]\n",
      "\n",
      "[[67.39495797 31.6543125  47.20975872]\n",
      " [20.63170323  2.21244623 59.96608899]\n",
      " [ 4.92324673  9.62546133 64.76079586]]\n",
      "\n",
      "Round of Matrix = [[67. 32. 47.]\n",
      " [21.  2. 60.]\n",
      " [ 5. 10. 65.]]\n",
      "\n",
      "Floor of Matrxi = [[67. 31. 47.]\n",
      " [20.  2. 59.]\n",
      " [ 4.  9. 64.]]\n",
      "\n",
      "Ceil of Matrix = [[68. 32. 48.]\n",
      " [21.  3. 60.]\n",
      " [ 5. 10. 65.]]\n"
     ]
    }
   ],
   "source": [
    "x=np.random.random((3,3))\n",
    "print(x)\n",
    "print()\n",
    "x=x*100\n",
    "print(x)\n",
    "print()\n",
    "print(\"Round of Matrix =\",np.round(x))\n",
    "print()\n",
    "print(\"Floor of Matrxi =\",np.floor(x))\n",
    "print()\n",
    "print(\"Ceil of Matrix =\",np.ceil(x))"
   ]
  },
  {
   "cell_type": "markdown",
   "id": "0b919c44",
   "metadata": {},
   "source": [
    "### Indexing  :-"
   ]
  },
  {
   "cell_type": "code",
   "execution_count": 66,
   "id": "0370c4e5",
   "metadata": {},
   "outputs": [
    {
     "name": "stdout",
     "output_type": "stream",
     "text": [
      "Finding 6 = 6\n",
      "Finding 11= 11\n",
      "Finding 8= 8\n",
      "Finding 3= 3\n"
     ]
    }
   ],
   "source": [
    "### In two dimentional array\n",
    "a1\n",
    "print(\"Finding 6 =\",a1[1,2])\n",
    "print(\"Finding 11=\",a1[2,3])\n",
    "print(\"Finding 8=\",a1[2,0])\n",
    "print(\"Finding 3=\",a1[0,3])"
   ]
  },
  {
   "cell_type": "code",
   "execution_count": 67,
   "id": "ad8183d1",
   "metadata": {},
   "outputs": [],
   "source": [
    "### With in three dimentional matrix"
   ]
  },
  {
   "cell_type": "code",
   "execution_count": 71,
   "id": "4257dba5",
   "metadata": {},
   "outputs": [
    {
     "name": "stdout",
     "output_type": "stream",
     "text": [
      "[[[1 2]\n",
      "  [3 4]]\n",
      "\n",
      " [[4 5]\n",
      "  [6 7]]]\n",
      "Finding 3 = 3\n",
      "Finding 5= 5\n",
      "Finding 6= 6\n",
      "Finding 2= 2\n"
     ]
    }
   ],
   "source": [
    "print(c)\n",
    "print(\"Finding 3 =\",c[0,1,0])\n",
    "print(\"Finding 5=\",c[1,0,1])\n",
    "print(\"Finding 6=\",c[1,1,0])\n",
    "print(\"Finding 2=\",c[0,0,1])"
   ]
  },
  {
   "cell_type": "code",
   "execution_count": null,
   "id": "03f21d85",
   "metadata": {},
   "outputs": [],
   "source": [
    "### Sliccing :-"
   ]
  },
  {
   "cell_type": "code",
   "execution_count": null,
   "id": "315348af",
   "metadata": {},
   "outputs": [],
   "source": []
  },
  {
   "cell_type": "code",
   "execution_count": null,
   "id": "2747c2df",
   "metadata": {},
   "outputs": [],
   "source": []
  },
  {
   "cell_type": "markdown",
   "id": "5ff68a74",
   "metadata": {},
   "source": [
    "### 2) Write a NumPy program to create a 3x3 matrix with values ranging from 2 to 10."
   ]
  },
  {
   "cell_type": "code",
   "execution_count": 3,
   "id": "25b75705",
   "metadata": {},
   "outputs": [
    {
     "name": "stdout",
     "output_type": "stream",
     "text": [
      "3*3 matrix array\n",
      "\n",
      "[[ 2  3  4]\n",
      " [ 5  6  7]\n",
      " [ 8  9 10]]\n"
     ]
    }
   ],
   "source": [
    "num=np.arange(2,11).reshape(3,3)\n",
    "print(\"3*3 matrix array\")\n",
    "print()\n",
    "print(num)"
   ]
  },
  {
   "cell_type": "markdown",
   "id": "6d379705",
   "metadata": {},
   "source": [
    "### 3) Write a NumPy program to create a null vector of size 10 and update sixth value to 11."
   ]
  },
  {
   "cell_type": "code",
   "execution_count": 4,
   "id": "ecd0528b",
   "metadata": {},
   "outputs": [
    {
     "name": "stdout",
     "output_type": "stream",
     "text": [
      "[0. 0. 0. 0. 0. 0. 0. 0. 0. 0.]\n",
      "\n",
      "Update 6th value as 11.\n",
      "\n",
      "[ 0.  0.  0.  0.  0.  0. 11.  0.  0.  0.]\n"
     ]
    }
   ],
   "source": [
    "num=np.zeros(10)\n",
    "print(num)\n",
    "print()\n",
    "print(\"Update 6th value as 11.\")\n",
    "print()\n",
    "num[6]=11\n",
    "print(num)"
   ]
  },
  {
   "cell_type": "markdown",
   "id": "b9032c6e",
   "metadata": {},
   "source": [
    "### 4) Write a NumPy program to create an array with values ranging from 12 to 38."
   ]
  },
  {
   "cell_type": "code",
   "execution_count": 5,
   "id": "5651990a",
   "metadata": {},
   "outputs": [
    {
     "name": "stdout",
     "output_type": "stream",
     "text": [
      "Numpy array ranging values between 12 to 38\n",
      "\n",
      "[12 13 14 15 16 17 18 19 20 21 22 23 24 25 26 27 28 29 30 31 32 33 34 35\n",
      " 36 37]\n"
     ]
    }
   ],
   "source": [
    "num=np.arange(12,38)\n",
    "print(\"Numpy array ranging values between 12 to 38\")\n",
    "print()\n",
    "print(num)"
   ]
  },
  {
   "cell_type": "markdown",
   "id": "7df96e02",
   "metadata": {},
   "source": [
    "### 5) Write a NumPy program to reverse an array (first element becomes last)."
   ]
  },
  {
   "cell_type": "code",
   "execution_count": 6,
   "id": "1ee1d854",
   "metadata": {},
   "outputs": [
    {
     "name": "stdout",
     "output_type": "stream",
     "text": [
      "Original array\n",
      "\n",
      "[12 13 14 15 16 17 18 19 20 21 22 23 24 25 26 27 28 29 30 31 32 33 34 35\n",
      " 36 37]\n",
      "\n",
      "Reverse array\n",
      "\n",
      "[37 36 35 34 33 32 31 30 29 28 27 26 25 24 23 22 21 20 19 18 17 16 15 14\n",
      " 13 12]\n"
     ]
    }
   ],
   "source": [
    "num=np.arange(12,38)\n",
    "print(\"Original array\")\n",
    "print()\n",
    "print(num)\n",
    "print()\n",
    "rev_num=num[::-1]\n",
    "print(\"Reverse array\")\n",
    "print()\n",
    "print(rev_num)"
   ]
  },
  {
   "cell_type": "markdown",
   "id": "844ea04c",
   "metadata": {},
   "source": [
    "### 6) Write a NumPy program to convert an array to a float type."
   ]
  },
  {
   "cell_type": "code",
   "execution_count": 7,
   "id": "63268611",
   "metadata": {},
   "outputs": [
    {
     "name": "stdout",
     "output_type": "stream",
     "text": [
      "Original array\n",
      "[12 13 14 15 16 17 18 19 20 21 22 23 24 25 26 27 28 29 30 31 32 33 34 35]\n",
      "Type of numpy array is = <class 'numpy.ndarray'>\n",
      "\n",
      "Converting the type of array into float\n",
      "\n",
      "After converting the type of array\n",
      "[12. 13. 14. 15. 16. 17. 18. 19. 20. 21. 22. 23. 24. 25. 26. 27. 28. 29.\n",
      " 30. 31. 32. 33. 34. 35.]\n",
      "<class 'numpy.ndarray'>\n"
     ]
    }
   ],
   "source": [
    "num=np.arange(12,36)\n",
    "print(\"Original array\")\n",
    "print(num)\n",
    "print(\"Type of numpy array is =\",type(num))\n",
    "print()\n",
    "print(\"Converting the type of array into float\")\n",
    "num=np.asfarray(num)\n",
    "print()\n",
    "print(\"After converting the type of array\")\n",
    "print(num)\n",
    "print(type(num))\n",
    "\n",
    "\n"
   ]
  },
  {
   "cell_type": "markdown",
   "id": "2b423da8",
   "metadata": {},
   "source": [
    "### 7) Write a NumPy program to add a border (filled with 0's) around an existing array."
   ]
  },
  {
   "cell_type": "code",
   "execution_count": 8,
   "id": "b0d9770e",
   "metadata": {},
   "outputs": [
    {
     "name": "stdout",
     "output_type": "stream",
     "text": [
      "[[1. 1. 1.]\n",
      " [1. 1. 1.]\n",
      " [1. 1. 1.]]\n",
      "\n",
      "Adding the zero on border of array\n",
      "\n",
      "After adding the boundry 1\n",
      "[[0. 0. 0. 0. 0.]\n",
      " [0. 1. 1. 1. 0.]\n",
      " [0. 1. 1. 1. 0.]\n",
      " [0. 1. 1. 1. 0.]\n",
      " [0. 0. 0. 0. 0.]]\n"
     ]
    }
   ],
   "source": [
    "### If we want to add some values at the border of array then we can used a pad().\n",
    "\n",
    "num=np.ones(9).reshape(3,3)\n",
    "print(num)\n",
    "print()\n",
    "print(\"Adding the zero on border of array\")\n",
    "print()\n",
    "num=np.pad(num,pad_width=1)\n",
    "print(\"After adding the boundry 1\")\n",
    "print(num)"
   ]
  },
  {
   "cell_type": "markdown",
   "id": "98aa9b72",
   "metadata": {},
   "source": [
    "### 8)Write a NumPy program to convert a list and tuple into arrays."
   ]
  },
  {
   "cell_type": "code",
   "execution_count": 9,
   "id": "26ee9430",
   "metadata": {},
   "outputs": [
    {
     "name": "stdout",
     "output_type": "stream",
     "text": [
      "Original array list\n",
      "[1, 2, 3, 4, 5, 6, 7, 8]\n",
      "<class 'list'>\n",
      "\n",
      "Converting list into ndarray\n",
      "\n",
      "COnverting list into array\n",
      "[1 2 3 4 5 6 7 8]\n",
      "<class 'numpy.ndarray'>\n",
      "\n",
      "Tuple array\n",
      "([1, 2, 3], [4, 5, 6])\n",
      "<class 'tuple'>\n",
      "\n",
      "Converting tuple into ndarray\n",
      "\n",
      "[[1 2 3]\n",
      " [4 5 6]]\n",
      "<class 'numpy.ndarray'>\n"
     ]
    }
   ],
   "source": [
    "my_list = [1, 2, 3, 4, 5, 6, 7, 8]\n",
    "print(\"Original array list\")\n",
    "print(my_list)\n",
    "print(type(my_list))\n",
    "print()\n",
    "print(\"Converting list into ndarray\")\n",
    "print()\n",
    "my_array=np.asarray(my_list)\n",
    "print(\"COnverting list into array\")\n",
    "print(my_array)\n",
    "print(type(my_array))\n",
    "print()\n",
    "my_tuple=([1,2,3],[4,5,6])\n",
    "print(\"Tuple array\")\n",
    "print(my_tuple)\n",
    "print(type(my_tuple))\n",
    "print()\n",
    "print(\"Converting tuple into ndarray\")\n",
    "print()\n",
    "tup_array=np.asarray(my_tuple)\n",
    "print(tup_array)\n",
    "print(type(tup_array))"
   ]
  },
  {
   "cell_type": "markdown",
   "id": "e9b10c65",
   "metadata": {},
   "source": [
    "### 9) Write a NumPy program to append values to the end of an array."
   ]
  },
  {
   "cell_type": "code",
   "execution_count": 10,
   "id": "b457427c",
   "metadata": {},
   "outputs": [
    {
     "name": "stdout",
     "output_type": "stream",
     "text": [
      "original array\n",
      "[1 2 3 4]\n",
      "\n",
      "Appending the values at the end of array\n",
      "After appending the array\n",
      "[ 1  2  3  4 10 20 30 40 50]\n"
     ]
    }
   ],
   "source": [
    "### For appending the array into given array we can used a append() function.\n",
    "\n",
    "num=np.array([1,2,3,4])\n",
    "print(\"original array\")\n",
    "print(num)\n",
    "print()\n",
    "print(\"Appending the values at the end of array\")\n",
    "num=np.append(num,[10,20,30,40,50])\n",
    "print(\"After appending the array\")\n",
    "print(num)\n"
   ]
  },
  {
   "cell_type": "code",
   "execution_count": 11,
   "id": "56cbc4c4",
   "metadata": {},
   "outputs": [
    {
     "name": "stdout",
     "output_type": "stream",
     "text": [
      "original array\n",
      "[1 2 3 4]\n",
      "\n",
      "Appending the values at the end of array\n",
      "[ 1  2  3  4 11 22 33 44 55]\n"
     ]
    }
   ],
   "source": [
    "num=np.array([1,2,3,4])\n",
    "print(\"original array\")\n",
    "print(num)\n",
    "print()\n",
    "l=[11,22,33,44,55]\n",
    "print(\"Appending the values at the end of array\")\n",
    "num=np.append(num,l)\n",
    "print(num)"
   ]
  },
  {
   "cell_type": "markdown",
   "id": "044924f7",
   "metadata": {},
   "source": [
    "### 10) Write a NumPy program to create an empty and a full array."
   ]
  },
  {
   "cell_type": "code",
   "execution_count": 12,
   "id": "9b17b22e",
   "metadata": {},
   "outputs": [
    {
     "name": "stdout",
     "output_type": "stream",
     "text": [
      "creating the empty array\n",
      "[[1.41376569e-311 5.73116149e-322 0.00000000e+000 0.00000000e+000]\n",
      " [1.33508845e-306 1.16095484e-028 3.75584574e+233 4.34577426e-114]\n",
      " [4.71496903e+180 8.96906091e-096 7.35874688e+223 1.42937927e-153]\n",
      " [7.23620364e+159 9.13426349e+135 2.03374214e-110 8.29655075e-114]\n",
      " [2.59027849e-144 4.82412328e+228 1.04718130e-142 1.42411041e-306]]\n",
      "\n",
      "Creating the full array\n",
      "[[6 6 6 6 6]\n",
      " [6 6 6 6 6]\n",
      " [6 6 6 6 6]\n",
      " [6 6 6 6 6]\n",
      " [6 6 6 6 6]]\n"
     ]
    }
   ],
   "source": [
    "empty_arr=np.empty((5,4))\n",
    "print(\"creating the empty array\")\n",
    "print(empty_arr)\n",
    "print()\n",
    "l=np.full((5,5),6)\n",
    "print(\"Creating the full array\")\n",
    "print(l)"
   ]
  },
  {
   "cell_type": "code",
   "execution_count": 13,
   "id": "900c2b5c",
   "metadata": {},
   "outputs": [
    {
     "name": "stdout",
     "output_type": "stream",
     "text": [
      "[[10 10 10 10]\n",
      " [10 10 10 10]\n",
      " [10 10 10 10]\n",
      " [10 10 10 10]]\n"
     ]
    }
   ],
   "source": [
    "x=np.full((4,4),10)\n",
    "print(x)"
   ]
  },
  {
   "cell_type": "code",
   "execution_count": 14,
   "id": "2b9fe52a",
   "metadata": {},
   "outputs": [
    {
     "name": "stdout",
     "output_type": "stream",
     "text": [
      "[[6.23042070e-307 4.67296746e-307 1.69121096e-306 9.34609111e-307]\n",
      " [1.11256817e-306 1.06811422e-306 1.42417221e-306 1.11260619e-306]\n",
      " [8.90094053e-307 1.86919378e-306 1.06809792e-306 1.37962456e-306]\n",
      " [1.69111861e-306 1.78020169e-306 1.37961777e-306 7.56599807e-307]]\n"
     ]
    }
   ],
   "source": [
    "x=np.empty((4,4))\n",
    "print(x)"
   ]
  },
  {
   "cell_type": "markdown",
   "id": "054a2226",
   "metadata": {},
   "source": [
    "### 11) Write a NumPy program to find the number of elements of an array, length of one array element in bytes and total bytes consumed by the elements."
   ]
  },
  {
   "cell_type": "code",
   "execution_count": 15,
   "id": "7b13bc9e",
   "metadata": {},
   "outputs": [
    {
     "name": "stdout",
     "output_type": "stream",
     "text": [
      "Original array\n",
      "[1. 2. 3.]\n",
      "\n",
      "Size of the array = 3\n",
      "\n",
      "Size of each element in array = 8\n",
      "\n",
      "Total size consumed by array element = 24\n"
     ]
    }
   ],
   "source": [
    "x = np.array([1,2,3], dtype=np.float64)\n",
    "print(\"Original array\")\n",
    "print(x)\n",
    "print()\n",
    "print(\"Size of the array =\",x.size)\n",
    "print()\n",
    "print(\"Size of each element in array =\",x.itemsize)\n",
    "print()\n",
    "print(\"Total size consumed by array element =\",x.nbytes)"
   ]
  },
  {
   "cell_type": "markdown",
   "id": "9844dd26",
   "metadata": {},
   "source": [
    "### 12) Write a NumPy program to test whether each element of a 1-D array is also present in a second array."
   ]
  },
  {
   "cell_type": "code",
   "execution_count": 16,
   "id": "19953157",
   "metadata": {},
   "outputs": [
    {
     "name": "stdout",
     "output_type": "stream",
     "text": [
      "Creating matrix x\n",
      "[10 20 30 40 50]\n",
      "\n",
      "creating matrix y\n",
      "[12 10 33 40 55]\n",
      "\n",
      "Checking whether array is 1-d array or not and also element is present in second array or not.\n",
      "[ True False False  True False]\n"
     ]
    }
   ],
   "source": [
    "### Tfor checking two different matraix contain same element or not we can used in1d().\n",
    "\n",
    "x=np.array([10,20,30,40,50])\n",
    "y=np.array([12,10,33,40,55])\n",
    "print(\"Creating matrix x\")\n",
    "print(x)\n",
    "print()\n",
    "print(\"creating matrix y\")\n",
    "print(y)\n",
    "print()\n",
    "print(\"Checking whether array is 1-d array or not and also element is present in second array or not.\")\n",
    "result=np.in1d(x,y)\n",
    "print(result)"
   ]
  },
  {
   "cell_type": "markdown",
   "id": "c4db00c8",
   "metadata": {},
   "source": [
    "### 13) Write a NumPy program to find common values between two arrays."
   ]
  },
  {
   "cell_type": "code",
   "execution_count": 17,
   "id": "5ba124ef",
   "metadata": {},
   "outputs": [
    {
     "name": "stdout",
     "output_type": "stream",
     "text": [
      "Creating matrix x\n",
      "[10 20 30 40 50]\n",
      "\n",
      "creating matrix y\n",
      "[12 10 33 40 55]\n",
      "\n",
      "Checking common values in two different array\n",
      "[10 40]\n"
     ]
    }
   ],
   "source": [
    "### to find out the common values in  two array we can used interest1d() fuction.\n",
    "x=np.array([10,20,30,40,50])\n",
    "y=np.array([12,10,33,40,55])\n",
    "print(\"Creating matrix x\")\n",
    "print(x)\n",
    "print()\n",
    "print(\"creating matrix y\")\n",
    "print(y)\n",
    "print()\n",
    "print(\"Checking common values in two different array\")\n",
    "result=np.intersect1d(x,y)\n",
    "print(result)"
   ]
  },
  {
   "cell_type": "markdown",
   "id": "c7d1859e",
   "metadata": {},
   "source": [
    "### 14) Write a NumPy program to get the unique elements of an array."
   ]
  },
  {
   "cell_type": "code",
   "execution_count": 18,
   "id": "529d0d9c",
   "metadata": {},
   "outputs": [
    {
     "name": "stdout",
     "output_type": "stream",
     "text": [
      "Creating matrix x\n",
      "[10 20 30 40 50 11 10 55 40 33]\n",
      "\n",
      "creating matrix y\n",
      "[12 10 33 40 55]\n",
      "\n",
      "Checking unique values in two different array\n",
      "[10 11 20 30 33 40 50 55]\n"
     ]
    }
   ],
   "source": [
    "x=np.array([10,20,30,40,50,11,10,55,40,33])\n",
    "print(\"Creating matrix x\")\n",
    "print(x)\n",
    "print()\n",
    "print(\"creating matrix y\")\n",
    "print(y)\n",
    "print()\n",
    "print(\"Checking unique values in two different array\")\n",
    "result=np.unique(x)\n",
    "print(result)"
   ]
  },
  {
   "cell_type": "markdown",
   "id": "93a16be3",
   "metadata": {},
   "source": [
    "### 15) Write a NumPy program to find the set difference of two arrays. The set difference will return the sorted, unique values in array1 that are not in array2."
   ]
  },
  {
   "cell_type": "code",
   "execution_count": 19,
   "id": "19cc3cf6",
   "metadata": {},
   "outputs": [
    {
     "name": "stdout",
     "output_type": "stream",
     "text": [
      "Array1:  [ 0 10 20 40 60 80]\n",
      "Array2:  [10, 30, 40, 50, 70]\n",
      "\n",
      "Return values in array 1 which is not in array 2\n",
      "[ 0 20 60 80]\n"
     ]
    }
   ],
   "source": [
    "array1 = np.array([0, 10, 20, 40, 60, 80])\n",
    "print(\"Array1: \",array1)\n",
    "array2 = [10, 30, 40, 50, 70]\n",
    "print(\"Array2: \",array2)\n",
    "print()\n",
    "print(\"Return values in array 1 which is not in array 2\")\n",
    "result=np.setdiff1d(array1,array2)\n",
    "print(result)"
   ]
  },
  {
   "cell_type": "markdown",
   "id": "ec6556d2",
   "metadata": {},
   "source": [
    "### 16) Write a NumPy program to find the union of two arrays. Union will return the unique, sorted array of values that are in either of the two input arrays."
   ]
  },
  {
   "cell_type": "code",
   "execution_count": 20,
   "id": "75d64e56",
   "metadata": {},
   "outputs": [
    {
     "name": "stdout",
     "output_type": "stream",
     "text": [
      "Array1:  [ 0 10 20 40 60 80]\n",
      "Array2:  [10, 30, 40, 50, 70]\n",
      "\n",
      "Union of two array,return unique,sorted values.\n",
      "[ 0 10 20 30 40 50 60 70 80]\n"
     ]
    }
   ],
   "source": [
    "array1 = np.array([0, 10, 20, 40, 60, 80])\n",
    "print(\"Array1: \",array1)\n",
    "array2 = [10, 30, 40, 50, 70]\n",
    "print(\"Array2: \",array2)\n",
    "print()\n",
    "print(\"Union of two array,return unique,sorted values.\")\n",
    "result=np.union1d(array1,array2)\n",
    "print(result)"
   ]
  },
  {
   "cell_type": "markdown",
   "id": "3dbc9322",
   "metadata": {},
   "source": [
    "### 17) Write a NumPy program to construct an array by repeating."
   ]
  },
  {
   "cell_type": "code",
   "execution_count": 21,
   "id": "6003891f",
   "metadata": {},
   "outputs": [
    {
     "name": "stdout",
     "output_type": "stream",
     "text": [
      "[10 20 30 40 50]\n",
      "\n",
      "Repeating array 2 times\n",
      "[10 20 30 40 50 10 20 30 40 50]\n",
      "\n",
      "Repeating array 3 times\n",
      "[10 20 30 40 50 10 20 30 40 50 10 20 30 40 50]\n"
     ]
    }
   ],
   "source": [
    "x=np.array([10,20,30,40,50])\n",
    "print(x)\n",
    "print()\n",
    "print(\"Repeating array 2 times\")\n",
    "result=np.tile(x,2)\n",
    "print(result)\n",
    "print()\n",
    "print(\"Repeating array 3 times\")\n",
    "result1=np.tile(x,3)\n",
    "print(result1)"
   ]
  },
  {
   "cell_type": "markdown",
   "id": "4024ade2",
   "metadata": {},
   "source": [
    "### 18) Write a NumPy program to repeat elements of an array."
   ]
  },
  {
   "cell_type": "code",
   "execution_count": 22,
   "id": "43728e2b",
   "metadata": {},
   "outputs": [
    {
     "name": "stdout",
     "output_type": "stream",
     "text": [
      "[10 20 30 40 50]\n",
      "\n",
      "[10 10 20 20 30 30 40 40 50 50]\n"
     ]
    }
   ],
   "source": [
    "x=np.array([10,20,30,40,50])\n",
    "print(x)\n",
    "print()\n",
    "result=np.repeat(x,2)\n",
    "print(result)"
   ]
  },
  {
   "cell_type": "markdown",
   "id": "301abc32",
   "metadata": {},
   "source": [
    "### 19) Write a NumPy program to find the indices of the maximum and minimum values along the given axis of an array."
   ]
  },
  {
   "cell_type": "code",
   "execution_count": 23,
   "id": "03c890bd",
   "metadata": {},
   "outputs": [
    {
     "name": "stdout",
     "output_type": "stream",
     "text": [
      "[26 76 31 54 76 23 93 85 61 51 76 32 65 99 79 75 27 68 76 89]\n",
      "\n",
      "Finding the maximum value in array\n",
      "Maximum value in array\n",
      "13\n",
      "\n",
      "Minimum value in array\n",
      "5\n"
     ]
    }
   ],
   "source": [
    "x=np.random.randint(10,100,20)\n",
    "print(x)\n",
    "print()\n",
    "print(\"Finding the maximum value in array\")\n",
    "max_val=np.argmax(x)\n",
    "print(\"Maximum value in array\")\n",
    "print(max_val)\n",
    "print()\n",
    "min_val=np.argmin(x)\n",
    "print(\"Minimum value in array\")\n",
    "print(min_val)"
   ]
  },
  {
   "cell_type": "markdown",
   "id": "b1a1a01e",
   "metadata": {},
   "source": [
    "### 20) Write a NumPy program to sort an along the first, last axis of an array."
   ]
  },
  {
   "cell_type": "code",
   "execution_count": 24,
   "id": "d13ef36e",
   "metadata": {},
   "outputs": [
    {
     "name": "stdout",
     "output_type": "stream",
     "text": [
      "[[21 12 47 19 13]\n",
      " [77 98 55 58 51]\n",
      " [50 94 99 38 66]\n",
      " [49 77 87 17 16]]\n",
      "\n",
      "Sort array along with first axis\n",
      "\n",
      "[[12 13 19 21 47]\n",
      " [51 55 58 77 98]\n",
      " [38 50 66 94 99]\n",
      " [16 17 49 77 87]]\n",
      "\n",
      "[[21 12 47 17 13]\n",
      " [49 77 55 19 16]\n",
      " [50 94 87 38 51]\n",
      " [77 98 99 58 66]]\n"
     ]
    }
   ],
   "source": [
    "x=np.random.randint(10,100,20).reshape(4,5)\n",
    "print(x)\n",
    "print()\n",
    "print(\"Sort array along with first axis\")\n",
    "print()\n",
    "result=np.sort(x,axis=1)\n",
    "print(result)\n",
    "print()\n",
    "result1=np.sort(x,axis=0)\n",
    "print(result1)"
   ]
  },
  {
   "cell_type": "markdown",
   "id": "4650e49d",
   "metadata": {},
   "source": [
    "### 21) Write a NumPy program to save a NumPy array to a text file."
   ]
  },
  {
   "cell_type": "code",
   "execution_count": 25,
   "id": "f77e7fae",
   "metadata": {},
   "outputs": [
    {
     "name": "stdout",
     "output_type": "stream",
     "text": [
      "[10 12 14 16 18]\n",
      "\n",
      "None\n"
     ]
    }
   ],
   "source": [
    "a = np.arange(10,20,2)\n",
    "print(a)\n",
    "print()\n",
    "result=np.savetxt(\"final.txt\",a,delimiter=',')\n",
    "print(result)"
   ]
  },
  {
   "cell_type": "markdown",
   "id": "b5a4204f",
   "metadata": {},
   "source": [
    "### Ravel function to convert array into one-dimentional array."
   ]
  },
  {
   "cell_type": "code",
   "execution_count": 26,
   "id": "6088e3c7",
   "metadata": {},
   "outputs": [
    {
     "name": "stdout",
     "output_type": "stream",
     "text": [
      "[[10 12 14 16 18]\n",
      " [20 22 24 26 28]\n",
      " [30 32 34 36 38]]\n",
      "\n",
      "Converting array matrix into single dimentional array\n",
      "[10 12 14 16 18 20 22 24 26 28 30 32 34 36 38]\n"
     ]
    }
   ],
   "source": [
    "x=np.arange(10,40,2).reshape(3,5)\n",
    "print(x)\n",
    "print()\n",
    "print(\"Converting array matrix into single dimentional array\")\n",
    "result=np.ravel(x)\n",
    "print(result)"
   ]
  },
  {
   "cell_type": "code",
   "execution_count": 27,
   "id": "596d915f",
   "metadata": {},
   "outputs": [
    {
     "name": "stdout",
     "output_type": "stream",
     "text": [
      "[[10 12 14 16 18]\n",
      " [20 22 24 26 28]\n",
      " [30 32 34 36 38]]\n",
      "<class 'numpy.ndarray'>\n",
      "\n",
      "Changing the data type of aray\n",
      "[[10. 12. 14. 16. 18.]\n",
      " [20. 22. 24. 26. 28.]\n",
      " [30. 32. 34. 36. 38.]]\n",
      "<class 'numpy.ndarray'>\n"
     ]
    }
   ],
   "source": [
    "x=np.arange(10,40,2,dtype=np.int32).reshape(3,5)\n",
    "print(x)\n",
    "print(type(x))\n",
    "print()\n",
    "print(\"Changing the data type of aray\")\n",
    "result=x.astype(float)\n",
    "print(result)\n",
    "print(type(result))"
   ]
  },
  {
   "cell_type": "markdown",
   "id": "e4d3a014",
   "metadata": {},
   "source": [
    "### 22) Write a NumPy program to convert 1-D arrays as columns into a 2-D array."
   ]
  },
  {
   "cell_type": "code",
   "execution_count": 28,
   "id": "d4a1fcba",
   "metadata": {},
   "outputs": [
    {
     "name": "stdout",
     "output_type": "stream",
     "text": [
      "\n",
      "Concatenate two array\n",
      "[[10 11]\n",
      " [20 22]\n",
      " [30 33]\n",
      " [40 44]]\n"
     ]
    }
   ],
   "source": [
    "x=np.array([10,20,30,40])\n",
    "y=np.array([11,22,33,44])\n",
    "print()\n",
    "print(\"Concatenate two array\")\n",
    "result=np.column_stack((x,y))\n",
    "print(result)"
   ]
  },
  {
   "cell_type": "markdown",
   "id": "2d9f8078",
   "metadata": {},
   "source": [
    "### 23) Write a Numpy program to split an array of 14 elements into 3 arrays, each of which has 2, 4, and 8 elements in the original order."
   ]
  },
  {
   "cell_type": "code",
   "execution_count": 29,
   "id": "c3113ed3",
   "metadata": {},
   "outputs": [
    {
     "name": "stdout",
     "output_type": "stream",
     "text": [
      "[[ 0  1  2  3  4]\n",
      " [ 5  6  7  8  9]\n",
      " [10 11 12 13 14]]\n",
      "Dimention of an array = (3, 5)\n",
      "Lenght of an array = 3\n",
      "DImention of an array = 2\n",
      "Type of an element = int32\n",
      "<class 'numpy.ndarray'>\n",
      "\n",
      "After splitting\n",
      "\n",
      "[array([[0, 1, 2, 3, 4],\n",
      "       [5, 6, 7, 8, 9]]), array([[10, 11, 12, 13, 14]]), array([], shape=(0, 5), dtype=int32)]\n",
      "\n"
     ]
    }
   ],
   "source": [
    "x=np.arange(15).reshape(3,5)\n",
    "print(x)\n",
    "print(\"Dimention of an array =\",np.shape(x))\n",
    "print(\"Lenght of an array =\",len(x))\n",
    "print(\"DImention of an array =\",np.ndim(x))\n",
    "print(\"Type of an element =\",x.dtype)\n",
    "print(type(x))\n",
    "print()\n",
    "print(\"After splitting\")\n",
    "print()\n",
    "result=np.split(x,[2,6])\n",
    "print(result)\n",
    "print()\n"
   ]
  },
  {
   "cell_type": "markdown",
   "id": "4e8856d3",
   "metadata": {},
   "source": [
    "### 24) Write a NumPy program to get the number of nonzero elements in an array."
   ]
  },
  {
   "cell_type": "code",
   "execution_count": 30,
   "id": "45843cf8",
   "metadata": {},
   "outputs": [
    {
     "name": "stdout",
     "output_type": "stream",
     "text": [
      "[[ 0 10 20  0]\n",
      " [11 22  0 33]]\n",
      "Printing the count of non-zero element in array\n",
      "5\n"
     ]
    }
   ],
   "source": [
    "num=np.array([[0,10,20,0],[11,22,0,33]])\n",
    "print(num)\n",
    "print(\"Printing the count of non-zero element in array\")\n",
    "result=np.count_nonzero(num)\n",
    "print(result)"
   ]
  },
  {
   "cell_type": "code",
   "execution_count": 31,
   "id": "7966232d",
   "metadata": {},
   "outputs": [
    {
     "name": "stdout",
     "output_type": "stream",
     "text": [
      "[[6.23042070e-307 4.67296746e-307 1.69121096e-306 9.34609111e-307]\n",
      " [1.11256817e-306 1.06811422e-306 1.42417221e-306 1.11260619e-306]\n",
      " [8.90094053e-307 1.86919378e-306 1.06809792e-306 1.37962456e-306]\n",
      " [1.69111861e-306 1.78020169e-306 1.37961777e-306 7.56599807e-307]]\n",
      "4\n"
     ]
    }
   ],
   "source": [
    "x=np.empty((4,4))\n",
    "print(x)\n",
    "print(len(x))"
   ]
  },
  {
   "cell_type": "code",
   "execution_count": 32,
   "id": "29a961db",
   "metadata": {},
   "outputs": [
    {
     "name": "stdout",
     "output_type": "stream",
     "text": [
      "[[0.9567339  0.53827101 0.74520145 0.67170326 0.78799529 0.05451625]\n",
      " [0.60676994 0.29175185 0.71254602 0.44160871 0.9021924  0.89293394]\n",
      " [0.29110698 0.91323379 0.3342825  0.12545343 0.20388364 0.70416075]\n",
      " [0.58530988 0.96136191 0.51341407 0.29457334 0.76881819 0.53648265]\n",
      " [0.0115107  0.76935327 0.53551819 0.89835256 0.61059165 0.33186264]]\n",
      "5\n",
      "------------------\n",
      "[[0.9567339  0.53827101 0.74520145 0.67170326 0.78799529 0.05451625]\n",
      " [0.60676994 0.29175185 0.71254602 0.44160871 0.9021924  0.89293394]\n",
      " [0.29110698 0.91323379 0.3342825  0.12545343 0.20388364 0.70416075]\n",
      " [0.58530988 0.96136191 0.51341407 0.29457334 0.76881819 0.53648265]\n",
      " [0.0115107  0.76935327 0.53551819 0.89835256 0.61059165 0.33186264]]\n",
      "5\n"
     ]
    }
   ],
   "source": [
    "x= np.random.random((5,6))\n",
    "print(x)\n",
    "print(len(x))\n",
    "\n",
    "print(\"------------------\")\n",
    "\n",
    "a=np.copy(x)\n",
    "print(a)\n",
    "print(len(a))"
   ]
  },
  {
   "cell_type": "code",
   "execution_count": 33,
   "id": "aba6cb5b",
   "metadata": {},
   "outputs": [
    {
     "name": "stdout",
     "output_type": "stream",
     "text": [
      "41\n",
      "43\n",
      "9\n",
      "22\n",
      "19\n",
      "46\n",
      "38\n",
      "12\n",
      "35\n",
      "42\n",
      "[41 43  9 22 19 46 38 12 35 42]\n"
     ]
    }
   ],
   "source": [
    "x=np.random.randint(5,50,10)\n",
    "\n",
    "for i in x:\n",
    "    print(i)\n",
    "        \n",
    "print(x)"
   ]
  },
  {
   "cell_type": "code",
   "execution_count": 34,
   "id": "f6d4ede7",
   "metadata": {},
   "outputs": [
    {
     "name": "stdout",
     "output_type": "stream",
     "text": [
      "[41 43  9 22 19 46 38 12 35 42]\n",
      "Sorting the values\n",
      "[ 9 12 19 22 35 38 41 42 43 46]\n"
     ]
    }
   ],
   "source": [
    "print(x)\n",
    "print(\"Sorting the values\")\n",
    "sort_val=np.sort(x)\n",
    "print(sort_val)"
   ]
  },
  {
   "cell_type": "code",
   "execution_count": 35,
   "id": "0d9c3cea",
   "metadata": {},
   "outputs": [
    {
     "name": "stdout",
     "output_type": "stream",
     "text": [
      "\n",
      "[ 10  20  30  40  50 100 200 300 400 500]\n"
     ]
    }
   ],
   "source": [
    "x=np.array([10,20,30,40,50])\n",
    "y=np.array([100,200,300,400,500])\n",
    "print()\n",
    "result=np.append(x,y,axis=0)\n",
    "print(result)"
   ]
  },
  {
   "cell_type": "code",
   "execution_count": 36,
   "id": "6306b3bc",
   "metadata": {},
   "outputs": [
    {
     "name": "stdout",
     "output_type": "stream",
     "text": [
      "Original array  [10 20 30 40 50]\n",
      "[10 20 30 40 50 60]\n"
     ]
    }
   ],
   "source": [
    "### Inserting an element in array.\n",
    "print(\"Original array \",x)\n",
    "x=np.insert(x,5,60)\n",
    "print(x)"
   ]
  },
  {
   "cell_type": "code",
   "execution_count": 96,
   "id": "2645b203",
   "metadata": {},
   "outputs": [
    {
     "name": "stdout",
     "output_type": "stream",
     "text": [
      "[[[ 0  1  2]\n",
      "  [ 3  4  5]\n",
      "  [ 6  7  8]]\n",
      "\n",
      " [[ 9 10 11]\n",
      "  [12 13 14]\n",
      "  [15 16 17]]\n",
      "\n",
      " [[18 19 20]\n",
      "  [21 22 23]\n",
      "  [24 25 26]]]\n"
     ]
    }
   ],
   "source": [
    "import numpy as np\n",
    "x=np.arange(27).reshape(3,3,3)\n",
    "print(x)"
   ]
  },
  {
   "cell_type": "code",
   "execution_count": 97,
   "id": "fa1f8f99",
   "metadata": {},
   "outputs": [
    {
     "data": {
      "text/plain": [
       "array([[[ 0,  2],\n",
       "        [ 6,  8]],\n",
       "\n",
       "       [[ 9, 11],\n",
       "        [15, 17]]])"
      ]
     },
     "execution_count": 97,
     "metadata": {},
     "output_type": "execute_result"
    }
   ],
   "source": [
    "x[0:2,0::2,::2]"
   ]
  },
  {
   "cell_type": "code",
   "execution_count": 39,
   "id": "18436953",
   "metadata": {},
   "outputs": [
    {
     "data": {
      "text/plain": [
       "array([[[ 0,  2],\n",
       "        [ 6,  8]],\n",
       "\n",
       "       [[ 9, 11],\n",
       "        [15, 17]]])"
      ]
     },
     "execution_count": 39,
     "metadata": {},
     "output_type": "execute_result"
    }
   ],
   "source": [
    "## o/p [0, 2\n",
    "      #15,17]\n",
    "\n",
    "x[0:2,0:3:2,0::2]"
   ]
  },
  {
   "cell_type": "code",
   "execution_count": null,
   "id": "0d922343",
   "metadata": {},
   "outputs": [],
   "source": [
    "def binary_cross_entropy(array):\n",
    "    return "
   ]
  },
  {
   "cell_type": "code",
   "execution_count": 1,
   "id": "5946cb82",
   "metadata": {},
   "outputs": [
    {
     "name": "stdout",
     "output_type": "stream",
     "text": [
      "C:\\Users\\User\\Complete Python Tutorial\\Numpy_Exercise\n",
      "C:\\Users\\User\\Anaconda3\\python37.zip\n",
      "C:\\Users\\User\\Anaconda3\\DLLs\n",
      "C:\\Users\\User\\Anaconda3\\lib\n",
      "C:\\Users\\User\\Anaconda3\n",
      "\n",
      "C:\\Users\\User\\AppData\\Roaming\\Python\\Python37\\site-packages\n",
      "C:\\Users\\User\\Anaconda3\\lib\\site-packages\n",
      "C:\\Users\\User\\Anaconda3\\lib\\site-packages\\object_detection-0.1-py3.7.egg\n",
      "C:\\Users\\User\\Anaconda3\\lib\\site-packages\\tf_models_official-2.4.0-py3.7.egg\n",
      "C:\\Users\\User\\Anaconda3\\lib\\site-packages\\lvis-0.5.3-py3.7.egg\n",
      "C:\\Users\\User\\Anaconda3\\lib\\site-packages\\pycocotools-2.0.2-py3.7-win-amd64.egg\n",
      "C:\\Users\\User\\Anaconda3\\lib\\site-packages\\tf_slim-1.1.0-py3.7.egg\n",
      "C:\\Users\\User\\Anaconda3\\lib\\site-packages\\apache_beam-2.28.0-py3.7-win-amd64.egg\n",
      "C:\\Users\\User\\Anaconda3\\lib\\site-packages\\avro_python3-1.10.1-py3.7.egg\n",
      "C:\\Users\\User\\Anaconda3\\lib\\site-packages\\tensorflow-2.4.1-py3.7-win-amd64.egg\n",
      "C:\\Users\\User\\Anaconda3\\lib\\site-packages\\tensorflow_model_optimization-0.5.0-py3.7.egg\n",
      "C:\\Users\\User\\Anaconda3\\lib\\site-packages\\tensorflow_hub-0.11.0-py3.7.egg\n",
      "C:\\Users\\User\\Anaconda3\\lib\\site-packages\\tensorflow_datasets-4.2.0-py3.7.egg\n",
      "C:\\Users\\User\\Anaconda3\\lib\\site-packages\\tensorflow_addons-0.12.1-py3.7-win-amd64.egg\n",
      "C:\\Users\\User\\Anaconda3\\lib\\site-packages\\seqeval-1.2.2-py3.7.egg\n",
      "C:\\Users\\User\\Anaconda3\\lib\\site-packages\\sentencepiece-0.1.95-py3.7-win-amd64.egg\n",
      "C:\\Users\\User\\Anaconda3\\lib\\site-packages\\py_cpuinfo-7.0.0-py3.7.egg\n",
      "C:\\Users\\User\\Anaconda3\\lib\\site-packages\\oauth2client-4.1.3-py3.7.egg\n",
      "C:\\Users\\User\\Anaconda3\\lib\\site-packages\\kaggle-1.5.12-py3.7.egg\n",
      "C:\\Users\\User\\Anaconda3\\lib\\site-packages\\google_cloud_bigquery-2.11.0-py3.7.egg\n",
      "C:\\Users\\User\\Anaconda3\\lib\\site-packages\\google_api_python_client-2.0.2-py3.7.egg\n",
      "C:\\Users\\User\\Anaconda3\\lib\\site-packages\\gin_config-0.4.0-py3.7.egg\n",
      "C:\\Users\\User\\Anaconda3\\lib\\site-packages\\dataclasses-0.8-py3.7.egg\n",
      "C:\\Users\\User\\Anaconda3\\lib\\site-packages\\typing_extensions-3.7.4.3-py3.7.egg\n",
      "C:\\Users\\User\\Anaconda3\\lib\\site-packages\\requests-2.25.1-py3.7.egg\n",
      "C:\\Users\\User\\Anaconda3\\lib\\site-packages\\pymongo-3.11.3-py3.7-win-amd64.egg\n",
      "C:\\Users\\User\\Anaconda3\\lib\\site-packages\\pydot-1.4.2-py3.7.egg\n",
      "C:\\Users\\User\\Anaconda3\\lib\\site-packages\\pyarrow-2.0.0-py3.7-win-amd64.egg\n",
      "C:\\Users\\User\\Anaconda3\\lib\\site-packages\\mock-2.0.0-py3.7.egg\n",
      "C:\\Users\\User\\Anaconda3\\lib\\site-packages\\httplib2-0.17.4-py3.7.egg\n",
      "C:\\Users\\User\\Anaconda3\\lib\\site-packages\\hdfs-2.6.0-py3.7.egg\n",
      "C:\\Users\\User\\Anaconda3\\lib\\site-packages\\future-0.18.2-py3.7.egg\n",
      "C:\\Users\\User\\Anaconda3\\lib\\site-packages\\fastavro-1.3.3-py3.7-win-amd64.egg\n",
      "C:\\Users\\User\\Anaconda3\\lib\\site-packages\\dill-0.3.1.1-py3.7.egg\n",
      "C:\\Users\\User\\Anaconda3\\lib\\site-packages\\crcmod-1.7-py3.7-win-amd64.egg\n",
      "C:\\Users\\User\\Anaconda3\\lib\\site-packages\\win32\n",
      "C:\\Users\\User\\Anaconda3\\lib\\site-packages\\win32\\lib\n",
      "C:\\Users\\User\\Anaconda3\\lib\\site-packages\\Pythonwin\n",
      "C:\\Users\\User\\Anaconda3\\lib\\site-packages\\IPython\\extensions\n",
      "C:\\Users\\User\\.ipython\n"
     ]
    }
   ],
   "source": [
    "import sys\n",
    "\n",
    "for i in sys.path:\n",
    "    print(i)"
   ]
  },
  {
   "cell_type": "markdown",
   "id": "73385c19",
   "metadata": {},
   "source": [
    "### Ask user to input two numbers a, b. Write a program to generate a random array of shape (a, b) and print the array and avg of the array."
   ]
  },
  {
   "cell_type": "code",
   "execution_count": 6,
   "id": "f8e28442",
   "metadata": {},
   "outputs": [
    {
     "name": "stdout",
     "output_type": "stream",
     "text": [
      "Eneter any number5\n",
      "Eneter any number20\n",
      "[ 5  6  7  8  9 10 11 12 13 14 15 16 17 18 19]\n",
      "\n",
      "Average of array\n",
      "12.0\n"
     ]
    }
   ],
   "source": [
    "\n",
    "a=int(input(\"Eneter any number\"))\n",
    "b=int(input(\"Eneter any number\"))\n",
    "\n",
    "x=np.arange(a,b)\n",
    "print(x)\n",
    "print()\n",
    "print(\"Average of array\")\n",
    "result=np.mean(x)\n",
    "print(result)"
   ]
  },
  {
   "cell_type": "markdown",
   "id": "abb4d73f",
   "metadata": {},
   "source": [
    "### Write a function to create a 2d array with 1 on the border and 0 inside. Take 2-D array shape as (a,b) as parameter to function."
   ]
  },
  {
   "cell_type": "code",
   "execution_count": 31,
   "id": "b3a36deb",
   "metadata": {},
   "outputs": [
    {
     "name": "stdout",
     "output_type": "stream",
     "text": [
      "Enter a number4\n",
      "Enter a number4\n",
      "Original array\n",
      "[[1. 1. 1. 1.]\n",
      " [1. 1. 1. 1.]\n",
      " [1. 1. 1. 1.]\n",
      " [1. 1. 1. 1.]]\n",
      "\n",
      "Array with border 1\n",
      "[[1. 1. 1. 1.]\n",
      " [1. 0. 0. 1.]\n",
      " [1. 0. 0. 1.]\n",
      " [1. 1. 1. 1.]]\n"
     ]
    }
   ],
   "source": [
    "import numpy as np\n",
    "def array_fuc(a,b):\n",
    "    x=np.ones((a,b))\n",
    "    print(\"Original array\")\n",
    "    print(x)\n",
    "    print()\n",
    "    print(\"Array with border 1\")\n",
    "    x[1:-1,1:-1]=0\n",
    "    print(x)\n",
    "\n",
    "a=int(input(\"Enter a number\"))\n",
    "b=int(input(\"Enter a number\"))\n",
    "\n",
    "final_result=array_fuc(a,b)"
   ]
  },
  {
   "cell_type": "code",
   "execution_count": 29,
   "id": "cb87b8f7",
   "metadata": {},
   "outputs": [
    {
     "name": "stdout",
     "output_type": "stream",
     "text": [
      "Original array\n",
      "[[1. 1. 1. 1.]\n",
      " [1. 1. 1. 1.]\n",
      " [1. 1. 1. 1.]\n",
      " [1. 1. 1. 1.]]\n",
      "\n",
      "Array with border 1\n",
      "[[1. 1. 1. 1.]\n",
      " [1. 0. 0. 1.]\n",
      " [1. 0. 0. 1.]\n",
      " [1. 1. 1. 1.]]\n"
     ]
    }
   ],
   "source": [
    "x=np.ones((a,b))\n",
    "print(\"Original array\")\n",
    "print(x)\n",
    "print()\n",
    "print(\"Array with border 1\")\n",
    "x[1:-1,1:-1]=0\n",
    "print(x)\n",
    "   "
   ]
  },
  {
   "cell_type": "markdown",
   "id": "cbdb3d01",
   "metadata": {},
   "source": [
    "###  Create a vector of size 10 with values ranging from 0 to 1, both excluded."
   ]
  },
  {
   "cell_type": "code",
   "execution_count": 44,
   "id": "eb39b610",
   "metadata": {},
   "outputs": [
    {
     "name": "stdout",
     "output_type": "stream",
     "text": [
      "[0.         0.11111111 0.22222222 0.33333333 0.44444444 0.55555556\n",
      " 0.66666667 0.77777778 0.88888889 1.        ]\n"
     ]
    }
   ],
   "source": [
    "x=np.linspace(0,1,10)\n",
    "print(x)"
   ]
  },
  {
   "cell_type": "markdown",
   "id": "abf3155e",
   "metadata": {},
   "source": [
    "###  Can you create a identity mattrix of shape (3,4). If yes write code for it."
   ]
  },
  {
   "cell_type": "code",
   "execution_count": 51,
   "id": "d66653a8",
   "metadata": {},
   "outputs": [
    {
     "name": "stdout",
     "output_type": "stream",
     "text": [
      "[[1. 0. 0.]\n",
      " [0. 1. 0.]\n",
      " [0. 0. 1.]]\n"
     ]
    }
   ],
   "source": [
    "x=np.identity(3)\n",
    "print(x)"
   ]
  },
  {
   "cell_type": "markdown",
   "id": "03713559",
   "metadata": {},
   "source": [
    "### Create a 5x5 matrix with row values ranging from 0 to 4."
   ]
  },
  {
   "cell_type": "code",
   "execution_count": 7,
   "id": "7109c112",
   "metadata": {},
   "outputs": [
    {
     "name": "stdout",
     "output_type": "stream",
     "text": [
      "[[0. 0. 0. 0. 0.]\n",
      " [0. 0. 0. 0. 0.]\n",
      " [0. 0. 0. 0. 0.]\n",
      " [0. 0. 0. 0. 0.]\n",
      " [0. 0. 0. 0. 0.]]\n",
      "\n",
      "[[0. 1. 2. 3. 4.]\n",
      " [0. 1. 2. 3. 4.]\n",
      " [0. 1. 2. 3. 4.]\n",
      " [0. 1. 2. 3. 4.]\n",
      " [0. 1. 2. 3. 4.]]\n"
     ]
    }
   ],
   "source": [
    "x=np.zeros((5,5))\n",
    "print(x)\n",
    "print()\n",
    "x=x+np.arange(5)\n",
    "print(x)\n",
    "\n"
   ]
  },
  {
   "cell_type": "markdown",
   "id": "e603ca1b",
   "metadata": {},
   "source": [
    "### You are given a space separated list of numbers. Your task is to print a reversed NumPy array with the element type float."
   ]
  },
  {
   "cell_type": "code",
   "execution_count": 59,
   "id": "f5612bd3",
   "metadata": {},
   "outputs": [
    {
     "name": "stdout",
     "output_type": "stream",
     "text": [
      "<class 'list'>\n",
      "[-10.  -8.   4.   3.   2.   1.]\n",
      "<class 'numpy.ndarray'>\n"
     ]
    }
   ],
   "source": [
    "x=[1,2,3,4,-8,-10]\n",
    "print(type(x))\n",
    "y=np.array(x,dtype=np.float)\n",
    "print(y[::-1])\n",
    "print(type(y))\n"
   ]
  },
  {
   "cell_type": "code",
   "execution_count": 60,
   "id": "a02f5f58",
   "metadata": {},
   "outputs": [
    {
     "name": "stdout",
     "output_type": "stream",
     "text": [
      "6\n"
     ]
    }
   ],
   "source": [
    "count=0\n",
    "\n",
    "for i in x:\n",
    "    count+=1\n",
    "print(count)"
   ]
  },
  {
   "cell_type": "markdown",
   "id": "72cd9d46",
   "metadata": {},
   "source": [
    "### Create a Python function to calculate the Softmax of the given numpy 1D array. The function only accepts the numpy 1D array, otherwise raise error."
   ]
  },
  {
   "cell_type": "code",
   "execution_count": 112,
   "id": "bdd747ee",
   "metadata": {},
   "outputs": [
    {
     "name": "stdout",
     "output_type": "stream",
     "text": [
      "[-10.          -9.7979798   -9.5959596   -9.39393939  -9.19191919\n",
      "  -8.98989899  -8.78787879  -8.58585859  -8.38383838  -8.18181818\n",
      "  -7.97979798  -7.77777778  -7.57575758  -7.37373737  -7.17171717\n",
      "  -6.96969697  -6.76767677  -6.56565657  -6.36363636  -6.16161616\n",
      "  -5.95959596  -5.75757576  -5.55555556  -5.35353535  -5.15151515\n",
      "  -4.94949495  -4.74747475  -4.54545455  -4.34343434  -4.14141414\n",
      "  -3.93939394  -3.73737374  -3.53535354  -3.33333333  -3.13131313\n",
      "  -2.92929293  -2.72727273  -2.52525253  -2.32323232  -2.12121212\n",
      "  -1.91919192  -1.71717172  -1.51515152  -1.31313131  -1.11111111\n",
      "  -0.90909091  -0.70707071  -0.50505051  -0.3030303   -0.1010101\n",
      "   0.1010101    0.3030303    0.50505051   0.70707071   0.90909091\n",
      "   1.11111111   1.31313131   1.51515152   1.71717172   1.91919192\n",
      "   2.12121212   2.32323232   2.52525253   2.72727273   2.92929293\n",
      "   3.13131313   3.33333333   3.53535354   3.73737374   3.93939394\n",
      "   4.14141414   4.34343434   4.54545455   4.74747475   4.94949495\n",
      "   5.15151515   5.35353535   5.55555556   5.75757576   5.95959596\n",
      "   6.16161616   6.36363636   6.56565657   6.76767677   6.96969697\n",
      "   7.17171717   7.37373737   7.57575758   7.77777778   7.97979798\n",
      "   8.18181818   8.38383838   8.58585859   8.78787879   8.98989899\n",
      "   9.19191919   9.39393939   9.5959596    9.7979798   10.        ]\n",
      "[4.53978687e-05 5.55606489e-05 6.79983174e-05 8.32200197e-05\n",
      " 1.01848815e-04 1.24647146e-04 1.52547986e-04 1.86692945e-04\n",
      " 2.28478855e-04 2.79614739e-04 3.42191434e-04 4.18766684e-04\n",
      " 5.12469082e-04 6.27124987e-04 7.67413430e-04 9.39055039e-04\n",
      " 1.14904229e-03 1.40591988e-03 1.72012560e-03 2.10440443e-03\n",
      " 2.57431039e-03 3.14881358e-03 3.85103236e-03 4.70911357e-03\n",
      " 5.75728612e-03 7.03711536e-03 8.59898661e-03 1.05038445e-02\n",
      " 1.28252101e-02 1.56514861e-02 1.90885420e-02 2.32625358e-02\n",
      " 2.83228820e-02 3.44451957e-02 4.18339400e-02 5.07243606e-02\n",
      " 6.13831074e-02 7.41067363e-02 8.92170603e-02 1.07052146e-01\n",
      " 1.27951705e-01 1.52235823e-01 1.80176593e-01 2.11963334e-01\n",
      " 2.47663801e-01 2.87185901e-01 3.30246430e-01 3.76354517e-01\n",
      " 4.24816868e-01 4.74768924e-01 5.25231076e-01 5.75183132e-01\n",
      " 6.23645483e-01 6.69753570e-01 7.12814099e-01 7.52336199e-01\n",
      " 7.88036666e-01 8.19823407e-01 8.47764177e-01 8.72048295e-01\n",
      " 8.92947854e-01 9.10782940e-01 9.25893264e-01 9.38616893e-01\n",
      " 9.49275639e-01 9.58166060e-01 9.65554804e-01 9.71677118e-01\n",
      " 9.76737464e-01 9.80911458e-01 9.84348514e-01 9.87174790e-01\n",
      " 9.89496155e-01 9.91401013e-01 9.92962885e-01 9.94242714e-01\n",
      " 9.95290886e-01 9.96148968e-01 9.96851186e-01 9.97425690e-01\n",
      " 9.97895596e-01 9.98279874e-01 9.98594080e-01 9.98850958e-01\n",
      " 9.99060945e-01 9.99232587e-01 9.99372875e-01 9.99487531e-01\n",
      " 9.99581233e-01 9.99657809e-01 9.99720385e-01 9.99771521e-01\n",
      " 9.99813307e-01 9.99847452e-01 9.99875353e-01 9.99898151e-01\n",
      " 9.99916780e-01 9.99932002e-01 9.99944439e-01 9.99954602e-01]\n"
     ]
    },
    {
     "data": {
      "text/plain": [
       "[<matplotlib.lines.Line2D at 0x1c5b876c808>]"
      ]
     },
     "execution_count": 112,
     "metadata": {},
     "output_type": "execute_result"
    },
    {
     "data": {
      "image/png": "[encoded data removed]",
      "text/plain": [
       "<Figure size 432x288 with 1 Axes>"
      ]
     },
     "metadata": {
      "needs_background": "light"
     },
     "output_type": "display_data"
    }
   ],
   "source": [
    "def sigmoid_fuc(array):\n",
    "    return 1/(1 + np.exp(-(array)))\n",
    "\n",
    "\n",
    "x=np.linspace(-10,10,100)\n",
    "print(x)\n",
    "\n",
    "y=sigmoid_fuc(x)\n",
    "print(y)\n",
    "\n",
    "import matplotlib.pyplot as plt\n",
    "%matplotlib inline\n",
    "plt.plot(x,y)\n",
    "\n",
    "#output=[2.43733249e-01, 2.56112115e-22, 1.41628284e-17, 7.56266751e-01,5.05514197e-22, 1.50974911e-22]"
   ]
  },
  {
   "cell_type": "code",
   "execution_count": 78,
   "id": "c46d5909",
   "metadata": {},
   "outputs": [
    {
     "data": {
      "text/plain": [
       "array([1., 1., 1., 1., 1., 1.])"
      ]
     },
     "execution_count": 78,
     "metadata": {},
     "output_type": "execute_result"
    }
   ],
   "source": [
    "y=np.array([33.17344305,45.61961654,82.05405781,80.9647098,68.82830233,91.52064278])\n",
    "sigmoid_fuc(y)"
   ]
  },
  {
   "cell_type": "markdown",
   "id": "78542927",
   "metadata": {},
   "source": [
    "### vertical stacking."
   ]
  },
  {
   "cell_type": "code",
   "execution_count": 114,
   "id": "cfc7bd4b",
   "metadata": {},
   "outputs": [
    {
     "name": "stdout",
     "output_type": "stream",
     "text": [
      "[[0 1 2 3 4]\n",
      " [5 6 7 8 9]\n",
      " [1 1 1 1 1]\n",
      " [1 1 1 1 1]]\n"
     ]
    },
    {
     "data": {
      "text/plain": [
       "[<matplotlib.lines.Line2D at 0x1c5b8854788>,\n",
       " <matplotlib.lines.Line2D at 0x1c5b885a848>,\n",
       " <matplotlib.lines.Line2D at 0x1c5b885aa08>,\n",
       " <matplotlib.lines.Line2D at 0x1c5b885abc8>,\n",
       " <matplotlib.lines.Line2D at 0x1c5b885ae08>]"
      ]
     },
     "execution_count": 114,
     "metadata": {},
     "output_type": "execute_result"
    },
    {
     "data": {
      "image/png": "[encoded data removed]",
      "text/plain": [
       "<Figure size 432x288 with 1 Axes>"
      ]
     },
     "metadata": {
      "needs_background": "light"
     },
     "output_type": "display_data"
    }
   ],
   "source": [
    "a= np.array([[0,1,2,3,4],\n",
    "             [5,6,7,8,9]])\n",
    "\n",
    "b=np.array([[1,1,1,1,1],\n",
    "           [1,1,1,1,1]])\n",
    "\n",
    "result=np.vstack((a,b))\n",
    "print(result)\n",
    "plt.plot(a,b)"
   ]
  },
  {
   "cell_type": "code",
   "execution_count": 87,
   "id": "90b88a9c",
   "metadata": {},
   "outputs": [
    {
     "name": "stdout",
     "output_type": "stream",
     "text": [
      "After vertical stacking :-\n",
      "\n",
      "[[0.         1.         2.         3.         4.        ]\n",
      " [5.         6.         7.         8.         9.        ]\n",
      " [1.         1.         1.         1.         1.        ]\n",
      " [1.         1.         1.         1.         1.        ]\n",
      " [0.10117373 0.1677244  0.73764059 0.83166097 0.48985695]\n",
      " [0.44581567 0.13502419 0.55692335 0.16479622 0.61193593]]\n"
     ]
    }
   ],
   "source": [
    "### Example-2\n",
    "\n",
    "a=np.array([[0,1,2,3,4],\n",
    "           [5,6,7,8,9]])\n",
    "\n",
    "b=np.array([[1,1,1,1,1],\n",
    "           [1,1,1,1,1]])\n",
    "\n",
    "c=np.array([[0.10117373,0.1677244,0.73764059,0.83166097,0.48985695],\n",
    "           [0.44581567,0.13502419,0.55692335,0.16479622,0.61193593]])\n",
    "print(\"After vertical stacking :-\")\n",
    "print()\n",
    "result=np.vstack((a,b,c))\n",
    "print(result)"
   ]
  },
  {
   "cell_type": "markdown",
   "id": "e6905a54",
   "metadata": {},
   "source": [
    "#### # Input: a = np.array([1,2,3])\n",
    "#### Output: array([1, 1, 1, 2, 2, 2, 3, 3, 3, 1, 2, 3, 1, 2, 3, 1, 2, 3])."
   ]
  },
  {
   "cell_type": "code",
   "execution_count": 115,
   "id": "d69646d5",
   "metadata": {},
   "outputs": [
    {
     "name": "stdout",
     "output_type": "stream",
     "text": [
      "[1 1 1 2 2 2 3 3 3]\n",
      "\n",
      "[1 2 3 1 2 3 1 2 3]\n",
      "\n",
      "[1 1 1 2 2 2 3 3 3 1 2 3 1 2 3 1 2 3]\n"
     ]
    },
    {
     "data": {
      "text/plain": [
       "[<matplotlib.lines.Line2D at 0x1c5b88c0948>,\n",
       " <matplotlib.lines.Line2D at 0x1c5b88cc5c8>]"
      ]
     },
     "execution_count": 115,
     "metadata": {},
     "output_type": "execute_result"
    },
    {
     "data": {
      "image/png": "[encoded data removed]",
      "text/plain": [
       "<Figure size 432x288 with 1 Axes>"
      ]
     },
     "metadata": {
      "needs_background": "light"
     },
     "output_type": "display_data"
    }
   ],
   "source": [
    "a=np.array([1,2,3])\n",
    "a1=np.repeat(a,3)\n",
    "print(a1)\n",
    "print()\n",
    "a2=np.tile(a,3)\n",
    "print(a2)\n",
    "print()\n",
    "result=np.hstack((a1,a2))\n",
    "print(result)\n",
    "plt.plot(a1,a2,result)\n"
   ]
  },
  {
   "cell_type": "markdown",
   "id": "6d0563f8",
   "metadata": {},
   "source": [
    "### Numpy STRING Expercise :-"
   ]
  },
  {
   "cell_type": "markdown",
   "id": "38789b99",
   "metadata": {},
   "source": [
    "#### Write a NumPy program to concatenate element-wise two arrays of string."
   ]
  },
  {
   "cell_type": "code",
   "execution_count": 124,
   "id": "8e6696be",
   "metadata": {},
   "outputs": [
    {
     "name": "stdout",
     "output_type": "stream",
     "text": [
      "['Hitesh', 'Sonal']\n",
      "\n",
      "['Yerekar', 'Ingle']\n",
      "\n",
      "Concatenate given array string.\n",
      "['HiteshYerekar' 'SonalIngle']\n"
     ]
    }
   ],
   "source": [
    "x=(['Hitesh','Sonal'])\n",
    "y=(['Yerekar','Ingle'])\n",
    "print(x)\n",
    "print()\n",
    "print(y)\n",
    "print()\n",
    "print(\"Concatenate given array string.\")\n",
    "result=np.char.add(x, y)\n",
    "print(result)"
   ]
  },
  {
   "cell_type": "markdown",
   "id": "567b3d97",
   "metadata": {},
   "source": [
    "#### Write a NumPy program to repeat all the elements three times of a given array of string."
   ]
  },
  {
   "cell_type": "code",
   "execution_count": 125,
   "id": "c187ffd5",
   "metadata": {},
   "outputs": [
    {
     "name": "stdout",
     "output_type": "stream",
     "text": [
      "printing all element three times.\n",
      "['HiteshHiteshHitesh' 'SonalSonalSonal' 'SannidhyaSannidhyaSannidhya'\n",
      " 'PranayPranayPranay']\n"
     ]
    }
   ],
   "source": [
    "name=(['Hitesh','Sonal','Sannidhya','Pranay'])\n",
    "print(\"printing all element three times.\")\n",
    "result=np.char.multiply(name,3)\n",
    "print(result)"
   ]
  },
  {
   "cell_type": "markdown",
   "id": "93991a93",
   "metadata": {},
   "source": [
    "#### Write a NumPy program to capitalize the first letter, lowercase, uppercase, swapcase, title-case of all the elements of a given array."
   ]
  },
  {
   "cell_type": "code",
   "execution_count": 126,
   "id": "e6d05cf7",
   "metadata": {},
   "outputs": [
    {
     "name": "stdout",
     "output_type": "stream",
     "text": [
      "lowercase all elements\n",
      "['hitesh' 'sonal' 'sannidhya' 'pranay']\n",
      "\n",
      "Uppercase all elements\n",
      "['HITESH' 'SONAL' 'SANNIDHYA' 'PRANAY']\n",
      "\n",
      "Swapcase all elements\n",
      "['hITESH' 'sONAL' 'sANNIDHYA' 'pRANAY']\n",
      "\n",
      "title_case all elements\n",
      "['Hitesh' 'Sonal' 'Sannidhya' 'Pranay']\n"
     ]
    }
   ],
   "source": [
    "print(\"lowercase all elements\")\n",
    "l=np.char.lower(name)\n",
    "print(l)\n",
    "print()\n",
    "print(\"Uppercase all elements\")\n",
    "u=np.char.upper(name)\n",
    "print(u)\n",
    "print()\n",
    "print(\"Swapcase all elements\")\n",
    "sw=np.char.swapcase(name)\n",
    "print(sw)\n",
    "print()\n",
    "print(\"title_case all elements\")\n",
    "t=np.char.title(name)\n",
    "print(t)\n"
   ]
  },
  {
   "cell_type": "markdown",
   "id": "4cd52279",
   "metadata": {},
   "source": [
    "#### Write a NumPy program to insert a space between characters of all the elements of a given array."
   ]
  },
  {
   "cell_type": "code",
   "execution_count": 128,
   "id": "2d67e1fe",
   "metadata": {},
   "outputs": [
    {
     "name": "stdout",
     "output_type": "stream",
     "text": [
      "['Hitesh', 'Sonal', 'Sannidhya', 'Pranay']\n",
      "\n",
      "inserting the space between all charecter of elements\n",
      "\n",
      "['H i t e s h' 'S o n a l' 'S a n n i d h y a' 'P r a n a y']\n"
     ]
    }
   ],
   "source": [
    "print(name)\n",
    "print()\n",
    "print(\"inserting the space between all charecter of elements\")\n",
    "print()\n",
    "result=np.char.join(\" \",name)\n",
    "print(result)"
   ]
  },
  {
   "cell_type": "markdown",
   "id": "a2800af0",
   "metadata": {},
   "source": [
    "#### Write a NumPy program to remove the leading and trailing whitespaces of all the elements of a given array."
   ]
  },
  {
   "cell_type": "code",
   "execution_count": 132,
   "id": "71b9327c",
   "metadata": {},
   "outputs": [
    {
     "name": "stdout",
     "output_type": "stream",
     "text": [
      "['Java ' ' SQL ' ' Python ' 'R' ' C++']\n",
      "\n",
      "Removing the whitespaces from given array\n",
      "['Java' 'SQL' 'Python' 'R' 'C++']\n"
     ]
    }
   ],
   "source": [
    "language=np.array([\"Java \",' SQL ',' Python ','R',' C++'])\n",
    "print(language)\n",
    "print()\n",
    "print(\"Removing the whitespaces from given array\")\n",
    "result=np.char.strip(language)\n",
    "print(result)"
   ]
  },
  {
   "cell_type": "markdown",
   "id": "b9368618",
   "metadata": {},
   "source": [
    "#### Write a NumPy program to split the element of a given array with spaces."
   ]
  },
  {
   "cell_type": "code",
   "execution_count": 133,
   "id": "4e03abdc",
   "metadata": {},
   "outputs": [
    {
     "name": "stdout",
     "output_type": "stream",
     "text": [
      "Original array\n",
      "['Hitesh Yerekar Is a good data scientist']\n",
      "\n",
      "Spliting the elements with spaces\n",
      "\n",
      "[list(['Hitesh', 'Yerekar', 'Is', 'a', 'good', 'data', 'scientist'])]\n"
     ]
    }
   ],
   "source": [
    "name=np.array(['Hitesh Yerekar Is a good data scientist'])\n",
    "print(\"Original array\")\n",
    "print(name)\n",
    "print()\n",
    "print(\"Spliting the elements with spaces\")\n",
    "print()\n",
    "result=np.char.split(name)\n",
    "print(result)"
   ]
  },
  {
   "cell_type": "markdown",
   "id": "9c5e0cee",
   "metadata": {},
   "source": [
    "#### Write a NumPy program to count the number of \"e in a given array, element-wise."
   ]
  },
  {
   "cell_type": "code",
   "execution_count": 136,
   "id": "6887652c",
   "metadata": {},
   "outputs": [
    {
     "name": "stdout",
     "output_type": "stream",
     "text": [
      "['Hitesh Yerekar Is a good data scientist']\n",
      "\n",
      "Counting number of 's' in given string\n",
      "\n",
      "[4]\n"
     ]
    }
   ],
   "source": [
    "print(name)\n",
    "print()\n",
    "print(\"Counting number of 's' in given string\")\n",
    "print()\n",
    "count=np.char.count(name,'s')\n",
    "print(count)"
   ]
  },
  {
   "cell_type": "code",
   "execution_count": 24,
   "id": "73ea60ab",
   "metadata": {},
   "outputs": [
    {
     "name": "stdout",
     "output_type": "stream",
     "text": [
      "[[13 54 56 84 27]\n",
      " [98 18 97 72 41]\n",
      " [91 80 42 93 54]\n",
      " [29 34 47  6 48]\n",
      " [43 76 17 52 91]]\n",
      "\n",
      "Adding columns in existing array\n",
      "\n"
     ]
    },
    {
     "data": {
      "text/plain": [
       "array([[13., 54., 56., 84., 27.,  1.],\n",
       "       [98., 18., 97., 72., 41.,  1.],\n",
       "       [91., 80., 42., 93., 54.,  1.],\n",
       "       [29., 34., 47.,  6., 48.,  1.],\n",
       "       [43., 76., 17., 52., 91.,  1.]])"
      ]
     },
     "execution_count": 24,
     "metadata": {},
     "output_type": "execute_result"
    }
   ],
   "source": [
    "### appending elements on two-d array matrix.\n",
    "x=np.random.randint(5,100,25).reshape(5,5)\n",
    "print(x)\n",
    "print()\n",
    "print(\"Adding columns in existing array\")\n",
    "print()\n",
    "np.append(x,np.ones((x.shape[0],1)),axis=1)"
   ]
  },
  {
   "cell_type": "code",
   "execution_count": 28,
   "id": "cb9744a5",
   "metadata": {},
   "outputs": [
    {
     "data": {
      "text/plain": [
       "array([[13.        , 54.        , 56.        , 84.        , 27.        ,\n",
       "         0.44275023],\n",
       "       [98.        , 18.        , 97.        , 72.        , 41.        ,\n",
       "         0.35751958],\n",
       "       [91.        , 80.        , 42.        , 93.        , 54.        ,\n",
       "         0.31229432],\n",
       "       [29.        , 34.        , 47.        ,  6.        , 48.        ,\n",
       "         0.35028373],\n",
       "       [43.        , 76.        , 17.        , 52.        , 91.        ,\n",
       "         0.62371733]])"
      ]
     },
     "execution_count": 28,
     "metadata": {},
     "output_type": "execute_result"
    }
   ],
   "source": [
    "### adding column in existing matrix with random values.\n",
    "np.append(x,np.random.random((x.shape[0],1)),axis=1)"
   ]
  },
  {
   "cell_type": "code",
   "execution_count": 22,
   "id": "1af95aad",
   "metadata": {},
   "outputs": [
    {
     "name": "stdout",
     "output_type": "stream",
     "text": [
      "(5, 1)\n"
     ]
    }
   ],
   "source": [
    "print((x.shape[1],1))"
   ]
  },
  {
   "cell_type": "code",
   "execution_count": null,
   "id": "c4481220",
   "metadata": {},
   "outputs": [],
   "source": []
  },
  {
   "cell_type": "code",
   "execution_count": null,
   "id": "e6c54eab",
   "metadata": {},
   "outputs": [],
   "source": []
  },
  {
   "cell_type": "code",
   "execution_count": null,
   "id": "a8c71b5f",
   "metadata": {},
   "outputs": [],
   "source": []
  },
  {
   "cell_type": "code",
   "execution_count": null,
   "id": "572c9768",
   "metadata": {},
   "outputs": [],
   "source": []
  }
 ],
 "metadata": {
  "kernelspec": {
   "display_name": "Python 3",
   "language": "python",
   "name": "python3"
  },
  "language_info": {
   "codemirror_mode": {
    "name": "ipython",
    "version": 3
   },
   "file_extension": ".py",
   "mimetype": "text/x-python",
   "name": "python",
   "nbconvert_exporter": "python",
   "pygments_lexer": "ipython3",
   "version": "3.7.4"
  }
 },
 "nbformat": 4,
 "nbformat_minor": 5
}
