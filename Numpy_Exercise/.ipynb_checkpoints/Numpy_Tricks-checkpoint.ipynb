{
 "cells": [
  {
   "cell_type": "markdown",
   "id": "5059bfa6",
   "metadata": {},
   "source": [
    "### Following are some important Function of Numpy Array."
   ]
  },
  {
   "cell_type": "markdown",
   "id": "71340b89",
   "metadata": {},
   "source": [
    "#### 1) Sort() This function is used to sor the 1-d and 2-d array.\n",
    "#### 2) append() This function is used to append the values in an existing array.Also we can appending rows and column.       \n",
    "#### 3) Concatenate() This function is used to concatenate two array matrix.\n",
    "#### 4) Unique() This function is used to find out the unique vaklues in the given array matrix.\n",
    "#### 5) Where() This function is used to return the indices of an elements where the given condition is satisfied.\n",
    "#### 6) expand_dim() This function is used to expand the dimention of an existing array matrix.\n",
    "#### 7) argmax() This function is used to find out the indices of max value in an given array.\n",
    "#### 8) argmin() This funtion is udes to find out the indices of min value in an given array.\n",
    "#### 9) cumsum() This function is used to find out the cumulative sum of given array elements.\n",
    "#### 10) cumprod() This function is used to find out the cumulative product of an given array elements.\n",
    "#### 11) percentile() This function is used to find out the percentage of an given array.\n",
    "#### 12) histogram() This function is used find out the count of element in given range.\\\n",
    "#### 13) correcoef() This function is used to find out the correlation/relation between two array.)(ranges between (-1               to 1)).\n",
    "#### 14) isin() This function is used to find out the perticular element are present in given array or not.\n",
    "#### 15) delete() This function is used to delete an element of given array with mention axis.\n",
    "### 16) SET() \n",
    "#### 1) Union1d() This func is used to return union of two given array.\n",
    "#### 2) intersect1d() This func is used to return similar elements in given array.\n",
    "#### 3) setdiff1d() This func return the elements which is present in 1st array not in 2nd array.\n",
    "#### 4) setxor() This func return the different elements in given array.\n",
    "#### 5) in1d() This func check the whether perticular elements are present in array or not.\n"
   ]
  },
  {
   "cell_type": "markdown",
   "id": "a57f886b",
   "metadata": {},
   "source": [
    "### ======================================*************========================================="
   ]
  },
  {
   "cell_type": "markdown",
   "id": "0b4b04a4",
   "metadata": {},
   "source": [
    "#### Q-1: Find the nearest element in the array to a given integer."
   ]
  },
  {
   "cell_type": "code",
   "execution_count": 1,
   "id": "3b7b3598",
   "metadata": {},
   "outputs": [],
   "source": [
    "import numpy as np"
   ]
  },
  {
   "cell_type": "code",
   "execution_count": 2,
   "id": "ece3aa7d",
   "metadata": {},
   "outputs": [
    {
     "name": "stdout",
     "output_type": "stream",
     "text": [
      "Original array\n",
      "[10 17 24 31  5 45 52 59]\n",
      "\n",
      "Finding the indices of nearest element of given array\n",
      "4\n"
     ]
    }
   ],
   "source": [
    "x=np.array([10,17,24,31,5,45,52,59])\n",
    "print(\"Original array\")\n",
    "print(x)\n",
    "print()\n",
    "print(\"Finding the indices of nearest element of given array\")\n",
    "result=np.argmin(x)\n",
    "print(result)\n"
   ]
  },
  {
   "cell_type": "markdown",
   "id": "407c79ce",
   "metadata": {},
   "source": [
    "#### Q-2: Replace multiples of 3 or 5 as 0 in the given array."
   ]
  },
  {
   "cell_type": "code",
   "execution_count": 3,
   "id": "e33512fb",
   "metadata": {},
   "outputs": [
    {
     "name": "stdout",
     "output_type": "stream",
     "text": [
      "original array\n",
      "[1 2 3 4 5 6 7 9]\n",
      "\n",
      "replacing all elements with zero who is divisoble by 3 or 5\n",
      "\n",
      "[1 2 0 4 0 0 7 0]\n"
     ]
    }
   ],
   "source": [
    "#### arr=[1 2 3 4 5 6 7 9]\n",
    "#### result-> [1 2 0 4 0 0 7 0]\n",
    "\n",
    "num=np.array([1,2,3,4,5,6,7,9])\n",
    "print(\"original array\")\n",
    "print(num)\n",
    "print()\n",
    "print(\"replacing all elements with zero who is divisoble by 3 or 5\")\n",
    "print()\n",
    "result=np.where((num%3==0)| (num%5==0),0,num)\n",
    "print(result)\n"
   ]
  },
  {
   "cell_type": "markdown",
   "id": "833b3c32",
   "metadata": {},
   "source": [
    "#### Double the array elements at given indexes."
   ]
  },
  {
   "cell_type": "code",
   "execution_count": 4,
   "id": "60c33491",
   "metadata": {},
   "outputs": [
    {
     "name": "stdout",
     "output_type": "stream",
     "text": [
      "[0 1 2 3 4 5 6 7 8 9]\n",
      "\n",
      "Double the array of given indexes\n"
     ]
    },
    {
     "data": {
      "text/plain": [
       "array([ 0,  6,  8, 18])"
      ]
     },
     "execution_count": 4,
     "metadata": {},
     "output_type": "execute_result"
    }
   ],
   "source": [
    "# arr = np.arrange(10)\n",
    "# indexes = [0,3,4,9]\n",
    "# Result -> [ 0 1 2 6 8 5 6 7 8 18]\n",
    "\n",
    "num=np.arange(10)\n",
    "print(num)\n",
    "print()\n",
    "print(\"Double the array of given indexes\")\n",
    "num[[0,3,4,9]]*2"
   ]
  },
  {
   "cell_type": "markdown",
   "id": "7f9684e0",
   "metadata": {},
   "source": [
    "#### Using a given array make a different array as in below example"
   ]
  },
  {
   "cell_type": "code",
   "execution_count": 5,
   "id": "fadbde50",
   "metadata": {},
   "outputs": [
    {
     "name": "stdout",
     "output_type": "stream",
     "text": [
      "Original array\n",
      "[1 2 3]\n",
      "\n",
      "Printing the given element three times.\n",
      "\n",
      "[1 1 1 2 2 2 3 3 3]\n"
     ]
    }
   ],
   "source": [
    "# array = [1,2,3]\n",
    "# result array -> [1 1 1 2 2 2 3 3 3]\n",
    "\n",
    "num=np.array([1,2,3])\n",
    "print(\"Original array\")\n",
    "print(num)\n",
    "print()\n",
    "print(\"Printing the given element three times.\")\n",
    "print()\n",
    "result=np.repeat(num,3)\n",
    "print(result)"
   ]
  },
  {
   "cell_type": "markdown",
   "id": "3c0db138",
   "metadata": {},
   "source": [
    "#### Your are given an array which is havig some nan value. You job is to fill those nan values with most common element in the array."
   ]
  },
  {
   "cell_type": "code",
   "execution_count": 6,
   "id": "fc645d33",
   "metadata": {},
   "outputs": [
    {
     "name": "stdout",
     "output_type": "stream",
     "text": [
      "Original array\n",
      "\n",
      "[[ 1.  2. nan]\n",
      " [ 4.  2.  6.]\n",
      " [nan nan  5.]]\n",
      "\n",
      "Filling all nan values by most common value in array.\n",
      "\n",
      "1st techniw=que to fill nan values\n",
      "[[1.         2.         3.33333333]\n",
      " [4.         2.         6.        ]\n",
      " [3.33333333 3.33333333 5.        ]]\n",
      "\n",
      "Second techinue to fill nan values\n",
      "[[1.         2.         3.33333333]\n",
      " [4.         2.         6.        ]\n",
      " [3.33333333 3.33333333 5.        ]]\n"
     ]
    }
   ],
   "source": [
    "# arr=np.array([[1,2,np.nan],[4,2,6],[np.nan,np.nan,5]])\n",
    "\n",
    "num=np.array([[1,2,np.nan],[4,2,6],[np.nan,np.nan,5]])\n",
    "print(\"Original array\")\n",
    "print()\n",
    "print(num)\n",
    "print()\n",
    "print(\"Filling all nan values by most common value in array.\")\n",
    "print()\n",
    "print(\"1st techniw=que to fill nan values\")\n",
    "num[np.isnan(num)]=np.nanmean(num)\n",
    "print(num)\n",
    "print()\n",
    "print(\"Second techinue to fill nan values\")\n",
    "print(np.nan_to_num(num,nan=10))\n",
    "\n",
    "\n"
   ]
  },
  {
   "cell_type": "code",
   "execution_count": 7,
   "id": "e5a3c045",
   "metadata": {},
   "outputs": [
    {
     "name": "stdout",
     "output_type": "stream",
     "text": [
      "Original array\n",
      "\n",
      "[[ 1.  2. nan]\n",
      " [ 4.  2.  6.]\n",
      " [nan nan  5.]]\n",
      "\n",
      "Second techinue to fill nan values\n",
      "[[1. 2. 3.]\n",
      " [4. 2. 6.]\n",
      " [3. 3. 5.]]\n"
     ]
    }
   ],
   "source": [
    "num=np.array([[1,2,np.nan],[4,2,6],[np.nan,np.nan,5]])\n",
    "print(\"Original array\")\n",
    "print()\n",
    "print(num)\n",
    "print()\n",
    "print(\"Second techinue to fill nan values\")\n",
    "print(np.nan_to_num(num,nan=np.nanmedian(num)))"
   ]
  },
  {
   "cell_type": "markdown",
   "id": "ef31ac54",
   "metadata": {},
   "source": [
    "#### Q-5: Write a NumPy program\n",
    "#### to find the missing data in a given array. Return a boolean matrix.\n",
    "#### also try to fill those missing values with 0. For that, you can use np.nan_to_num(a)."
   ]
  },
  {
   "cell_type": "code",
   "execution_count": 8,
   "id": "529a61c4",
   "metadata": {},
   "outputs": [
    {
     "name": "stdout",
     "output_type": "stream",
     "text": [
      "[[ 3.  2. nan  1.]\n",
      " [10. 12. 10.  9.]\n",
      " [ 5. nan  1. nan]]\n",
      "\n",
      "Finding missing values with boolean matrix\n",
      "[[False False  True False]\n",
      " [False False False False]\n",
      " [False  True False  True]]\n",
      "\n",
      "Filling nan values with 0 value.\n",
      "\n",
      "[[False False  True False]\n",
      " [False False False False]\n",
      " [False  True False  True]]\n"
     ]
    }
   ],
   "source": [
    "num=np.array([[3, 2, np.nan, 1],\n",
    "             [10, 12, 10, 9],\n",
    "             [5, np.nan, 1, np.nan]])\n",
    "print(num)\n",
    "print()\n",
    "print(\"Finding missing values with boolean matrix\")\n",
    "num=np.isnan(num)\n",
    "print(num)\n",
    "print()\n",
    "print(\"Filling nan values with 0 value.\")\n",
    "print()\n",
    "num=np.nan_to_num(num,nan=0)\n",
    "print(num)"
   ]
  },
  {
   "cell_type": "markdown",
   "id": "b78ba7d6",
   "metadata": {},
   "source": [
    "#### Plot this below equation.\n",
    "y=ex−e−x/ex+e−x \n",
    "\n",
    "Note: This equation is called tanh activation function. In deep learning, many times this function is used. If you find some difference between the sigmoid function and this tanh function, note that to your notebook."
   ]
  },
  {
   "cell_type": "code",
   "execution_count": 9,
   "id": "15e61b63",
   "metadata": {},
   "outputs": [],
   "source": [
    "import numpy as np\n",
    "import matplotlib.pyplot as plt\n",
    "%matplotlib inline"
   ]
  },
  {
   "cell_type": "code",
   "execution_count": 10,
   "id": "9bca4573",
   "metadata": {},
   "outputs": [
    {
     "name": "stdout",
     "output_type": "stream",
     "text": [
      "[-10.          -9.7979798   -9.5959596   -9.39393939  -9.19191919\n",
      "  -8.98989899  -8.78787879  -8.58585859  -8.38383838  -8.18181818\n",
      "  -7.97979798  -7.77777778  -7.57575758  -7.37373737  -7.17171717\n",
      "  -6.96969697  -6.76767677  -6.56565657  -6.36363636  -6.16161616\n",
      "  -5.95959596  -5.75757576  -5.55555556  -5.35353535  -5.15151515\n",
      "  -4.94949495  -4.74747475  -4.54545455  -4.34343434  -4.14141414\n",
      "  -3.93939394  -3.73737374  -3.53535354  -3.33333333  -3.13131313\n",
      "  -2.92929293  -2.72727273  -2.52525253  -2.32323232  -2.12121212\n",
      "  -1.91919192  -1.71717172  -1.51515152  -1.31313131  -1.11111111\n",
      "  -0.90909091  -0.70707071  -0.50505051  -0.3030303   -0.1010101\n",
      "   0.1010101    0.3030303    0.50505051   0.70707071   0.90909091\n",
      "   1.11111111   1.31313131   1.51515152   1.71717172   1.91919192\n",
      "   2.12121212   2.32323232   2.52525253   2.72727273   2.92929293\n",
      "   3.13131313   3.33333333   3.53535354   3.73737374   3.93939394\n",
      "   4.14141414   4.34343434   4.54545455   4.74747475   4.94949495\n",
      "   5.15151515   5.35353535   5.55555556   5.75757576   5.95959596\n",
      "   6.16161616   6.36363636   6.56565657   6.76767677   6.96969697\n",
      "   7.17171717   7.37373737   7.57575758   7.77777778   7.97979798\n",
      "   8.18181818   8.38383838   8.58585859   8.78787879   8.98989899\n",
      "   9.19191919   9.39393939   9.5959596    9.7979798   10.        ]\n",
      "[-1.         -0.99999999 -0.99999999 -0.99999999 -0.99999998 -0.99999997\n",
      " -0.99999995 -0.99999993 -0.9999999  -0.99999984 -0.99999977 -0.99999965\n",
      " -0.99999947 -0.99999921 -0.99999882 -0.99999823 -0.99999735 -0.99999604\n",
      " -0.99999406 -0.99999111 -0.99998668 -0.99998004 -0.99997011 -0.99995523\n",
      " -0.99993294 -0.99989955 -0.99984955 -0.99977465 -0.99966248 -0.99949449\n",
      " -0.9992429  -0.99886619 -0.99830218 -0.99745797 -0.99619479 -0.9943057\n",
      " -0.99148279 -0.98726936 -0.98099146 -0.97166188 -0.95785067 -0.93752157\n",
      " -0.90784899 -0.86506558 -0.8044548  -0.72069563 -0.60883666 -0.46607983\n",
      " -0.2940833  -0.10066796  0.10066796  0.2940833   0.46607983  0.60883666\n",
      "  0.72069563  0.8044548   0.86506558  0.90784899  0.93752157  0.95785067\n",
      "  0.97166188  0.98099146  0.98726936  0.99148279  0.9943057   0.99619479\n",
      "  0.99745797  0.99830218  0.99886619  0.9992429   0.99949449  0.99966248\n",
      "  0.99977465  0.99984955  0.99989955  0.99993294  0.99995523  0.99997011\n",
      "  0.99998004  0.99998668  0.99999111  0.99999406  0.99999604  0.99999735\n",
      "  0.99999823  0.99999882  0.99999921  0.99999947  0.99999965  0.99999977\n",
      "  0.99999984  0.9999999   0.99999993  0.99999995  0.99999997  0.99999998\n",
      "  0.99999999  0.99999999  0.99999999  1.        ]\n",
      "\n",
      "Plotting Tanh-graph\n"
     ]
    },
    {
     "data": {
      "text/plain": [
       "Text(0.5, 1.0, 'Tanh-Graph')"
      ]
     },
     "execution_count": 10,
     "metadata": {},
     "output_type": "execute_result"
    },
    {
     "data": {
      "image/png": "[encoded data removed]",
      "text/plain": [
       "<Figure size 432x288 with 1 Axes>"
      ]
     },
     "metadata": {
      "needs_background": "light"
     },
     "output_type": "display_data"
    }
   ],
   "source": [
    "x=np.linspace(-10,10,100)\n",
    "print(x)\n",
    "\n",
    "def tanh_fuc(array):\n",
    "    return (np.exp(x)-np.exp(-x))/(np.exp(x)+np.exp(-x))\n",
    "\n",
    "y=tanh_fuc(x)\n",
    "print(y)\n",
    "print()\n",
    "print(\"Plotting Tanh-graph\")\n",
    "plt.plot(x,y)\n",
    "plt.title(\"Tanh-Graph\")"
   ]
  },
  {
   "cell_type": "markdown",
   "id": "79ede444",
   "metadata": {},
   "source": [
    "#### Plot the below equation.\n",
    " \n",
    "####  y=√36-(x-4)2+2"
   ]
  },
  {
   "cell_type": "code",
   "execution_count": 11,
   "id": "3845fd57",
   "metadata": {},
   "outputs": [
    {
     "name": "stdout",
     "output_type": "stream",
     "text": [
      "[-2.         -1.5862069  -1.17241379 -0.75862069 -0.34482759  0.06896552\n",
      "  0.48275862  0.89655172  1.31034483  1.72413793  2.13793103  2.55172414\n",
      "  2.96551724  3.37931034  3.79310345  4.20689655  4.62068966  5.03448276\n",
      "  5.44827586  5.86206897  6.27586207  6.68965517  7.10344828  7.51724138\n",
      "  7.93103448  8.34482759  8.75862069  9.17241379  9.5862069  10.        ]\n",
      "\n",
      "[1.41421356 2.60658637 3.35352584 3.91861316 4.37292502 4.74836476\n",
      " 5.06251055 5.326219   5.54668866 5.72891367 5.87645294 5.99186924\n",
      " 6.07699312 6.13308604 6.16094098 6.16094098 6.13308604 6.07699312\n",
      " 5.99186924 5.87645294 5.72891367 5.54668866 5.326219   5.06251055\n",
      " 4.74836476 4.37292502 3.91861316 3.35352584 2.60658637 1.41421356]\n",
      "\n",
      "Plotting graph\n",
      "\n"
     ]
    },
    {
     "data": {
      "text/plain": [
       "[<matplotlib.lines.Line2D at 0x297122db188>]"
      ]
     },
     "execution_count": 11,
     "metadata": {},
     "output_type": "execute_result"
    },
    {
     "data": {
      "image/png": "[encoded data removed]",
      "text/plain": [
       "<Figure size 432x288 with 1 Axes>"
      ]
     },
     "metadata": {
      "needs_background": "light"
     },
     "output_type": "display_data"
    }
   ],
   "source": [
    "x=np.linspace(-2,10,30)\n",
    "print(x)\n",
    "print()\n",
    "\n",
    "def show_plot(array):\n",
    "    return np.sqrt(36-((x-4)**2)+2)\n",
    "\n",
    "y=show_plot(x)\n",
    "print(y)\n",
    "print()\n",
    "print(\"Plotting graph\")\n",
    "print()\n",
    "plt.plot(x,y)\n",
    "\n"
   ]
  },
  {
   "cell_type": "code",
   "execution_count": 12,
   "id": "1a04e582",
   "metadata": {},
   "outputs": [
    {
     "name": "stdout",
     "output_type": "stream",
     "text": [
      "[9 8 3 8 6 0 8 0 9 5 1 2 9 3 4 4 9 4 5 8 6 6 6 6 9 4 8 6 2 0]\n",
      "Most common occuring value in array\n",
      "\n",
      "6\n"
     ]
    }
   ],
   "source": [
    "from statistics import mode\n",
    "x=np.array([9,8,3,8,6,0,8,0,9,5,1,2,9,3,4,4,9,4,5,8,6,6,6,6,9,4,8,6,2,0])\n",
    "print(x)\n",
    "print(\"Most common occuring value in array\")\n",
    "print()\n",
    "print(mode(x))\n",
    "\n"
   ]
  },
  {
   "cell_type": "code",
   "execution_count": 13,
   "id": "1d24c766",
   "metadata": {},
   "outputs": [
    {
     "name": "stdout",
     "output_type": "stream",
     "text": [
      "[29 97 99 61 14 75 87 46 67 17 16 43 83 84 28 14 29 52 96 39 67 51 74 44\n",
      " 87 72 91 62 69 20]\n",
      "\n",
      "Find the 30th percentile of given array\n",
      "\n",
      "41.8\n"
     ]
    }
   ],
   "source": [
    "num=np.random.randint(10,100,30)\n",
    "print(num)\n",
    "print()\n",
    "print(\"Find the 30th percentile of given array\")\n",
    "print()\n",
    "result=np.percentile(num,30)\n",
    "print(result)"
   ]
  },
  {
   "cell_type": "markdown",
   "id": "12e7773a",
   "metadata": {},
   "source": [
    "#### finding the cumulative sum of array."
   ]
  },
  {
   "cell_type": "code",
   "execution_count": 14,
   "id": "cc1891df",
   "metadata": {},
   "outputs": [
    {
     "name": "stdout",
     "output_type": "stream",
     "text": [
      "[[77 33 88 21 19 71]\n",
      " [24 24 86 84 58 38]\n",
      " [74 16 96 39 84 90]\n",
      " [92 12 82 19 96 27]\n",
      " [13 97 90 26 50 36]]\n",
      "\n",
      "Cumulative sum of array\n",
      "\n",
      "[  77  110  198  219  238  309  333  357  443  527  585  623  697  713\n",
      "  809  848  932 1022 1114 1126 1208 1227 1323 1350 1363 1460 1550 1576\n",
      " 1626 1662]\n",
      "\n",
      "Cumulative sum of rowwise.\n",
      "\n",
      "[[ 77 110 198 219 238 309]\n",
      " [ 24  48 134 218 276 314]\n",
      " [ 74  90 186 225 309 399]\n",
      " [ 92 104 186 205 301 328]\n",
      " [ 13 110 200 226 276 312]]\n",
      "\n",
      "Cumulative sum of columnwise.\n",
      "\n",
      "[[ 77  33  88  21  19  71]\n",
      " [101  57 174 105  77 109]\n",
      " [175  73 270 144 161 199]\n",
      " [267  85 352 163 257 226]\n",
      " [280 182 442 189 307 262]]\n"
     ]
    }
   ],
   "source": [
    "num=np.random.randint(10,100,30).reshape(5,6)\n",
    "print(num)\n",
    "print()\n",
    "cum_sum=np.cumsum(num)\n",
    "print(\"Cumulative sum of array\")\n",
    "print()\n",
    "print(cum_sum)\n",
    "print()\n",
    "print(\"Cumulative sum of rowwise.\")\n",
    "print()\n",
    "result=np.cumsum(num,axis=1)\n",
    "print(result)\n",
    "print()\n",
    "print(\"Cumulative sum of columnwise.\")\n",
    "print()\n",
    "result=np.cumsum(num,axis=0)\n",
    "print(result)"
   ]
  },
  {
   "cell_type": "code",
   "execution_count": 15,
   "id": "5f0fe2d4",
   "metadata": {},
   "outputs": [
    {
     "name": "stdout",
     "output_type": "stream",
     "text": [
      "[[99 92 94 46 12 64]\n",
      " [44 35 31 56 90 91]\n",
      " [71 64 56 22 70 38]\n",
      " [15 78 59 53 86 41]\n",
      " [34 73 46 68 96 32]]\n",
      "\n",
      "Cumulative product\n",
      "Cumulative sum of array\n",
      "\n",
      "[         99        9108      856152    39382992   472595904   181366784\n",
      "  -609796096   131973120  -203800576  1472069632  -657719296   277086208\n",
      " -1801715712   654311424 -2013265920 -1342177280   536870912 -1073741824\n",
      "  1073741824 -2147483648 -2147483648 -2147483648           0           0\n",
      "           0           0           0           0           0           0]\n",
      "\n",
      "Cumulative sum of row_wise.\n",
      "\n",
      "[[         99        9108      856152    39382992   472595904   181366784]\n",
      " [         44        1540       47740     2673440   240609600   420637120]\n",
      " [         71        4544      254464     5598208   391874560  2006331392]\n",
      " [         15        1170       69030     3658590   314638740    15286452]\n",
      " [         34        2482      114172     7763696   745314816 -1919729664]]\n",
      "\n",
      "Cumulative sum of column_wise.\n",
      "\n",
      "[[        99         92         94         46         12         64]\n",
      " [      4356       3220       2914       2576       1080       5824]\n",
      " [    309276     206080     163184      56672      75600     221312]\n",
      " [   4639140   16074240    9627856    3003616    6501600    9073792]\n",
      " [ 157730760 1173419520  442881376  204245888  624153600  290361344]]\n"
     ]
    }
   ],
   "source": [
    "num=np.random.randint(10,100,30).reshape(5,6)\n",
    "print(num)\n",
    "print()\n",
    "print(\"Cumulative product\")\n",
    "cum_sum=np.cumprod(num)\n",
    "print(\"Cumulative sum of array\")\n",
    "print()\n",
    "print(cum_sum)\n",
    "print()\n",
    "print(\"Cumulative sum of row_wise.\")\n",
    "print()\n",
    "result=np.cumprod(num,axis=1)\n",
    "print(result)\n",
    "print()\n",
    "print(\"Cumulative sum of column_wise.\")\n",
    "print()\n",
    "result=np.cumprod(num,axis=0)\n",
    "print(result)"
   ]
  },
  {
   "cell_type": "markdown",
   "id": "b64e9bd3",
   "metadata": {},
   "source": [
    "#### Finding the perticular element in array."
   ]
  },
  {
   "cell_type": "code",
   "execution_count": 16,
   "id": "b6756e5a",
   "metadata": {},
   "outputs": [
    {
     "name": "stdout",
     "output_type": "stream",
     "text": [
      "[[99 92 94 46 12 64]\n",
      " [44 35 31 56 90 91]\n",
      " [71 64 56 22 70 38]\n",
      " [15 78 59 53 86 41]\n",
      " [34 73 46 68 96 32]]\n",
      "\n",
      "[[False False False False False False]\n",
      " [False  True False  True False  True]\n",
      " [False False  True False  True False]\n",
      " [False False False False False  True]\n",
      " [False False False False  True False]]\n",
      "\n"
     ]
    },
    {
     "data": {
      "text/plain": [
       "array([35, 56, 91, 56, 70, 41, 96])"
      ]
     },
     "execution_count": 16,
     "metadata": {},
     "output_type": "execute_result"
    }
   ],
   "source": [
    "print(num)\n",
    "print()\n",
    "result=np.isin(num,[60,55,70,20,35,40,41,56,81,91,96,66])\n",
    "print(result)\n",
    "print()\n",
    "num[np.isin(num,[60,55,70,20,35,40,41,56,81,91,96,66])]"
   ]
  },
  {
   "cell_type": "markdown",
   "id": "7d9efd84",
   "metadata": {},
   "source": [
    "#### Delete perticular element in array."
   ]
  },
  {
   "cell_type": "code",
   "execution_count": 17,
   "id": "41b7c710",
   "metadata": {},
   "outputs": [
    {
     "name": "stdout",
     "output_type": "stream",
     "text": [
      "[[99 92 94 46 12 64]\n",
      " [44 35 31 56 90 91]\n",
      " [71 64 56 22 70 38]\n",
      " [15 78 59 53 86 41]\n",
      " [34 73 46 68 96 32]]\n",
      "\n",
      "Deleting perticular value in array\n",
      "\n",
      "[99 92 94 46 12 64 44 35 31 56 90 91 71 64 22 70 38 15 78 59 53 86 41 34\n",
      " 73 46 68 96 32]\n"
     ]
    }
   ],
   "source": [
    "print(num)\n",
    "print()\n",
    "print(\"Deleting perticular value in array\")\n",
    "print()\n",
    "result=np.delete(num,14)\n",
    "print(result)"
   ]
  },
  {
   "cell_type": "markdown",
   "id": "4a8c9261",
   "metadata": {},
   "source": [
    "### Find the Z-score value of given array and plot the graph."
   ]
  },
  {
   "cell_type": "code",
   "execution_count": 18,
   "id": "494cdd4a",
   "metadata": {},
   "outputs": [
    {
     "name": "stdout",
     "output_type": "stream",
     "text": [
      "[54 55 27 28 58 46 21 29 47 57 44 45 53 32 48 47 55 35 52 55]\n",
      "(20,)\n",
      "\n",
      "Finding the Z-score values\n",
      "\n",
      "mean of x\n",
      "\n",
      "44.4\n",
      "\n",
      "Standard deviation of x\n",
      "\n",
      "11.25344391730816\n",
      "\n",
      "[ 0.85307219  0.94193387 -1.54619334 -1.45733165  1.20851893  0.1421787\n",
      " -2.07936345 -1.36846996  0.23104038  1.11965724 -0.03554467  0.05331701\n",
      "  0.7642105  -1.10188491  0.31990207  0.23104038  0.94193387 -0.83529985\n",
      "  0.67534881  0.94193387]\n",
      "(20,)\n",
      "\n",
      "Plotting the z-score graph\n",
      "\n"
     ]
    },
    {
     "data": {
      "text/plain": [
       "Text(0, 0.5, 'z-score value')"
      ]
     },
     "execution_count": 18,
     "metadata": {},
     "output_type": "execute_result"
    },
    {
     "data": {
      "image/png": "[encoded data removed]",
      "text/plain": [
       "<Figure size 432x288 with 1 Axes>"
      ]
     },
     "metadata": {
      "needs_background": "light"
     },
     "output_type": "display_data"
    }
   ],
   "source": [
    "x=np.random.randint(20,60,20)\n",
    "print(x)\n",
    "print(np.shape(x))\n",
    "print()\n",
    "print(\"Finding the Z-score values\")\n",
    "print()\n",
    "### z-score formula=(x-mean(x)/std(x))\n",
    "## finding the mean of x.\n",
    "x_mean=np.mean(x)\n",
    "print(\"mean of x\")\n",
    "print()\n",
    "print(x_mean)\n",
    "print()\n",
    "### finding the standard deviation of x.\n",
    "x_std=np.std(x)\n",
    "print(\"Standard deviation of x\")\n",
    "print()\n",
    "print(x_std)\n",
    "print()\n",
    "\n",
    "def zscore_fuc(array):\n",
    "    return (x-x_mean)/x_std\n",
    "\n",
    "y=zscore_fuc(x)\n",
    "print(y)\n",
    "print(np.shape(y))\n",
    "print()\n",
    "print(\"Plotting the z-score graph\")\n",
    "print()\n",
    "plt.plot(x,y)\n",
    "plt.title(\"Z-Score graph\")\n",
    "plt.xlabel(\"array values\")\n",
    "plt.ylabel(\"z-score value\")"
   ]
  },
  {
   "cell_type": "markdown",
   "id": "33955518",
   "metadata": {},
   "source": [
    "### Finding the ouliers by using Z-score methiod."
   ]
  },
  {
   "cell_type": "code",
   "execution_count": 19,
   "id": "47101018",
   "metadata": {},
   "outputs": [
    {
     "name": "stdout",
     "output_type": "stream",
     "text": [
      "[  0   6   8  17   6  12  15  14  15  18 100  10]\n",
      "12\n",
      "\n",
      "Ploting the Boxplot of given array\n",
      "\n",
      "\n",
      "Finding the 3rd standard deviation of given array\n",
      "\n",
      "-56.92712869831345 93.7604620316468\n",
      "\n",
      "Mean = 18.416666666666668\n",
      "Std = 25.114598454993374\n",
      "\n"
     ]
    },
    {
     "name": "stderr",
     "output_type": "stream",
     "text": [
      "C:\\Users\\User\\Anaconda3\\lib\\site-packages\\statsmodels\\tools\\_testing.py:19: FutureWarning: pandas.util.testing is deprecated. Use the functions in the public API at pandas.testing instead.\n",
      "  import pandas.util.testing as tm\n"
     ]
    },
    {
     "data": {
      "text/plain": [
       "[100]"
      ]
     },
     "execution_count": 19,
     "metadata": {},
     "output_type": "execute_result"
    },
    {
     "data": {
      "image/png": "[encoded data removed]",
      "text/plain": [
       "<Figure size 432x288 with 1 Axes>"
      ]
     },
     "metadata": {
      "needs_background": "light"
     },
     "output_type": "display_data"
    }
   ],
   "source": [
    "import seaborn as sns\n",
    "x=np.array([0,6,8,17,6,12,15,14,15,18,100,10])\n",
    "print(x)\n",
    "print(np.size(x))\n",
    "print()\n",
    "print(\"Ploting the Boxplot of given array\")\n",
    "print()\n",
    "sns.boxplot(x)\n",
    "print()\n",
    "print(\"Finding the 3rd standard deviation of given array\")\n",
    "print()\n",
    "print(x.mean() - 3 * x.std(), x.mean() + 3 * x.std())\n",
    "print()\n",
    "outliers=[]\n",
    "def outlier_detect(data): \n",
    "    threshold=3  ## 3rd standard deviation.\n",
    "    x_mean=np.mean(x)\n",
    "    x_std=np.std(x)\n",
    "    print(\"Mean =\",x_mean)\n",
    "    print(\"Std =\",x_std)\n",
    "    print()\n",
    "    for i in x:\n",
    "        zscore=(i-x_mean)/x_std\n",
    "        if np.abs(zscore)>threshold:\n",
    "            outliers.append(i)\n",
    "    return outliers\n",
    "        \n",
    "outlier_detect(x)  \n"
   ]
  },
  {
   "cell_type": "markdown",
   "id": "81b7e5e2",
   "metadata": {},
   "source": [
    "### IQR \n",
    "\n",
    "#### 1) sort the data in ascending.\n",
    "#### 2) finding q1(25th percentile).\n",
    "#### 3) finding q3(75th percentile).\n",
    "#### 4) finding IQR value(q3-q1).\n",
    "#### 5) finding lower_bound(q1-1.5*IQR)\n",
    "#### 6) finding upper_bound(q3+1.5*IQR)."
   ]
  },
  {
   "cell_type": "code",
   "execution_count": 20,
   "id": "e03b1331",
   "metadata": {},
   "outputs": [
    {
     "name": "stdout",
     "output_type": "stream",
     "text": [
      "[  0   6   8  17   6  12  15  14  15  18 100  10]\n",
      "12\n"
     ]
    }
   ],
   "source": [
    "print(x)\n",
    "print(np.size(x))"
   ]
  },
  {
   "cell_type": "code",
   "execution_count": 21,
   "id": "6511a9d3",
   "metadata": {},
   "outputs": [
    {
     "name": "stdout",
     "output_type": "stream",
     "text": [
      "Original data\n",
      "[  0   6   8  17   6  12  15  14  15  18 100  10]\n",
      "\n",
      "Sorting data in ascending order\n",
      "[  0   6   8  17   6  12  15  14  15  18 100  10]\n",
      "\n",
      "25th percentile = 7.5\n",
      "\n",
      "75th percentile = 15.5\n",
      "\n",
      "Calculating IQR\n",
      "IQR = 8.0\n",
      "\n",
      "Calculating lower_bound\n",
      "Lower Bound values = -4.5\n",
      "\n",
      "Upper Bound values = 27.5\n"
     ]
    },
    {
     "data": {
      "text/plain": [
       "[100]"
      ]
     },
     "execution_count": 21,
     "metadata": {},
     "output_type": "execute_result"
    }
   ],
   "source": [
    "print(\"Original data\")\n",
    "print(x)\n",
    "print()\n",
    "# Sorting data in ascending order.\n",
    "print(\"Sorting data in ascending order\")\n",
    "np.sort(x)\n",
    "print(x)\n",
    "print()\n",
    "## Calculating 25th percentile.\n",
    "q1=np.percentile(x,25)\n",
    "q3=np.percentile(x,75)\n",
    "print(\"25th percentile =\",q1)\n",
    "print()\n",
    "print(\"75th percentile =\",q3)\n",
    "print()\n",
    "print(\"Calculating IQR\")\n",
    "IQR=q3-q1\n",
    "print(\"IQR =\",IQR)\n",
    "print()\n",
    "print(\"Calculating lower_bound\")\n",
    "lower_bound=q1-1.5*IQR\n",
    "upper_bound=q3+1.5*IQR\n",
    "print(\"Lower Bound values =\",lower_bound)\n",
    "print()\n",
    "print(\"Upper Bound values =\",upper_bound)\n",
    "\n",
    "outliers_data=[]\n",
    "\n",
    "def outliers_fuc(data):\n",
    "    for i in x:\n",
    "        if (i<lower_bound) or (i>upper_bound):\n",
    "            outliers_data.append(i)\n",
    "    return outliers_data\n",
    "\n",
    "outliers_fuc(x)"
   ]
  },
  {
   "cell_type": "markdown",
   "id": "bab2dacc",
   "metadata": {},
   "source": [
    "### Standardization Technique.***"
   ]
  },
  {
   "cell_type": "code",
   "execution_count": 43,
   "id": "942d7d51",
   "metadata": {},
   "outputs": [
    {
     "name": "stdout",
     "output_type": "stream",
     "text": [
      "[ 31  54 103 125  62  55 102 145  85  33  36 118  84 105  47  31  96  49\n",
      "  33  61 131  96  59  47 101 130 147 140  42 124  46  72 138  44  36  34\n",
      "  20  25  53  60  87  66 126  98  39  97  71  50  67  63 148  91 107 147\n",
      "  71  77  33  20  43 123  81  10  75 141 114  94 103  37  57 144  93  14\n",
      " 130 101 139  87 140  49 129  59]\n",
      "\n",
      "[-1.26213794 -0.67286268  0.58254984  1.14620444 -0.46789737 -0.64724201\n",
      "  0.55692917  1.65861771  0.12137789 -1.21089661 -1.13403462  0.96685979\n",
      "  0.09575723  0.63379117 -0.85220732 -1.26213794  0.40320519 -0.800966\n",
      " -1.21089661 -0.49351803  1.29992842  0.40320519 -0.54475936 -0.85220732\n",
      "  0.53130851  1.27430776  1.70985904  1.53051439 -0.98031064  1.12058377\n",
      " -0.87782799 -0.21169073  1.47927306 -0.92906931 -1.13403462 -1.18527595\n",
      " -1.54396524 -1.41586192 -0.69848334 -0.5191387   0.17261922 -0.36541471\n",
      "  1.1718251   0.45444652 -1.05717263  0.42882586 -0.2373114  -0.77534533\n",
      " -0.33979405 -0.44227671  1.7354797   0.27510188  0.68503249  1.70985904\n",
      " -0.2373114  -0.08358741 -1.21089661 -1.54396524 -0.95468998  1.09496311\n",
      "  0.01889524 -1.80017188 -0.13482874  1.55613505  0.86437714  0.35196387\n",
      "  0.58254984 -1.10841396 -0.59600069  1.63299705  0.3263432  -1.69768922\n",
      "  1.27430776  0.53130851  1.50489373  0.17261922  1.53051439 -0.800966\n",
      "  1.24868709 -0.54475936]\n",
      "\n",
      "Plotting Standardization graph\n",
      "\n"
     ]
    },
    {
     "data": {
      "text/plain": [
       "Text(0, 0.5, 'X Values')"
      ]
     },
     "execution_count": 43,
     "metadata": {},
     "output_type": "execute_result"
    },
    {
     "data": {
      "image/png": "[encoded data removed]",
      "text/plain": [
       "<Figure size 432x288 with 1 Axes>"
      ]
     },
     "metadata": {
      "needs_background": "light"
     },
     "output_type": "display_data"
    }
   ],
   "source": [
    "x=np.random.randint(10,150,80)\n",
    "print(x)\n",
    "print()\n",
    "\n",
    "def standardization_fuc(array):\n",
    "    ## (Xi-Xmean/Xstd)\n",
    "    return (x-np.mean(x))/np.std(x)\n",
    "\n",
    "y=standardization_fuc(x)\n",
    "print(y)\n",
    "print()\n",
    "print(\"Plotting Standardization graph\")\n",
    "print()\n",
    "plt.scatter(y,x)\n",
    "plt.title(\"Stadardization Graph\")\n",
    "plt.xlabel(\"STD Values\")\n",
    "plt.ylabel(\"X Values\")\n"
   ]
  },
  {
   "cell_type": "markdown",
   "id": "7d0b76e6",
   "metadata": {},
   "source": [
    "### Normalization Technique:-"
   ]
  },
  {
   "cell_type": "code",
   "execution_count": 33,
   "id": "ebe03b00",
   "metadata": {},
   "outputs": [
    {
     "name": "stdout",
     "output_type": "stream",
     "text": [
      "Original Values\n",
      "[ 79 107  60  76 119  22  54  38 141 135  32 130 133 143  58  45 112  51\n",
      "  65  66  58  40  20  37 126 122 129  68  22  63 128 113  36  63  61 114\n",
      " 114 130  94  98  32  60  13 145  34  36 138  51  59 111  71  97  80  41\n",
      "  42  58  80  71  37  17 130  85 102  54 110  22  72  89  50 135]\n",
      "70\n",
      "\n",
      "Normalization Values\n",
      "\n",
      "[0.5        0.71212121 0.35606061 0.47727273 0.8030303  0.06818182\n",
      " 0.31060606 0.18939394 0.96969697 0.92424242 0.14393939 0.88636364\n",
      " 0.90909091 0.98484848 0.34090909 0.24242424 0.75       0.28787879\n",
      " 0.39393939 0.40151515 0.34090909 0.20454545 0.0530303  0.18181818\n",
      " 0.85606061 0.82575758 0.87878788 0.41666667 0.06818182 0.37878788\n",
      " 0.87121212 0.75757576 0.17424242 0.37878788 0.36363636 0.76515152\n",
      " 0.76515152 0.88636364 0.61363636 0.64393939 0.14393939 0.35606061\n",
      " 0.         1.         0.15909091 0.17424242 0.9469697  0.28787879\n",
      " 0.34848485 0.74242424 0.43939394 0.63636364 0.50757576 0.21212121\n",
      " 0.21969697 0.34090909 0.50757576 0.43939394 0.18181818 0.03030303\n",
      " 0.88636364 0.54545455 0.67424242 0.31060606 0.73484848 0.06818182\n",
      " 0.4469697  0.57575758 0.28030303 0.92424242]\n",
      "70\n",
      "\n"
     ]
    }
   ],
   "source": [
    "def norm_fuc(arr):\n",
    "    ### x=(xi-xmin)/(xmax-xmin)\n",
    "    return (x-np.min(x))/(np.max(x)-np.min(x))\n",
    "\n",
    "y=norm_fuc(x)\n",
    "print(\"Original Values\")\n",
    "print(x)\n",
    "print(np.size(x))\n",
    "print()\n",
    "print(\"Normalization Values\")\n",
    "print()\n",
    "print(y)\n",
    "print(np.size(y))\n",
    "print()"
   ]
  },
  {
   "cell_type": "code",
   "execution_count": 44,
   "id": "1ee083f8",
   "metadata": {},
   "outputs": [
    {
     "name": "stdout",
     "output_type": "stream",
     "text": [
      "Plotting Min-Max Scaller graph\n",
      "\n"
     ]
    },
    {
     "data": {
      "text/plain": [
       "Text(0, 0.5, 'X Values')"
      ]
     },
     "execution_count": 44,
     "metadata": {},
     "output_type": "execute_result"
    },
    {
     "data": {
      "image/png": "[encoded data removed]",
      "text/plain": [
       "<Figure size 432x288 with 1 Axes>"
      ]
     },
     "metadata": {
      "needs_background": "light"
     },
     "output_type": "display_data"
    }
   ],
   "source": [
    "print(\"Plotting Min-Max Scaller graph\")\n",
    "print()\n",
    "plt.scatter(y,x)\n",
    "plt.title(\"Min-Max Scaller Graph\")\n",
    "plt.xlabel(\"Min-Max Values\")\n",
    "plt.ylabel(\"X Values\")\n"
   ]
  },
  {
   "cell_type": "markdown",
   "id": "729079bb",
   "metadata": {},
   "source": [
    "### Robust Scalling:-"
   ]
  },
  {
   "cell_type": "code",
   "execution_count": 57,
   "id": "a8d86e40",
   "metadata": {},
   "outputs": [
    {
     "name": "stdout",
     "output_type": "stream",
     "text": [
      "IQR of X = 76.0\n",
      "\n",
      "[-0.59210526 -0.28947368  0.35526316  0.64473684 -0.18421053 -0.27631579\n",
      "  0.34210526  0.90789474  0.11842105 -0.56578947 -0.52631579  0.55263158\n",
      "  0.10526316  0.38157895 -0.38157895 -0.59210526  0.26315789 -0.35526316\n",
      " -0.56578947 -0.19736842  0.72368421  0.26315789 -0.22368421 -0.38157895\n",
      "  0.32894737  0.71052632  0.93421053  0.84210526 -0.44736842  0.63157895\n",
      " -0.39473684 -0.05263158  0.81578947 -0.42105263 -0.52631579 -0.55263158\n",
      " -0.73684211 -0.67105263 -0.30263158 -0.21052632  0.14473684 -0.13157895\n",
      "  0.65789474  0.28947368 -0.48684211  0.27631579 -0.06578947 -0.34210526\n",
      " -0.11842105 -0.17105263  0.94736842  0.19736842  0.40789474  0.93421053\n",
      " -0.06578947  0.01315789 -0.56578947 -0.73684211 -0.43421053  0.61842105\n",
      "  0.06578947 -0.86842105 -0.01315789  0.85526316  0.5         0.23684211\n",
      "  0.35526316 -0.51315789 -0.25        0.89473684  0.22368421 -0.81578947\n",
      "  0.71052632  0.32894737  0.82894737  0.14473684  0.84210526 -0.35526316\n",
      "  0.69736842 -0.22368421]\n",
      "\n"
     ]
    }
   ],
   "source": [
    "def robust_fuc(arr):\n",
    "    ### (x-xmedian)/IQR(75-25)\n",
    "    percent=np.percentile(x,75-25)\n",
    "    print(\"IQR of X =\",percent)\n",
    "    \n",
    "    return (x-np.median(x))/percent\n",
    "y=robust_fuc(x)\n",
    "print()\n",
    "print(y)\n",
    "print()\n",
    "plt.plot(y)\n",
    "\n"
   ]
  },
  {
   "cell_type": "code",
   "execution_count": 58,
   "id": "a33a5be0",
   "metadata": {},
   "outputs": [
    {
     "name": "stdout",
     "output_type": "stream",
     "text": [
      "Plotting Robust Scaller graph\n",
      "\n"
     ]
    },
    {
     "data": {
      "text/plain": [
       "Text(0, 0.5, 'X Values')"
      ]
     },
     "execution_count": 58,
     "metadata": {},
     "output_type": "execute_result"
    },
    {
     "data": {
      "image/png": "[encoded data removed]",
      "text/plain": [
       "<Figure size 432x288 with 1 Axes>"
      ]
     },
     "metadata": {
      "needs_background": "light"
     },
     "output_type": "display_data"
    }
   ],
   "source": [
    "print(\"Plotting Robust Scaller graph\")\n",
    "print()\n",
    "plt.scatter(y,x)\n",
    "plt.title(\"Robust Scaller Graph\")\n",
    "plt.xlabel(\"Robust Values\")\n",
    "plt.ylabel(\"X Values\")"
   ]
  },
  {
   "cell_type": "code",
   "execution_count": null,
   "id": "52cbb62e",
   "metadata": {},
   "outputs": [],
   "source": []
  },
  {
   "cell_type": "code",
   "execution_count": null,
   "id": "09d2eb3c",
   "metadata": {},
   "outputs": [],
   "source": []
  }
 ],
 "metadata": {
  "kernelspec": {
   "display_name": "Python 3",
   "language": "python",
   "name": "python3"
  },
  "language_info": {
   "codemirror_mode": {
    "name": "ipython",
    "version": 3
   },
   "file_extension": ".py",
   "mimetype": "text/x-python",
   "name": "python",
   "nbconvert_exporter": "python",
   "pygments_lexer": "ipython3",
   "version": "3.7.4"
  }
 },
 "nbformat": 4,
 "nbformat_minor": 5
}
