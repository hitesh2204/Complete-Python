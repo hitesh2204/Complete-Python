{
 "cells": [
  {
   "cell_type": "markdown",
   "id": "76b7b5f4",
   "metadata": {},
   "source": [
    "### 1) Write a NumPy program to get the numpy version and show numpy build configuration."
   ]
  },
  {
   "cell_type": "code",
   "execution_count": 2,
   "id": "a9e8ce67",
   "metadata": {},
   "outputs": [],
   "source": [
    "### FInding the version of numpy module.\n",
    "import numpy as np\n",
    "#print(np.__version__)"
   ]
  },
  {
   "cell_type": "code",
   "execution_count": 2,
   "id": "8eee2d1b",
   "metadata": {},
   "outputs": [
    {
     "name": "stdout",
     "output_type": "stream",
     "text": [
      "blas_mkl_info:\n",
      "  NOT AVAILABLE\n",
      "blis_info:\n",
      "  NOT AVAILABLE\n",
      "openblas_info:\n",
      "    library_dirs = ['D:\\\\a\\\\1\\\\s\\\\numpy\\\\build\\\\openblas_info']\n",
      "    libraries = ['openblas_info']\n",
      "    language = f77\n",
      "    define_macros = [('HAVE_CBLAS', None)]\n",
      "blas_opt_info:\n",
      "    library_dirs = ['D:\\\\a\\\\1\\\\s\\\\numpy\\\\build\\\\openblas_info']\n",
      "    libraries = ['openblas_info']\n",
      "    language = f77\n",
      "    define_macros = [('HAVE_CBLAS', None)]\n",
      "lapack_mkl_info:\n",
      "  NOT AVAILABLE\n",
      "openblas_lapack_info:\n",
      "    library_dirs = ['D:\\\\a\\\\1\\\\s\\\\numpy\\\\build\\\\openblas_lapack_info']\n",
      "    libraries = ['openblas_lapack_info']\n",
      "    language = f77\n",
      "    define_macros = [('HAVE_CBLAS', None)]\n",
      "lapack_opt_info:\n",
      "    library_dirs = ['D:\\\\a\\\\1\\\\s\\\\numpy\\\\build\\\\openblas_lapack_info']\n",
      "    libraries = ['openblas_lapack_info']\n",
      "    language = f77\n",
      "    define_macros = [('HAVE_CBLAS', None)]\n",
      "None\n"
     ]
    }
   ],
   "source": [
    "print(np.show_config())"
   ]
  },
  {
   "cell_type": "markdown",
   "id": "4b2576f5",
   "metadata": {},
   "source": [
    "### Write a NumPy program to get help on the add function."
   ]
  },
  {
   "cell_type": "code",
   "execution_count": 3,
   "id": "8d23f118",
   "metadata": {},
   "outputs": [
    {
     "name": "stdout",
     "output_type": "stream",
     "text": [
      "add(x1, x2, /, out=None, *, where=True, casting='same_kind', order='K', dtype=None, subok=True[, signature, extobj])\n",
      "\n",
      "Add arguments element-wise.\n",
      "\n",
      "Parameters\n",
      "----------\n",
      "x1, x2 : array_like\n",
      "    The arrays to be added.\n",
      "    If ``x1.shape != x2.shape``, they must be broadcastable to a common\n",
      "    shape (which becomes the shape of the output).\n",
      "out : ndarray, None, or tuple of ndarray and None, optional\n",
      "    A location into which the result is stored. If provided, it must have\n",
      "    a shape that the inputs broadcast to. If not provided or None,\n",
      "    a freshly-allocated array is returned. A tuple (possible only as a\n",
      "    keyword argument) must have length equal to the number of outputs.\n",
      "where : array_like, optional\n",
      "    This condition is broadcast over the input. At locations where the\n",
      "    condition is True, the `out` array will be set to the ufunc result.\n",
      "    Elsewhere, the `out` array will retain its original value.\n",
      "    Note that if an uninitialized `out` array is created via the default\n",
      "    ``out=None``, locations within it where the condition is False will\n",
      "    remain uninitialized.\n",
      "**kwargs\n",
      "    For other keyword-only arguments, see the\n",
      "    :ref:`ufunc docs <ufuncs.kwargs>`.\n",
      "\n",
      "Returns\n",
      "-------\n",
      "add : ndarray or scalar\n",
      "    The sum of `x1` and `x2`, element-wise.\n",
      "    This is a scalar if both `x1` and `x2` are scalars.\n",
      "\n",
      "Notes\n",
      "-----\n",
      "Equivalent to `x1` + `x2` in terms of array broadcasting.\n",
      "\n",
      "Examples\n",
      "--------\n",
      ">>> np.add(1.0, 4.0)\n",
      "5.0\n",
      ">>> x1 = np.arange(9.0).reshape((3, 3))\n",
      ">>> x2 = np.arange(3.0)\n",
      ">>> np.add(x1, x2)\n",
      "array([[  0.,   2.,   4.],\n",
      "       [  3.,   5.,   7.],\n",
      "       [  6.,   8.,  10.]])\n",
      "None\n"
     ]
    }
   ],
   "source": [
    "print(np.info(np.add))"
   ]
  },
  {
   "cell_type": "markdown",
   "id": "b674b50f",
   "metadata": {},
   "source": [
    "### Write a NumPy program to test whether none of the elements of a given array is zero. all() function used."
   ]
  },
  {
   "cell_type": "code",
   "execution_count": 4,
   "id": "74bc61ff",
   "metadata": {},
   "outputs": [
    {
     "name": "stdout",
     "output_type": "stream",
     "text": [
      "Original Array  [1 2 3 4 5]\n",
      "\n",
      "Chekcing the element is zero or not.\n",
      "True\n",
      "\n",
      "Checking the element contain zero or not.\n",
      "False\n"
     ]
    }
   ],
   "source": [
    "## The numpy.all() function tests whether all array elements along the mentioned axis evaluate to True.\n",
    "\n",
    "num=np.array([1,2,3,4,5])\n",
    "print(\"Original Array \",num)\n",
    "print()\n",
    "print(\"Chekcing the element is zero or not.\")\n",
    "result=np.all(num)\n",
    "print(result)\n",
    "print()\n",
    "num1=np.array([0,10,20,30,40])\n",
    "print(\"Checking the element contain zero or not.\")\n",
    "result=np.all(num1)\n",
    "print(result)\n"
   ]
  },
  {
   "cell_type": "code",
   "execution_count": 5,
   "id": "2c787670",
   "metadata": {},
   "outputs": [
    {
     "name": "stdout",
     "output_type": "stream",
     "text": [
      "[1, 3, 6, 10]\n"
     ]
    }
   ],
   "source": [
    "x=[1,2,3,4]\n",
    "y=[sum(x[0:a+1]) for a in range(0,len(x))]\n",
    "print(y)"
   ]
  },
  {
   "cell_type": "markdown",
   "id": "49d65054",
   "metadata": {},
   "source": [
    "### Write a NumPy program to test whether any of the elements of a given array is non-zero. any() function used."
   ]
  },
  {
   "cell_type": "code",
   "execution_count": 6,
   "id": "8dd10ab1",
   "metadata": {},
   "outputs": [
    {
     "name": "stdout",
     "output_type": "stream",
     "text": [
      "Original array\n",
      "[10 20 30  0 40]\n",
      "\n",
      "Chekcing any element contain zero or not\n",
      "True\n",
      "\n",
      "Checking any element conatain zero or not\n",
      "True\n",
      "original Array\n",
      "[0 0 0 0 0]\n",
      "\n",
      "Chekcing the array contain any element or not\n",
      "False\n"
     ]
    }
   ],
   "source": [
    "num=np.array([10,20,30,0,40])\n",
    "print(\"Original array\")\n",
    "print(num)\n",
    "print()\n",
    "print(\"Chekcing any element contain zero or not\")\n",
    "result=np.any(num)\n",
    "print(result)\n",
    "print()\n",
    "num=np.array([10,20,30,40,50])\n",
    "result=np.any(num)\n",
    "print(\"Checking any element conatain zero or not\")\n",
    "print(result)\n",
    "num1=np.array([0,0,0,0,0])\n",
    "print(\"original Array\")\n",
    "print(num1)\n",
    "print()\n",
    "print(\"Chekcing the array contain any element or not\")\n",
    "result=np.any(num1)\n",
    "print(result)"
   ]
  },
  {
   "cell_type": "markdown",
   "id": "bd984961",
   "metadata": {},
   "source": [
    "### The numpy.isinf() function tests element-wise whether it is +ve or -ve infinity or not return the result as a boolean array.  "
   ]
  },
  {
   "cell_type": "code",
   "execution_count": 7,
   "id": "35d58813",
   "metadata": {},
   "outputs": [
    {
     "name": "stdout",
     "output_type": "stream",
     "text": [
      "Original array\n",
      "[  1.   0.  nan  inf -inf]\n",
      "\n",
      "Chekcing number is positive or negative infinity\n",
      "[False False False  True  True]\n",
      "\n"
     ]
    }
   ],
   "source": [
    "a = np.array([1, 0, np.nan, np.inf,np.NINF])\n",
    "print(\"Original array\")\n",
    "print(a)\n",
    "print()\n",
    "print(\"Chekcing number is positive or negative infinity\")\n",
    "result=np.isinf(a)\n",
    "print(result)\n",
    "print()"
   ]
  },
  {
   "cell_type": "markdown",
   "id": "4ad4473b",
   "metadata": {},
   "source": [
    "### Write a NumPy program to test element-wise for NaN of a given array. "
   ]
  },
  {
   "cell_type": "code",
   "execution_count": 8,
   "id": "40746cd5",
   "metadata": {},
   "outputs": [
    {
     "name": "stdout",
     "output_type": "stream",
     "text": [
      "Oringinal array\n",
      "[ 10.  20.  nan  inf   0. -20.]\n",
      "[False False  True False False False]\n"
     ]
    }
   ],
   "source": [
    "num=np.array([10,20,np.nan,np.inf,0,-20])\n",
    "print(\"Oringinal array\")\n",
    "print(num)\n",
    "result=np.isnan(num)\n",
    "print(result)"
   ]
  },
  {
   "cell_type": "markdown",
   "id": "7e68f054",
   "metadata": {},
   "source": [
    "### Write a NumPy program to test element-wise for complex number, real number of a given array. Also test whether a given number is a scalar type or not."
   ]
  },
  {
   "cell_type": "code",
   "execution_count": 9,
   "id": "bc01af7a",
   "metadata": {},
   "outputs": [
    {
     "name": "stdout",
     "output_type": "stream",
     "text": [
      "Original array\n",
      "[1. +1.j 1. +0.j 4.5+0.j 3. +0.j 2. +0.j 0. +2.j]\n",
      "\n",
      "[ True False False False False  True]\n",
      "[False  True  True  True  True False]\n",
      "False\n"
     ]
    }
   ],
   "source": [
    "a = np.array([1+1j, 1+0j, 4.5, 3, 2, 2j])\n",
    "print(\"Original array\")\n",
    "print(a)\n",
    "print()\n",
    "complex_number=np.iscomplex(a)\n",
    "real_number=np.isreal(a)\n",
    "num_type=np.isscalar(a)\n",
    "print(complex_number)\n",
    "print(real_number)\n",
    "print(num_type)"
   ]
  },
  {
   "cell_type": "markdown",
   "id": "bc11ed22",
   "metadata": {},
   "source": [
    "### Write a NumPy program to create an element-wise comparison (greater, greater_equal, less and less_equal) of two given arrays."
   ]
  },
  {
   "cell_type": "code",
   "execution_count": 3,
   "id": "170181a3",
   "metadata": {},
   "outputs": [
    {
     "name": "stdout",
     "output_type": "stream",
     "text": [
      "\n",
      "Original array\n",
      "x [  72   79   85   90  150 -135  120  -10   60  100]\n",
      "y [  72.         79.         85.         90.        150.       -135.\n",
      "  120.        -10.         60.        100.000001]\n",
      "\n",
      "Chekcing element_wise operations.\n",
      "\n",
      "checking arary is greater or not = []\n",
      "chekcing array is great or equal = [ True  True  True  True  True  True  True  True  True False]\n",
      "checking the arary is less or not = [False False False False False False False False False  True]\n",
      "chekcing the array is lese or equal = [ True  True  True  True  True  True  True  True  True  True]\n",
      "Checking both array are equal or not = [ True  True  True  True  True  True  True  True  True False]\n",
      "Chekcing tollerence of two array = True\n"
     ]
    }
   ],
   "source": [
    "x = np.array([72, 79, 85, 90, 150, -135, 120, -10, 60, 100])\n",
    "y = np.array([72, 79, 85, 90, 150, -135, 120, -10, 60, 100.000001])\n",
    "print()\n",
    "print(\"Original array\")\n",
    "print(\"x\",x)\n",
    "print(\"y\",y)\n",
    "print()\n",
    "print(\"Chekcing element_wise operations.\")\n",
    "print()\n",
    "greater_num=print(\"checking arary is greater or not =\",np.greater(x,y))\n",
    "greater_eq_num=print(\"chekcing array is great or equal =\",np.greater_equal(x,y))\n",
    "less_num=print(\"checking the arary is less or not =\",np.less(x,y))\n",
    "less_eq_num=print(\"chekcing the array is lese or equal =\",np.less_equal(x,y))\n",
    "equal_num=print(\"Checking both array are equal or not =\",np.equal(x,y))\n",
    "close_num=print(\"Chekcing tollerence of two array =\",np.allclose(x,y))\n",
    "\n"
   ]
  },
  {
   "cell_type": "markdown",
   "id": "d49786e4",
   "metadata": {},
   "source": [
    "### Write a NumPy program to create an array with the values 1, 7, 13, 105 and determine the size of the memory occupied by the array."
   ]
  },
  {
   "cell_type": "code",
   "execution_count": 11,
   "id": "54ca71c0",
   "metadata": {},
   "outputs": [
    {
     "name": "stdout",
     "output_type": "stream",
     "text": [
      "Original array\n",
      "['1' '7' '13' '105' '10.5' '10' '20' 'Hietsh' 'Sannu']\n",
      "\n",
      "Chekcing the size iof array\n",
      "9\n",
      "\n",
      "Checking the size of each elements\n",
      "128\n"
     ]
    }
   ],
   "source": [
    "x=np.array([1,7,13,105,10.50,10,20,\"Hietsh\",\"Sannu\"])\n",
    "print(\"Original array\")\n",
    "print(x)\n",
    "print()\n",
    "print(\"Chekcing the size iof array\")\n",
    "size=x.size\n",
    "print(size)\n",
    "print()\n",
    "print(\"Checking the size of each elements\")\n",
    "item_s=x.itemsize\n",
    "print(item_s)\n",
    "\n"
   ]
  },
  {
   "cell_type": "markdown",
   "id": "81b6c9de",
   "metadata": {},
   "source": [
    "### Write a NumPy program to create an array of 10 zeros, 10 ones, 10 fives."
   ]
  },
  {
   "cell_type": "code",
   "execution_count": 12,
   "id": "35156e3b",
   "metadata": {},
   "outputs": [
    {
     "name": "stdout",
     "output_type": "stream",
     "text": [
      "creating the arary with zeros values.\n",
      "[0. 0. 0. 0. 0. 0. 0. 0. 0. 0.]\n",
      "\n",
      "Creating the arraya with ones values\n",
      "[1. 1. 1. 1. 1. 1. 1. 1. 1. 1.]\n",
      "\n",
      "Creating the array with 5 values.\n",
      "[5. 5. 5. 5. 5. 5. 5. 5. 5. 5.]\n"
     ]
    }
   ],
   "source": [
    "zero_num=np.zeros(10)\n",
    "print(\"creating the arary with zeros values.\")\n",
    "print(zero_num)\n",
    "print()\n",
    "one_num=np.ones(10)\n",
    "print(\"Creating the arraya with ones values\")\n",
    "print(one_num)\n",
    "print()\n",
    "five_num=np.ones(10)*5\n",
    "print(\"Creating the array with 5 values.\")\n",
    "print(five_num)"
   ]
  },
  {
   "cell_type": "markdown",
   "id": "1222487b",
   "metadata": {},
   "source": [
    "### Write a NumPy program to create an array of the integers from 30 to 70."
   ]
  },
  {
   "cell_type": "code",
   "execution_count": 13,
   "id": "18bf7820",
   "metadata": {},
   "outputs": [
    {
     "name": "stdout",
     "output_type": "stream",
     "text": [
      "creating the array ranging between 30 to 70\n",
      "[30 31 32 33 34 35 36 37 38 39 40 41 42 43 44 45 46 47 48 49 50 51 52 53\n",
      " 54 55 56 57 58 59 60 61 62 63 64 65 66 67 68 69 70]\n"
     ]
    }
   ],
   "source": [
    "## Using arange() we can create the array between any range.\n",
    "num=np.arange(30,71)\n",
    "print(\"creating the array ranging between 30 to 70\")\n",
    "print(num)"
   ]
  },
  {
   "cell_type": "markdown",
   "id": "bf3044d6",
   "metadata": {},
   "source": [
    "### Write a NumPy program to create an array of all the even integers from 30 to 70."
   ]
  },
  {
   "cell_type": "code",
   "execution_count": 44,
   "id": "b456de89",
   "metadata": {},
   "outputs": [
    {
     "name": "stdout",
     "output_type": "stream",
     "text": [
      "Creating the array whcih conatin even number\n",
      "[30 34 38 42 46 50 54 58 62 66]\n",
      "\n",
      "30 Number divisible by :-> 3\n",
      "34 Number not Divisible by :-> 3\n",
      "38 Number not Divisible by :-> 3\n",
      "42 Number divisible by :-> 3\n",
      "46 Number not Divisible by :-> 3\n",
      "50 Number not Divisible by :-> 3\n",
      "54 Number divisible by :-> 3\n",
      "58 Number not Divisible by :-> 3\n",
      "62 Number not Divisible by :-> 3\n",
      "66 Number divisible by :-> 3\n"
     ]
    }
   ],
   "source": [
    "even_num=np.arange(30,70,4)\n",
    "print(\"Creating the array whcih conatin even number\")\n",
    "print(even_num)\n",
    "print()\n",
    "for i in np.nditer(even_num):\n",
    "    if i%3==0:\n",
    "        print(i,\"Number divisible by :-> 3\")\n",
    "    else:\n",
    "        print(i,\"Number not Divisible by :-> 3\")\n",
    "    "
   ]
  },
  {
   "cell_type": "markdown",
   "id": "7623835d",
   "metadata": {},
   "source": [
    "### Write a NumPy program to create a 3x3 identity matrix."
   ]
  },
  {
   "cell_type": "code",
   "execution_count": 15,
   "id": "279f2d73",
   "metadata": {},
   "outputs": [],
   "source": [
    "### by using the identity() we can create the identity metrix"
   ]
  },
  {
   "cell_type": "code",
   "execution_count": 45,
   "id": "3625eaeb",
   "metadata": {},
   "outputs": [
    {
     "name": "stdout",
     "output_type": "stream",
     "text": [
      "Creating the identitty metrix array\n",
      "[[1. 0. 0. 0. 0.]\n",
      " [0. 1. 0. 0. 0.]\n",
      " [0. 0. 1. 0. 0.]\n",
      " [0. 0. 0. 1. 0.]\n",
      " [0. 0. 0. 0. 1.]]\n"
     ]
    }
   ],
   "source": [
    "identity_num=np.identity(5)\n",
    "print(\"Creating the identitty metrix array\")\n",
    "print(identity_num)"
   ]
  },
  {
   "cell_type": "code",
   "execution_count": 17,
   "id": "ed348fb1",
   "metadata": {},
   "outputs": [
    {
     "name": "stdout",
     "output_type": "stream",
     "text": [
      "Creating the identitty metrix array\n",
      "[[1. 0. 0. 0. 0.]\n",
      " [0. 1. 0. 0. 0.]\n",
      " [0. 0. 1. 0. 0.]\n",
      " [0. 0. 0. 1. 0.]\n",
      " [0. 0. 0. 0. 1.]]\n"
     ]
    }
   ],
   "source": [
    "identity_num=np.identity(5)\n",
    "print(\"Creating the identitty metrix array\")\n",
    "print(identity_num)"
   ]
  },
  {
   "cell_type": "markdown",
   "id": "4f075aae",
   "metadata": {},
   "source": [
    "### Write a NumPy program to generate a random number between 0 and 1."
   ]
  },
  {
   "cell_type": "code",
   "execution_count": 18,
   "id": "e11f67a0",
   "metadata": {},
   "outputs": [
    {
     "name": "stdout",
     "output_type": "stream",
     "text": [
      "Generating random number between 0 and 1\n",
      "[0.69354818]\n"
     ]
    }
   ],
   "source": [
    "### we can used random().normal() function to generate random number between any given range.\n",
    "rand_num=np.random.normal(0,1,1)\n",
    "print(\"Generating random number between 0 and 1\")\n",
    "print(rand_num)"
   ]
  },
  {
   "cell_type": "markdown",
   "id": "52e59a68",
   "metadata": {},
   "source": [
    "### Write a NumPy program to generate an array of 15 random numbers from a standard normal distribution."
   ]
  },
  {
   "cell_type": "code",
   "execution_count": 107,
   "id": "459a774e",
   "metadata": {},
   "outputs": [
    {
     "name": "stdout",
     "output_type": "stream",
     "text": [
      "Creating the 15 random number from standard normal distribution.\n",
      "\n",
      "[[ 0.49252149 -0.10446441  0.64336497]\n",
      " [ 0.12013211 -1.14414097 -0.26469058]\n",
      " [ 1.00558253  1.02274129 -2.0311033 ]\n",
      " [-0.43410262 -2.287421   -0.57760185]\n",
      " [-0.55241144 -0.72498671 -0.52370729]]\n"
     ]
    }
   ],
   "source": [
    "rand_num=np.random.normal(0,1,15).reshape(5,3)\n",
    "print(\"Creating the 15 random number from standard normal distribution.\")\n",
    "print()\n",
    "print(rand_num)"
   ]
  },
  {
   "cell_type": "markdown",
   "id": "965ec860",
   "metadata": {},
   "source": [
    "### Write a NumPy program to create a vector with values ​​ranging from 15 to 55 and print all values ​​except the first and last."
   ]
  },
  {
   "cell_type": "code",
   "execution_count": 57,
   "id": "bc58384a",
   "metadata": {},
   "outputs": [
    {
     "name": "stdout",
     "output_type": "stream",
     "text": [
      "Original vector\n",
      "[[15 16 17 18 19]\n",
      " [20 21 22 23 24]\n",
      " [25 26 27 28 29]\n",
      " [30 31 32 33 34]\n",
      " [35 36 37 38 39]\n",
      " [40 41 42 43 44]\n",
      " [45 46 47 48 49]\n",
      " [50 51 52 53 54]]\n",
      "\n",
      "Printing the vctor except first and last\n",
      "[[20 21 22 23 24]\n",
      " [25 26 27 28 29]\n",
      " [30 31 32 33 34]\n",
      " [35 36 37 38 39]\n",
      " [40 41 42 43 44]\n",
      " [45 46 47 48 49]]\n"
     ]
    }
   ],
   "source": [
    "vect_num=np.arange(15,55).reshape(8,5)\n",
    "print(\"Original vector\")\n",
    "print(vect_num)\n",
    "print()\n",
    "print(\"Printing the vctor except first and last\")\n",
    "result=vect_num[1:-1]\n",
    "print(result)"
   ]
  },
  {
   "cell_type": "markdown",
   "id": "8eeef5f9",
   "metadata": {},
   "source": [
    "### Write a NumPy program to create a 3X4 array."
   ]
  },
  {
   "cell_type": "code",
   "execution_count": 21,
   "id": "cc47d14a",
   "metadata": {},
   "outputs": [
    {
     "name": "stdout",
     "output_type": "stream",
     "text": [
      "[[10 11 12 13]\n",
      " [14 15 16 17]\n",
      " [18 19 20 21]]\n"
     ]
    }
   ],
   "source": [
    "num=np.arange(10,22).reshape(3,4)\n",
    "print(num)"
   ]
  },
  {
   "cell_type": "code",
   "execution_count": 22,
   "id": "83329f57",
   "metadata": {},
   "outputs": [
    {
     "name": "stdout",
     "output_type": "stream",
     "text": [
      "[[10 11 12 13 14 15 16 17 18 19]\n",
      " [20 21 22 23 24 25 26 27 28 29]\n",
      " [30 31 32 33 34 35 36 37 38 39]\n",
      " [40 41 42 43 44 45 46 47 48 49]]\n"
     ]
    }
   ],
   "source": [
    "num1=np.arange(10,50).reshape(4,10)\n",
    "print(num1)"
   ]
  },
  {
   "cell_type": "markdown",
   "id": "4fe60191",
   "metadata": {},
   "source": [
    "### if we want to itereate over this array element then we can used numpy iterator funtion called as nditer()."
   ]
  },
  {
   "cell_type": "code",
   "execution_count": 23,
   "id": "1a5837fd",
   "metadata": {},
   "outputs": [
    {
     "name": "stdout",
     "output_type": "stream",
     "text": [
      "Original array\n",
      "[[10 11 12 13]\n",
      " [14 15 16 17]\n",
      " [18 19 20 21]]\n",
      "\n",
      "Iterate over array.\n",
      "10\n",
      "11\n",
      "12\n",
      "13\n",
      "14\n",
      "15\n",
      "16\n",
      "17\n",
      "18\n",
      "19\n",
      "20\n",
      "21\n"
     ]
    }
   ],
   "source": [
    "### we can used nditer() with for loop\n",
    "print(\"Original array\")\n",
    "print(num)\n",
    "print()\n",
    "print(\"Iterate over array.\")\n",
    "for i in np.nditer(num):\n",
    "    print(i)"
   ]
  },
  {
   "cell_type": "code",
   "execution_count": 24,
   "id": "6991fe57",
   "metadata": {},
   "outputs": [
    {
     "name": "stdout",
     "output_type": "stream",
     "text": [
      "10\n",
      "11\n",
      "12\n",
      "13\n",
      "14\n",
      "15\n",
      "16\n",
      "17\n",
      "18\n",
      "19\n",
      "20\n",
      "21\n",
      "22\n",
      "23\n",
      "24\n",
      "25\n",
      "26\n",
      "27\n",
      "28\n",
      "29\n",
      "30\n",
      "31\n",
      "32\n",
      "33\n",
      "34\n",
      "35\n",
      "36\n",
      "37\n",
      "38\n",
      "39\n",
      "40\n",
      "41\n",
      "42\n",
      "43\n",
      "44\n",
      "45\n",
      "46\n",
      "47\n",
      "48\n",
      "49\n"
     ]
    }
   ],
   "source": [
    "for i in np.nditer(num1):\n",
    "    print(i)"
   ]
  },
  {
   "cell_type": "markdown",
   "id": "a48d2ba5",
   "metadata": {},
   "source": [
    "### Write a NumPy program to create a vector of length 10 with values ​​evenly distributed between 5 and 50."
   ]
  },
  {
   "cell_type": "code",
   "execution_count": 48,
   "id": "8f6b8a94",
   "metadata": {},
   "outputs": [
    {
     "name": "stdout",
     "output_type": "stream",
     "text": [
      "Creeating an array which is evenely distributed\n",
      "[ 5. 10. 15. 20. 25. 30. 35. 40. 45. 50.]\n",
      "\n",
      "5.0 Number is not divisible by 10\n",
      "10.0 Number divisible by 10\n",
      "15.0 Number is not divisible by 10\n",
      "20.0 Number divisible by 10\n",
      "25.0 Number is not divisible by 10\n",
      "30.0 Number divisible by 10\n",
      "35.0 Number is not divisible by 10\n",
      "40.0 Number divisible by 10\n",
      "45.0 Number is not divisible by 10\n",
      "50.0 Number divisible by 10\n"
     ]
    }
   ],
   "source": [
    "### to create the vector which is eveny distributed we can used linspace() function.\n",
    "\n",
    "num=np.linspace(5,50,10)\n",
    "print(\"Creeating an array which is evenely distributed\")\n",
    "print(num)\n",
    "print()\n",
    "for i in np.nditer(num):\n",
    "    if i%10==0:\n",
    "        print(i,\"Number divisible by 10\")\n",
    "    else:\n",
    "        print(i,\"Number is not divisible by 10\")"
   ]
  },
  {
   "cell_type": "markdown",
   "id": "85fda399",
   "metadata": {},
   "source": [
    "### Write a NumPy program to create a vector with values ​​from 0 to 20 and change the sign of the numbers in the range from 9 to 15."
   ]
  },
  {
   "cell_type": "code",
   "execution_count": 26,
   "id": "cf2d0eca",
   "metadata": {},
   "outputs": [
    {
     "name": "stdout",
     "output_type": "stream",
     "text": [
      "Original number\n",
      "[ 0  1  2  3  4  5  6  7  8  9 10 11 12 13 14 15 16 17 18 19 20]\n",
      "\n",
      "Chaging the sign of number\n",
      "[  0   1   2   3   4   5   6   7   8  -9 -10 -11 -12 -13 -14 -15  16  17\n",
      "  18  19  20]\n"
     ]
    }
   ],
   "source": [
    "num=np.arange(0,21)\n",
    "print(\"Original number\")\n",
    "print(num)\n",
    "print()\n",
    "print(\"Chaging the sign of number\")\n",
    "num[(num>=9) &(num<=15)]*=-1\n",
    "print(num)"
   ]
  },
  {
   "cell_type": "markdown",
   "id": "d0bfeda4",
   "metadata": {},
   "source": [
    "### Write a NumPy program to create a vector of length 5 filled with arbitrary integers from 0 to 10."
   ]
  },
  {
   "cell_type": "code",
   "execution_count": 27,
   "id": "606bfd90",
   "metadata": {},
   "outputs": [
    {
     "name": "stdout",
     "output_type": "stream",
     "text": [
      "Original array\n",
      "[0 0 0 2 4]\n"
     ]
    }
   ],
   "source": [
    "num=np.random.randint(0,10,5)\n",
    "print(\"Original array\")\n",
    "print(num)\n"
   ]
  },
  {
   "cell_type": "markdown",
   "id": "463e576f",
   "metadata": {},
   "source": [
    "### Write a NumPy program to multiply the values ​​of two given vectors."
   ]
  },
  {
   "cell_type": "code",
   "execution_count": 38,
   "id": "c7a5187b",
   "metadata": {},
   "outputs": [
    {
     "name": "stdout",
     "output_type": "stream",
     "text": [
      "\n",
      "X_vector\n",
      "[ 2  4  6  8 10]\n",
      "\n",
      "y-vector\n",
      "[10 12 14 16 18]\n",
      "\n",
      "Multiply both vector\n",
      "[ 20  48  84 128 180]\n"
     ]
    }
   ],
   "source": [
    "x=np.arange(2,12,2)\n",
    "y=np.arange(10,20,2)\n",
    "print()\n",
    "print(\"X_vector\")\n",
    "print(x)\n",
    "print()\n",
    "print(\"y-vector\")\n",
    "print(y)\n",
    "print()\n",
    "print(\"Multiply both vector\")\n",
    "result=x*y\n",
    "print(result)"
   ]
  },
  {
   "cell_type": "markdown",
   "id": "f3bf1949",
   "metadata": {},
   "source": [
    "### Write a NumPy program to find the number of rows and columns of a given matrix."
   ]
  },
  {
   "cell_type": "code",
   "execution_count": 53,
   "id": "74c33917",
   "metadata": {},
   "outputs": [
    {
     "name": "stdout",
     "output_type": "stream",
     "text": [
      "original array\n",
      "[[10 11 12 13 14 15 16 17]\n",
      " [18 19 20 21 22 23 24 25]\n",
      " [26 27 28 29 30 31 32 33]\n",
      " [34 35 36 37 38 39 40 41]\n",
      " [42 43 44 45 46 47 48 49]]\n",
      "\n",
      "Finding the number of rows and columns in given vector\n",
      "(5, 8)\n"
     ]
    }
   ],
   "source": [
    "num1=np.arange(10,50).reshape(5,8)\n",
    "print(\"original array\")\n",
    "print(num1)\n",
    "print()\n",
    "print(\"Finding the number of rows and columns in given vector\")\n",
    "result=num1.shape  ### shape is used to find out the number of rows and columns in vector.\n",
    "print(result)\n"
   ]
  },
  {
   "cell_type": "markdown",
   "id": "20fa04b2",
   "metadata": {},
   "source": [
    "### Write a NumPy program to create a 3x3 identity matrix, i.e. diagonal elements are 1,the rest are 0."
   ]
  },
  {
   "cell_type": "code",
   "execution_count": 54,
   "id": "3b149487",
   "metadata": {},
   "outputs": [
    {
     "name": "stdout",
     "output_type": "stream",
     "text": [
      "identity matrix\n",
      "[[1. 0. 0.]\n",
      " [0. 1. 0.]\n",
      " [0. 0. 1.]]\n"
     ]
    }
   ],
   "source": [
    "identity_matrix=np.identity(3)\n",
    "print(\"identity matrix\")\n",
    "print(identity_matrix)"
   ]
  },
  {
   "cell_type": "markdown",
   "id": "ef89ec1a",
   "metadata": {},
   "source": [
    "### Write a NumPy program to create a 10x10 matrix, in which the elements on the borders will be equal to 1, and inside 0."
   ]
  },
  {
   "cell_type": "code",
   "execution_count": 66,
   "id": "f8730228",
   "metadata": {},
   "outputs": [
    {
     "name": "stdout",
     "output_type": "stream",
     "text": [
      "Original array of vector\n",
      "[[1. 1. 1. 1. 1. 1. 1. 1. 1. 1.]\n",
      " [1. 1. 1. 1. 1. 1. 1. 1. 1. 1.]\n",
      " [1. 1. 1. 1. 1. 1. 1. 1. 1. 1.]\n",
      " [1. 1. 1. 1. 1. 1. 1. 1. 1. 1.]\n",
      " [1. 1. 1. 1. 1. 1. 1. 1. 1. 1.]\n",
      " [1. 1. 1. 1. 1. 1. 1. 1. 1. 1.]\n",
      " [1. 1. 1. 1. 1. 1. 1. 1. 1. 1.]\n",
      " [1. 1. 1. 1. 1. 1. 1. 1. 1. 1.]\n",
      " [1. 1. 1. 1. 1. 1. 1. 1. 1. 1.]\n",
      " [1. 1. 1. 1. 1. 1. 1. 1. 1. 1.]]\n",
      "\n",
      "After modifying vector array\n",
      "[[1. 1. 1. 1. 1. 1. 1. 1. 1. 1.]\n",
      " [1. 0. 0. 0. 0. 0. 0. 0. 0. 1.]\n",
      " [1. 0. 0. 0. 0. 0. 0. 0. 0. 1.]\n",
      " [1. 0. 0. 0. 0. 0. 0. 0. 0. 1.]\n",
      " [1. 0. 0. 0. 0. 0. 0. 0. 0. 1.]\n",
      " [1. 0. 0. 0. 0. 0. 0. 0. 0. 1.]\n",
      " [1. 0. 0. 0. 0. 0. 0. 0. 0. 1.]\n",
      " [1. 0. 0. 0. 0. 0. 0. 0. 0. 1.]\n",
      " [1. 0. 0. 0. 0. 0. 0. 0. 0. 1.]\n",
      " [1. 1. 1. 1. 1. 1. 1. 1. 1. 1.]]\n"
     ]
    }
   ],
   "source": [
    "num=np.ones((10,10))\n",
    "print(\"Original array of vector\")\n",
    "print(num)\n",
    "print()\n",
    "num[1:-1,1:-1]=0\n",
    "print(\"After modifying vector array\")\n",
    "print(num)\n"
   ]
  },
  {
   "cell_type": "markdown",
   "id": "759953be",
   "metadata": {},
   "source": [
    "### Write a NumPy program to create a 5x5 zero matrix with elements on the main diagonal equal to 1, 2, 3, 4, 5."
   ]
  },
  {
   "cell_type": "code",
   "execution_count": 67,
   "id": "222644b9",
   "metadata": {},
   "outputs": [
    {
     "name": "stdout",
     "output_type": "stream",
     "text": [
      "Main diagonal element\n",
      "[[1 0 0 0 0]\n",
      " [0 2 0 0 0]\n",
      " [0 0 3 0 0]\n",
      " [0 0 0 4 0]\n",
      " [0 0 0 0 5]]\n"
     ]
    }
   ],
   "source": [
    "num=np.diag([1,2,3,4,5])\n",
    "print(\"Main diagonal element\")\n",
    "print(num)"
   ]
  },
  {
   "cell_type": "code",
   "execution_count": 71,
   "id": "0c7de12e",
   "metadata": {},
   "outputs": [
    {
     "name": "stdout",
     "output_type": "stream",
     "text": [
      "Vector of arbitory values\n",
      "[[[0.3052395  0.15745117 0.88675913]\n",
      "  [0.53198896 0.414551   0.70720146]\n",
      "  [0.94965126 0.38837445 0.63983929]]\n",
      "\n",
      " [[0.9179719  0.25684866 0.64143695]\n",
      "  [0.56191008 0.6426117  0.47627881]\n",
      "  [0.82263578 0.5199613  0.61060799]]\n",
      "\n",
      " [[0.08549615 0.33180954 0.63057041]\n",
      "  [0.068756   0.74069575 0.58211906]\n",
      "  [0.53234466 0.67679186 0.12653479]]]\n"
     ]
    }
   ],
   "source": [
    "arbi_values=np.random.random((3,3,3))\n",
    "print(\"Vector of arbitory values\")\n",
    "print(arbi_values)"
   ]
  },
  {
   "cell_type": "markdown",
   "id": "22ffe9d5",
   "metadata": {},
   "source": [
    "### Write a NumPy program to compute sum of all elements, sum of each column and sum of each row of a given array."
   ]
  },
  {
   "cell_type": "code",
   "execution_count": 77,
   "id": "76ffae46",
   "metadata": {},
   "outputs": [
    {
     "name": "stdout",
     "output_type": "stream",
     "text": [
      "Original array vector\n",
      "[[15 16 17 18]\n",
      " [19 20 21 22]\n",
      " [23 24 25 26]\n",
      " [27 28 29 30]\n",
      " [31 32 33 34]]\n",
      "\n",
      "Sum of all elements\n",
      "490\n",
      "\n",
      "Sum of all rows\n",
      "[ 66  82  98 114 130]\n",
      "\n",
      "Sum of all columns\n",
      "[115 120 125 130]\n"
     ]
    }
   ],
   "source": [
    "x=np.arange(15,35).reshape(5,4)\n",
    "print(\"Original array vector\")\n",
    "print(x)\n",
    "print()\n",
    "print(\"Sum of all elements\")\n",
    "print(np.sum(x))      \n",
    "print()\n",
    "print(\"Sum of all rows\")\n",
    "print(np.sum(x,axis=1))\n",
    "print()\n",
    "print(\"Sum of all columns\")\n",
    "print(np.sum(x,axis=0))"
   ]
  },
  {
   "cell_type": "markdown",
   "id": "a8fcf105",
   "metadata": {},
   "source": [
    "### Write a NumPy program to compute the inner product of two given vectors."
   ]
  },
  {
   "cell_type": "code",
   "execution_count": 87,
   "id": "d270526e",
   "metadata": {},
   "outputs": [
    {
     "name": "stdout",
     "output_type": "stream",
     "text": [
      "Array of num1\n",
      "\n",
      "Array of num2\n",
      "\n",
      "Dot product of two vectors\n",
      "74\n",
      "\n",
      "Checking two array are equal or not\n",
      "[False  True False]\n"
     ]
    }
   ],
   "source": [
    "num1=np.array([3,4,5])\n",
    "num2=np.array([6,4,8])\n",
    "print(\"Array of num1\")\n",
    "print()\n",
    "print(\"Array of num2\")\n",
    "print()\n",
    "result=np.dot(num1,num2)\n",
    "print(\"Dot product of two vectors\")\n",
    "print(result)\n",
    "print()\n",
    "print(\"Checking two array are equal or not\")\n",
    "check_equal=num1==num2\n",
    "print(check_equal)\n"
   ]
  },
  {
   "cell_type": "markdown",
   "id": "bcf7843d",
   "metadata": {},
   "source": [
    "### Write a NumPy program to convert a given list into an array, then again convert it into a list. Check initial list and final list are equal or not."
   ]
  },
  {
   "cell_type": "code",
   "execution_count": 84,
   "id": "dedf97d0",
   "metadata": {},
   "outputs": [
    {
     "name": "stdout",
     "output_type": "stream",
     "text": [
      "[[1, 2, 3], [4, 5, 6]]\n",
      "<class 'list'>\n",
      "\n",
      "Convert list into array\n",
      "[[1 2 3]\n",
      " [4 5 6]]\n",
      "<class 'numpy.ndarray'>\n",
      "\n",
      "Converting array into list again\n",
      "[[1, 2, 3], [4, 5, 6]]\n",
      "<class 'list'>\n"
     ]
    }
   ],
   "source": [
    "num=[[1,2,3],[4,5,6]]\n",
    "print(num)\n",
    "print(type(num))\n",
    "print()\n",
    "print(\"Convert list into array\")\n",
    "result=np.array(num)\n",
    "print(result)\n",
    "print(type(result))\n",
    "print()\n",
    "print(\"Converting array into list again\")\n",
    "result1=result.tolist()\n",
    "print(result1)\n",
    "print(type(result1))"
   ]
  },
  {
   "cell_type": "markdown",
   "id": "cfb8e879",
   "metadata": {},
   "source": [
    "### Write a NumPy program to create one-dimensional array of single, two and three digit numbers."
   ]
  },
  {
   "cell_type": "code",
   "execution_count": 103,
   "id": "fa02caea",
   "metadata": {},
   "outputs": [
    {
     "name": "stdout",
     "output_type": "stream",
     "text": [
      "One dimentional array\n",
      "[2 3 4 5 6 7 8 9]\n",
      "\n",
      "two dimentional array\n",
      "[11 12 13 14 15 16 17 18 19 20 21 22 23 24 25 26 27 28 29 30 31 32 33 34\n",
      " 35 36 37 38 39 40 41 42 43 44 45 46 47 48 49 50 51 52 53 54 55 56 57 58\n",
      " 59 60 61 62 63 64 65 66 67 68 69 70 71 72 73 74 75 76 77 78 79 80 81 82\n",
      " 83 84 85 86 87 88 89 90 91 92 93 94 95 96 97 98]\n",
      "\n",
      "three dimentional array\n",
      "[100 101 102 103 104 105 106 107 108 109 110 111 112 113 114 115 116 117\n",
      " 118 119 120 121 122 123 124 125 126 127 128 129 130 131 132 133 134 135\n",
      " 136 137 138 139 140 141 142 143 144 145 146 147 148 149 150 151 152 153\n",
      " 154 155 156 157 158 159 160 161 162 163 164 165 166 167 168 169 170 171\n",
      " 172 173 174 175 176 177 178 179 180 181 182 183 184 185 186 187 188 189\n",
      " 190 191 192 193 194 195 196 197 198 199]\n"
     ]
    }
   ],
   "source": [
    "### one dimentional array.\n",
    "one_D=np.arange(2,10)\n",
    "print(\"One dimentional array\")\n",
    "print(one_D)\n",
    "print()\n",
    "two_D=np.arange(11,99)\n",
    "print(\"two dimentional array\")\n",
    "print(two_D)\n",
    "print()\n",
    "three_D=np.arange(100,200)\n",
    "print(\"three dimentional array\")\n",
    "print(three_D)"
   ]
  },
  {
   "cell_type": "code",
   "execution_count": 106,
   "id": "2450442a",
   "metadata": {},
   "outputs": [
    {
     "name": "stdout",
     "output_type": "stream",
     "text": [
      "[[10 11 12 13 14]\n",
      " [15 16 17 18 19]\n",
      " [20 21 22 23 24]\n",
      " [25 26 27 28 29]]\n",
      "\n",
      "Sorting array by row in acscending order\n",
      "[[10 11 12 13 14]\n",
      " [15 16 17 18 19]\n",
      " [20 21 22 23 24]\n",
      " [25 26 27 28 29]]\n",
      "\n",
      "Sorting array by coolumns in ascending order\n",
      "[[10 11 12 13 14]\n",
      " [15 16 17 18 19]\n",
      " [20 21 22 23 24]\n",
      " [25 26 27 28 29]]\n"
     ]
    }
   ],
   "source": [
    "x=np.arange(10,30).reshape(4,5)\n",
    "print(x)\n",
    "print()\n",
    "print(\"Sorting array by row in acscending order\")\n",
    "print(np.sort(x))\n",
    "print()\n",
    "print(\"Sorting array by coolumns in ascending order\")\n",
    "print(np.sort(x,axis=0))"
   ]
  },
  {
   "cell_type": "code",
   "execution_count": null,
   "id": "d68ba1f0",
   "metadata": {},
   "outputs": [],
   "source": []
  },
  {
   "cell_type": "code",
   "execution_count": null,
   "id": "195591a5",
   "metadata": {},
   "outputs": [],
   "source": []
  },
  {
   "cell_type": "code",
   "execution_count": null,
   "id": "1841c95e",
   "metadata": {},
   "outputs": [],
   "source": []
  },
  {
   "cell_type": "code",
   "execution_count": null,
   "id": "5d6b18a7",
   "metadata": {},
   "outputs": [],
   "source": []
  }
 ],
 "metadata": {
  "kernelspec": {
   "display_name": "Python 3",
   "language": "python",
   "name": "python3"
  },
  "language_info": {
   "codemirror_mode": {
    "name": "ipython",
    "version": 3
   },
   "file_extension": ".py",
   "mimetype": "text/x-python",
   "name": "python",
   "nbconvert_exporter": "python",
   "pygments_lexer": "ipython3",
   "version": "3.7.4"
  }
 },
 "nbformat": 4,
 "nbformat_minor": 5
}
